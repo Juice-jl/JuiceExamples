{
 "cells": [
  {
   "cell_type": "markdown",
   "metadata": {},
   "source": [
    "# Juice Examples\n",
    "This notebook includes:\n",
    "- Logic Circuits\n",
    "    - Construct a circuit\n",
    "    - Structure Properties\n",
    "    - Transformations\n",
    "    - Queries\n",
    "- Probabilistic Circuits\n",
    "## Logic Circuits"
   ]
  },
  {
   "cell_type": "code",
   "execution_count": 57,
   "metadata": {},
   "outputs": [],
   "source": [
    "using Revise # TODO remove "
   ]
  },
  {
   "cell_type": "code",
   "execution_count": 58,
   "metadata": {
    "tags": []
   },
   "outputs": [],
   "source": [
    "using LogicCircuits"
   ]
  },
  {
   "cell_type": "markdown",
   "metadata": {},
   "source": [
    "### Construct/ Load/ Compile a logic circuit\n",
    "1. Handcradft a logic circuit"
   ]
  },
  {
   "cell_type": "code",
   "execution_count": 59,
   "metadata": {
    "tags": []
   },
   "outputs": [
    {
     "name": "stdout",
     "output_type": "stream",
     "text": [
      "((1 ⋀ 2) ⋁ (-1 ⋀ -2 ⋀ true))\n"
     ]
    }
   ],
   "source": [
    "lit1, litn1 = compile(PlainLogicCircuit, Lit(1)), compile(PlainLogicCircuit, Lit(- 1))\n",
    "lit2, litn2 = compile(PlainLogicCircuit, Lit(2)), compile(PlainLogicCircuit, Lit(- 2))\n",
    "and1 = lit1 & lit2\n",
    "true_node = compile(PlainLogicCircuit, true)\n",
    "and2 = conjoin([litn1, litn2, true_node])\n",
    "c1 = and1 | and2\n",
    "println(tree_formula_string(c1))"
   ]
  },
  {
   "cell_type": "code",
   "execution_count": 60,
   "metadata": {
    "tags": []
   },
   "outputs": [
    {
     "name": "stdout",
     "output_type": "stream",
     "text": [
      "((1 ⋀ 2) ⋁ (-1 ⋀ -2))\n"
     ]
    }
   ],
   "source": [
    "# structured-decomposble circuit and its vtree\n",
    "v1, v2 = Vtree(Var(1)), Vtree(Var(2))\n",
    "v_and = Vtree(v1, v2)\n",
    "sl1, sln1 = compile(StructLogicCircuit, v1, Lit(1)), compile(StructLogicCircuit, v1, Lit(- 1))\n",
    "sl2, sln2 = compile(StructLogicCircuit, v2, Lit(2)), compile(StructLogicCircuit, v2, Lit(- 2))\n",
    "c2 = v_and(v_and(sl1 & sl2) | v_and(sln1 & sln2))\n",
    "println(tree_formula_string(c2))"
   ]
  },
  {
   "cell_type": "markdown",
   "metadata": {},
   "source": [
    "2. Load from file/module zoo"
   ]
  },
  {
   "cell_type": "code",
   "execution_count": 61,
   "metadata": {},
   "outputs": [
    {
     "data": {
      "text/plain": [
       "(PlainStruct⋁Node(997515069187283418), PlainVtreeInnerNode(1,2,3,4,5,6,7,8,9,10,11,12,13,14,15,16))"
      ]
     },
     "execution_count": 61,
     "metadata": {},
     "output_type": "execute_result"
    }
   ],
   "source": [
    "lc = load_logic_circuit(zoo_sdd_file(\"random.sdd\"))\n",
    "lc2 = load_smooth_logic_circuit(zoo_psdd_file(\"nltcs.psdd\"))\n",
    "lc, v = load_struct_smooth_logic_circuit(zoo_psdd_file(\"nltcs.psdd\"), zoo_vtree_file(\"nltcs.vtree\"))"
   ]
  },
  {
   "cell_type": "markdown",
   "metadata": {},
   "source": [
    "3. fully factorized circuit"
   ]
  },
  {
   "cell_type": "code",
   "execution_count": 62,
   "metadata": {
    "tags": []
   },
   "outputs": [
    {
     "name": "stdout",
     "output_type": "stream",
     "text": [
      "(((1 ⋁ -1) ⋀ (2 ⋁ -2) ⋀ (3 ⋁ -3)))\n",
      "((((1 ⋁ -1) ⋀ (2 ⋁ -2))))\n"
     ]
    }
   ],
   "source": [
    "c3 = fully_factorized_circuit(PlainLogicCircuit, 3)\n",
    "c4 = fully_factorized_circuit(PlainStructLogicCircuit, v_and)\n",
    "println(tree_formula_string(c3))\n",
    "println(tree_formula_string(c4))"
   ]
  },
  {
   "cell_type": "markdown",
   "metadata": {},
   "source": [
    "4. SDD compilation "
   ]
  },
  {
   "cell_type": "code",
   "execution_count": 63,
   "metadata": {
    "tags": []
   },
   "outputs": [
    {
     "name": "stdout",
     "output_type": "stream",
     "text": [
      "((-3 ⋀ ((((2 ⋀ true) ⋁ (-2 ⋀ -4)) ⋀ false) ⋁ (((2 ⋀ false) ⋁ (-2 ⋀ 4)) ⋀ ((((7 ⋀ 8) ⋁ (-7 ⋀ -8)) ⋀ false) ⋁ (((-7 ⋀ 8) ⋁ (7 ⋀ false)) ⋀ ((-6 ⋀ ((-9 ⋀ ((10 ⋀ ((11 ⋀ ((12 ⋀ ((13 ⋀ ((14 ⋀ ((-15 ⋀ ((-16 ⋀ 17) ⋁ (16 ⋀ false))) ⋁ (15 ⋀ false))) ⋁ (-14 ⋀ false))) ⋁ (-13 ⋀ ((-14 ⋀ ((15 ⋀ ((-16 ⋀ 17) ⋁ (16 ⋀ false))) ⋁ (-15 ⋀ false))) ⋁ (14 ⋀ false))))) ⋁ (-12 ⋀ false))) ⋁ (-11 ⋀ false))) ⋁ (-10 ⋀ false))) ⋁ (9 ⋀ false))) ⋁ (6 ⋀ false))) ⋁ (((7 ⋀ -8) ⋁ (-7 ⋀ false)) ⋀ ((-6 ⋀ ((9 ⋀ ((-10 ⋀ ((11 ⋀ ((-12 ⋀ ((13 ⋀ ((14 ⋀ ((-15 ⋀ ((-16 ⋀ 17) ⋁ (16 ⋀ false))) ⋁ (15 ⋀ false))) ⋁ (-14 ⋀ false))) ⋁ (-13 ⋀ ((-14 ⋀ ((15 ⋀ ((16 ⋀ -17) ⋁ (-16 ⋀ false))) ⋁ (-15 ⋀ false))) ⋁ (14 ⋀ false))))) ⋁ (12 ⋀ false))) ⋁ (-11 ⋀ false))) ⋁ (10 ⋀ false))) ⋁ (-9 ⋀ false))) ⋁ (6 ⋀ false))))))) ⋁ (3 ⋀ ((1 ⋀ ((((2 ⋀ 4) ⋁ (-2 ⋀ true)) ⋀ false) ⋁ (((2 ⋀ -4) ⋁ (-2 ⋀ false)) ⋀ ((((-7 ⋀ -8) ⋁ (7 ⋀ true)) ⋀ false) ⋁ (((-7 ⋀ 8) ⋁ (7 ⋀ false)) ⋀ ((-5 ⋀ ((-6 ⋀ ((9 ⋀ ((-10 ⋀ ((11 ⋀ ((-12 ⋀ ((13 ⋀ ((14 ⋀ ((-15 ⋀ ((-16 ⋀ 17) ⋁ (16 ⋀ false))) ⋁ (15 ⋀ false))) ⋁ (-14 ⋀ false))) ⋁ (-13 ⋀ ((-14 ⋀ ((15 ⋀ ((16 ⋀ -17) ⋁ (-16 ⋀ false))) ⋁ (-15 ⋀ false))) ⋁ (14 ⋀ false))))) ⋁ (12 ⋀ false))) ⋁ (-11 ⋀ false))) ⋁ (10 ⋀ false))) ⋁ (-9 ⋀ ((10 ⋀ ((11 ⋀ ((12 ⋀ ((13 ⋀ ((14 ⋀ ((-15 ⋀ ((-16 ⋀ 17) ⋁ (16 ⋀ false))) ⋁ (15 ⋀ false))) ⋁ (-14 ⋀ false))) ⋁ (-13 ⋀ ((-14 ⋀ ((15 ⋀ ((-16 ⋀ 17) ⋁ (16 ⋀ false))) ⋁ (-15 ⋀ false))) ⋁ (14 ⋀ false))))) ⋁ (-12 ⋀ false))) ⋁ (-11 ⋀ false))) ⋁ (-10 ⋀ false))))) ⋁ (6 ⋀ false))) ⋁ (5 ⋀ ((6 ⋀ ((9 ⋀ ((-10 ⋀ ((-11 ⋀ ((-14 ⋀ ((15 ⋀ ((16 ⋀ -17) ⋁ (-16 ⋀ false))) ⋁ (-15 ⋀ false))) ⋁ (14 ⋀ false))) ⋁ (11 ⋀ false))) ⋁ (10 ⋀ false))) ⋁ (-9 ⋀ false))) ⋁ (-6 ⋀ false))))))))) ⋁ (-1 ⋀ ((((2 ⋀ true) ⋁ (-2 ⋀ -4)) ⋀ false) ⋁ (((2 ⋀ false) ⋁ (-2 ⋀ 4)) ⋀ ((((7 ⋀ 8) ⋁ (-7 ⋀ -8)) ⋀ false) ⋁ (((-7 ⋀ 8) ⋁ (7 ⋀ false)) ⋀ ((5 ⋀ false) ⋁ (-5 ⋀ ((-6 ⋀ ((-9 ⋀ ((10 ⋀ ((11 ⋀ ((12 ⋀ ((13 ⋀ ((14 ⋀ ((-15 ⋀ ((-16 ⋀ 17) ⋁ (16 ⋀ false))) ⋁ (15 ⋀ false))) ⋁ (-14 ⋀ false))) ⋁ (-13 ⋀ ((-14 ⋀ ((15 ⋀ ((-16 ⋀ 17) ⋁ (16 ⋀ false))) ⋁ (-15 ⋀ false))) ⋁ (14 ⋀ false))))) ⋁ (-12 ⋀ false))) ⋁ (-11 ⋀ false))) ⋁ (-10 ⋀ false))) ⋁ (9 ⋀ false))) ⋁ (6 ⋀ false))))) ⋁ (((7 ⋀ -8) ⋁ (-7 ⋀ false)) ⋀ ((-5 ⋀ ((-6 ⋀ ((9 ⋀ ((-10 ⋀ ((11 ⋀ ((-12 ⋀ ((13 ⋀ ((14 ⋀ ((-15 ⋀ ((-16 ⋀ 17) ⋁ (16 ⋀ false))) ⋁ (15 ⋀ false))) ⋁ (-14 ⋀ false))) ⋁ (-13 ⋀ ((-14 ⋀ ((15 ⋀ ((16 ⋀ -17) ⋁ (-16 ⋀ false))) ⋁ (-15 ⋀ false))) ⋁ (14 ⋀ false))))) ⋁ (12 ⋀ false))) ⋁ (-11 ⋀ false))) ⋁ (10 ⋀ false))) ⋁ (-9 ⋀ false))) ⋁ (6 ⋀ false))) ⋁ (5 ⋀ ((6 ⋀ ((9 ⋀ ((-10 ⋀ ((-11 ⋀ ((-14 ⋀ ((15 ⋀ ((16 ⋀ -17) ⋁ (-16 ⋀ false))) ⋁ (-15 ⋀ false))) ⋁ (14 ⋀ false))) ⋁ (11 ⋀ false))) ⋁ (10 ⋀ false))) ⋁ (-9 ⋀ false))) ⋁ (-6 ⋀ false))))))))))))\n"
     ]
    }
   ],
   "source": [
    "mgr1 = SddMgr(3, :balanced)\n",
    "\n",
    "cnf1 = zoo_cnf(\"easy/C17_mince.cnf\")\n",
    "vtree1 = zoo_vtree(\"easy/C17_mince.min.vtree\");\n",
    "\n",
    "mgr2 = SddMgr(vtree1)\n",
    "cnfΔ = compile(mgr2, cnf1)\n",
    "println(tree_formula_string(cnfΔ))"
   ]
  },
  {
   "cell_type": "markdown",
   "metadata": {},
   "source": [
    "2. Circuit Statistics"
   ]
  },
  {
   "cell_type": "code",
   "execution_count": 64,
   "metadata": {
    "tags": []
   },
   "outputs": [
    {
     "name": "stdout",
     "output_type": "stream",
     "text": [
      "((1 ⋀ 2) ⋁ (-1 ⋀ -2 ⋀ true))\n",
      "Number of variables : 2\n",
      "Number of nodes : 8\n",
      "Number of edges : 7\n"
     ]
    }
   ],
   "source": [
    "println(tree_formula_string(c1))\n",
    "println(\"Number of variables : \", num_variables(c1))\n",
    "println(\"Number of nodes : \", num_nodes(c1))\n",
    "println(\"Number of edges : \", num_edges(c1))"
   ]
  },
  {
   "cell_type": "code",
   "execution_count": 65,
   "metadata": {
    "tags": []
   },
   "outputs": [
    {
     "name": "stdout",
     "output_type": "stream",
     "text": [
      "Number of children of root node : 2\n",
      "Inner nodes : PlainLogicInnerNode[Plain⋀Node(5808418406115376116), Plain⋀Node(10715694377331970021), Plain⋁Node(8474986747586460844)]\n",
      "\n",
      "Leaf nodes : PlainLogicCircuit[PlainLiteralNode(3268897131303528460), PlainLiteralNode(3491761497713639586), PlainLiteralNode(14744975093845599863), PlainLiteralNode(17360079655964980085), PlainTrueNode(16845230597971374003)]\n",
      "\n",
      "Conjunction/And nodes : Plain⋀Node[Plain⋀Node(5808418406115376116), Plain⋀Node(10715694377331970021)]\n",
      "\n",
      "Disjunction/Or nodes : Plain⋁Node[Plain⋁Node(8474986747586460844)]\n",
      "\n",
      "Literal nodes : PlainLiteralNode[PlainLiteralNode(3268897131303528460), PlainLiteralNode(3491761497713639586), PlainLiteralNode(14744975093845599863), PlainLiteralNode(17360079655964980085)]\n",
      "\n",
      "Constant nodes : (nothing, PlainTrueNode(16845230597971374003))\n",
      "\n"
     ]
    }
   ],
   "source": [
    "println(\"Number of children of root node : \", num_children(c1))\n",
    "println(\"Inner nodes : \", innernodes(c1), \"\\n\")\n",
    "println(\"Leaf nodes : \", leafnodes(c1), \"\\n\")\n",
    "println(\"Conjunction/And nodes : \", and_nodes(c1), \"\\n\")\n",
    "println(\"Disjunction/Or nodes : \", or_nodes(c1), \"\\n\")\n",
    "println(\"Literal nodes : \", literal_nodes(c1), \"\\n\")\n",
    "println(\"Constant nodes : \", canonical_constants(c1), \"\\n\")"
   ]
  },
  {
   "cell_type": "markdown",
   "metadata": {},
   "source": [
    "3. Structure properties"
   ]
  },
  {
   "cell_type": "code",
   "execution_count": 66,
   "metadata": {
    "tags": []
   },
   "outputs": [
    {
     "name": "stdout",
     "output_type": "stream",
     "text": [
      "true\n",
      "true\n",
      "true\n"
     ]
    }
   ],
   "source": [
    "println(isfalse(compile(PlainLogicCircuit, false)))\n",
    "println(istrue(true_node))\n",
    "println(isliteralgate(lit1))"
   ]
  },
  {
   "cell_type": "code",
   "execution_count": 67,
   "metadata": {
    "tags": []
   },
   "outputs": [
    {
     "name": "stdout",
     "output_type": "stream",
     "text": [
      "Is ((1 ⋀ 2) ⋁ (-1 ⋀ -2 ⋀ true)) decomposable : true\n",
      "Is (1 ⋀ -1) decomposable : false\n"
     ]
    }
   ],
   "source": [
    "println(\"Is \", tree_formula_string(c1), \" decomposable : \", isdecomposable(c1))\n",
    "t = lit1 & litn1\n",
    "println(\"Is \", tree_formula_string(t), \" decomposable : \", isdecomposable(t))"
   ]
  },
  {
   "cell_type": "code",
   "execution_count": 68,
   "metadata": {
    "tags": []
   },
   "outputs": [
    {
     "name": "stdout",
     "output_type": "stream",
     "text": [
      "Is ((1 ⋀ 2) ⋁ (-1 ⋀ -2 ⋀ true)) smooth : true\n",
      "Is (1 ⋁ 2) smooth : false\n"
     ]
    }
   ],
   "source": [
    "println(\"Is \", tree_formula_string(c1), \" smooth : \", issmooth(c1))\n",
    "t = lit1 | lit2\n",
    "println(\"Is \", tree_formula_string(t), \" smooth : \", issmooth(t))"
   ]
  },
  {
   "cell_type": "code",
   "execution_count": 69,
   "metadata": {
    "tags": []
   },
   "outputs": [
    {
     "name": "stdout",
     "output_type": "stream",
     "text": [
      "Is ((1 ⋀ 2) ⋁ (-1 ⋀ -2 ⋀ true)) deterministic : true\n",
      "Is ((1 ⋀ 2) ⋁ (1 ⋀ 2)) deterministic : false\n"
     ]
    }
   ],
   "source": [
    "println(\"Is \", tree_formula_string(c1), \" deterministic : \", isdeterministic(c1))\n",
    "t = (lit1 & lit2) | (lit1 & lit2)\n",
    "println(\"Is \", tree_formula_string(t), \" deterministic : \", isdeterministic(t))"
   ]
  },
  {
   "cell_type": "code",
   "execution_count": 70,
   "metadata": {
    "tags": []
   },
   "outputs": [
    {
     "name": "stdout",
     "output_type": "stream",
     "text": [
      "Is ((1 ⋀ 2) ⋁ (-1 ⋀ -2 ⋀ true)) structured decomposable : false\n"
     ]
    }
   ],
   "source": [
    "println(\"Is \", tree_formula_string(c1), \" structured decomposable : \", isstruct_decomposable(c1))"
   ]
  },
  {
   "cell_type": "code",
   "execution_count": 71,
   "metadata": {},
   "outputs": [
    {
     "data": {
      "text/plain": [
       "true"
      ]
     },
     "execution_count": 71,
     "metadata": {},
     "output_type": "execute_result"
    }
   ],
   "source": [
    "iscanonical(c1, 10)"
   ]
  },
  {
   "cell_type": "markdown",
   "metadata": {},
   "source": [
    "4. Transformations"
   ]
  },
  {
   "cell_type": "code",
   "execution_count": 72,
   "metadata": {
    "tags": []
   },
   "outputs": [
    {
     "name": "stdout",
     "output_type": "stream",
     "text": [
      "(1 ⋁ 2)\n",
      "((1 ⋀ (2 ⋁ -2)) ⋁ (2 ⋀ (1 ⋁ -1)))\n"
     ]
    }
   ],
   "source": [
    "c2 = lit1 | lit2\n",
    "issmooth(c2)\n",
    "println(tree_formula_string(c2))\n",
    "println(tree_formula_string(smooth(c2)))"
   ]
  },
  {
   "cell_type": "code",
   "execution_count": 73,
   "metadata": {
    "tags": []
   },
   "outputs": [
    {
     "name": "stdout",
     "output_type": "stream",
     "text": [
      "(1 ⋁ 2)\n",
      "(true ⋁ 2)\n"
     ]
    }
   ],
   "source": [
    "c3 = lit1 | lit2\n",
    "c4 = forget(c3, x -> x == 1)\n",
    "println(tree_formula_string(c3))\n",
    "println(tree_formula_string(c4))"
   ]
  },
  {
   "cell_type": "code",
   "execution_count": 74,
   "metadata": {
    "tags": []
   },
   "outputs": [
    {
     "name": "stdout",
     "output_type": "stream",
     "text": [
      "((-1 ⋀ -2 ⋀ true) ⋁ (true ⋀ 2 ⋀ false))\n",
      "((-1 ⋀ -2))\n"
     ]
    }
   ],
   "source": [
    "c5 = conjoin([litn1, litn2, true_node]) | conjoin([true_node, lit2, compile(PlainLogicCircuit, false)])\n",
    "println(tree_formula_string(c5))\n",
    "println(tree_formula_string(propagate_constants(c5)))"
   ]
  },
  {
   "cell_type": "code",
   "execution_count": 75,
   "metadata": {
    "tags": []
   },
   "outputs": [
    {
     "name": "stdout",
     "output_type": "stream",
     "text": [
      "((1 ⋁ -1) ⋀ (2 ⋁ -2))\n",
      "(1 ⋀ (2 ⋁ -2))\n"
     ]
    }
   ],
   "source": [
    "c6 = (lit1 | litn1) & (lit2 | litn2)\n",
    "println(tree_formula_string(c6))\n",
    "c7 = condition(c6, Lit(1))\n",
    "println(tree_formula_string(c7))"
   ]
  },
  {
   "cell_type": "code",
   "execution_count": 76,
   "metadata": {
    "tags": []
   },
   "outputs": [
    {
     "name": "stdout",
     "output_type": "stream",
     "text": [
      "(((1 ⋁ -1) ⋀ (2 ⋁ -2)))\n",
      "(((1 ⋁ -1) ⋀ 2) ⋁ ((1 ⋁ -1) ⋀ -2))\n"
     ]
    }
   ],
   "source": [
    "c8 = disjoin([c6])\n",
    "c9, _ = split(c8, (c8, c8.children[1]), Var(2))\n",
    "println(tree_formula_string(c8))\n",
    "println(tree_formula_string(c9))"
   ]
  },
  {
   "cell_type": "code",
   "execution_count": 77,
   "metadata": {
    "tags": []
   },
   "outputs": [
    {
     "name": "stdout",
     "output_type": "stream",
     "text": [
      "(((1 ⋁ -1)) ⋁ ((1 ⋁ -1)))\n",
      "(((1 ⋁ -1)) ⋁ ((1 ⋁ -1)))\n",
      "6\n",
      "7\n"
     ]
    }
   ],
   "source": [
    "or = lit1 | litn1\n",
    "and1, and2 = conjoin([or]), conjoin([or])\n",
    "c10 = and1 | and2\n",
    "c11 = clone(c10, and1, and2, or)\n",
    "println(tree_formula_string(c10))\n",
    "println(tree_formula_string(c11))\n",
    "println(num_nodes(c10))\n",
    "println(num_nodes(c11))"
   ]
  },
  {
   "cell_type": "code",
   "execution_count": 78,
   "metadata": {
    "tags": []
   },
   "outputs": [
    {
     "name": "stdout",
     "output_type": "stream",
     "text": [
      "(((1 ⋁ (-1 ⋀ true)) ⋀ (1 ⋁ -1)))\n",
      "(((1 ⋁ -1) ⋀ (1 ⋁ -1)))\n"
     ]
    }
   ],
   "source": [
    "or1 = lit1 | (litn1 & true_node)\n",
    "or2 = lit1 | litn1\n",
    "c12 = disjoin([or1 & or2])\n",
    "c13 = merge(c12, or1, or2)\n",
    "println(tree_formula_string(c12))\n",
    "println(tree_formula_string(c13))"
   ]
  },
  {
   "cell_type": "code",
   "execution_count": 79,
   "metadata": {},
   "outputs": [
    {
     "data": {
      "text/plain": [
       "true"
      ]
     },
     "execution_count": 79,
     "metadata": {},
     "output_type": "execute_result"
    }
   ],
   "source": [
    "c12 = deepcopy(c11, typemax(Int))\n",
    "all(isliteralgate, intersect(linearize(c12), linearize(c11)))"
   ]
  },
  {
   "cell_type": "code",
   "execution_count": 80,
   "metadata": {
    "tags": []
   },
   "outputs": [
    {
     "name": "stdout",
     "output_type": "stream",
     "text": [
      "(((1 ⋁ -1) ⋀ (2 ⋁ -2) ⋀ (3 ⋁ -3) ⋀ (4 ⋁ -4) ⋀ (5 ⋁ -5)))\n",
      "((1 ⋀ -2 ⋀ (3 ⋁ -3) ⋀ 4 ⋀ 5) ⋁ (1 ⋀ -2 ⋀ (3 ⋁ -3) ⋀ -4 ⋀ 5) ⋁ (-1 ⋀ -2 ⋀ 3 ⋀ -4 ⋀ -5) ⋁ (-1 ⋀ -2 ⋀ -3 ⋀ -4 ⋀ -5) ⋁ ((1 ⋁ -1) ⋀ 2 ⋀ -3 ⋀ 4 ⋀ 5) ⋁ ((1 ⋁ -1) ⋀ 2 ⋀ -3 ⋀ -4 ⋀ 5) ⋁ (-1 ⋀ -2 ⋀ (3 ⋁ -3) ⋀ 4 ⋀ -5) ⋁ (-1 ⋀ 2 ⋀ (3 ⋁ -3) ⋀ (4 ⋁ -4) ⋀ -5) ⋁ (1 ⋀ (2 ⋁ -2) ⋀ (3 ⋁ -3) ⋀ (4 ⋁ -4) ⋀ -5) ⋁ ((1 ⋁ -1) ⋀ 2 ⋀ 3 ⋀ (4 ⋁ -4) ⋀ 5) ⋁ (-1 ⋀ -2 ⋀ (3 ⋁ -3) ⋀ (4 ⋁ -4) ⋀ 5))\n"
     ]
    }
   ],
   "source": [
    "# struct learn \n",
    "c0 = fully_factorized_circuit(PlainLogicCircuit, 5)\n",
    "println(tree_formula_string(c0))\n",
    "c1 = struct_learn(c0, maxiter=10)\n",
    "println(tree_formula_string(c1))"
   ]
  },
  {
   "cell_type": "markdown",
   "metadata": {},
   "source": [
    "5. Queries"
   ]
  },
  {
   "cell_type": "code",
   "execution_count": 81,
   "metadata": {
    "tags": []
   },
   "outputs": [
    {
     "name": "stdout",
     "output_type": "stream",
     "text": [
      "(((1 ⋁ -1) ⋀ (2 ⋁ -2) ⋀ (3 ⋁ -3)))\n"
     ]
    },
    {
     "data": {
      "text/plain": [
       "1-element BitArray{1}:\n",
       " 1"
      ]
     },
     "execution_count": 81,
     "metadata": {},
     "output_type": "execute_result"
    }
   ],
   "source": [
    "using DataFrames\n",
    "r = fully_factorized_circuit(PlainLogicCircuit, 3)\n",
    "input = DataFrame(BitArray([1 0 1]))\n",
    "println(tree_formula_string(r))\n",
    "r(input)"
   ]
  },
  {
   "cell_type": "code",
   "execution_count": 82,
   "metadata": {},
   "outputs": [
    {
     "data": {
      "text/plain": [
       "8"
      ]
     },
     "execution_count": 82,
     "metadata": {},
     "output_type": "execute_result"
    }
   ],
   "source": [
    "model_count(r)"
   ]
  },
  {
   "cell_type": "code",
   "execution_count": 83,
   "metadata": {},
   "outputs": [
    {
     "data": {
      "text/plain": [
       "1//1"
      ]
     },
     "execution_count": 83,
     "metadata": {},
     "output_type": "execute_result"
    }
   ],
   "source": [
    "sat_prob(r)"
   ]
  },
  {
   "cell_type": "code",
   "execution_count": 84,
   "metadata": {},
   "outputs": [
    {
     "data": {
      "text/plain": [
       "Dict{Union{UInt32, Node},Array{Rational{BigInt},1}} with 14 entries:\n",
       "  PlainLiteralNode(14596195639733900933) => Rational{BigInt}[1//2041]\n",
       "  0x00000002                             => Rational{BigInt}[1//3870]\n",
       "  Plain⋁Node(8825307834801993994)        => Rational{BigInt}[1//1]\n",
       "  PlainLiteralNode(5110327579983448590)  => Rational{BigInt}[2040//2041]\n",
       "  Plain⋀Node(8120995872607302037)        => Rational{BigInt}[1//1]\n",
       "  PlainLiteralNode(8432648329670027548)  => Rational{BigInt}[1//7228]\n",
       "  PlainLiteralNode(5468631190534968285)  => Rational{BigInt}[3869//3870]\n",
       "  0x00000003                             => Rational{BigInt}[1//7228]\n",
       "  PlainLiteralNode(1837171924962064366)  => Rational{BigInt}[7227//7228]\n",
       "  Plain⋁Node(1519525625220096303)        => Rational{BigInt}[1//1]\n",
       "  Plain⋁Node(4856940599559684659)        => Rational{BigInt}[1//1]\n",
       "  Plain⋁Node(5726244210746914356)        => Rational{BigInt}[1//1]\n",
       "  PlainLiteralNode(14625622398862940725) => Rational{BigInt}[1//3870]\n",
       "  0x00000001                             => Rational{BigInt}[1//2041]"
      ]
     },
     "execution_count": 84,
     "metadata": {},
     "output_type": "execute_result"
    }
   ],
   "source": [
    "prob_equiv_signature(r, 1)"
   ]
  },
  {
   "cell_type": "markdown",
   "metadata": {},
   "source": [
    "6. Visulizations"
   ]
  },
  {
   "cell_type": "code",
   "execution_count": 89,
   "metadata": {},
   "outputs": [
    {
     "data": {
      "text/plain": [
       "TikzPictures.TikzPicture(\"\\\\graph [layered layout, ] {\\n1/\\\"1\\\" [],\\n2/\\\"2\\\" [],\\n3/\\\"3\\\" [],\\n4/\\\"4\\\" [],\\n5/\\\"5\\\" [],\\n6/\\\"6\\\" [],\\n7/\\\"7\\\" [],\\n8/\\\"8\\\" [],\\n9/\\\"9\\\" [],\\n10/\\\"10\\\" [],\\n11/\\\".\\\" [],\\n12/\\\".\\\" [],\\n13/\\\".\\\" [],\\n14/\\\".\\\" [],\\n15/\\\".\\\" [],\\n16/\\\".\\\" [],\\n17/\\\".\\\" [],\\n18/\\\".\\\" [],\\n19/\\\".\\\" [],\\n;\\n11 -> [,] 12;\\n11 -> [,] 16;\\n12 -> [,] 13;\\n12 -> [,] 14;\\n13 -> [,] 1;\\n13 -> [,] 2;\\n14 -> [,] 3;\\n14 -> [,] 15;\\n15 -> [,] 4;\\n15 -> [,] 5;\\n16 -> [,] 17;\\n16 -> [,] 18;\\n17 -> [,] 6;\\n17 -> [,] 7;\\n18 -> [,] 8;\\n18 -> [,] 19;\\n19 -> [,] 9;\\n19 -> [,] 10;\\n};\\n\", \"\", \"\\\\usepackage{fontspec}\\n\\\\setmainfont{Latin Modern Math}\\n\\\\usetikzlibrary{arrows}\\n\\\\usetikzlibrary{graphs}\\n\\\\usetikzlibrary{graphdrawing}\\n\\n% from: https://tex.stackexchange.com/questions/453132/fresh-install-of-tl2018-no-tikz-graph-drawing-libraries-found\\n\\\\usepackage{luacode}\\n\\\\begin{luacode*}\\n\\tfunction pgf_lookup_and_require(name)\\n\\tlocal sep = package.config:sub(1,1)\\n\\tlocal function lookup(name)\\n\\tlocal sub = name:gsub('%.',sep)  \\n\\tif kpse.find_file(sub, 'lua') then\\n\\trequire(name)\\n\\telseif kpse.find_file(sub, 'clua') then\\n\\tcollectgarbage('stop') \\n\\trequire(name)\\n\\tcollectgarbage('restart')\\n\\telse\\n\\treturn false\\n\\tend\\n\\treturn true\\n\\tend\\n\\treturn\\n\\tlookup('pgf.gd.' .. name .. '.library') or\\n\\tlookup('pgf.gd.' .. name) or\\n\\tlookup(name .. '.library') or\\n\\tlookup(name) \\n\\tend\\n\\\\end{luacode*}\\n\\n\\\\usegdlibrary{layered}\", \"tikzpicture\", true)"
      ]
     },
     "execution_count": 89,
     "metadata": {},
     "output_type": "execute_result"
    }
   ],
   "source": [
    "using TikzGraphs\n",
    "v = PlainVtree(10, :balanced)\n",
    "plot(v)"
   ]
  },
  {
   "cell_type": "code",
   "execution_count": 90,
   "metadata": {},
   "outputs": [
    {
     "data": {
      "text/plain": [
       "TikzPictures.TikzPicture(\"\\\\graph [layered layout, ] {\\n1/\\\"⋁\\\" [],\\n2/\\\"⋀\\\" [],\\n3/\\\"⋁\\\" [],\\n4/\\\"⋁\\\" [],\\n5/\\\"⋁\\\" [],\\n6/\\\"⋁\\\" [],\\n7/\\\"⋁\\\" [],\\n8/\\\"1\\\" [],\\n9/\\\"-1\\\" [],\\n10/\\\"2\\\" [],\\n11/\\\"-2\\\" [],\\n12/\\\"3\\\" [],\\n13/\\\"-3\\\" [],\\n14/\\\"4\\\" [],\\n15/\\\"-4\\\" [],\\n16/\\\"5\\\" [],\\n17/\\\"-5\\\" [],\\n;\\n1 -> [,] 2;\\n2 -> [,] 3;\\n2 -> [,] 4;\\n2 -> [,] 5;\\n2 -> [,] 6;\\n2 -> [,] 7;\\n3 -> [,] 8;\\n3 -> [,] 9;\\n4 -> [,] 10;\\n4 -> [,] 11;\\n5 -> [,] 12;\\n5 -> [,] 13;\\n6 -> [,] 14;\\n6 -> [,] 15;\\n7 -> [,] 16;\\n7 -> [,] 17;\\n};\\n\", \"\", \"\\\\usepackage{fontspec}\\n\\\\setmainfont{Latin Modern Math}\\n\\\\usetikzlibrary{arrows}\\n\\\\usetikzlibrary{graphs}\\n\\\\usetikzlibrary{graphdrawing}\\n\\n% from: https://tex.stackexchange.com/questions/453132/fresh-install-of-tl2018-no-tikz-graph-drawing-libraries-found\\n\\\\usepackage{luacode}\\n\\\\begin{luacode*}\\n\\tfunction pgf_lookup_and_require(name)\\n\\tlocal sep = package.config:sub(1,1)\\n\\tlocal function lookup(name)\\n\\tlocal sub = name:gsub('%.',sep)  \\n\\tif kpse.find_file(sub, 'lua') then\\n\\trequire(name)\\n\\telseif kpse.find_file(sub, 'clua') then\\n\\tcollectgarbage('stop') \\n\\trequire(name)\\n\\tcollectgarbage('restart')\\n\\telse\\n\\treturn false\\n\\tend\\n\\treturn true\\n\\tend\\n\\treturn\\n\\tlookup('pgf.gd.' .. name .. '.library') or\\n\\tlookup('pgf.gd.' .. name) or\\n\\tlookup(name .. '.library') or\\n\\tlookup(name) \\n\\tend\\n\\\\end{luacode*}\\n\\n\\\\usegdlibrary{layered}\", \"tikzpicture\", true)"
      ]
     },
     "execution_count": 90,
     "metadata": {},
     "output_type": "execute_result"
    }
   ],
   "source": [
    "lc = fully_factorized_circuit(PlainLogicCircuit, 5)\n",
    "plot(lc)"
   ]
  },
  {
   "cell_type": "markdown",
   "metadata": {},
   "source": [
    "## Probabilistic Circuits"
   ]
  },
  {
   "cell_type": "code",
   "execution_count": 91,
   "metadata": {
    "tags": []
   },
   "outputs": [],
   "source": [
    "using ProbabilisticCircuits"
   ]
  },
  {
   "cell_type": "code",
   "execution_count": 92,
   "metadata": {
    "tags": []
   },
   "outputs": [
    {
     "data": {
      "text/plain": [
       "TikzPictures.TikzPicture(\"\\\\graph [layered layout, ] {\\n1/\\\"+\\\" [],\\n2/\\\"*\\\" [],\\n3/\\\"+\\\" [],\\n4/\\\"+\\\" [],\\n5/\\\"+\\\" [],\\n6/\\\"+\\\" [],\\n7/\\\"+\\\" [],\\n8/\\\"1\\\" [],\\n9/\\\"-1\\\" [],\\n10/\\\"2\\\" [],\\n11/\\\"-2\\\" [],\\n12/\\\"3\\\" [],\\n13/\\\"-3\\\" [],\\n14/\\\"4\\\" [],\\n15/\\\"-4\\\" [],\\n16/\\\"5\\\" [],\\n17/\\\"-5\\\" [],\\n;\\n1 -> [,edge label={1.0},] 2;\\n2 -> [,] 3;\\n2 -> [,] 4;\\n2 -> [,] 5;\\n2 -> [,] 6;\\n2 -> [,] 7;\\n3 -> [,edge label={0.5},] 8;\\n3 -> [,edge label={0.5},] 9;\\n4 -> [,edge label={0.5},] 10;\\n4 -> [,edge label={0.5},] 11;\\n5 -> [,edge label={0.5},] 12;\\n5 -> [,edge label={0.5},] 13;\\n6 -> [,edge label={0.5},] 14;\\n6 -> [,edge label={0.5},] 15;\\n7 -> [,edge label={0.5},] 16;\\n7 -> [,edge label={0.5},] 17;\\n};\\n\", \"\", \"\\\\usepackage{fontspec}\\n\\\\setmainfont{Latin Modern Math}\\n\\\\usetikzlibrary{arrows}\\n\\\\usetikzlibrary{graphs}\\n\\\\usetikzlibrary{graphdrawing}\\n\\n% from: https://tex.stackexchange.com/questions/453132/fresh-install-of-tl2018-no-tikz-graph-drawing-libraries-found\\n\\\\usepackage{luacode}\\n\\\\begin{luacode*}\\n\\tfunction pgf_lookup_and_require(name)\\n\\tlocal sep = package.config:sub(1,1)\\n\\tlocal function lookup(name)\\n\\tlocal sub = name:gsub('%.',sep)  \\n\\tif kpse.find_file(sub, 'lua') then\\n\\trequire(name)\\n\\telseif kpse.find_file(sub, 'clua') then\\n\\tcollectgarbage('stop') \\n\\trequire(name)\\n\\tcollectgarbage('restart')\\n\\telse\\n\\treturn false\\n\\tend\\n\\treturn true\\n\\tend\\n\\treturn\\n\\tlookup('pgf.gd.' .. name .. '.library') or\\n\\tlookup('pgf.gd.' .. name) or\\n\\tlookup(name .. '.library') or\\n\\tlookup(name) \\n\\tend\\n\\\\end{luacode*}\\n\\n\\\\usegdlibrary{layered}\", \"tikzpicture\", true)"
      ]
     },
     "execution_count": 92,
     "metadata": {},
     "output_type": "execute_result"
    }
   ],
   "source": [
    "pc = fully_factorized_circuit(ProbCircuit, 5)\n",
    "uniform_parameters(pc)\n",
    "plot(pc)"
   ]
  },
  {
   "cell_type": "markdown",
   "metadata": {},
   "source": [
    "helper function"
   ]
  },
  {
   "cell_type": "code",
   "execution_count": 93,
   "metadata": {},
   "outputs": [],
   "source": [
    "# You can skip this part. Includes helper functions to make partial observations from arrays of strings\n",
    "# so its easier to present.\n",
    "\n",
    "# Make one observation from list of string describing the observation\n",
    "#\n",
    "# For example, [\"smoker\", \"male\"] sets \n",
    "#   1) The mentioned features to the correct values.\n",
    "#   2) Every feature not mentioned to missing values. \n",
    "FEATURES = 36;\n",
    "function make_one_observation(obs)\n",
    "    result = missings(Bool, FEATURES)\n",
    "    for k in obs\n",
    "        # Smoking\n",
    "        if lowercase(k) == \"smoker\"\n",
    "            result[7:8] .= [0, 1]\n",
    "        elseif lowercase(k) == \"!smoker\"\n",
    "            result[7:8] .= [1, 0]\n",
    "        # Gender\n",
    "        elseif lowercase(k) == \"male\"\n",
    "            result[13:14] .= [1, 0]\n",
    "        elseif lowercase(k) == \"female\"\n",
    "            result[13:14] .= [0, 1]\n",
    "        # Region\n",
    "        elseif lowercase(k) == \"southeast\"\n",
    "            result[9:12] .= [0, 0, 1, 0]\n",
    "        elseif lowercase(k) == \"southwest\"\n",
    "            result[9:12] .= [0, 1, 0, 0]\n",
    "        # Child\n",
    "        elseif lowercase(k) == \"1-child\"\n",
    "            result[1:6] .= [0,1,0,0,0,0]\n",
    "        end\n",
    "    end\n",
    "    result\n",
    "end;\n",
    "\n",
    "function make_observations(obs)\n",
    "    count = size(obs)[1]\n",
    "    result = missings(Bool, count, FEATURES)\n",
    "    for i=1:count\n",
    "        result[i, :] .= make_one_observation(obs[i])\n",
    "    end\n",
    "    DataFrame(result)\n",
    "end;\n",
    "\n",
    "function flip_coin(d::DataFrame)\n",
    "    m = missings(Bool, num_examples(data), num_features(data))\n",
    "    flag = rand(num_examples(data), num_features(data)) .<= keep_prob\n",
    "    m[flag] .= missing\n",
    "    DataFrame(m)\n",
    "end"
   ]
  },
  {
   "cell_type": "markdown",
   "metadata": {},
   "source": [
    "load data"
   ]
  },
  {
   "cell_type": "code",
   "execution_count": 94,
   "metadata": {},
   "outputs": [
    {
     "name": "stdout",
     "output_type": "stream",
     "text": [
      "\"Insurance\" training set has 36 variables and 935 samples.\n"
     ]
    }
   ],
   "source": [
    "using CSV\n",
    "train_x = DataFrame(BitArray(Matrix(CSV.read(\"insurance/insurance_train_x.csv\"))))\n",
    "println(\"\\\"Insurance\\\" training set has $(num_features(train_x)) variables and $(num_examples(train_x)) samples.\")\n",
    "train_y = CSV.read(\"insurance/insurance_train_y.csv\");"
   ]
  },
  {
   "cell_type": "markdown",
   "metadata": {},
   "source": [
    "Here for the purpose of this demo, we load a pretrained probabilistic circuit:"
   ]
  },
  {
   "cell_type": "code",
   "execution_count": 95,
   "metadata": {},
   "outputs": [
    {
     "name": "stdout",
     "output_type": "stream",
     "text": [
      "Probablistic Circuit with 27493 nodes.\n"
     ]
    }
   ],
   "source": [
    "pc = load_prob_circuit(zoo_psdd_file(\"insurance.psdd\"))\n",
    "println(\"Probablistic Circuit with $(num_nodes(pc)) nodes.\")"
   ]
  },
  {
   "cell_type": "markdown",
   "metadata": {},
   "source": [
    "### Queries\n",
    "#### EVI: Complete Evidence Query\n",
    "\n",
    "All features are observed, we want to compute the probability: $$ P(x) $$"
   ]
  },
  {
   "cell_type": "code",
   "execution_count": 96,
   "metadata": {
    "tags": []
   },
   "outputs": [
    {
     "data": {
      "text/plain": [
       "-9.71171374929969"
      ]
     },
     "execution_count": 96,
     "metadata": {},
     "output_type": "execute_result"
    }
   ],
   "source": [
    "log_likelihood_avg(pc, train_x)"
   ]
  },
  {
   "cell_type": "markdown",
   "metadata": {},
   "source": [
    "#### MAR: Marginal Query (partial evidence)\n",
    "\n",
    "Now, what happens if we only observe a subset of the features $X^o$? We want to compute:\n",
    "\n",
    "$$ P(X^o) = \\sum_{x^m} P(X^o X^m) $$\n",
    "\n",
    "**Problem:** Computing above query is usually not tractable as it involves summing over exponential (infinite) possible worlds.\n",
    "\n",
    "**Good News:** In probabilistic circuits, if the circuit is **smooth** and **decomposable**, we can do this tractably. No need to enumerate all possible worlds."
   ]
  },
  {
   "cell_type": "code",
   "execution_count": 97,
   "metadata": {
    "scrolled": true,
    "tags": []
   },
   "outputs": [
    {
     "name": "stdout",
     "output_type": "stream",
     "text": [
      "Probability of being smoker? 0.18403563\n",
      "Probability of being female smoker? 0.096237846\n",
      "Probability of being male smoker with one child living in the southeast? 0.0009639263\n"
     ]
    }
   ],
   "source": [
    "marg_data = make_observations([[\"smoker\"], \n",
    "                       [\"female\"], \n",
    "                       [\"female\", \"smoker\"], \n",
    "                       [\"southeast\", \"male\", \"1-child\", \"smoker\"]],\n",
    "                    )\n",
    "prob = exp.(marginal(pc, marg_data))\n",
    "println(\"Probability of being smoker? \", prob[1])\n",
    "println(\"Probability of being female smoker? \", prob[3])\n",
    "println(\"Probability of being male smoker with one child living in the southeast? \", prob[4])"
   ]
  },
  {
   "cell_type": "markdown",
   "metadata": {},
   "source": [
    "#### CON: Conditional Queries\n",
    "\n",
    "Given some observations $X^o$, we want to compute probabilities conditioned on the observations:\n",
    "\n",
    "$$ P(Q \\mid X^o) $$\n",
    "\n",
    "if we can do marginals tractably, we can also do conditionals tractably:\n",
    "\n",
    "$$ P(Q \\mid X^o) = \\cfrac{P(Q, X^o)}{P(X^o)} $$"
   ]
  },
  {
   "cell_type": "code",
   "execution_count": 98,
   "metadata": {},
   "outputs": [
    {
     "name": "stdout",
     "output_type": "stream",
     "text": [
      " P('smoker' | 'female') = 0.20398754\n"
     ]
    }
   ],
   "source": [
    "println(\" P('smoker' | 'female') = $(prob[3]/prob[2])\")"
   ]
  },
  {
   "cell_type": "markdown",
   "metadata": {},
   "source": [
    "#### MPE: Most Probable Explanation\n",
    "aka Maximum A Posteriori (MAP)\n",
    "\n",
    "Given some observations $X^o$, we want to compute the event which is most likely to heppen\n",
    "\n",
    "$$ argmax_{q}P(q \\mid X^o) $$\n",
    "\n",
    "In probabilistic circuits, if the circuit is **deterministic** and **decomposable**, we can do this tractably."
   ]
  },
  {
   "cell_type": "code",
   "execution_count": 99,
   "metadata": {},
   "outputs": [],
   "source": [
    "# TODO"
   ]
  },
  {
   "cell_type": "markdown",
   "metadata": {},
   "source": [
    "#### Advanced queries: expected predictions\n",
    "What about reasoning about predictive models such as regression models:\n",
    "\n",
    "\n",
    "We are interested in computing **expected predictions**\n",
    "\n",
    "- Appears all the time in machine learning, such as handling missing data\n",
    "- We can do this tractably!\n",
    "\n",
    "\n",
    "$$ \\Large \\mathbb{E}_{\\mathbf{x}^m\\ \\sim\\ p(\\mathbf{x}^m\\ \\mid\\ \\mathbf{x}^o )}\\left[\\ f( \\mathbf{x}^o \\mathbf{x}^m) \\ \\right] $$\n",
    "\n",
    "- In above equation $ \\mathbf{x}^m $ = missing features, and $ \\mathbf{x}^o $ = observed features.\n",
    "\n",
    "- We have two separate models $p$ and $f$.\n",
    "\n",
    "- Expected Prediction useful for:\n",
    "  - Handling missing values at test time\n",
    "  - Reasoning about behaviour of predictive models"
   ]
  },
  {
   "cell_type": "code",
   "execution_count": 100,
   "metadata": {},
   "outputs": [
    {
     "name": "stdout",
     "output_type": "stream",
     "text": [
      "Regression Circuit with 1076 nodes.\n"
     ]
    }
   ],
   "source": [
    "rc = load_logistic_circuit(zoo_lc_file(\"insurance.circuit\"), 1)\n",
    "println(\"Regression Circuit with $(num_nodes(rc)) nodes.\")"
   ]
  },
  {
   "cell_type": "markdown",
   "metadata": {},
   "source": [
    "##### Sample Queries\n",
    "1. How different are the insurance costs between smokers and non smokers?"
   ]
  },
  {
   "cell_type": "code",
   "execution_count": 101,
   "metadata": {},
   "outputs": [
    {
     "name": "stdout",
     "output_type": "stream",
     "text": [
      "Smoker    : $ 31355.332794478192\n",
      "Non-Smoker: $ 8741.747204995649\n",
      "Difference: $ 22613.585589482544\n"
     ]
    }
   ],
   "source": [
    "data = make_observations([[\"!smoker\"], \n",
    "                 [\"smoker\"]])\n",
    "exps, exp_cache = Expectation(pc, rc, data)\n",
    "println(\"Smoker    : \\$ $(exps[2])\");\n",
    "println(\"Non-Smoker: \\$ $(exps[1])\");\n",
    "println(\"Difference: \\$ $(exps[2] - exps[1])\");"
   ]
  },
  {
   "cell_type": "markdown",
   "metadata": {},
   "source": [
    "2. Is the predictive model biased by gender?"
   ]
  },
  {
   "cell_type": "code",
   "execution_count": 102,
   "metadata": {},
   "outputs": [
    {
     "name": "stdout",
     "output_type": "stream",
     "text": [
      "Female  : $ 14170.128975800484\n",
      "Male    : $ 13196.549488456776\n",
      "Diff    : $ 973.579487343708\n"
     ]
    }
   ],
   "source": [
    "data = make_observations([[\"male\"],\n",
    "                 [\"female\"]])\n",
    "exps, exp_cache = Expectation(pc, rc, data);\n",
    "println(\"Female  : \\$ $(exps[2])\");\n",
    "println(\"Male    : \\$ $(exps[1])\");\n",
    "println(\"Diff    : \\$ $(exps[2] - exps[1])\");"
   ]
  },
  {
   "cell_type": "markdown",
   "metadata": {},
   "source": [
    "3. Expecation and standard devation of few subpopulations"
   ]
  },
  {
   "cell_type": "code",
   "execution_count": 103,
   "metadata": {},
   "outputs": [
    {
     "name": "stdout",
     "output_type": "stream",
     "text": [
      "mu: 30975.0, std = 11229.0\n"
     ]
    }
   ],
   "source": [
    "data = make_observations( [[\"southeast\", \"male\", \"1-child\", \"smoker\"], \n",
    "                 [\"southwest\", \"male\", \"1-child\", \"smoker\"]])\n",
    "exps, exp_cache = Expectation(pc, rc, data);\n",
    "# Computes the second moment\n",
    "mom2, mom_cache = Moment(pc, rc, data, 2);\n",
    "# Computing Standard Deviation\n",
    "stds = sqrt.( mom2 - exps.^2 );\n",
    "# Living in South East, Smoker, Male, One child\n",
    "println(\"mu: $(round(exps[1])), std = $(round(stds[1]))\")"
   ]
  },
  {
   "cell_type": "markdown",
   "metadata": {},
   "source": [
    "## Benchmarks\n",
    "#### Load circuit and data"
   ]
  },
  {
   "cell_type": "code",
   "execution_count": 113,
   "metadata": {},
   "outputs": [
    {
     "name": "stdout",
     "output_type": "stream",
     "text": [
      "Load a circuit with 153021 nodes and 91380 parameters.\n",
      "Load a data with 69 features and 17412 examples.\n"
     ]
    }
   ],
   "source": [
    "using BenchmarkTools\n",
    "pc = zoo_psdd(\"plants.psdd\")\n",
    "println(\"Load a circuit with $(num_nodes(pc)) nodes and $(num_parameters(pc)) parameters.\")\n",
    "data, _, _ = twenty_datasets(\"plants\")\n",
    "println(\"Load a data with $(num_features(data)) features and $(num_examples(data)) examples.\")"
   ]
  },
  {
   "cell_type": "markdown",
   "metadata": {},
   "source": [
    "#### If the data satisty logical constrains ?"
   ]
  },
  {
   "cell_type": "code",
   "execution_count": 109,
   "metadata": {},
   "outputs": [
    {
     "name": "stdout",
     "output_type": "stream",
     "text": [
      "  242.001 ms (926339 allocations: 189.61 MiB)\n"
     ]
    }
   ],
   "source": [
    "@btime satisfies(pc, data);"
   ]
  },
  {
   "cell_type": "markdown",
   "metadata": {},
   "source": [
    "##### Gpu computation"
   ]
  },
  {
   "cell_type": "code",
   "execution_count": 115,
   "metadata": {},
   "outputs": [
    {
     "name": "stdout",
     "output_type": "stream",
     "text": [
      "  102.614 ms (930755 allocations: 57.47 MiB)\n"
     ]
    }
   ],
   "source": [
    "gpu_data = to_gpu(data)\n",
    "@btime satisfies(pc, gpu_data);"
   ]
  },
  {
   "cell_type": "markdown",
   "metadata": {},
   "source": [
    "#### EVI queries"
   ]
  },
  {
   "cell_type": "code",
   "execution_count": 116,
   "metadata": {},
   "outputs": [
    {
     "name": "stdout",
     "output_type": "stream",
     "text": [
      "  529.217 ms (926493 allocations: 328.13 MiB)\n"
     ]
    }
   ],
   "source": [
    "@btime EVI(pc, data);"
   ]
  },
  {
   "cell_type": "markdown",
   "metadata": {},
   "source": [
    "##### Gpu computation"
   ]
  },
  {
   "cell_type": "code",
   "execution_count": 117,
   "metadata": {},
   "outputs": [
    {
     "name": "stdout",
     "output_type": "stream",
     "text": [
      "  95.877 ms (933369 allocations: 63.70 MiB)\n"
     ]
    }
   ],
   "source": [
    "@btime EVI(pc, gpu_data);"
   ]
  },
  {
   "cell_type": "markdown",
   "metadata": {},
   "source": [
    "#### MAR queries"
   ]
  },
  {
   "cell_type": "code",
   "execution_count": null,
   "metadata": {},
   "outputs": [],
   "source": [
    "@btime MAR(pc, data)"
   ]
  }
 ],
 "metadata": {
  "@webio": {
   "lastCommId": null,
   "lastKernelId": null
  },
  "kernelspec": {
   "display_name": "Julia 1.5.0",
   "language": "julia",
   "name": "julia-1.5"
  },
  "language_info": {
   "file_extension": ".jl",
   "mimetype": "application/julia",
   "name": "julia",
   "version": "1.5.0"
  }
 },
 "nbformat": 4,
 "nbformat_minor": 2
}
