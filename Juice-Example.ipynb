{
 "cells": [
  {
   "cell_type": "markdown",
   "metadata": {},
   "source": [
    "# Juice Examples\n",
    "In this notebook, we will demonstrate `Juice` a Julia library that offers efficient routines to compile, learn and perform inference on `Logic Circuits` and `Probabilistic Circuits`. The demo includes:\n",
    "\n",
    "   - Creating Circuits\n",
    "   - Checking Structural Properties\n",
    "   - Circuit Transformations\n",
    "   - Tractable Queries\n",
    "   - Parameter Learning and Structure Learning\n",
    "   - Benchmarks and GPU accelerated computing  "
   ]
  },
  {
   "cell_type": "markdown",
   "metadata": {},
   "source": [
    "### Setup\n",
    "Uncomment `] instantiate`  to instantiate your environment if its not instantiated already\n",
    "\n",
    "Can also use `] status` to see what packages are installed and their version."
   ]
  },
  {
   "cell_type": "code",
   "execution_count": 1,
   "metadata": {},
   "outputs": [],
   "source": [
    "# ] instantiate"
   ]
  },
  {
   "cell_type": "code",
   "execution_count": 2,
   "metadata": {},
   "outputs": [
    {
     "name": "stdout",
     "output_type": "stream",
     "text": [
      "\u001b[32m\u001b[1m      Status\u001b[22m\u001b[39m `/scratch/pashak/.julia/dev/JuiceExamples/Project.toml`\n",
      " \u001b[90m [6e4b80f9] \u001b[39mBenchmarkTools v1.2.2\n",
      " \u001b[90m [336ed68f] \u001b[39mCSV v0.9.11\n",
      " \u001b[90m [052768ef] \u001b[39mCUDA v3.8.0\n",
      " \u001b[90m [a93c6f00] \u001b[39mDataFrames v1.3.2\n",
      " \u001b[90m [a7647aa2] \u001b[39mDiscriminativeCircuits v0.2.0 `~/.julia/dev/DiscriminativeCircuits`\n",
      " \u001b[90m [a7847b3b] \u001b[39mLogicCircuits v0.3.2 `https://github.com/Juice-jl/LogicCircuits.jl.git#master`\n",
      " \u001b[90m [2396afbe] \u001b[39mProbabilisticCircuits v0.3.2 `https://github.com/Juice-jl/ProbabilisticCircuits.jl.git#master`\n",
      " \u001b[90m [b4f28e30] \u001b[39mTikzGraphs v1.3.0\n",
      " \u001b[90m [37f6aa50] \u001b[39mTikzPictures v3.4.2\n",
      " \u001b[90m [10745b16] \u001b[39mStatistics\n"
     ]
    }
   ],
   "source": [
    "] status"
   ]
  },
  {
   "cell_type": "code",
   "execution_count": 3,
   "metadata": {
    "tags": []
   },
   "outputs": [
    {
     "name": "stderr",
     "output_type": "stream",
     "text": [
      "┌ Info: Precompiling DiscriminativeCircuits [a7647aa2-9cec-401b-a794-defb9118933d]\n",
      "└ @ Base loading.jl:1423\n"
     ]
    }
   ],
   "source": [
    "using LogicCircuits\n",
    "using ProbabilisticCircuits\n",
    "using DataFrames\n",
    "using BenchmarkTools\n",
    "using DiscriminativeCircuits"
   ]
  },
  {
   "cell_type": "code",
   "execution_count": 4,
   "metadata": {},
   "outputs": [],
   "source": [
    "# Workaround for tikz plots in the notebook!\n",
    "#    Also note that for plots to work succesfully, you need to have LaTeX installed. \n",
    "#    Check TikzGraphs.jl, TikzPictures.jl documentation for more details!\n",
    "\n",
    "#    For example, on Ubuntu can do the installation as follows:\n",
    "#      - sudo apt-get -qq update\n",
    "#      - sudo apt install -y pdf2svg texlive-latex-base texlive-binaries texlive-pictures texlive-latex-extra texlive-luatex \n",
    "\n",
    "using TikzPictures\n",
    "TikzPictures.standaloneWorkaround(true)"
   ]
  },
  {
   "cell_type": "code",
   "execution_count": 5,
   "metadata": {},
   "outputs": [
    {
     "data": {
      "text/plain": [
       "true"
      ]
     },
     "execution_count": 5,
     "metadata": {},
     "output_type": "execute_result"
    }
   ],
   "source": [
    "# This should print true, otherwise your cuda setup is not working with julia\n",
    "#    in that case follow instructions here: https://juliagpu.github.io/CUDA.jl/dev/installation/overview/\n",
    "using CUDA\n",
    "CUDA.functional()"
   ]
  },
  {
   "cell_type": "code",
   "execution_count": 6,
   "metadata": {},
   "outputs": [],
   "source": [
    "# By default the first gpu (device 0) is used. To use another gpu, for example the second gpu, uncomment this code\n",
    "#CUDA.device!(1)"
   ]
  },
  {
   "cell_type": "markdown",
   "metadata": {},
   "source": [
    "## Create a Circuit\n",
    "1. We can handcraft a Probabilistic Circuit by using `+` and `*` operators easily."
   ]
  },
  {
   "cell_type": "code",
   "execution_count": 7,
   "metadata": {},
   "outputs": [
    {
     "data": {
      "text/plain": [
       "TikzPicture(\"\\\\graph [layered layout, ] {\\n1/\\\"+\\\" [],\\n2/\\\"*\\\" [],\\n3/\\\"*\\\" [],\\n4/\\\"-1\\\" [],\\n5/\\\"+\\\" [],\\n6/\\\"-2\\\" [],\\n7/\\\"3\\\" [],\\n8/\\\"1\\\" [],\\n9/\\\"+\\\" [],\\n10/\\\"2\\\" [],\\n11/\\\"-3\\\" [],\\n;\\n1 -> [font=\\\\tiny,edge label={0.3},] 2;\\n1 -> [font=\\\\tiny,edge label={0.7},] 3;\\n2 -> [font=\\\\tiny,] 8;\\n2 -> [font=\\\\tiny,] 9;\\n3 -> [font=\\\\tiny,] 4;\\n3 -> [font=\\\\tiny,] 5;\\n5 -> [font=\\\\tiny,edge label={0.4},] 6;\\n5 -> [font=\\\\tiny,edge label={0.6},] 7;\\n9 -> [font=\\\\tiny,edge label={0.2},] 10;\\n9 -> [font=\\\\tiny,edge label={0.8},] 11;\\n};\\n\", \"\", \"\\\\usepackage{fontspec}\\n\\\\setmainfont{Latin Modern Math}\\n\\\\usetikzlibrary{arrows}\\n\\\\usetikzlibrary{graphs}\\n\\\\usetikzlibrary{graphdrawing}\\n\\n% from: https://tex.stackexchange.com/questions/453132/fresh-install-of-tl2018-no-tikz-graph-drawing-libraries-found\\n\\\\usepackage{luacode}\\n\\\\begin{luacode*}\\n\\tfunction pgf_lookup_and_require(name)\\n\\tlocal sep = package.config:sub(1,1)\\n\\tlocal function lookup(name)\\n\\tlocal sub = name:gsub('%.',sep)  \\n\\tif kpse.find_file(sub, 'lua') then\\n\\trequire(name)\\n\\telseif kpse.find_file(sub, 'clua') then\\n\\tcollectgarbage('stop') \\n\\trequire(name)\\n\\tcollectgarbage('restart')\\n\\telse\\n\\treturn false\\n\\tend\\n\\treturn true\\n\\tend\\n\\treturn\\n\\tlookup('pgf.gd.' .. name .. '.library') or\\n\\tlookup('pgf.gd.' .. name) or\\n\\tlookup(name .. '.library') or\\n\\tlookup(name) \\n\\tend\\n\\\\end{luacode*}\\n\\n\\\\usegdlibrary{layered}\", \"tikzpicture\", \"\", \"\", true, true)"
      ]
     },
     "execution_count": 7,
     "metadata": {},
     "output_type": "execute_result"
    }
   ],
   "source": [
    "X1, X2, X3 = literals(ProbCircuit, 3)\n",
    "pc = 0.3 * (X1[1] * \n",
    "             (0.2X2[1] + 0.8X3[2])) + \n",
    "     0.7 * (X1[2] *\n",
    "             (0.4X2[2] + 0.6X3[1]))\n",
    "plot(pc)"
   ]
  },
  {
   "cell_type": "markdown",
   "metadata": {},
   "source": [
    "2. Some circuit statistics"
   ]
  },
  {
   "cell_type": "code",
   "execution_count": 8,
   "metadata": {},
   "outputs": [
    {
     "name": "stdout",
     "output_type": "stream",
     "text": [
      "Logical formula of this circuit: ((1 ⋀ (2 ⋁ -3)) ⋁ (-1 ⋀ (-2 ⋁ 3)))\n",
      "Some circuit statistics: \n",
      "# variables : 3\n",
      "# nodes : 11\n",
      "# edges : 10\n",
      "# parameters : 6\n"
     ]
    }
   ],
   "source": [
    "println(\"Logical formula of this circuit: \", tree_formula_string(pc))\n",
    "println(\"Some circuit statistics: \")\n",
    "println(\"# variables : \", num_variables(pc))\n",
    "println(\"# nodes : \", num_nodes(pc))\n",
    "println(\"# edges : \", num_edges(pc))\n",
    "println(\"# parameters : \", num_parameters(pc))"
   ]
  },
  {
   "cell_type": "markdown",
   "metadata": {},
   "source": [
    "## Structure properties\n",
    "- Circuits satisfying certain structure properties can answer different queries in tractable time. Like smoothness , determinism, decomposability for and structure decomposability, You can ask if the given circuit satisfies such constrains by `isproperty`, for example `issmooth(pc)`\n",
    "1. Is the circuit **smooth**?\n",
    "- A sum node is smooth if its children depend of the same variable sets"
   ]
  },
  {
   "cell_type": "code",
   "execution_count": 9,
   "metadata": {},
   "outputs": [
    {
     "name": "stdout",
     "output_type": "stream",
     "text": [
      "Is (1 ⋁ -1) smooth : true\n",
      "Is (1 ⋁ -2) smooth : false\n"
     ]
    }
   ],
   "source": [
    "c1 = 0.4 * X1[1] + 0.6 * X1[2]\n",
    "c2 = 0.4 * X1[1] + 0.6 * X2[2]\n",
    "println(\"Is \", tree_formula_string(c1), \" smooth : \", issmooth(c1))\n",
    "println(\"Is \", tree_formula_string(c2), \" smooth : \", issmooth(c2))"
   ]
  },
  {
   "cell_type": "code",
   "execution_count": 10,
   "metadata": {},
   "outputs": [
    {
     "data": {
      "text/plain": [
       "false"
      ]
     },
     "execution_count": 10,
     "metadata": {},
     "output_type": "execute_result"
    }
   ],
   "source": [
    "issmooth(pc)"
   ]
  },
  {
   "cell_type": "markdown",
   "metadata": {},
   "source": [
    "2. Is the circuit **deterministic**?\n",
    "- A sum node is deterministic if the output of only one children is non zero for any input"
   ]
  },
  {
   "cell_type": "code",
   "execution_count": 11,
   "metadata": {},
   "outputs": [
    {
     "name": "stdout",
     "output_type": "stream",
     "text": [
      "Is ((1 ⋀ 2) ⋁ (1 ⋀ -2)) deterministic : true\n",
      "Is ((1 ⋀ 2) ⋁ (1 ⋀ 2)) deterministic : false\n"
     ]
    }
   ],
   "source": [
    "c1 = X1[1] * X2[1] + X1[1] * X2[2]\n",
    "c2 = X1[1] * X2[1] + X1[1] * X2[1]\n",
    "println(\"Is \", tree_formula_string(c1), \" deterministic : \", isdeterministic(c1))\n",
    "println(\"Is \", tree_formula_string(c2), \" deterministic : \", isdeterministic(c2))"
   ]
  },
  {
   "cell_type": "markdown",
   "metadata": {},
   "source": [
    "3. Is the circuit **decomposable**?\n",
    "- A product node is decomposable if its children depend on disjoint sets of variables"
   ]
  },
  {
   "cell_type": "code",
   "execution_count": 12,
   "metadata": {},
   "outputs": [
    {
     "data": {
      "text/plain": [
       "true"
      ]
     },
     "execution_count": 12,
     "metadata": {},
     "output_type": "execute_result"
    }
   ],
   "source": [
    "isdecomposable(pc)"
   ]
  },
  {
   "cell_type": "code",
   "execution_count": 13,
   "metadata": {},
   "outputs": [
    {
     "name": "stdout",
     "output_type": "stream",
     "text": [
      "Is (1 ⋀ 2 ⋀ 3) decomposable : true\n",
      "Is (1 ⋀ 1 ⋀ 3) decomposable : false\n"
     ]
    }
   ],
   "source": [
    "c1 = X1[1] * X2[1] * X3[1]\n",
    "c2 = X1[1] * X1[1] * X3[1]\n",
    "println(\"Is \", tree_formula_string(c1), \" decomposable : \", isdecomposable(c1))\n",
    "println(\"Is \", tree_formula_string(c2), \" decomposable : \", isdecomposable(c2))"
   ]
  },
  {
   "cell_type": "markdown",
   "metadata": {},
   "source": [
    "4. Is the circuit **structured-decomposable**?\n",
    "- A product node is structured decomposable if decomposes according to a node in a vtree"
   ]
  },
  {
   "cell_type": "code",
   "execution_count": 14,
   "metadata": {},
   "outputs": [
    {
     "name": "stdout",
     "output_type": "stream",
     "text": [
      "Is ((1 ⋀ 2) ⋁ (-1 ⋀ -3)) decomposable : true\n",
      "Is ((1 ⋀ 2) ⋁ (-1 ⋀ -3)) structured decomposable : false\n",
      "Is ((1 ⋀ 2) ⋁ (-1 ⋀ -2)) structured decomposable : true\n"
     ]
    }
   ],
   "source": [
    "c1 = 0.3 * (X1[1] * X2[1]) + \n",
    "     0.7 * (X1[2] * X3[2])\n",
    "c2 = 0.3 * (X1[1] * X2[1]) + \n",
    "     0.7 * (X1[2] * X2[2])\n",
    "println(\"Is \", tree_formula_string(c1), \" decomposable : \", isdecomposable(c1))\n",
    "\n",
    "println(\"Is \", tree_formula_string(c1), \" structured decomposable : \", isstruct_decomposable(smooth(c1)))\n",
    "println(\"Is \", tree_formula_string(c2), \" structured decomposable : \", isstruct_decomposable(smooth(c2)))\n",
    "#plot(Vtree(2, :balanced))"
   ]
  },
  {
   "cell_type": "markdown",
   "metadata": {},
   "source": [
    "## Circuit Transformations\n",
    "- Juice provides a range of circuit transformations both for logic circuits and probabilistic circuits. They are primitives operations for structure learning which we will demonstrate later."
   ]
  },
  {
   "cell_type": "markdown",
   "metadata": {},
   "source": [
    "1. **Smooth** a circuit"
   ]
  },
  {
   "cell_type": "code",
   "execution_count": 15,
   "metadata": {},
   "outputs": [
    {
     "name": "stdout",
     "output_type": "stream",
     "text": [
      "(1 ⋁ -2) is smooth? false\n",
      "((1 ⋀ (2 ⋁ -2)) ⋁ (-2 ⋀ (1 ⋁ -1))) is smooth? true\n"
     ]
    }
   ],
   "source": [
    "c1 = 0.4 * X1[1] + 0.6 * X2[2]\n",
    "c2 = smooth(c1)\n",
    "println(tree_formula_string(c1), \" is smooth? \", issmooth(c1))\n",
    "println(tree_formula_string(c2), \" is smooth? \", issmooth(c2))"
   ]
  },
  {
   "cell_type": "markdown",
   "metadata": {},
   "source": [
    "2. **Forget**\n",
    "\n",
    "- Given a logical formula $\\Delta$ and a variable $X$, forgetting the variable is equivalent to: $ \\exists X \\Delta $\n",
    "- PS. it only applies to the Logical Circuits"
   ]
  },
  {
   "cell_type": "code",
   "execution_count": 16,
   "metadata": {
    "tags": []
   },
   "outputs": [
    {
     "name": "stdout",
     "output_type": "stream",
     "text": [
      "(1 ⋀ -2)\n",
      "(true ⋀ -2)\n"
     ]
    }
   ],
   "source": [
    "lv1, lv2 = literals(LogicCircuit, 2)\n",
    "c1 = lv1[1] & lv2[2]\n",
    "c2 = forget(c1, x -> x == 1)\n",
    "println(tree_formula_string(c1))\n",
    "println(tree_formula_string(c2))"
   ]
  },
  {
   "cell_type": "markdown",
   "metadata": {},
   "source": [
    "3. **Propagate constants nodes**"
   ]
  },
  {
   "cell_type": "code",
   "execution_count": 17,
   "metadata": {
    "tags": []
   },
   "outputs": [
    {
     "name": "stdout",
     "output_type": "stream",
     "text": [
      "(true ⋀ -2)\n",
      "(-2)\n"
     ]
    }
   ],
   "source": [
    "c3 = propagate_constants(c2)\n",
    "println(tree_formula_string(c2))\n",
    "println(tree_formula_string(c3))"
   ]
  },
  {
   "cell_type": "markdown",
   "metadata": {},
   "source": [
    "4. **Conjoin**\n",
    "- Given a logical formula $\\Delta$ and a variable and its assignment $x$, conditioning on the literal is equivalent to: $ \\Delta \\cap x$"
   ]
  },
  {
   "cell_type": "code",
   "execution_count": 18,
   "metadata": {
    "tags": []
   },
   "outputs": [
    {
     "name": "stdout",
     "output_type": "stream",
     "text": [
      "((1 ⋁ -1) ⋀ (2 ⋁ -2))\n",
      "(1 ⋀ (2 ⋁ -2))\n"
     ]
    }
   ],
   "source": [
    "c1 = (X1[1] + X1[2]) * (X2[1] + X2[2])\n",
    "println(tree_formula_string(c1))\n",
    "c2 = conjoin(c1, Lit(1))\n",
    "println(tree_formula_string(c2))"
   ]
  },
  {
   "cell_type": "markdown",
   "metadata": {},
   "source": [
    "5. **Split**\n",
    "- Given a logical formula $\\Delta$ and a variable and a variable $X$, split on the variable is equivalent to: $ (\\Delta \\cap X=1) \\cup (\\Delta \\cap X=0)$"
   ]
  },
  {
   "cell_type": "code",
   "execution_count": 19,
   "metadata": {
    "tags": []
   },
   "outputs": [
    {
     "data": {
      "text/plain": [
       "TikzPicture(\"\\\\graph [layered layout, ] {\\n1/\\\"+\\\" [],\\n2/\\\"*\\\" [],\\n3/\\\"+\\\" [],\\n4/\\\"+\\\" [],\\n5/\\\"2\\\" [],\\n6/\\\"-2\\\" [],\\n7/\\\"1\\\" [],\\n8/\\\"-1\\\" [],\\n;\\n1 -> [font=\\\\tiny,edge label={1.0},] 2;\\n2 -> [font=\\\\tiny,] 3;\\n2 -> [font=\\\\tiny,] 4;\\n3 -> [font=\\\\tiny,edge label={0.3},] 7;\\n3 -> [font=\\\\tiny,edge label={0.7},] 8;\\n4 -> [font=\\\\tiny,edge label={0.4},] 5;\\n4 -> [font=\\\\tiny,edge label={0.6},] 6;\\n};\\n\", \"\", \"\\\\usepackage{fontspec}\\n\\\\setmainfont{Latin Modern Math}\\n\\\\usetikzlibrary{arrows}\\n\\\\usetikzlibrary{graphs}\\n\\\\usetikzlibrary{graphdrawing}\\n\\n% from: https://tex.stackexchange.com/questions/453132/fresh-install-of-tl2018-no-tikz-graph-drawing-libraries-found\\n\\\\usepackage{luacode}\\n\\\\begin{luacode*}\\n\\tfunction pgf_lookup_and_require(name)\\n\\tlocal sep = package.config:sub(1,1)\\n\\tlocal function lookup(name)\\n\\tlocal sub = name:gsub('%.',sep)  \\n\\tif kpse.find_file(sub, 'lua') then\\n\\trequire(name)\\n\\telseif kpse.find_file(sub, 'clua') then\\n\\tcollectgarbage('stop') \\n\\trequire(name)\\n\\tcollectgarbage('restart')\\n\\telse\\n\\treturn false\\n\\tend\\n\\treturn true\\n\\tend\\n\\treturn\\n\\tlookup('pgf.gd.' .. name .. '.library') or\\n\\tlookup('pgf.gd.' .. name) or\\n\\tlookup(name .. '.library') or\\n\\tlookup(name) \\n\\tend\\n\\\\end{luacode*}\\n\\n\\\\usegdlibrary{layered}\", \"tikzpicture\", \"\", \"\", true, true)"
      ]
     },
     "execution_count": 19,
     "metadata": {},
     "output_type": "execute_result"
    }
   ],
   "source": [
    "c1 = (+)((.3X1[1] + .7X1[2]) * (.4X2[1] + .6X2[2]))\n",
    "plot(c1)"
   ]
  },
  {
   "cell_type": "code",
   "execution_count": 20,
   "metadata": {},
   "outputs": [
    {
     "data": {
      "text/plain": [
       "TikzPicture(\"\\\\graph [layered layout, ] {\\n1/\\\"+\\\" [],\\n2/\\\"*\\\" [],\\n3/\\\"*\\\" [],\\n4/\\\"+\\\" [],\\n5/\\\"-2\\\" [],\\n6/\\\"1\\\" [],\\n7/\\\"-1\\\" [],\\n8/\\\"+\\\" [],\\n9/\\\"2\\\" [],\\n;\\n1 -> [font=\\\\tiny,edge label={0.5},] 2;\\n1 -> [font=\\\\tiny,edge label={0.5},] 3;\\n2 -> [font=\\\\tiny,] 8;\\n2 -> [font=\\\\tiny,] 9;\\n3 -> [font=\\\\tiny,] 4;\\n3 -> [font=\\\\tiny,] 5;\\n4 -> [font=\\\\tiny,edge label={0.5},] 6;\\n4 -> [font=\\\\tiny,edge label={0.5},] 7;\\n8 -> [font=\\\\tiny,edge label={0.5},] 6;\\n8 -> [font=\\\\tiny,edge label={0.5},] 7;\\n};\\n\", \"\", \"\\\\usepackage{fontspec}\\n\\\\setmainfont{Latin Modern Math}\\n\\\\usetikzlibrary{arrows}\\n\\\\usetikzlibrary{graphs}\\n\\\\usetikzlibrary{graphdrawing}\\n\\n% from: https://tex.stackexchange.com/questions/453132/fresh-install-of-tl2018-no-tikz-graph-drawing-libraries-found\\n\\\\usepackage{luacode}\\n\\\\begin{luacode*}\\n\\tfunction pgf_lookup_and_require(name)\\n\\tlocal sep = package.config:sub(1,1)\\n\\tlocal function lookup(name)\\n\\tlocal sub = name:gsub('%.',sep)  \\n\\tif kpse.find_file(sub, 'lua') then\\n\\trequire(name)\\n\\telseif kpse.find_file(sub, 'clua') then\\n\\tcollectgarbage('stop') \\n\\trequire(name)\\n\\tcollectgarbage('restart')\\n\\telse\\n\\treturn false\\n\\tend\\n\\treturn true\\n\\tend\\n\\treturn\\n\\tlookup('pgf.gd.' .. name .. '.library') or\\n\\tlookup('pgf.gd.' .. name) or\\n\\tlookup(name .. '.library') or\\n\\tlookup(name) \\n\\tend\\n\\\\end{luacode*}\\n\\n\\\\usegdlibrary{layered}\", \"tikzpicture\", \"\", \"\", true, true)"
      ]
     },
     "execution_count": 20,
     "metadata": {},
     "output_type": "execute_result"
    }
   ],
   "source": [
    "c2, _ = split(c1, (c1, c1.children[1]), Var(2);depth=2)\n",
    "plot(c2)"
   ]
  },
  {
   "cell_type": "markdown",
   "metadata": {},
   "source": [
    "6. **Clone**"
   ]
  },
  {
   "cell_type": "code",
   "execution_count": 21,
   "metadata": {
    "tags": []
   },
   "outputs": [
    {
     "data": {
      "text/plain": [
       "TikzPicture(\"\\\\graph [layered layout, ] {\\n1/\\\"+\\\" [],\\n2/\\\"*\\\" [],\\n3/\\\"*\\\" [],\\n4/\\\"+\\\" [],\\n5/\\\"1\\\" [],\\n6/\\\"-1\\\" [],\\n;\\n1 -> [font=\\\\tiny,edge label={0.5},] 2;\\n1 -> [font=\\\\tiny,edge label={0.5},] 3;\\n2 -> [font=\\\\tiny,] 4;\\n3 -> [font=\\\\tiny,] 4;\\n4 -> [font=\\\\tiny,edge label={0.5},] 5;\\n4 -> [font=\\\\tiny,edge label={0.5},] 6;\\n};\\n\", \"\", \"\\\\usepackage{fontspec}\\n\\\\setmainfont{Latin Modern Math}\\n\\\\usetikzlibrary{arrows}\\n\\\\usetikzlibrary{graphs}\\n\\\\usetikzlibrary{graphdrawing}\\n\\n% from: https://tex.stackexchange.com/questions/453132/fresh-install-of-tl2018-no-tikz-graph-drawing-libraries-found\\n\\\\usepackage{luacode}\\n\\\\begin{luacode*}\\n\\tfunction pgf_lookup_and_require(name)\\n\\tlocal sep = package.config:sub(1,1)\\n\\tlocal function lookup(name)\\n\\tlocal sub = name:gsub('%.',sep)  \\n\\tif kpse.find_file(sub, 'lua') then\\n\\trequire(name)\\n\\telseif kpse.find_file(sub, 'clua') then\\n\\tcollectgarbage('stop') \\n\\trequire(name)\\n\\tcollectgarbage('restart')\\n\\telse\\n\\treturn false\\n\\tend\\n\\treturn true\\n\\tend\\n\\treturn\\n\\tlookup('pgf.gd.' .. name .. '.library') or\\n\\tlookup('pgf.gd.' .. name) or\\n\\tlookup(name .. '.library') or\\n\\tlookup(name) \\n\\tend\\n\\\\end{luacode*}\\n\\n\\\\usegdlibrary{layered}\", \"tikzpicture\", \"\", \"\", true, true)"
      ]
     },
     "execution_count": 21,
     "metadata": {},
     "output_type": "execute_result"
    }
   ],
   "source": [
    "or = X1[1] + X1[2]\n",
    "and1, and2 = (*)(or), (*)(or)\n",
    "c1 = and1 + and2\n",
    "c2 = clone(c1, and1, and2, or)\n",
    "plot(c1)"
   ]
  },
  {
   "cell_type": "code",
   "execution_count": 22,
   "metadata": {},
   "outputs": [
    {
     "data": {
      "text/plain": [
       "TikzPicture(\"\\\\graph [layered layout, ] {\\n1/\\\"+\\\" [],\\n2/\\\"*\\\" [],\\n3/\\\"*\\\" [],\\n4/\\\"+\\\" [],\\n5/\\\"1\\\" [],\\n6/\\\"-1\\\" [],\\n7/\\\"+\\\" [],\\n;\\n1 -> [font=\\\\tiny,edge label={0.5},] 2;\\n1 -> [font=\\\\tiny,edge label={0.5},] 3;\\n2 -> [font=\\\\tiny,] 7;\\n3 -> [font=\\\\tiny,] 4;\\n4 -> [font=\\\\tiny,edge label={0.5},] 5;\\n4 -> [font=\\\\tiny,edge label={0.5},] 6;\\n7 -> [font=\\\\tiny,edge label={0.5},] 5;\\n7 -> [font=\\\\tiny,edge label={0.5},] 6;\\n};\\n\", \"\", \"\\\\usepackage{fontspec}\\n\\\\setmainfont{Latin Modern Math}\\n\\\\usetikzlibrary{arrows}\\n\\\\usetikzlibrary{graphs}\\n\\\\usetikzlibrary{graphdrawing}\\n\\n% from: https://tex.stackexchange.com/questions/453132/fresh-install-of-tl2018-no-tikz-graph-drawing-libraries-found\\n\\\\usepackage{luacode}\\n\\\\begin{luacode*}\\n\\tfunction pgf_lookup_and_require(name)\\n\\tlocal sep = package.config:sub(1,1)\\n\\tlocal function lookup(name)\\n\\tlocal sub = name:gsub('%.',sep)  \\n\\tif kpse.find_file(sub, 'lua') then\\n\\trequire(name)\\n\\telseif kpse.find_file(sub, 'clua') then\\n\\tcollectgarbage('stop') \\n\\trequire(name)\\n\\tcollectgarbage('restart')\\n\\telse\\n\\treturn false\\n\\tend\\n\\treturn true\\n\\tend\\n\\treturn\\n\\tlookup('pgf.gd.' .. name .. '.library') or\\n\\tlookup('pgf.gd.' .. name) or\\n\\tlookup(name .. '.library') or\\n\\tlookup(name) \\n\\tend\\n\\\\end{luacode*}\\n\\n\\\\usegdlibrary{layered}\", \"tikzpicture\", \"\", \"\", true, true)"
      ]
     },
     "execution_count": 22,
     "metadata": {},
     "output_type": "execute_result"
    }
   ],
   "source": [
    "plot(c2)"
   ]
  },
  {
   "cell_type": "markdown",
   "metadata": {},
   "source": [
    "7. **Merge**"
   ]
  },
  {
   "cell_type": "code",
   "execution_count": 23,
   "metadata": {
    "tags": []
   },
   "outputs": [
    {
     "data": {
      "text/plain": [
       "TikzPicture(\"\\\\graph [layered layout, ] {\\n1/\\\"+\\\" [],\\n2/\\\"*\\\" [],\\n3/\\\"+\\\" [],\\n4/\\\"+\\\" [],\\n5/\\\"-1\\\" [],\\n6/\\\"2\\\" [],\\n7/\\\"1\\\" [],\\n8/\\\"*\\\" [],\\n;\\n1 -> [font=\\\\tiny,edge label={1.0},] 2;\\n2 -> [font=\\\\tiny,] 3;\\n2 -> [font=\\\\tiny,] 4;\\n3 -> [font=\\\\tiny,edge label={0.5},] 7;\\n3 -> [font=\\\\tiny,edge label={0.5},] 8;\\n4 -> [font=\\\\tiny,edge label={0.5},] 5;\\n4 -> [font=\\\\tiny,edge label={0.5},] 6;\\n8 -> [font=\\\\tiny,] 5;\\n8 -> [font=\\\\tiny,] 6;\\n};\\n\", \"\", \"\\\\usepackage{fontspec}\\n\\\\setmainfont{Latin Modern Math}\\n\\\\usetikzlibrary{arrows}\\n\\\\usetikzlibrary{graphs}\\n\\\\usetikzlibrary{graphdrawing}\\n\\n% from: https://tex.stackexchange.com/questions/453132/fresh-install-of-tl2018-no-tikz-graph-drawing-libraries-found\\n\\\\usepackage{luacode}\\n\\\\begin{luacode*}\\n\\tfunction pgf_lookup_and_require(name)\\n\\tlocal sep = package.config:sub(1,1)\\n\\tlocal function lookup(name)\\n\\tlocal sub = name:gsub('%.',sep)  \\n\\tif kpse.find_file(sub, 'lua') then\\n\\trequire(name)\\n\\telseif kpse.find_file(sub, 'clua') then\\n\\tcollectgarbage('stop') \\n\\trequire(name)\\n\\tcollectgarbage('restart')\\n\\telse\\n\\treturn false\\n\\tend\\n\\treturn true\\n\\tend\\n\\treturn\\n\\tlookup('pgf.gd.' .. name .. '.library') or\\n\\tlookup('pgf.gd.' .. name) or\\n\\tlookup(name .. '.library') or\\n\\tlookup(name) \\n\\tend\\n\\\\end{luacode*}\\n\\n\\\\usegdlibrary{layered}\", \"tikzpicture\", \"\", \"\", true, true)"
      ]
     },
     "execution_count": 23,
     "metadata": {},
     "output_type": "execute_result"
    }
   ],
   "source": [
    "or1 = X1[1] + (X1[2] & X2[1])\n",
    "or2 = X1[2] + X2[1]\n",
    "c1 = (+)(or1 * or2)\n",
    "c2 = merge(c1, or1, or2)\n",
    "plot(c1)"
   ]
  },
  {
   "cell_type": "code",
   "execution_count": 24,
   "metadata": {},
   "outputs": [
    {
     "data": {
      "text/plain": [
       "TikzPicture(\"\\\\graph [layered layout, ] {\\n1/\\\"+\\\" [],\\n2/\\\"*\\\" [],\\n3/\\\"+\\\" [],\\n4/\\\"-1\\\" [],\\n5/\\\"2\\\" [],\\n;\\n1 -> [font=\\\\tiny,edge label={1.0},] 2;\\n2 -> [font=\\\\tiny,] 3;\\n3 -> [font=\\\\tiny,edge label={0.5},] 4;\\n3 -> [font=\\\\tiny,edge label={0.5},] 5;\\n};\\n\", \"\", \"\\\\usepackage{fontspec}\\n\\\\setmainfont{Latin Modern Math}\\n\\\\usetikzlibrary{arrows}\\n\\\\usetikzlibrary{graphs}\\n\\\\usetikzlibrary{graphdrawing}\\n\\n% from: https://tex.stackexchange.com/questions/453132/fresh-install-of-tl2018-no-tikz-graph-drawing-libraries-found\\n\\\\usepackage{luacode}\\n\\\\begin{luacode*}\\n\\tfunction pgf_lookup_and_require(name)\\n\\tlocal sep = package.config:sub(1,1)\\n\\tlocal function lookup(name)\\n\\tlocal sub = name:gsub('%.',sep)  \\n\\tif kpse.find_file(sub, 'lua') then\\n\\trequire(name)\\n\\telseif kpse.find_file(sub, 'clua') then\\n\\tcollectgarbage('stop') \\n\\trequire(name)\\n\\tcollectgarbage('restart')\\n\\telse\\n\\treturn false\\n\\tend\\n\\treturn true\\n\\tend\\n\\treturn\\n\\tlookup('pgf.gd.' .. name .. '.library') or\\n\\tlookup('pgf.gd.' .. name) or\\n\\tlookup(name .. '.library') or\\n\\tlookup(name) \\n\\tend\\n\\\\end{luacode*}\\n\\n\\\\usegdlibrary{layered}\", \"tikzpicture\", \"\", \"\", true, true)"
      ]
     },
     "execution_count": 24,
     "metadata": {},
     "output_type": "execute_result"
    }
   ],
   "source": [
    "plot(c2)"
   ]
  },
  {
   "cell_type": "markdown",
   "metadata": {},
   "source": [
    "## Circuit Queries\n",
    "### Logical queries\n",
    "1. If the data satisfies circuit logical formula? "
   ]
  },
  {
   "cell_type": "code",
   "execution_count": 25,
   "metadata": {
    "tags": []
   },
   "outputs": [
    {
     "name": "stdout",
     "output_type": "stream",
     "text": [
      "((1 ⋀ (2 ⋁ -3)) ⋁ (-1 ⋀ (-2 ⋁ 3)))\n"
     ]
    },
    {
     "data": {
      "text/plain": [
       "2-element BitVector:\n",
       " 1\n",
       " 0"
      ]
     },
     "execution_count": 25,
     "metadata": {},
     "output_type": "execute_result"
    }
   ],
   "source": [
    "input = DataFrame(BitArray([1 1 0; 1 0 1]), :auto)\n",
    "println(tree_formula_string(pc))\n",
    "satisfies(pc, input)"
   ]
  },
  {
   "cell_type": "markdown",
   "metadata": {},
   "source": [
    "2. Model counting of circuit logical formula"
   ]
  },
  {
   "cell_type": "code",
   "execution_count": 26,
   "metadata": {},
   "outputs": [
    {
     "data": {
      "text/plain": [
       "8"
      ]
     },
     "execution_count": 26,
     "metadata": {},
     "output_type": "execute_result"
    }
   ],
   "source": [
    "model_count(pc)"
   ]
  },
  {
   "cell_type": "markdown",
   "metadata": {},
   "source": [
    "### Probabilistic queries"
   ]
  },
  {
   "cell_type": "markdown",
   "metadata": {},
   "source": [
    "Some helper functions, you can skip them."
   ]
  },
  {
   "cell_type": "code",
   "execution_count": 27,
   "metadata": {},
   "outputs": [],
   "source": [
    "# You can skip this part. Includes helper functions to make partial observations from arrays of strings\n",
    "# so its easier to present.\n",
    "\n",
    "# Make one observation from list of string describing the observation\n",
    "#\n",
    "# For example, [\"smoker\", \"male\"] sets \n",
    "#   1) The mentioned features to the correct values.\n",
    "#   2) Every feature not mentioned to missing values. \n",
    "FEATURES = 36;\n",
    "function make_one_observation(obs)\n",
    "    result = missings(Bool, FEATURES)\n",
    "    for k in obs\n",
    "        # Smoking\n",
    "        if lowercase(k) == \"smoker\"\n",
    "            result[7:8] .= [0, 1]\n",
    "        elseif lowercase(k) == \"!smoker\"\n",
    "            result[7:8] .= [1, 0]\n",
    "        # Gender\n",
    "        elseif lowercase(k) == \"male\"\n",
    "            result[13:14] .= [1, 0]\n",
    "        elseif lowercase(k) == \"female\"\n",
    "            result[13:14] .= [0, 1]\n",
    "        # Region\n",
    "        elseif lowercase(k) == \"southeast\"\n",
    "            result[9:12] .= [0, 0, 1, 0]\n",
    "        elseif lowercase(k) == \"southwest\"\n",
    "            result[9:12] .= [0, 1, 0, 0]\n",
    "        # Child\n",
    "        elseif lowercase(k) == \"1-child\"\n",
    "            result[1:6] .= [0,1,0,0,0,0]\n",
    "        end\n",
    "    end\n",
    "    result\n",
    "end;\n",
    "\n",
    "function make_observations(obs)\n",
    "    count = size(obs)[1]\n",
    "    result = missings(Bool, count, FEATURES)\n",
    "    for i=1:count\n",
    "        result[i, :] .= make_one_observation(obs[i])\n",
    "    end\n",
    "    DataFrame(result, :auto)\n",
    "end;\n",
    "\n",
    "function flip_coin(d::DataFrame; keep_prob=0.8)\n",
    "    m = missings(Bool, num_examples(d), num_features(d))\n",
    "    flag = rand(num_examples(d), num_features(d)) .<= keep_prob\n",
    "    m[flag] .= Matrix(d)[flag]\n",
    "    DataFrame(m, :auto)\n",
    "end;\n"
   ]
  },
  {
   "cell_type": "markdown",
   "metadata": {},
   "source": [
    "loading data"
   ]
  },
  {
   "cell_type": "code",
   "execution_count": 28,
   "metadata": {},
   "outputs": [
    {
     "name": "stdout",
     "output_type": "stream",
     "text": [
      "\"Insurance\" training set has 36 variables and 935 samples.\n"
     ]
    }
   ],
   "source": [
    "using CSV\n",
    "train_x = DataFrame(BitArray(Matrix(CSV.read(\"insurance/insurance_train_x.csv\", DataFrame))), :auto)\n",
    "train_y = CSV.read(\"insurance/insurance_train_y.csv\", DataFrame);\n",
    "\n",
    "println(\"\\\"Insurance\\\" training set has $(num_features(train_x)) variables and $(num_examples(train_x)) samples.\")"
   ]
  },
  {
   "cell_type": "markdown",
   "metadata": {},
   "source": [
    "load a pretrained probabilistic circuit (automatically downloaded through Julia Artifacts)\n",
    "  - Original Files can be found here https://github.com/UCLA-StarAI/Circuit-Model-Zoo\n"
   ]
  },
  {
   "cell_type": "code",
   "execution_count": 29,
   "metadata": {},
   "outputs": [
    {
     "name": "stdout",
     "output_type": "stream",
     "text": [
      "Probablistic Circuit with 27493 nodes and 16272 parameters.\n"
     ]
    }
   ],
   "source": [
    "pc = zoo_psdd(\"insurance.psdd\")\n",
    "println(\"Probablistic Circuit with $(num_nodes(pc)) nodes and $(num_parameters(pc)) parameters.\")"
   ]
  },
  {
   "cell_type": "markdown",
   "metadata": {},
   "source": [
    "#### EVI: Complete Evidence Query\n",
    "\n",
    "All features are observed, we want to compute the probability: $P(x)$"
   ]
  },
  {
   "cell_type": "code",
   "execution_count": 30,
   "metadata": {
    "tags": []
   },
   "outputs": [
    {
     "data": {
      "text/plain": [
       "-9.711713749299689"
      ]
     },
     "execution_count": 30,
     "metadata": {},
     "output_type": "execute_result"
    }
   ],
   "source": [
    "log_likelihood_avg(pc, train_x)"
   ]
  },
  {
   "cell_type": "markdown",
   "metadata": {},
   "source": [
    "#### MAR: Marginal Query (partial evidence)\n",
    "\n",
    "Now, what happens if we only observe a subset of the features $X^o$? We want to compute: $ P(X^o) = \\sum_{x^m} P(X^o X^m) $\n",
    "\n",
    "**Problem:** Computing above query is usually not tractable as it involves summing over exponential (infinite) possible worlds.\n",
    "\n",
    "**Good News:** In probabilistic circuits, if the circuit is **smooth** and **decomposable**, we can do this tractably. No need to enumerate all possible worlds."
   ]
  },
  {
   "cell_type": "code",
   "execution_count": 31,
   "metadata": {
    "scrolled": true,
    "tags": []
   },
   "outputs": [
    {
     "name": "stdout",
     "output_type": "stream",
     "text": [
      "Probability of being smoker? 0.18403563\n",
      "Probability of being female smoker? 0.096237846\n",
      "Probability of being male smoker with one child living in the southeast? 0.0009639263\n"
     ]
    }
   ],
   "source": [
    "marg_data = make_observations([[\"smoker\"], \n",
    "                       [\"female\"], \n",
    "                       [\"female\", \"smoker\"], \n",
    "                       [\"southeast\", \"male\", \"1-child\", \"smoker\"]],\n",
    "                    )\n",
    "prob = exp.(marginal(pc, marg_data))\n",
    "println(\"Probability of being smoker? \", prob[1])\n",
    "println(\"Probability of being female smoker? \", prob[3])\n",
    "println(\"Probability of being male smoker with one child living in the southeast? \", prob[4])"
   ]
  },
  {
   "cell_type": "markdown",
   "metadata": {},
   "source": [
    "#### CON: Conditional Queries\n",
    "\n",
    "Given some observations $X^o$, we want to compute probabilities conditioned on the observations: $ P(Q \\mid X^o) $\n",
    "if we can do marginals tractably, we can also do conditionals tractably: $ P(Q \\mid X^o) = \\cfrac{P(Q, X^o)}{P(X^o)} $"
   ]
  },
  {
   "cell_type": "code",
   "execution_count": 32,
   "metadata": {},
   "outputs": [
    {
     "name": "stdout",
     "output_type": "stream",
     "text": [
      " P('smoker' | 'female') = 0.20398752\n"
     ]
    }
   ],
   "source": [
    "println(\" P('smoker' | 'female') = $(prob[3]/prob[2])\")"
   ]
  },
  {
   "cell_type": "markdown",
   "metadata": {},
   "source": [
    "#### Advanced queries: expected predictions\n",
    "\n",
    "We have two separate models $p$ and $f$. $p$ is a generative model representing some distributions, and $f$ is a predictive model. We are interested in computing **expected predictions** of $f$ according to the distribution encoded by $g$.\n",
    "\n",
    "- Appears all the time in machine learning, such as handling missing data\n",
    "- We can do this tractably!\n",
    "\n",
    "\n",
    "$ \\Large \\mathbb{E}_{\\mathbf{x}^m\\ \\sim\\ p(\\mathbf{x}^m\\ \\mid\\ \\mathbf{x}^o )}\\left[\\ f( \\mathbf{x}^o \\mathbf{x}^m) \\ \\right] $\n",
    "\n",
    "- In above equation $ \\mathbf{x}^m $ = missing features, and $ \\mathbf{x}^o $ = observed features.\n",
    "\n",
    "- Expected Prediction useful for:\n",
    "  - Handling missing values at test time\n",
    "  - Reasoning about behaviour of predictive models"
   ]
  },
  {
   "cell_type": "markdown",
   "metadata": {},
   "source": [
    "- load a regression circuit"
   ]
  },
  {
   "cell_type": "code",
   "execution_count": 33,
   "metadata": {},
   "outputs": [
    {
     "name": "stdout",
     "output_type": "stream",
     "text": [
      "Regression Circuit with 1076 nodes.\n"
     ]
    }
   ],
   "source": [
    "rc = zoo_dc(\"insurance.circuit\")\n",
    "println(\"Regression Circuit with $(num_nodes(rc)) nodes.\")"
   ]
  },
  {
   "cell_type": "markdown",
   "metadata": {},
   "source": [
    "##### Sample Queries\n",
    "1. How different are the insurance costs between smokers and non smokers?"
   ]
  },
  {
   "cell_type": "code",
   "execution_count": 34,
   "metadata": {},
   "outputs": [
    {
     "name": "stdout",
     "output_type": "stream",
     "text": [
      "Non-Smoker: $ 8741.748\n",
      "Smoker    : $ 31355.338\n",
      "Difference: $ 22613.59\n"
     ]
    }
   ],
   "source": [
    "data = make_observations([[\"!smoker\"], \n",
    "                 [\"smoker\"]])\n",
    "exps, exp_cache = Expectation(pc, rc, data)\n",
    "println(\"Non-Smoker: \\$ $(exps[1])\");\n",
    "println(\"Smoker    : \\$ $(exps[2])\");\n",
    "println(\"Difference: \\$ $(exps[2] - exps[1])\");"
   ]
  },
  {
   "cell_type": "markdown",
   "metadata": {},
   "source": [
    "2. Is the predictive model biased by gender?"
   ]
  },
  {
   "cell_type": "code",
   "execution_count": 35,
   "metadata": {},
   "outputs": [
    {
     "name": "stdout",
     "output_type": "stream",
     "text": [
      "Female  : $ 14170.125\n",
      "Male    : $ 13196.559\n",
      "Diff    : $ 973.5664\n"
     ]
    }
   ],
   "source": [
    "data = make_observations([[\"male\"],\n",
    "                 [\"female\"]])\n",
    "exps, exp_cache = Expectation(pc, rc, data);\n",
    "println(\"Female  : \\$ $(exps[2])\");\n",
    "println(\"Male    : \\$ $(exps[1])\");\n",
    "println(\"Diff    : \\$ $(exps[2] - exps[1])\");"
   ]
  },
  {
   "cell_type": "markdown",
   "metadata": {},
   "source": [
    "3. Expecation and standard devation of few subpopulations"
   ]
  },
  {
   "cell_type": "code",
   "execution_count": 36,
   "metadata": {},
   "outputs": [
    {
     "name": "stdout",
     "output_type": "stream",
     "text": [
      "mu: 30975.0, std = 11229.0\n"
     ]
    }
   ],
   "source": [
    "data = make_observations( [[\"southeast\", \"male\", \"1-child\", \"smoker\"], \n",
    "                 [\"southwest\", \"male\", \"1-child\", \"smoker\"]])\n",
    "exps, exp_cache = Expectation(pc, rc, data);\n",
    "# Computes the second moment\n",
    "mom2, mom_cache = Moment(pc, rc, data, 2);\n",
    "# Computing Standard Deviation\n",
    "stds = sqrt.( mom2 - exps.^2 );\n",
    "# Living in South East, Smoker, Male, One child\n",
    "println(\"mu: $(round(exps[1])), std = $(round(stds[1]))\")"
   ]
  },
  {
   "cell_type": "markdown",
   "metadata": {},
   "source": [
    "## Parameter Learning and Structure learning\n",
    "### Parameter Learning\n",
    "1. load data and create a fully factorized circuit"
   ]
  },
  {
   "cell_type": "code",
   "execution_count": 37,
   "metadata": {},
   "outputs": [],
   "source": [
    "train_x, valid_x, test_x = twenty_datasets(\"nltcs\")\n",
    "v = Vtree(num_features(train_x), :balanced)\n",
    "pc = fully_factorized_circuit(StructProbCircuit, v);"
   ]
  },
  {
   "cell_type": "markdown",
   "metadata": {},
   "source": [
    "2. Maximum likelihood estimate parameters (MLE) given complete data"
   ]
  },
  {
   "cell_type": "code",
   "execution_count": 38,
   "metadata": {},
   "outputs": [
    {
     "name": "stdout",
     "output_type": "stream",
     "text": [
      "Training set log-likelihood is -9.270330518351882\n"
     ]
    }
   ],
   "source": [
    "estimate_parameters!(pc, train_x; pseudocount=1.0);\n",
    "println(\"Training set log-likelihood is \", log_likelihood_avg(pc, train_x))"
   ]
  },
  {
   "cell_type": "markdown",
   "metadata": {},
   "source": [
    "### Structure learn\n",
    "#### Initializations\n",
    "- Initialized from a Chow-Liu Tree"
   ]
  },
  {
   "cell_type": "code",
   "execution_count": 39,
   "metadata": {},
   "outputs": [
    {
     "name": "stdout",
     "output_type": "stream",
     "text": [
      "Initial circuits has 121 nodes, 74 parameters.\n",
      "Training set log-likelihood is -6.7600561877106955\n"
     ]
    }
   ],
   "source": [
    "pc, vtree = learn_chow_liu_tree_circuit(train_x)\n",
    "println(\"Initial circuits has $(num_nodes(pc)) nodes, $(num_parameters(pc)) parameters.\")\n",
    "println(\"Training set log-likelihood is \", log_likelihood_avg(pc, train_x))"
   ]
  },
  {
   "cell_type": "markdown",
   "metadata": {},
   "source": [
    "#### Strcuture update\n",
    "- Perform greedy search based on some buid-in heuristics, you can also use customized strategies by writing the callback function"
   ]
  },
  {
   "cell_type": "code",
   "execution_count": 40,
   "metadata": {},
   "outputs": [
    {
     "name": "stdout",
     "output_type": "stream",
     "text": [
      "Circuits has 213 nodes, 136 parameters.\n",
      "Training set log-likelihood is -6.531536485344027\n"
     ]
    }
   ],
   "source": [
    "loss(circuit) = ProbabilisticCircuits.heuristic_loss(circuit, train_x)\n",
    "pc = struct_learn(pc; \n",
    "    primitives=[split_step], \n",
    "    kwargs=Dict(split_step=>(loss=loss,)),\n",
    "    maxiter=10)\n",
    "estimate_parameters!(pc, train_x; pseudocount=1.0)\n",
    "println(\"Circuits has $(num_nodes(pc)) nodes, $(num_parameters(pc)) parameters.\")\n",
    "println(\"Training set log-likelihood is \", log_likelihood_avg(pc, train_x))"
   ]
  },
  {
   "cell_type": "markdown",
   "metadata": {},
   "source": [
    "## Benchmarks and GPU accelerated computing \n",
    "\n",
    "This part was benchmarked using a NVIDIA TITAN RTX.\n",
    "\n",
    "\n",
    "Depending where the data is Juice automatically uses the correct implementation using Julia's multiple dispatch, so using the GPU version is as simple as moving the data to gpu `to_gpu` and then everything is is identical (maybe differ in more advanced cases)."
   ]
  },
  {
   "cell_type": "markdown",
   "metadata": {},
   "source": [
    "#### Load circuit and data"
   ]
  },
  {
   "cell_type": "code",
   "execution_count": 41,
   "metadata": {},
   "outputs": [
    {
     "name": "stdout",
     "output_type": "stream",
     "text": [
      "Load a circuit with 153021 nodes and 91380 parameters.\n",
      "Load a data with 69 features and 17412 examples.\n"
     ]
    }
   ],
   "source": [
    "pc = zoo_psdd(\"plants.psdd\")\n",
    "println(\"Load a circuit with $(num_nodes(pc)) nodes and $(num_parameters(pc)) parameters.\")\n",
    "data, _, _ = twenty_datasets(\"plants\")\n",
    "println(\"Load a data with $(num_features(data)) features and $(num_examples(data)) examples.\")"
   ]
  },
  {
   "cell_type": "markdown",
   "metadata": {},
   "source": [
    "#### Move data to GPU"
   ]
  },
  {
   "cell_type": "code",
   "execution_count": 42,
   "metadata": {},
   "outputs": [],
   "source": [
    "gpu_data = to_gpu(data);"
   ]
  },
  {
   "cell_type": "markdown",
   "metadata": {},
   "source": [
    "#### If the data satisty logical constrains ?\n",
    "\n",
    "CPU"
   ]
  },
  {
   "cell_type": "code",
   "execution_count": 43,
   "metadata": {},
   "outputs": [
    {
     "name": "stdout",
     "output_type": "stream",
     "text": [
      "  147.285 ms (986562 allocations: 199.83 MiB)\n"
     ]
    }
   ],
   "source": [
    "@btime satisfies($pc, $data);"
   ]
  },
  {
   "cell_type": "markdown",
   "metadata": {},
   "source": [
    "GPU"
   ]
  },
  {
   "cell_type": "code",
   "execution_count": 44,
   "metadata": {},
   "outputs": [
    {
     "name": "stdout",
     "output_type": "stream",
     "text": [
      "  94.544 ms (987955 allocations: 67.67 MiB)\n"
     ]
    }
   ],
   "source": [
    "@btime satisfies($pc, $gpu_data);"
   ]
  },
  {
   "cell_type": "markdown",
   "metadata": {},
   "source": [
    "As we see, the GPU version is about 2x faster for `satisfies`."
   ]
  },
  {
   "cell_type": "markdown",
   "metadata": {},
   "source": [
    "#### EVI queries\n",
    "CPU"
   ]
  },
  {
   "cell_type": "code",
   "execution_count": 45,
   "metadata": {},
   "outputs": [
    {
     "name": "stdout",
     "output_type": "stream",
     "text": [
      "  327.853 ms (1410170 allocations: 343.74 MiB)\n"
     ]
    }
   ],
   "source": [
    "@btime EVI($pc, $data);"
   ]
  },
  {
   "cell_type": "markdown",
   "metadata": {},
   "source": [
    "GPU "
   ]
  },
  {
   "cell_type": "code",
   "execution_count": 46,
   "metadata": {},
   "outputs": [
    {
     "name": "stdout",
     "output_type": "stream",
     "text": [
      "  155.128 ms (1413308 allocations: 79.34 MiB)\n"
     ]
    }
   ],
   "source": [
    "@btime EVI($pc, $gpu_data);"
   ]
  },
  {
   "cell_type": "markdown",
   "metadata": {},
   "source": [
    "As we see, the GPU version is about 3x faster for `EVI`."
   ]
  },
  {
   "cell_type": "markdown",
   "metadata": {},
   "source": [
    "#### MAR queries\n",
    "CPU "
   ]
  },
  {
   "cell_type": "code",
   "execution_count": 47,
   "metadata": {},
   "outputs": [
    {
     "name": "stdout",
     "output_type": "stream",
     "text": [
      "  2.518 s (1410848 allocations: 4.20 GiB)\n"
     ]
    }
   ],
   "source": [
    "data_miss = flip_coin(data)\n",
    "@btime MAR($pc, $data_miss);"
   ]
  },
  {
   "cell_type": "markdown",
   "metadata": {},
   "source": [
    "GPU"
   ]
  },
  {
   "cell_type": "code",
   "execution_count": 48,
   "metadata": {},
   "outputs": [],
   "source": [
    "# a. Everything in one batch\n",
    "gpu_data_miss = to_gpu(data_miss);\n",
    "\n",
    "# b. Use this instead for smaller batch size in case all data does not fit into gpu memory in one batch\n",
    "# gpu_data_miss = to_gpu(batch(data_miss, 8192));"
   ]
  },
  {
   "cell_type": "code",
   "execution_count": 49,
   "metadata": {},
   "outputs": [
    {
     "name": "stdout",
     "output_type": "stream",
     "text": [
      "  343.745 ms (1418187 allocations: 79.59 MiB)\n"
     ]
    }
   ],
   "source": [
    "@btime MAR($pc, $gpu_data_miss);"
   ]
  },
  {
   "cell_type": "markdown",
   "metadata": {},
   "source": [
    "As we see, the GPU version is about 10x faster for `MAR`."
   ]
  },
  {
   "cell_type": "markdown",
   "metadata": {},
   "source": [
    "#### Maximum likelihood estimate parameters (MLE) given complete data\n",
    "CPU "
   ]
  },
  {
   "cell_type": "code",
   "execution_count": 50,
   "metadata": {},
   "outputs": [
    {
     "name": "stdout",
     "output_type": "stream",
     "text": [
      "  351.795 ms (1527742 allocations: 362.93 MiB)\n"
     ]
    }
   ],
   "source": [
    "@btime estimate_parameters!(pc, data; pseudocount=1.0);"
   ]
  },
  {
   "cell_type": "markdown",
   "metadata": {},
   "source": [
    "GPU "
   ]
  },
  {
   "cell_type": "code",
   "execution_count": 51,
   "metadata": {},
   "outputs": [
    {
     "name": "stdout",
     "output_type": "stream",
     "text": [
      "  161.137 ms (1279853 allocations: 93.64 MiB)\n"
     ]
    }
   ],
   "source": [
    "@btime estimate_parameters!(pc, gpu_data; pseudocount=1.0);"
   ]
  },
  {
   "cell_type": "markdown",
   "metadata": {},
   "source": [
    "#### Expectation maximization estimate parameters (EM) given data with missing values\n",
    "CPU "
   ]
  },
  {
   "cell_type": "code",
   "execution_count": 52,
   "metadata": {},
   "outputs": [
    {
     "name": "stdout",
     "output_type": "stream",
     "text": [
      "  46.161 s (1794839 allocations: 14.45 GiB)\n"
     ]
    }
   ],
   "source": [
    "@btime params_cpu = estimate_parameters_em!($pc, $data_miss; pseudocount=1.0);"
   ]
  },
  {
   "cell_type": "markdown",
   "metadata": {},
   "source": [
    "GPU"
   ]
  },
  {
   "cell_type": "code",
   "execution_count": 53,
   "metadata": {},
   "outputs": [],
   "source": [
    "#@time params_gpu = estimate_parameters_em!(pc, gpu_data_miss; pseudocount=1.0);"
   ]
  },
  {
   "cell_type": "markdown",
   "metadata": {},
   "source": [
    "#### Expected Prediction Benchmark"
   ]
  },
  {
   "cell_type": "code",
   "execution_count": 54,
   "metadata": {},
   "outputs": [],
   "source": [
    "pc = zoo_psdd(\"insurance.psdd\");\n",
    "rc = zoo_dc(\"insurance.circuit\");\n",
    "train_x = DataFrame(BitArray(Matrix(CSV.read(\"insurance/insurance_train_x.csv\", DataFrame))), :auto)\n",
    "\n",
    "data_miss = flip_coin(vcat(train_x, train_x));\n",
    "data_miss2 = flip_coin(vcat(train_x, train_x));"
   ]
  },
  {
   "cell_type": "markdown",
   "metadata": {},
   "source": [
    "CPU Version (Recursive)"
   ]
  },
  {
   "cell_type": "code",
   "execution_count": 55,
   "metadata": {},
   "outputs": [
    {
     "name": "stdout",
     "output_type": "stream",
     "text": [
      "  12.170 s (13163373 allocations: 5.43 GiB)\n"
     ]
    }
   ],
   "source": [
    "@btime Expectation($pc, $rc, $data_miss);"
   ]
  },
  {
   "cell_type": "markdown",
   "metadata": {},
   "source": [
    "GPU Version (By compiling into  [BitCircuitPair](https://juice-jl.github.io/ProbabilisticCircuits.jl/dev/api/internals/probabilistic_circuits/#ProbabilisticCircuits.BitCircuitPair))"
   ]
  },
  {
   "cell_type": "code",
   "execution_count": 56,
   "metadata": {},
   "outputs": [],
   "source": [
    "train_x_gpu = to_gpu(data_miss);"
   ]
  },
  {
   "cell_type": "code",
   "execution_count": 57,
   "metadata": {},
   "outputs": [
    {
     "name": "stdout",
     "output_type": "stream",
     "text": [
      "  503.809 ms (3137292 allocations: 148.33 MiB)\n"
     ]
    }
   ],
   "source": [
    "@btime ExpectationBit($pc, $rc, $train_x_gpu);"
   ]
  },
  {
   "cell_type": "markdown",
   "metadata": {},
   "source": [
    "As we see, the GPU version is about 20x faster than the recursive CPU version.\n",
    "\n",
    "**Sidenote:** The gpu version is even faster for upcoming batches if we reuse the `ParamBitCircuitPair` and already allocated memory:"
   ]
  },
  {
   "cell_type": "code",
   "execution_count": 58,
   "metadata": {},
   "outputs": [
    {
     "data": {
      "text/html": [
       "<div class=\"data-frame\"><p>1,870 rows × 36 columns (omitted printing of 27 columns)</p><table class=\"data-frame\"><thead><tr><th></th><th>x1</th><th>x2</th><th>x3</th><th>x4</th><th>x5</th><th>x6</th><th>x7</th><th>x8</th><th>x9</th></tr><tr><th></th><th title=\"Union{Missing, Bool}\">Bool?</th><th title=\"Union{Missing, Bool}\">Bool?</th><th title=\"Union{Missing, Bool}\">Bool?</th><th title=\"Union{Missing, Bool}\">Bool?</th><th title=\"Union{Missing, Bool}\">Bool?</th><th title=\"Union{Missing, Bool}\">Bool?</th><th title=\"Union{Missing, Bool}\">Bool?</th><th title=\"Union{Missing, Bool}\">Bool?</th><th title=\"Union{Missing, Bool}\">Bool?</th></tr></thead><tbody><tr><th>1</th><td>0</td><td>1</td><td>0</td><td><em>missing</em></td><td>0</td><td><em>missing</em></td><td>1</td><td>0</td><td><em>missing</em></td></tr><tr><th>2</th><td>0</td><td><em>missing</em></td><td><em>missing</em></td><td><em>missing</em></td><td>0</td><td>0</td><td>1</td><td>0</td><td>1</td></tr><tr><th>3</th><td>0</td><td>0</td><td>0</td><td>1</td><td>0</td><td>0</td><td>1</td><td><em>missing</em></td><td>1</td></tr><tr><th>4</th><td>1</td><td>0</td><td><em>missing</em></td><td>0</td><td>0</td><td>0</td><td>1</td><td>0</td><td>0</td></tr><tr><th>5</th><td>1</td><td>0</td><td>0</td><td>0</td><td>0</td><td>0</td><td>0</td><td>1</td><td>0</td></tr><tr><th>6</th><td>0</td><td>1</td><td><em>missing</em></td><td>0</td><td>0</td><td><em>missing</em></td><td><em>missing</em></td><td>0</td><td>0</td></tr><tr><th>7</th><td><em>missing</em></td><td>1</td><td>0</td><td>0</td><td>0</td><td>0</td><td><em>missing</em></td><td>0</td><td><em>missing</em></td></tr><tr><th>8</th><td>0</td><td>0</td><td><em>missing</em></td><td>0</td><td><em>missing</em></td><td>0</td><td>1</td><td>0</td><td>1</td></tr><tr><th>9</th><td>0</td><td>1</td><td>0</td><td>0</td><td><em>missing</em></td><td>0</td><td>1</td><td>0</td><td>1</td></tr><tr><th>10</th><td><em>missing</em></td><td>0</td><td>1</td><td>0</td><td>0</td><td><em>missing</em></td><td>0</td><td>1</td><td>0</td></tr><tr><th>11</th><td>1</td><td>0</td><td>0</td><td>0</td><td>0</td><td>0</td><td><em>missing</em></td><td>1</td><td><em>missing</em></td></tr><tr><th>12</th><td><em>missing</em></td><td>1</td><td>0</td><td><em>missing</em></td><td>0</td><td>0</td><td><em>missing</em></td><td>0</td><td>1</td></tr><tr><th>13</th><td>1</td><td>0</td><td>0</td><td><em>missing</em></td><td>0</td><td>0</td><td>1</td><td>0</td><td>0</td></tr><tr><th>14</th><td>1</td><td>0</td><td>0</td><td>0</td><td>0</td><td>0</td><td>1</td><td>0</td><td>0</td></tr><tr><th>15</th><td><em>missing</em></td><td>0</td><td>0</td><td>0</td><td><em>missing</em></td><td><em>missing</em></td><td><em>missing</em></td><td>0</td><td><em>missing</em></td></tr><tr><th>16</th><td>1</td><td>0</td><td>0</td><td>0</td><td>0</td><td>0</td><td>1</td><td>0</td><td><em>missing</em></td></tr><tr><th>17</th><td>0</td><td><em>missing</em></td><td>0</td><td>0</td><td><em>missing</em></td><td>0</td><td>1</td><td>0</td><td>0</td></tr><tr><th>18</th><td>0</td><td>1</td><td><em>missing</em></td><td><em>missing</em></td><td>0</td><td>0</td><td>1</td><td>0</td><td>0</td></tr><tr><th>19</th><td>0</td><td><em>missing</em></td><td>0</td><td>1</td><td>0</td><td><em>missing</em></td><td>1</td><td>0</td><td>0</td></tr><tr><th>20</th><td>1</td><td><em>missing</em></td><td><em>missing</em></td><td>0</td><td><em>missing</em></td><td>0</td><td>1</td><td>0</td><td>0</td></tr><tr><th>21</th><td>0</td><td>0</td><td>0</td><td>1</td><td><em>missing</em></td><td>0</td><td>1</td><td>0</td><td>0</td></tr><tr><th>22</th><td>0</td><td><em>missing</em></td><td>0</td><td>1</td><td><em>missing</em></td><td>0</td><td>0</td><td>1</td><td>0</td></tr><tr><th>23</th><td>1</td><td><em>missing</em></td><td>0</td><td>0</td><td>0</td><td>0</td><td>1</td><td>0</td><td>1</td></tr><tr><th>24</th><td>0</td><td>0</td><td>1</td><td>0</td><td>0</td><td><em>missing</em></td><td><em>missing</em></td><td>0</td><td>0</td></tr><tr><th>25</th><td>0</td><td><em>missing</em></td><td>0</td><td>0</td><td>1</td><td>0</td><td>0</td><td>1</td><td><em>missing</em></td></tr><tr><th>26</th><td>0</td><td>0</td><td>1</td><td>0</td><td>0</td><td><em>missing</em></td><td>0</td><td>1</td><td><em>missing</em></td></tr><tr><th>27</th><td>0</td><td><em>missing</em></td><td>1</td><td>0</td><td>0</td><td>0</td><td>1</td><td><em>missing</em></td><td><em>missing</em></td></tr><tr><th>28</th><td>0</td><td>1</td><td>0</td><td>0</td><td><em>missing</em></td><td>0</td><td>1</td><td><em>missing</em></td><td>0</td></tr><tr><th>29</th><td>1</td><td>0</td><td><em>missing</em></td><td>0</td><td>0</td><td><em>missing</em></td><td>0</td><td>1</td><td><em>missing</em></td></tr><tr><th>30</th><td>0</td><td>1</td><td>0</td><td><em>missing</em></td><td>0</td><td>0</td><td>0</td><td>1</td><td><em>missing</em></td></tr><tr><th>&vellip;</th><td>&vellip;</td><td>&vellip;</td><td>&vellip;</td><td>&vellip;</td><td>&vellip;</td><td>&vellip;</td><td>&vellip;</td><td>&vellip;</td><td>&vellip;</td></tr></tbody></table></div>"
      ],
      "text/latex": [
       "\\begin{tabular}{r|cccccccccc}\n",
       "\t& x1 & x2 & x3 & x4 & x5 & x6 & x7 & x8 & x9 & \\\\\n",
       "\t\\hline\n",
       "\t& Bool? & Bool? & Bool? & Bool? & Bool? & Bool? & Bool? & Bool? & Bool? & \\\\\n",
       "\t\\hline\n",
       "\t1 & 0 & 1 & 0 & \\emph{missing} & 0 & \\emph{missing} & 1 & 0 & \\emph{missing} & $\\dots$ \\\\\n",
       "\t2 & 0 & \\emph{missing} & \\emph{missing} & \\emph{missing} & 0 & 0 & 1 & 0 & 1 & $\\dots$ \\\\\n",
       "\t3 & 0 & 0 & 0 & 1 & 0 & 0 & 1 & \\emph{missing} & 1 & $\\dots$ \\\\\n",
       "\t4 & 1 & 0 & \\emph{missing} & 0 & 0 & 0 & 1 & 0 & 0 & $\\dots$ \\\\\n",
       "\t5 & 1 & 0 & 0 & 0 & 0 & 0 & 0 & 1 & 0 & $\\dots$ \\\\\n",
       "\t6 & 0 & 1 & \\emph{missing} & 0 & 0 & \\emph{missing} & \\emph{missing} & 0 & 0 & $\\dots$ \\\\\n",
       "\t7 & \\emph{missing} & 1 & 0 & 0 & 0 & 0 & \\emph{missing} & 0 & \\emph{missing} & $\\dots$ \\\\\n",
       "\t8 & 0 & 0 & \\emph{missing} & 0 & \\emph{missing} & 0 & 1 & 0 & 1 & $\\dots$ \\\\\n",
       "\t9 & 0 & 1 & 0 & 0 & \\emph{missing} & 0 & 1 & 0 & 1 & $\\dots$ \\\\\n",
       "\t10 & \\emph{missing} & 0 & 1 & 0 & 0 & \\emph{missing} & 0 & 1 & 0 & $\\dots$ \\\\\n",
       "\t11 & 1 & 0 & 0 & 0 & 0 & 0 & \\emph{missing} & 1 & \\emph{missing} & $\\dots$ \\\\\n",
       "\t12 & \\emph{missing} & 1 & 0 & \\emph{missing} & 0 & 0 & \\emph{missing} & 0 & 1 & $\\dots$ \\\\\n",
       "\t13 & 1 & 0 & 0 & \\emph{missing} & 0 & 0 & 1 & 0 & 0 & $\\dots$ \\\\\n",
       "\t14 & 1 & 0 & 0 & 0 & 0 & 0 & 1 & 0 & 0 & $\\dots$ \\\\\n",
       "\t15 & \\emph{missing} & 0 & 0 & 0 & \\emph{missing} & \\emph{missing} & \\emph{missing} & 0 & \\emph{missing} & $\\dots$ \\\\\n",
       "\t16 & 1 & 0 & 0 & 0 & 0 & 0 & 1 & 0 & \\emph{missing} & $\\dots$ \\\\\n",
       "\t17 & 0 & \\emph{missing} & 0 & 0 & \\emph{missing} & 0 & 1 & 0 & 0 & $\\dots$ \\\\\n",
       "\t18 & 0 & 1 & \\emph{missing} & \\emph{missing} & 0 & 0 & 1 & 0 & 0 & $\\dots$ \\\\\n",
       "\t19 & 0 & \\emph{missing} & 0 & 1 & 0 & \\emph{missing} & 1 & 0 & 0 & $\\dots$ \\\\\n",
       "\t20 & 1 & \\emph{missing} & \\emph{missing} & 0 & \\emph{missing} & 0 & 1 & 0 & 0 & $\\dots$ \\\\\n",
       "\t21 & 0 & 0 & 0 & 1 & \\emph{missing} & 0 & 1 & 0 & 0 & $\\dots$ \\\\\n",
       "\t22 & 0 & \\emph{missing} & 0 & 1 & \\emph{missing} & 0 & 0 & 1 & 0 & $\\dots$ \\\\\n",
       "\t23 & 1 & \\emph{missing} & 0 & 0 & 0 & 0 & 1 & 0 & 1 & $\\dots$ \\\\\n",
       "\t24 & 0 & 0 & 1 & 0 & 0 & \\emph{missing} & \\emph{missing} & 0 & 0 & $\\dots$ \\\\\n",
       "\t25 & 0 & \\emph{missing} & 0 & 0 & 1 & 0 & 0 & 1 & \\emph{missing} & $\\dots$ \\\\\n",
       "\t26 & 0 & 0 & 1 & 0 & 0 & \\emph{missing} & 0 & 1 & \\emph{missing} & $\\dots$ \\\\\n",
       "\t27 & 0 & \\emph{missing} & 1 & 0 & 0 & 0 & 1 & \\emph{missing} & \\emph{missing} & $\\dots$ \\\\\n",
       "\t28 & 0 & 1 & 0 & 0 & \\emph{missing} & 0 & 1 & \\emph{missing} & 0 & $\\dots$ \\\\\n",
       "\t29 & 1 & 0 & \\emph{missing} & 0 & 0 & \\emph{missing} & 0 & 1 & \\emph{missing} & $\\dots$ \\\\\n",
       "\t30 & 0 & 1 & 0 & \\emph{missing} & 0 & 0 & 0 & 1 & \\emph{missing} & $\\dots$ \\\\\n",
       "\t$\\dots$ & $\\dots$ & $\\dots$ & $\\dots$ & $\\dots$ & $\\dots$ & $\\dots$ & $\\dots$ & $\\dots$ & $\\dots$ &  \\\\\n",
       "\\end{tabular}\n"
      ],
      "text/plain": [
       "\u001b[1m1870×36 DataFrame\u001b[0m\n",
       "\u001b[1m  Row \u001b[0m│\u001b[1m x1      \u001b[0m\u001b[1m x2      \u001b[0m\u001b[1m x3      \u001b[0m\u001b[1m x4      \u001b[0m\u001b[1m x5      \u001b[0m\u001b[1m x6      \u001b[0m\u001b[1m x7      \u001b[0m\u001b[1m x8     \u001b[0m ⋯\n",
       "\u001b[1m      \u001b[0m│\u001b[90m Bool?   \u001b[0m\u001b[90m Bool?   \u001b[0m\u001b[90m Bool?   \u001b[0m\u001b[90m Bool?   \u001b[0m\u001b[90m Bool?   \u001b[0m\u001b[90m Bool?   \u001b[0m\u001b[90m Bool?   \u001b[0m\u001b[90m Bool?  \u001b[0m ⋯\n",
       "──────┼─────────────────────────────────────────────────────────────────────────\n",
       "    1 │   false     true    false \u001b[90m missing \u001b[0m   false \u001b[90m missing \u001b[0m    true    false ⋯\n",
       "    2 │   false \u001b[90m missing \u001b[0m\u001b[90m missing \u001b[0m\u001b[90m missing \u001b[0m   false    false     true    false\n",
       "    3 │   false    false    false     true    false    false     true \u001b[90m missing\u001b[0m\n",
       "    4 │    true    false \u001b[90m missing \u001b[0m   false    false    false     true    false\n",
       "    5 │    true    false    false    false    false    false    false     true ⋯\n",
       "    6 │   false     true \u001b[90m missing \u001b[0m   false    false \u001b[90m missing \u001b[0m\u001b[90m missing \u001b[0m   false\n",
       "    7 │\u001b[90m missing \u001b[0m    true    false    false    false    false \u001b[90m missing \u001b[0m   false\n",
       "    8 │   false    false \u001b[90m missing \u001b[0m   false \u001b[90m missing \u001b[0m   false     true    false\n",
       "    9 │   false     true    false    false \u001b[90m missing \u001b[0m   false     true    false ⋯\n",
       "   10 │\u001b[90m missing \u001b[0m   false     true    false    false \u001b[90m missing \u001b[0m   false     true\n",
       "   11 │    true    false    false    false    false    false \u001b[90m missing \u001b[0m    true\n",
       "  ⋮   │    ⋮        ⋮        ⋮        ⋮        ⋮        ⋮        ⋮        ⋮    ⋱\n",
       " 1861 │\u001b[90m missing \u001b[0m    true    false    false    false    false     true    false\n",
       " 1862 │\u001b[90m missing \u001b[0m   false    false    false    false \u001b[90m missing \u001b[0m    true \u001b[90m missing\u001b[0m ⋯\n",
       " 1863 │\u001b[90m missing \u001b[0m   false    false \u001b[90m missing \u001b[0m   false    false     true \u001b[90m missing\u001b[0m\n",
       " 1864 │    true    false    false    false    false    false     true    false\n",
       " 1865 │    true    false    false \u001b[90m missing \u001b[0m   false    false \u001b[90m missing \u001b[0m   false\n",
       " 1866 │    true \u001b[90m missing \u001b[0m   false    false    false    false     true    false ⋯\n",
       " 1867 │   false \u001b[90m missing \u001b[0m   false    false    false    false     true    false\n",
       " 1868 │   false \u001b[90m missing \u001b[0m   false     true    false    false     true    false\n",
       " 1869 │    true    false    false \u001b[90m missing \u001b[0m   false    false     true \u001b[90m missing\u001b[0m\n",
       " 1870 │   false    false     true    false \u001b[90m missing \u001b[0m   false \u001b[90m missing \u001b[0m   false ⋯\n",
       "\u001b[36m                                                28 columns and 1849 rows omitted\u001b[0m"
      ]
     },
     "execution_count": 58,
     "metadata": {},
     "output_type": "execute_result"
    },
    {
     "name": "stderr",
     "output_type": "stream",
     "text": [
      "┌ Warning: Performing scalar indexing on task Task (runnable) @0x00007fb29d3fe290.\n",
      "│ Invocation of getindex resulted in scalar indexing of a GPU array.\n",
      "│ This is typically caused by calling an iterating implementation of a method.\n",
      "│ Such implementations *do not* execute on the GPU, but very slowly on the CPU,\n",
      "│ and therefore are only permitted from the REPL for prototyping purposes.\n",
      "│ If you did intend to index this array, annotate the caller with @allowscalar.\n",
      "└ @ GPUArrays /home/pashak/.julia/packages/GPUArrays/umZob/src/host/indexing.jl:56\n"
     ]
    }
   ],
   "source": [
    "results, fvalues, gvalues, pbc = ExpectationBit(pc, rc, train_x_gpu; return_aux=true);\n",
    "\n",
    "# Second batch\n",
    "train_x_gpu2 = to_gpu(data_miss2);"
   ]
  },
  {
   "cell_type": "code",
   "execution_count": 59,
   "metadata": {},
   "outputs": [
    {
     "name": "stdout",
     "output_type": "stream",
     "text": [
      "  90.134 ms (10449 allocations: 557.38 KiB)\n"
     ]
    }
   ],
   "source": [
    "@btime ExpectationBit($pbc, $pc, $rc, $train_x_gpu2, $fvalues, $gvalues); "
   ]
  },
  {
   "cell_type": "code",
   "execution_count": null,
   "metadata": {},
   "outputs": [],
   "source": []
  }
 ],
 "metadata": {
  "@webio": {
   "lastCommId": null,
   "lastKernelId": null
  },
  "kernelspec": {
   "display_name": "Julia 1.7.1",
   "language": "julia",
   "name": "julia-1.7"
  },
  "language_info": {
   "file_extension": ".jl",
   "mimetype": "application/julia",
   "name": "julia",
   "version": "1.7.1"
  }
 },
 "nbformat": 4,
 "nbformat_minor": 2
}
