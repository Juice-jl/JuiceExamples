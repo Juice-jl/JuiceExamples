{
 "cells": [
  {
   "cell_type": "markdown",
   "metadata": {},
   "source": [
    "# Juice Examples\n",
    "In this notebook, we will demonstrate `Juice` a Julia library that offers efficient routines to compile, learn and perform inference on `Logic Circuits` and `Probabilistic Circuits`. The demo includes:\n",
    "\n",
    "   - Creating Circuits\n",
    "   - Checking Structural Properties\n",
    "   - Circuit Transformations\n",
    "   - Tractable Queries\n",
    "   - Parameter Learning and Structure Learning\n",
    "   - Benchmarks and GPU accelerated computing  "
   ]
  },
  {
   "cell_type": "markdown",
   "metadata": {},
   "source": [
    "### Setup\n",
    "Uncomment `] instantiate`  to instantiate your environment if its not instantiated already\n",
    "\n",
    "Can also use `] status` to see what packages are installed and their version."
   ]
  },
  {
   "cell_type": "code",
   "execution_count": 1,
   "metadata": {},
   "outputs": [],
   "source": [
    "# ] instantiate"
   ]
  },
  {
   "cell_type": "code",
   "execution_count": 2,
   "metadata": {},
   "outputs": [
    {
     "name": "stdout",
     "output_type": "stream",
     "text": [
      "\u001b[32m\u001b[1mStatus\u001b[22m\u001b[39m `/space/pashak/.julia/dev/JuiceExamples/Project.toml`\n",
      " \u001b[90m [6e4b80f9] \u001b[39m\u001b[37mBenchmarkTools v0.5.0\u001b[39m\n",
      " \u001b[90m [336ed68f] \u001b[39m\u001b[37mCSV v0.8.2\u001b[39m\n",
      " \u001b[90m [052768ef] \u001b[39m\u001b[37mCUDA v2.3.0\u001b[39m\n",
      " \u001b[90m [a93c6f00] \u001b[39m\u001b[37mDataFrames v0.21.8\u001b[39m\n",
      " \u001b[90m [a7847b3b] \u001b[39m\u001b[37mLogicCircuits v0.2.2\u001b[39m\n",
      " \u001b[90m [2396afbe] \u001b[39m\u001b[37mProbabilisticCircuits v0.2.2\u001b[39m\n",
      " \u001b[90m [b4f28e30] \u001b[39m\u001b[37mTikzGraphs v1.1.0\u001b[39m\n",
      " \u001b[90m [37f6aa50] \u001b[39m\u001b[37mTikzPictures v3.3.1\u001b[39m\n",
      " \u001b[90m [10745b16] \u001b[39m\u001b[37mStatistics\u001b[39m\n"
     ]
    }
   ],
   "source": [
    "] status"
   ]
  },
  {
   "cell_type": "code",
   "execution_count": 3,
   "metadata": {
    "tags": []
   },
   "outputs": [],
   "source": [
    "using LogicCircuits\n",
    "using ProbabilisticCircuits\n",
    "using DataFrames\n",
    "using BenchmarkTools"
   ]
  },
  {
   "cell_type": "code",
   "execution_count": 4,
   "metadata": {},
   "outputs": [],
   "source": [
    "# Workaround for tikz plots in the notebook!\n",
    "#    Also note that for plots to work succesfully, you need to have LaTeX installed. \n",
    "#    Check TikzGraphs.jl, TikzPictures.jl documentation for more details!\n",
    "\n",
    "#    For example, on Ubuntu can do the installation as follows:\n",
    "#      - sudo apt-get -qq update\n",
    "#      - sudo apt install -y pdf2svg texlive-latex-base texlive-binaries texlive-pictures texlive-latex-extra texlive-luatex \n",
    "\n",
    "using TikzPictures\n",
    "TikzPictures.standaloneWorkaround(true)"
   ]
  },
  {
   "cell_type": "code",
   "execution_count": 5,
   "metadata": {},
   "outputs": [
    {
     "data": {
      "text/plain": [
       "true"
      ]
     },
     "execution_count": 5,
     "metadata": {},
     "output_type": "execute_result"
    }
   ],
   "source": [
    "# This should print true, otherwise your cuda setup is not working with julia\n",
    "#    in that case follow instructions here: https://juliagpu.github.io/CUDA.jl/dev/installation/overview/\n",
    "using CUDA\n",
    "CUDA.functional()"
   ]
  },
  {
   "cell_type": "code",
   "execution_count": 6,
   "metadata": {},
   "outputs": [],
   "source": [
    "# By default the first gpu (device 0) is used. To use another gpu, for example the second gpu, uncomment this code\n",
    "# CUDA.device!(1)"
   ]
  },
  {
   "cell_type": "markdown",
   "metadata": {},
   "source": [
    "## Create a Circuit\n",
    "1. We can handcraft a Probabilistic Circuit by using `+` and `*` operators easily."
   ]
  },
  {
   "cell_type": "code",
   "execution_count": 7,
   "metadata": {},
   "outputs": [
    {
     "data": {
      "image/svg+xml": [
       "<?xml version=\"1.0\" encoding=\"UTF-8\"?>\n",
       "<svg xmlns=\"http://www.w3.org/2000/svg\" xmlns:xlink=\"http://www.w3.org/1999/xlink\" width=\"111.116pt\" height=\"98.425pt\" viewBox=\"0 0 111.116 98.425\" version=\"1.1\">\n",
       "<defs>\n",
       "<g>\n",
       "<symbol overflow=\"visible\" id=\"glyph-1606184035301240-0-0\">\n",
       "<path style=\"stroke:none;\" d=\"\"/>\n",
       "</symbol>\n",
       "<symbol overflow=\"visible\" id=\"glyph-1606184035301240-0-1\">\n",
       "<path style=\"stroke:none;\" d=\"M 2.296875 -1.59375 C 2.296875 -2 2.265625 -2.390625 2.09375 -2.765625 C 1.859375 -3.234375 1.453125 -3.3125 1.25 -3.3125 C 0.953125 -3.3125 0.578125 -3.1875 0.375 -2.71875 C 0.21875 -2.375 0.1875 -2 0.1875 -1.59375 C 0.1875 -1.21875 0.21875 -0.765625 0.421875 -0.390625 C 0.640625 0.015625 1 0.109375 1.234375 0.109375 C 1.515625 0.109375 1.890625 0 2.109375 -0.46875 C 2.265625 -0.8125 2.296875 -1.203125 2.296875 -1.59375 Z M 1.875 -1.65625 C 1.875 -1.28125 1.875 -0.9375 1.828125 -0.625 C 1.75 -0.15625 1.46875 0 1.234375 0 C 1.046875 0 0.75 -0.125 0.65625 -0.609375 C 0.609375 -0.90625 0.609375 -1.359375 0.609375 -1.65625 C 0.609375 -1.96875 0.609375 -2.296875 0.640625 -2.578125 C 0.75 -3.171875 1.109375 -3.203125 1.234375 -3.203125 C 1.40625 -3.203125 1.734375 -3.125 1.828125 -2.625 C 1.875 -2.34375 1.875 -1.96875 1.875 -1.65625 Z M 1.875 -1.65625 \"/>\n",
       "</symbol>\n",
       "<symbol overflow=\"visible\" id=\"glyph-1606184035301240-0-2\">\n",
       "<path style=\"stroke:none;\" d=\"M 0.953125 -0.265625 C 0.953125 -0.40625 0.84375 -0.53125 0.6875 -0.53125 C 0.546875 -0.53125 0.421875 -0.40625 0.421875 -0.265625 C 0.421875 -0.125 0.546875 0 0.6875 0 C 0.84375 0 0.953125 -0.125 0.953125 -0.265625 Z M 0.953125 -0.265625 \"/>\n",
       "</symbol>\n",
       "<symbol overflow=\"visible\" id=\"glyph-1606184035301240-0-3\">\n",
       "<path style=\"stroke:none;\" d=\"M 2.28125 -0.859375 C 2.28125 -1.265625 1.96875 -1.65625 1.453125 -1.75 C 1.859375 -1.890625 2.140625 -2.234375 2.140625 -2.625 C 2.140625 -3.046875 1.703125 -3.3125 1.21875 -3.3125 C 0.71875 -3.3125 0.34375 -3.015625 0.34375 -2.640625 C 0.34375 -2.484375 0.453125 -2.375 0.59375 -2.375 C 0.75 -2.375 0.859375 -2.5 0.859375 -2.640625 C 0.859375 -2.890625 0.625 -2.890625 0.546875 -2.890625 C 0.703125 -3.125 1.03125 -3.1875 1.203125 -3.1875 C 1.40625 -3.1875 1.6875 -3.078125 1.6875 -2.640625 C 1.6875 -2.578125 1.671875 -2.28125 1.546875 -2.0625 C 1.390625 -1.828125 1.21875 -1.8125 1.09375 -1.8125 C 1.0625 -1.796875 0.9375 -1.796875 0.90625 -1.796875 C 0.875 -1.796875 0.828125 -1.78125 0.828125 -1.734375 C 0.828125 -1.6875 0.875 -1.6875 0.953125 -1.6875 L 1.171875 -1.6875 C 1.578125 -1.6875 1.765625 -1.34375 1.765625 -0.859375 C 1.765625 -0.171875 1.421875 -0.03125 1.203125 -0.03125 C 0.984375 -0.03125 0.609375 -0.109375 0.4375 -0.40625 C 0.609375 -0.390625 0.765625 -0.5 0.765625 -0.6875 C 0.765625 -0.859375 0.640625 -0.96875 0.484375 -0.96875 C 0.375 -0.96875 0.203125 -0.890625 0.203125 -0.671875 C 0.203125 -0.21875 0.671875 0.109375 1.21875 0.109375 C 1.828125 0.109375 2.28125 -0.34375 2.28125 -0.859375 Z M 2.28125 -0.859375 \"/>\n",
       "</symbol>\n",
       "<symbol overflow=\"visible\" id=\"glyph-1606184035301240-0-4\">\n",
       "<path style=\"stroke:none;\" d=\"M 2.421875 -3.203125 L 1.203125 -3.203125 C 0.59375 -3.203125 0.59375 -3.28125 0.5625 -3.375 L 0.4375 -3.375 L 0.28125 -2.34375 L 0.40625 -2.34375 C 0.421875 -2.421875 0.46875 -2.734375 0.53125 -2.796875 C 0.5625 -2.828125 0.953125 -2.828125 1.015625 -2.828125 L 2.046875 -2.828125 L 1.484375 -2.03125 C 1.046875 -1.359375 0.875 -0.671875 0.875 -0.171875 C 0.875 -0.109375 0.875 0.109375 1.109375 0.109375 C 1.328125 0.109375 1.328125 -0.109375 1.328125 -0.171875 L 1.328125 -0.421875 C 1.328125 -0.6875 1.34375 -0.96875 1.390625 -1.234375 C 1.40625 -1.34375 1.484375 -1.78125 1.703125 -2.09375 L 2.375 -3.03125 C 2.421875 -3.09375 2.421875 -3.109375 2.421875 -3.203125 Z M 2.421875 -3.203125 \"/>\n",
       "</symbol>\n",
       "<symbol overflow=\"visible\" id=\"glyph-1606184035301240-0-5\">\n",
       "<path style=\"stroke:none;\" d=\"M 2.234375 -0.875 L 2.109375 -0.875 C 2.09375 -0.71875 2.046875 -0.5 2 -0.421875 C 1.96875 -0.390625 1.640625 -0.390625 1.53125 -0.390625 L 0.640625 -0.390625 L 1.15625 -0.890625 C 1.9375 -1.578125 2.234375 -1.859375 2.234375 -2.359375 C 2.234375 -2.921875 1.796875 -3.3125 1.1875 -3.3125 C 0.625 -3.3125 0.25 -2.859375 0.25 -2.421875 C 0.25 -2.140625 0.5 -2.140625 0.515625 -2.140625 C 0.59375 -2.140625 0.765625 -2.203125 0.765625 -2.40625 C 0.765625 -2.53125 0.6875 -2.65625 0.515625 -2.65625 C 0.46875 -2.65625 0.453125 -2.65625 0.4375 -2.65625 C 0.5625 -2.984375 0.828125 -3.171875 1.109375 -3.171875 C 1.5625 -3.171875 1.78125 -2.765625 1.78125 -2.359375 C 1.78125 -1.953125 1.53125 -1.5625 1.265625 -1.25 L 0.296875 -0.1875 C 0.25 -0.125 0.25 -0.125 0.25 0 L 2.09375 0 Z M 2.234375 -0.875 \"/>\n",
       "</symbol>\n",
       "<symbol overflow=\"visible\" id=\"glyph-1606184035301240-0-6\">\n",
       "<path style=\"stroke:none;\" d=\"M 2.28125 -0.84375 C 2.28125 -1.015625 2.21875 -1.234375 2.03125 -1.453125 C 1.9375 -1.5625 1.859375 -1.609375 1.546875 -1.796875 C 1.90625 -1.984375 2.140625 -2.25 2.140625 -2.578125 C 2.140625 -3.03125 1.703125 -3.3125 1.25 -3.3125 C 0.75 -3.3125 0.34375 -2.953125 0.34375 -2.484375 C 0.34375 -2.390625 0.359375 -2.171875 0.5625 -1.9375 C 0.625 -1.875 0.796875 -1.75 0.921875 -1.671875 C 0.640625 -1.53125 0.203125 -1.25 0.203125 -0.75 C 0.203125 -0.21875 0.71875 0.109375 1.234375 0.109375 C 1.796875 0.109375 2.28125 -0.296875 2.28125 -0.84375 Z M 1.921875 -2.578125 C 1.921875 -2.296875 1.734375 -2.046875 1.4375 -1.875 L 0.8125 -2.28125 C 0.578125 -2.421875 0.5625 -2.59375 0.5625 -2.6875 C 0.5625 -2.984375 0.890625 -3.1875 1.234375 -3.1875 C 1.609375 -3.1875 1.921875 -2.9375 1.921875 -2.578125 Z M 2.03125 -0.65625 C 2.03125 -0.296875 1.65625 -0.03125 1.25 -0.03125 C 0.8125 -0.03125 0.453125 -0.34375 0.453125 -0.75 C 0.453125 -1.046875 0.625 -1.359375 1.046875 -1.59375 L 1.65625 -1.203125 C 1.796875 -1.109375 2.03125 -0.96875 2.03125 -0.65625 Z M 2.03125 -0.65625 \"/>\n",
       "</symbol>\n",
       "<symbol overflow=\"visible\" id=\"glyph-1606184035301240-0-7\">\n",
       "<path style=\"stroke:none;\" d=\"M 2.34375 -0.828125 L 2.34375 -0.984375 L 1.84375 -0.984375 L 1.84375 -3.25 C 1.84375 -3.34375 1.84375 -3.375 1.765625 -3.375 C 1.71875 -3.375 1.703125 -3.375 1.671875 -3.3125 L 0.140625 -0.984375 L 0.140625 -0.828125 L 1.46875 -0.828125 L 1.46875 -0.390625 C 1.46875 -0.203125 1.453125 -0.15625 1.09375 -0.15625 L 0.984375 -0.15625 L 0.984375 0 C 1.1875 -0.015625 1.453125 -0.015625 1.65625 -0.015625 C 1.859375 -0.015625 2.125 -0.015625 2.328125 0 L 2.328125 -0.15625 L 2.234375 -0.15625 C 1.859375 -0.15625 1.84375 -0.203125 1.84375 -0.390625 L 1.84375 -0.828125 Z M 1.5 -0.984375 L 0.28125 -0.984375 L 1.5 -2.84375 Z M 1.5 -0.984375 \"/>\n",
       "</symbol>\n",
       "<symbol overflow=\"visible\" id=\"glyph-1606184035301240-0-8\">\n",
       "<path style=\"stroke:none;\" d=\"M 2.28125 -1.015625 C 2.28125 -1.65625 1.828125 -2.125 1.28125 -2.125 C 0.9375 -2.125 0.75 -1.875 0.65625 -1.640625 L 0.65625 -1.75 C 0.65625 -3.015625 1.28125 -3.1875 1.53125 -3.1875 C 1.65625 -3.1875 1.859375 -3.171875 1.96875 -3 C 1.890625 -3 1.6875 -3 1.6875 -2.765625 C 1.6875 -2.609375 1.8125 -2.546875 1.921875 -2.546875 C 2 -2.546875 2.15625 -2.59375 2.15625 -2.78125 C 2.15625 -3.078125 1.9375 -3.3125 1.515625 -3.3125 C 0.875 -3.3125 0.203125 -2.671875 0.203125 -1.578125 C 0.203125 -0.25 0.78125 0.109375 1.25 0.109375 C 1.796875 0.109375 2.28125 -0.359375 2.28125 -1.015625 Z M 1.828125 -1.015625 C 1.828125 -0.78125 1.828125 -0.53125 1.75 -0.359375 C 1.59375 -0.0625 1.359375 -0.03125 1.25 -0.03125 C 0.9375 -0.03125 0.78125 -0.328125 0.75 -0.40625 C 0.671875 -0.640625 0.671875 -1.03125 0.671875 -1.125 C 0.671875 -1.515625 0.828125 -2.015625 1.28125 -2.015625 C 1.359375 -2.015625 1.578125 -2.015625 1.734375 -1.703125 C 1.828125 -1.515625 1.828125 -1.265625 1.828125 -1.015625 Z M 1.828125 -1.015625 \"/>\n",
       "</symbol>\n",
       "<symbol overflow=\"visible\" id=\"glyph-1606184035301240-1-0\">\n",
       "<path style=\"stroke:none;\" d=\"\"/>\n",
       "</symbol>\n",
       "<symbol overflow=\"visible\" id=\"glyph-1606184035301240-1-1\">\n",
       "<path style=\"stroke:none;\" d=\"M 7.203125 -2.5 C 7.203125 -2.609375 7.109375 -2.6875 7 -2.6875 L 4.078125 -2.6875 L 4.078125 -5.609375 C 4.078125 -5.71875 3.984375 -5.8125 3.875 -5.8125 C 3.765625 -5.8125 3.671875 -5.71875 3.671875 -5.609375 L 3.671875 -2.6875 L 0.75 -2.6875 C 0.640625 -2.6875 0.5625 -2.609375 0.5625 -2.5 C 0.5625 -2.375 0.640625 -2.296875 0.75 -2.296875 L 3.671875 -2.296875 L 3.671875 0.625 C 3.671875 0.734375 3.765625 0.828125 3.875 0.828125 C 3.984375 0.828125 4.078125 0.734375 4.078125 0.625 L 4.078125 -2.296875 L 7 -2.296875 C 7.109375 -2.296875 7.203125 -2.375 7.203125 -2.5 Z M 7.203125 -2.5 \"/>\n",
       "</symbol>\n",
       "<symbol overflow=\"visible\" id=\"glyph-1606184035301240-1-2\">\n",
       "<path style=\"stroke:none;\" d=\"M 4.34375 -4.265625 C 4.4375 -4.421875 4.375 -4.609375 4.21875 -4.671875 L 2.734375 -5.328125 L 4.21875 -5.984375 C 4.375 -6.0625 4.4375 -6.25 4.34375 -6.40625 C 4.25 -6.5625 4.0625 -6.59375 3.921875 -6.5 L 2.609375 -5.546875 L 2.78125 -7.140625 C 2.796875 -7.328125 2.671875 -7.484375 2.5 -7.484375 C 2.3125 -7.484375 2.1875 -7.328125 2.203125 -7.140625 L 2.375 -5.546875 L 1.0625 -6.5 C 0.921875 -6.59375 0.734375 -6.5625 0.640625 -6.40625 C 0.546875 -6.25 0.609375 -6.0625 0.765625 -5.984375 L 2.25 -5.328125 L 0.765625 -4.671875 C 0.609375 -4.609375 0.546875 -4.421875 0.640625 -4.265625 C 0.734375 -4.109375 0.921875 -4.0625 1.0625 -4.171875 L 2.375 -5.125 L 2.203125 -3.515625 C 2.1875 -3.34375 2.3125 -3.1875 2.5 -3.1875 C 2.671875 -3.1875 2.796875 -3.34375 2.78125 -3.515625 L 2.609375 -5.125 L 3.921875 -4.171875 C 4.0625 -4.0625 4.25 -4.109375 4.34375 -4.265625 Z M 4.34375 -4.265625 \"/>\n",
       "</symbol>\n",
       "<symbol overflow=\"visible\" id=\"glyph-1606184035301240-1-3\">\n",
       "<path style=\"stroke:none;\" d=\"M 4.171875 0 L 4.171875 -0.3125 L 3.859375 -0.3125 C 2.953125 -0.3125 2.9375 -0.421875 2.9375 -0.78125 L 2.9375 -6.375 C 2.9375 -6.625 2.9375 -6.640625 2.703125 -6.640625 C 2.078125 -6 1.203125 -6 0.890625 -6 L 0.890625 -5.6875 C 1.09375 -5.6875 1.671875 -5.6875 2.1875 -5.953125 L 2.1875 -0.78125 C 2.1875 -0.421875 2.15625 -0.3125 1.265625 -0.3125 L 0.953125 -0.3125 L 0.953125 0 C 1.296875 -0.03125 2.15625 -0.03125 2.5625 -0.03125 C 2.953125 -0.03125 3.828125 -0.03125 4.171875 0 Z M 4.171875 0 \"/>\n",
       "</symbol>\n",
       "<symbol overflow=\"visible\" id=\"glyph-1606184035301240-1-4\">\n",
       "<path style=\"stroke:none;\" d=\"M 4.46875 -1.734375 L 4.234375 -1.734375 C 4.171875 -1.4375 4.109375 -1 4 -0.84375 C 3.9375 -0.765625 3.28125 -0.765625 3.0625 -0.765625 L 1.265625 -0.765625 L 2.328125 -1.796875 C 3.875 -3.171875 4.46875 -3.703125 4.46875 -4.703125 C 4.46875 -5.84375 3.578125 -6.640625 2.359375 -6.640625 C 1.234375 -6.640625 0.5 -5.71875 0.5 -4.828125 C 0.5 -4.28125 1 -4.28125 1.03125 -4.28125 C 1.203125 -4.28125 1.546875 -4.390625 1.546875 -4.8125 C 1.546875 -5.0625 1.359375 -5.328125 1.015625 -5.328125 C 0.9375 -5.328125 0.921875 -5.328125 0.890625 -5.3125 C 1.109375 -5.96875 1.65625 -6.328125 2.234375 -6.328125 C 3.140625 -6.328125 3.5625 -5.515625 3.5625 -4.703125 C 3.5625 -3.90625 3.078125 -3.125 2.515625 -2.5 L 0.609375 -0.375 C 0.5 -0.265625 0.5 -0.234375 0.5 0 L 4.203125 0 Z M 4.46875 -1.734375 \"/>\n",
       "</symbol>\n",
       "<symbol overflow=\"visible\" id=\"glyph-1606184035301240-1-5\">\n",
       "<path style=\"stroke:none;\" d=\"M 2.75 -1.859375 L 2.75 -2.4375 L 0.109375 -2.4375 L 0.109375 -1.859375 Z M 2.75 -1.859375 \"/>\n",
       "</symbol>\n",
       "<symbol overflow=\"visible\" id=\"glyph-1606184035301240-1-6\">\n",
       "<path style=\"stroke:none;\" d=\"M 4.5625 -1.703125 C 4.5625 -2.515625 3.921875 -3.296875 2.890625 -3.515625 C 3.703125 -3.78125 4.28125 -4.46875 4.28125 -5.265625 C 4.28125 -6.078125 3.40625 -6.640625 2.453125 -6.640625 C 1.453125 -6.640625 0.6875 -6.046875 0.6875 -5.28125 C 0.6875 -4.953125 0.90625 -4.765625 1.203125 -4.765625 C 1.5 -4.765625 1.703125 -4.984375 1.703125 -5.28125 C 1.703125 -5.765625 1.234375 -5.765625 1.09375 -5.765625 C 1.390625 -6.265625 2.046875 -6.390625 2.40625 -6.390625 C 2.828125 -6.390625 3.375 -6.171875 3.375 -5.28125 C 3.375 -5.15625 3.34375 -4.578125 3.09375 -4.140625 C 2.796875 -3.65625 2.453125 -3.625 2.203125 -3.625 C 2.125 -3.609375 1.890625 -3.59375 1.8125 -3.59375 C 1.734375 -3.578125 1.671875 -3.5625 1.671875 -3.46875 C 1.671875 -3.359375 1.734375 -3.359375 1.90625 -3.359375 L 2.34375 -3.359375 C 3.15625 -3.359375 3.53125 -2.6875 3.53125 -1.703125 C 3.53125 -0.34375 2.84375 -0.0625 2.40625 -0.0625 C 1.96875 -0.0625 1.21875 -0.234375 0.875 -0.8125 C 1.21875 -0.765625 1.53125 -0.984375 1.53125 -1.359375 C 1.53125 -1.71875 1.265625 -1.921875 0.984375 -1.921875 C 0.734375 -1.921875 0.421875 -1.78125 0.421875 -1.34375 C 0.421875 -0.4375 1.34375 0.21875 2.4375 0.21875 C 3.65625 0.21875 4.5625 -0.6875 4.5625 -1.703125 Z M 4.5625 -1.703125 \"/>\n",
       "</symbol>\n",
       "</g>\n",
       "</defs>\n",
       "<g id=\"surface1\">\n",
       "<path style=\"fill:none;stroke-width:0.3985;stroke-linecap:butt;stroke-linejoin:miter;stroke:rgb(0%,0%,0%);stroke-opacity:1;stroke-miterlimit:10;\" d=\"M -3.416937 -6.838563 L -10.338812 -20.682313 \" transform=\"matrix(1,0,0,-1,48.331,6.638)\"/>\n",
       "<path style=\"fill:none;stroke-width:0.31879;stroke-linecap:round;stroke-linejoin:round;stroke:rgb(0%,0%,0%);stroke-opacity:1;stroke-miterlimit:10;\" d=\"M -1.196375 1.591938 C -1.09505 0.996187 0.000353087 0.0981852 0.299101 -0.00140033 C -0.00139575 -0.0992334 -1.095068 -0.995469 -1.196403 -1.596459 \" transform=\"matrix(-0.44717,0.89436,0.89436,0.44717,37.99047,27.31906)\"/>\n",
       "<g style=\"fill:rgb(0%,0%,0%);fill-opacity:1;\">\n",
       "  <use xlink:href=\"#glyph-1606184035301240-0-1\" x=\"44.869\" y=\"27.439\"/>\n",
       "  <use xlink:href=\"#glyph-1606184035301240-0-2\" x=\"47.35966\" y=\"27.439\"/>\n",
       "  <use xlink:href=\"#glyph-1606184035301240-0-3\" x=\"48.744467\" y=\"27.439\"/>\n",
       "</g>\n",
       "<path style=\"fill:none;stroke-width:0.3985;stroke-linecap:butt;stroke-linejoin:miter;stroke:rgb(0%,0%,0%);stroke-opacity:1;stroke-miterlimit:10;\" d=\"M 3.419 -6.838563 L 10.340875 -20.682313 \" transform=\"matrix(1,0,0,-1,48.331,6.638)\"/>\n",
       "<path style=\"fill:none;stroke-width:0.31879;stroke-linecap:round;stroke-linejoin:round;stroke:rgb(0%,0%,0%);stroke-opacity:1;stroke-miterlimit:10;\" d=\"M -1.197228 1.59481 C -1.094145 0.997314 -0.000473311 0.101078 0.298276 -0.00024891 C -0.000471514 -0.0998344 -1.095875 -0.997837 -1.197199 -1.593588 \" transform=\"matrix(0.44717,0.89436,0.89436,-0.44717,58.67153,27.31906)\"/>\n",
       "<g style=\"fill:rgb(0%,0%,0%);fill-opacity:1;\">\n",
       "  <use xlink:href=\"#glyph-1606184035301240-0-1\" x=\"58.833\" y=\"16.973\"/>\n",
       "  <use xlink:href=\"#glyph-1606184035301240-0-2\" x=\"61.32366\" y=\"16.973\"/>\n",
       "  <use xlink:href=\"#glyph-1606184035301240-0-4\" x=\"62.708467\" y=\"16.973\"/>\n",
       "</g>\n",
       "<path style=\"fill:none;stroke-width:0.3985;stroke-linecap:butt;stroke-linejoin:miter;stroke:rgb(0%,0%,0%);stroke-opacity:1;stroke-miterlimit:10;\" d=\"M -20.182562 -34.358094 L -36.186469 -50.358094 \" transform=\"matrix(1,0,0,-1,48.331,6.638)\"/>\n",
       "<path style=\"fill:none;stroke-width:0.31879;stroke-linecap:round;stroke-linejoin:round;stroke:rgb(0%,0%,0%);stroke-opacity:1;stroke-miterlimit:10;\" d=\"M -1.196106 1.592505 C -1.096669 0.995878 -0.000090157 0.0981756 0.298223 -0.0012622 C -0.000090157 -0.1007 -1.093906 -0.995641 -1.196106 -1.59503 \" transform=\"matrix(-0.7071,0.7071,0.7071,0.7071,12.14536,56.99705)\"/>\n",
       "<path style=\"fill:none;stroke-width:0.3985;stroke-linecap:butt;stroke-linejoin:miter;stroke:rgb(0%,0%,0%);stroke-opacity:1;stroke-miterlimit:10;\" d=\"M -14.17475 -35.604188 L -14.17475 -49.397156 \" transform=\"matrix(1,0,0,-1,48.331,6.638)\"/>\n",
       "<path style=\"fill:none;stroke-width:0.31879;stroke-linecap:round;stroke-linejoin:round;stroke:rgb(0%,0%,0%);stroke-opacity:1;stroke-miterlimit:10;\" d=\"M -1.196046 1.59239 C -1.094484 0.994734 -0.00073375 0.100203 0.300048 -0.00136 C -0.00073375 -0.0990162 -1.094484 -0.997454 -1.196046 -1.59511 \" transform=\"matrix(0,1,1,0,34.15761,56.03589)\"/>\n",
       "<path style=\"fill:none;stroke-width:0.3985;stroke-linecap:butt;stroke-linejoin:miter;stroke:rgb(0%,0%,0%);stroke-opacity:1;stroke-miterlimit:10;\" d=\"M 14.172906 -35.604188 L 14.172906 -49.397156 \" transform=\"matrix(1,0,0,-1,48.331,6.638)\"/>\n",
       "<path style=\"fill:none;stroke-width:0.31879;stroke-linecap:round;stroke-linejoin:round;stroke:rgb(0%,0%,0%);stroke-opacity:1;stroke-miterlimit:10;\" d=\"M -1.196046 1.593266 C -1.094484 0.99561 -0.00073375 0.101079 0.300048 -0.00048375 C -0.00073375 -0.09814 -1.094484 -0.996577 -1.196046 -1.594234 \" transform=\"matrix(0,1,1,0,62.50439,56.03589)\"/>\n",
       "<path style=\"fill:none;stroke-width:0.3985;stroke-linecap:butt;stroke-linejoin:miter;stroke:rgb(0%,0%,0%);stroke-opacity:1;stroke-miterlimit:10;\" d=\"M 20.184625 -34.358094 L 35.360406 -49.533875 \" transform=\"matrix(1,0,0,-1,48.331,6.638)\"/>\n",
       "<path style=\"fill:none;stroke-width:0.31879;stroke-linecap:round;stroke-linejoin:round;stroke:rgb(0%,0%,0%);stroke-opacity:1;stroke-miterlimit:10;\" d=\"M -1.19359 1.593712 C -1.094152 0.997085 0.00242628 0.0993822 0.30074 -0.0000556852 C 0.00242628 -0.0994935 -1.094152 -0.997196 -1.19359 -1.593823 \" transform=\"matrix(0.7071,0.7071,0.7071,-0.7071,83.68973,56.17012)\"/>\n",
       "<path style=\"fill:none;stroke-width:0.3985;stroke-linecap:butt;stroke-linejoin:miter;stroke:rgb(0%,0%,0%);stroke-opacity:1;stroke-miterlimit:10;\" d=\"M -19.29975 -63.529969 L -30.030219 -77.834656 \" transform=\"matrix(1,0,0,-1,48.331,6.638)\"/>\n",
       "<path style=\"fill:none;stroke-width:0.31879;stroke-linecap:round;stroke-linejoin:round;stroke:rgb(0%,0%,0%);stroke-opacity:1;stroke-miterlimit:10;\" d=\"M -1.196872 1.592957 C -1.095301 0.995283 0.00161631 0.0991737 0.300064 0.000736273 C -0.00150681 -0.0984885 -1.095281 -0.996964 -1.194496 -1.593858 \" transform=\"matrix(-0.59999,0.79997,0.79997,0.59999,18.30054,84.47436)\"/>\n",
       "<g style=\"fill:rgb(0%,0%,0%);fill-opacity:1;\">\n",
       "  <use xlink:href=\"#glyph-1606184035301240-0-1\" x=\"27.047\" y=\"84.341\"/>\n",
       "  <use xlink:href=\"#glyph-1606184035301240-0-2\" x=\"29.53766\" y=\"84.341\"/>\n",
       "  <use xlink:href=\"#glyph-1606184035301240-0-5\" x=\"30.922467\" y=\"84.341\"/>\n",
       "</g>\n",
       "<path style=\"fill:none;stroke-width:0.3985;stroke-linecap:butt;stroke-linejoin:miter;stroke:rgb(0%,0%,0%);stroke-opacity:1;stroke-miterlimit:10;\" d=\"M -12.463812 -63.529969 L -8.936469 -77.647156 \" transform=\"matrix(1,0,0,-1,48.331,6.638)\"/>\n",
       "<path style=\"fill:none;stroke-width:0.31879;stroke-linecap:round;stroke-linejoin:round;stroke:rgb(0%,0%,0%);stroke-opacity:1;stroke-miterlimit:10;\" d=\"M -1.19393 1.593021 C -1.097279 0.997101 -0.00110049 0.0989799 0.300179 -0.000491135 C 0.00174655 -0.0990293 -1.096283 -0.996256 -1.197642 -1.595023 \" transform=\"matrix(0.24251,0.97014,0.97014,-0.24251,39.39643,84.28679)\"/>\n",
       "<g style=\"fill:rgb(0%,0%,0%);fill-opacity:1;\">\n",
       "  <use xlink:href=\"#glyph-1606184035301240-0-1\" x=\"41.207\" y=\"73.82\"/>\n",
       "  <use xlink:href=\"#glyph-1606184035301240-0-2\" x=\"43.69766\" y=\"73.82\"/>\n",
       "  <use xlink:href=\"#glyph-1606184035301240-0-6\" x=\"45.082467\" y=\"73.82\"/>\n",
       "</g>\n",
       "<path style=\"fill:none;stroke-width:0.3985;stroke-linecap:butt;stroke-linejoin:miter;stroke:rgb(0%,0%,0%);stroke-opacity:1;stroke-miterlimit:10;\" d=\"M 39.102594 -63.529969 L 31.969781 -77.791688 \" transform=\"matrix(1,0,0,-1,48.331,6.638)\"/>\n",
       "<path style=\"fill:none;stroke-width:0.31879;stroke-linecap:round;stroke-linejoin:round;stroke:rgb(0%,0%,0%);stroke-opacity:1;stroke-miterlimit:10;\" d=\"M -1.19594 1.593844 C -1.094615 0.998093 0.000788054 0.100091 0.299536 0.000505508 C 0.000786257 -0.100822 -1.098127 -0.99531 -1.195968 -1.594553 \" transform=\"matrix(-0.44717,0.89436,0.89436,0.44717,80.30146,84.4311)\"/>\n",
       "<g style=\"fill:rgb(0%,0%,0%);fill-opacity:1;\">\n",
       "  <use xlink:href=\"#glyph-1606184035301240-0-1\" x=\"87.284\" y=\"84.396\"/>\n",
       "  <use xlink:href=\"#glyph-1606184035301240-0-2\" x=\"89.77466\" y=\"84.396\"/>\n",
       "  <use xlink:href=\"#glyph-1606184035301240-0-7\" x=\"91.159467\" y=\"84.396\"/>\n",
       "</g>\n",
       "<path style=\"fill:none;stroke-width:0.3985;stroke-linecap:butt;stroke-linejoin:miter;stroke:rgb(0%,0%,0%);stroke-opacity:1;stroke-miterlimit:10;\" d=\"M 45.938531 -63.529969 L 53.016656 -77.682313 \" transform=\"matrix(1,0,0,-1,48.331,6.638)\"/>\n",
       "<path style=\"fill:none;stroke-width:0.31879;stroke-linecap:round;stroke-linejoin:round;stroke:rgb(0%,0%,0%);stroke-opacity:1;stroke-miterlimit:10;\" d=\"M -1.195415 1.595202 C -1.097574 0.995959 -0.000407314 0.0979761 0.300089 0.000143009 C 0.00134152 -0.0994425 -1.097556 -0.995698 -1.195386 -1.593196 \" transform=\"matrix(0.44717,0.89436,0.89436,-0.44717,101.34615,84.32152)\"/>\n",
       "<g style=\"fill:rgb(0%,0%,0%);fill-opacity:1;\">\n",
       "  <use xlink:href=\"#glyph-1606184035301240-0-1\" x=\"101.429\" y=\"73.82\"/>\n",
       "  <use xlink:href=\"#glyph-1606184035301240-0-2\" x=\"103.91966\" y=\"73.82\"/>\n",
       "  <use xlink:href=\"#glyph-1606184035301240-0-8\" x=\"105.304467\" y=\"73.82\"/>\n",
       "</g>\n",
       "<g style=\"fill:rgb(0%,0%,0%);fill-opacity:1;\">\n",
       "  <use xlink:href=\"#glyph-1606184035301240-1-1\" x=\"44.455\" y=\"9.129\"/>\n",
       "</g>\n",
       "<g style=\"fill:rgb(0%,0%,0%);fill-opacity:1;\">\n",
       "  <use xlink:href=\"#glyph-1606184035301240-1-2\" x=\"31.667\" y=\"38.72\"/>\n",
       "</g>\n",
       "<g style=\"fill:rgb(0%,0%,0%);fill-opacity:1;\">\n",
       "  <use xlink:href=\"#glyph-1606184035301240-1-2\" x=\"60.013\" y=\"38.72\"/>\n",
       "</g>\n",
       "<g style=\"fill:rgb(0%,0%,0%);fill-opacity:1;\">\n",
       "  <use xlink:href=\"#glyph-1606184035301240-1-3\" x=\"3.321\" y=\"66.648\"/>\n",
       "</g>\n",
       "<g style=\"fill:rgb(0%,0%,0%);fill-opacity:1;\">\n",
       "  <use xlink:href=\"#glyph-1606184035301240-1-1\" x=\"30.282\" y=\"65.822\"/>\n",
       "</g>\n",
       "<g style=\"fill:rgb(0%,0%,0%);fill-opacity:1;\">\n",
       "  <use xlink:href=\"#glyph-1606184035301240-1-4\" x=\"10.407\" y=\"94.995\"/>\n",
       "</g>\n",
       "<g style=\"fill:rgb(0%,0%,0%);fill-opacity:1;\">\n",
       "  <use xlink:href=\"#glyph-1606184035301240-1-5\" x=\"37.095\" y=\"94.885\"/>\n",
       "  <use xlink:href=\"#glyph-1606184035301240-1-6\" x=\"40.412559\" y=\"94.885\"/>\n",
       "</g>\n",
       "<g style=\"fill:rgb(0%,0%,0%);fill-opacity:1;\">\n",
       "  <use xlink:href=\"#glyph-1606184035301240-1-5\" x=\"58.355\" y=\"66.648\"/>\n",
       "  <use xlink:href=\"#glyph-1606184035301240-1-3\" x=\"61.672559\" y=\"66.648\"/>\n",
       "</g>\n",
       "<g style=\"fill:rgb(0%,0%,0%);fill-opacity:1;\">\n",
       "  <use xlink:href=\"#glyph-1606184035301240-1-1\" x=\"86.975\" y=\"65.822\"/>\n",
       "</g>\n",
       "<g style=\"fill:rgb(0%,0%,0%);fill-opacity:1;\">\n",
       "  <use xlink:href=\"#glyph-1606184035301240-1-5\" x=\"72.528\" y=\"94.995\"/>\n",
       "  <use xlink:href=\"#glyph-1606184035301240-1-4\" x=\"75.845559\" y=\"94.995\"/>\n",
       "</g>\n",
       "<g style=\"fill:rgb(0%,0%,0%);fill-opacity:1;\">\n",
       "  <use xlink:href=\"#glyph-1606184035301240-1-6\" x=\"102.533\" y=\"94.885\"/>\n",
       "</g>\n",
       "</g>\n",
       "</svg>\n",
       "\n"
      ],
      "text/plain": [
       "TikzPicture(\"\\\\graph [layered layout, ] {\\n1/\\\"+\\\" [],\\n2/\\\"*\\\" [],\\n3/\\\"*\\\" [],\\n4/\\\"1\\\" [],\\n5/\\\"+\\\" [],\\n6/\\\"2\\\" [],\\n7/\\\"-3\\\" [],\\n8/\\\"-1\\\" [],\\n9/\\\"+\\\" [],\\n10/\\\"-2\\\" [],\\n11/\\\"3\\\" [],\\n;\\n1 -> [font=\\\\tiny,edge label={0.3},] 2;\\n1 -> [font=\\\\tiny,edge label={0.7},] 3;\\n2 -> [font=\\\\tiny,] 4;\\n2 -> [font=\\\\tiny,] 5;\\n3 -> [font=\\\\tiny,] 8;\\n3 -> [font=\\\\tiny,] 9;\\n5 -> [font=\\\\tiny,edge label={0.2},] 6;\\n5 -> [font=\\\\tiny,edge label={0.8},] 7;\\n9 -> [font=\\\\tiny,edge label={0.4},] 10;\\n9 -> [font=\\\\tiny,edge label={0.6},] 11;\\n};\\n\", \"\", \"\\\\usepackage{fontspec}\\n\\\\setmainfont{Latin Modern Math}\\n\\\\usetikzlibrary{arrows}\\n\\\\usetikzlibrary{graphs}\\n\\\\usetikzlibrary{graphdrawing}\\n\\n% from: https://tex.stackexchange.com/questions/453132/fresh-install-of-tl2018-no-tikz-graph-drawing-libraries-found\\n\\\\usepackage{luacode}\\n\\\\begin{luacode*}\\n\\tfunction pgf_lookup_and_require(name)\\n\\tlocal sep = package.config:sub(1,1)\\n\\tlocal function lookup(name)\\n\\tlocal sub = name:gsub('%.',sep)  \\n\\tif kpse.find_file(sub, 'lua') then\\n\\trequire(name)\\n\\telseif kpse.find_file(sub, 'clua') then\\n\\tcollectgarbage('stop') \\n\\trequire(name)\\n\\tcollectgarbage('restart')\\n\\telse\\n\\treturn false\\n\\tend\\n\\treturn true\\n\\tend\\n\\treturn\\n\\tlookup('pgf.gd.' .. name .. '.library') or\\n\\tlookup('pgf.gd.' .. name) or\\n\\tlookup(name .. '.library') or\\n\\tlookup(name) \\n\\tend\\n\\\\end{luacode*}\\n\\n\\\\usegdlibrary{layered}\", \"tikzpicture\", \"\", \"\", true, true)"
      ]
     },
     "execution_count": 7,
     "metadata": {},
     "output_type": "execute_result"
    }
   ],
   "source": [
    "X1, X2, X3 = literals(ProbCircuit, 3)\n",
    "pc = 0.3 * (X1[1] * \n",
    "             (0.2X2[1] + 0.8X3[2])) + \n",
    "     0.7 * (X1[2] *\n",
    "             (0.4X2[2] + 0.6X3[1]))\n",
    "plot(pc)"
   ]
  },
  {
   "cell_type": "markdown",
   "metadata": {},
   "source": [
    "2. Some circuit statistics"
   ]
  },
  {
   "cell_type": "code",
   "execution_count": 8,
   "metadata": {},
   "outputs": [
    {
     "name": "stdout",
     "output_type": "stream",
     "text": [
      "Logical formula of this circuit: ((1 ⋀ (2 ⋁ -3)) ⋁ (-1 ⋀ (-2 ⋁ 3)))\n",
      "Some circuit statistics: \n",
      "# variables : 3\n",
      "# nodes : 11\n",
      "# edges : 10\n",
      "# parameters : 6\n"
     ]
    }
   ],
   "source": [
    "println(\"Logical formula of this circuit: \", tree_formula_string(pc))\n",
    "println(\"Some circuit statistics: \")\n",
    "println(\"# variables : \", num_variables(pc))\n",
    "println(\"# nodes : \", num_nodes(pc))\n",
    "println(\"# edges : \", num_edges(pc))\n",
    "println(\"# parameters : \", num_parameters(pc))"
   ]
  },
  {
   "cell_type": "markdown",
   "metadata": {},
   "source": [
    "## Structure properties\n",
    "- Circuits satisfying certain structure properties can answer different queries in tractable time. Like smoothness , determinism, decomposability for and structure decomposability, You can ask if the given circuit satisfies such constrains by `isproperty`, for example `issmooth(pc)`\n",
    "1. Is the circuit **smooth**?\n",
    "- A sum node is smooth if its children depend of the same variable sets"
   ]
  },
  {
   "cell_type": "code",
   "execution_count": 9,
   "metadata": {},
   "outputs": [
    {
     "name": "stdout",
     "output_type": "stream",
     "text": [
      "Is (1 ⋁ -1) smooth : true\n",
      "Is (1 ⋁ -2) smooth : false\n"
     ]
    }
   ],
   "source": [
    "c1 = 0.4 * X1[1] + 0.6 * X1[2]\n",
    "c2 = 0.4 * X1[1] + 0.6 * X2[2]\n",
    "println(\"Is \", tree_formula_string(c1), \" smooth : \", issmooth(c1))\n",
    "println(\"Is \", tree_formula_string(c2), \" smooth : \", issmooth(c2))"
   ]
  },
  {
   "cell_type": "code",
   "execution_count": 10,
   "metadata": {},
   "outputs": [
    {
     "data": {
      "text/plain": [
       "false"
      ]
     },
     "execution_count": 10,
     "metadata": {},
     "output_type": "execute_result"
    }
   ],
   "source": [
    "issmooth(pc)"
   ]
  },
  {
   "cell_type": "markdown",
   "metadata": {},
   "source": [
    "2. Is the circuit **deterministic**?\n",
    "- A sum node is deterministic if the output of only one children is non zero for any input"
   ]
  },
  {
   "cell_type": "code",
   "execution_count": 11,
   "metadata": {},
   "outputs": [
    {
     "name": "stdout",
     "output_type": "stream",
     "text": [
      "Is ((1 ⋀ 2) ⋁ (1 ⋀ -2)) deterministic : true\n",
      "Is ((1 ⋀ 2) ⋁ (1 ⋀ 2)) deterministic : false\n"
     ]
    }
   ],
   "source": [
    "c1 = X1[1] * X2[1] + X1[1] * X2[2]\n",
    "c2 = X1[1] * X2[1] + X1[1] * X2[1]\n",
    "println(\"Is \", tree_formula_string(c1), \" deterministic : \", isdeterministic(c1))\n",
    "println(\"Is \", tree_formula_string(c2), \" deterministic : \", isdeterministic(c2))"
   ]
  },
  {
   "cell_type": "markdown",
   "metadata": {},
   "source": [
    "3. Is the circuit **decomposable**?\n",
    "- A product node is decomposable if its children depend on disjoint sets of variables"
   ]
  },
  {
   "cell_type": "code",
   "execution_count": 12,
   "metadata": {},
   "outputs": [
    {
     "data": {
      "text/plain": [
       "true"
      ]
     },
     "execution_count": 12,
     "metadata": {},
     "output_type": "execute_result"
    }
   ],
   "source": [
    "isdecomposable(pc)"
   ]
  },
  {
   "cell_type": "code",
   "execution_count": 13,
   "metadata": {},
   "outputs": [
    {
     "name": "stdout",
     "output_type": "stream",
     "text": [
      "Is (1 ⋀ 2 ⋀ 3) decomposable : true\n",
      "Is (1 ⋀ 1 ⋀ 3) decomposable : false\n"
     ]
    }
   ],
   "source": [
    "c1 = X1[1] * X2[1] * X3[1]\n",
    "c2 = X1[1] * X1[1] * X3[1]\n",
    "println(\"Is \", tree_formula_string(c1), \" decomposable : \", isdecomposable(c1))\n",
    "println(\"Is \", tree_formula_string(c2), \" decomposable : \", isdecomposable(c2))"
   ]
  },
  {
   "cell_type": "markdown",
   "metadata": {},
   "source": [
    "4. Is the circuit **structured-decomposable**?\n",
    "- A product node is structured decomposable if decomposes according to a node in a vtree"
   ]
  },
  {
   "cell_type": "code",
   "execution_count": 14,
   "metadata": {},
   "outputs": [
    {
     "name": "stdout",
     "output_type": "stream",
     "text": [
      "Is ((1 ⋀ 2) ⋁ (-1 ⋀ -3)) decomposable : true\n",
      "Is ((1 ⋀ 2) ⋁ (-1 ⋀ -3)) structured decomposable : false\n",
      "Is ((1 ⋀ 2) ⋁ (-1 ⋀ -2)) structured decomposable : true\n"
     ]
    },
    {
     "data": {
      "image/svg+xml": [
       "<?xml version=\"1.0\" encoding=\"UTF-8\"?>\n",
       "<svg xmlns=\"http://www.w3.org/2000/svg\" xmlns:xlink=\"http://www.w3.org/1999/xlink\" width=\"39.969pt\" height=\"38.833pt\" viewBox=\"0 0 39.969 38.833\" version=\"1.1\">\n",
       "<defs>\n",
       "<g>\n",
       "<symbol overflow=\"visible\" id=\"glyph-1606184035301241-0-0\">\n",
       "<path style=\"stroke:none;\" d=\"\"/>\n",
       "</symbol>\n",
       "<symbol overflow=\"visible\" id=\"glyph-1606184035301241-0-1\">\n",
       "<path style=\"stroke:none;\" d=\"M 4.171875 0 L 4.171875 -0.3125 L 3.859375 -0.3125 C 2.953125 -0.3125 2.9375 -0.421875 2.9375 -0.78125 L 2.9375 -6.375 C 2.9375 -6.625 2.9375 -6.640625 2.703125 -6.640625 C 2.078125 -6 1.203125 -6 0.890625 -6 L 0.890625 -5.6875 C 1.09375 -5.6875 1.671875 -5.6875 2.1875 -5.953125 L 2.1875 -0.78125 C 2.1875 -0.421875 2.15625 -0.3125 1.265625 -0.3125 L 0.953125 -0.3125 L 0.953125 0 C 1.296875 -0.03125 2.15625 -0.03125 2.5625 -0.03125 C 2.953125 -0.03125 3.828125 -0.03125 4.171875 0 Z M 4.171875 0 \"/>\n",
       "</symbol>\n",
       "<symbol overflow=\"visible\" id=\"glyph-1606184035301241-0-2\">\n",
       "<path style=\"stroke:none;\" d=\"M 4.46875 -1.734375 L 4.234375 -1.734375 C 4.171875 -1.4375 4.109375 -1 4 -0.84375 C 3.9375 -0.765625 3.28125 -0.765625 3.0625 -0.765625 L 1.265625 -0.765625 L 2.328125 -1.796875 C 3.875 -3.171875 4.46875 -3.703125 4.46875 -4.703125 C 4.46875 -5.84375 3.578125 -6.640625 2.359375 -6.640625 C 1.234375 -6.640625 0.5 -5.71875 0.5 -4.828125 C 0.5 -4.28125 1 -4.28125 1.03125 -4.28125 C 1.203125 -4.28125 1.546875 -4.390625 1.546875 -4.8125 C 1.546875 -5.0625 1.359375 -5.328125 1.015625 -5.328125 C 0.9375 -5.328125 0.921875 -5.328125 0.890625 -5.3125 C 1.109375 -5.96875 1.65625 -6.328125 2.234375 -6.328125 C 3.140625 -6.328125 3.5625 -5.515625 3.5625 -4.703125 C 3.5625 -3.90625 3.078125 -3.125 2.515625 -2.5 L 0.609375 -0.375 C 0.5 -0.265625 0.5 -0.234375 0.5 0 L 4.203125 0 Z M 4.46875 -1.734375 \"/>\n",
       "</symbol>\n",
       "<symbol overflow=\"visible\" id=\"glyph-1606184035301241-0-3\">\n",
       "<path style=\"stroke:none;\" d=\"M 1.90625 -0.53125 C 1.90625 -0.8125 1.671875 -1.0625 1.390625 -1.0625 C 1.09375 -1.0625 0.859375 -0.8125 0.859375 -0.53125 C 0.859375 -0.234375 1.09375 0 1.390625 0 C 1.671875 0 1.90625 -0.234375 1.90625 -0.53125 Z M 1.90625 -0.53125 \"/>\n",
       "</symbol>\n",
       "</g>\n",
       "</defs>\n",
       "<g id=\"surface1\">\n",
       "<path style=\"fill:none;stroke-width:0.3985;stroke-linecap:butt;stroke-linejoin:miter;stroke:rgb(0%,0%,0%);stroke-opacity:1;stroke-miterlimit:10;\" d=\"M 12.149938 24.300469 L 3.622594 7.245781 \" transform=\"matrix(1,0,0,-1,5.811,32.195)\"/>\n",
       "<path style=\"fill:none;stroke-width:0.31879;stroke-linecap:round;stroke-linejoin:round;stroke:rgb(0%,0%,0%);stroke-opacity:1;stroke-miterlimit:10;\" d=\"M -1.196647 1.593079 C -1.095323 0.997329 0.0000802752 0.0993262 0.298828 -0.000259282 C 0.000078478 -0.101587 -1.095341 -0.994328 -1.196676 -1.595318 \" transform=\"matrix(-0.44717,0.89436,0.89436,0.44717,9.43464,24.9477)\"/>\n",
       "<path style=\"fill:none;stroke-width:0.3985;stroke-linecap:butt;stroke-linejoin:miter;stroke:rgb(0%,0%,0%);stroke-opacity:1;stroke-miterlimit:10;\" d=\"M 16.196813 24.300469 L 24.724156 7.245781 \" transform=\"matrix(1,0,0,-1,5.811,32.195)\"/>\n",
       "<path style=\"fill:none;stroke-width:0.31879;stroke-linecap:round;stroke-linejoin:round;stroke:rgb(0%,0%,0%);stroke-opacity:1;stroke-miterlimit:10;\" d=\"M -1.196698 1.595274 C -1.095363 0.994283 0.000056116 0.101542 0.298806 0.000214557 C 0.0000579131 -0.0993709 -1.095345 -0.997373 -1.19667 -1.593124 \" transform=\"matrix(0.44717,0.89436,0.89436,-0.44717,30.53416,24.9477)\"/>\n",
       "<g style=\"fill:rgb(0%,0%,0%);fill-opacity:1;\">\n",
       "  <use xlink:href=\"#glyph-1606184035301241-0-1\" x=\"3.321\" y=\"35.512\"/>\n",
       "</g>\n",
       "<g style=\"fill:rgb(0%,0%,0%);fill-opacity:1;\">\n",
       "  <use xlink:href=\"#glyph-1606184035301241-0-2\" x=\"31.667\" y=\"35.512\"/>\n",
       "</g>\n",
       "<g style=\"fill:rgb(0%,0%,0%);fill-opacity:1;\">\n",
       "  <use xlink:href=\"#glyph-1606184035301241-0-3\" x=\"18.6\" y=\"4.376\"/>\n",
       "</g>\n",
       "</g>\n",
       "</svg>\n",
       "\n"
      ],
      "text/plain": [
       "TikzPicture(\"\\\\graph [layered layout, ] {\\n1/\\\"1\\\" [],\\n2/\\\"2\\\" [],\\n3/\\\".\\\" [],\\n;\\n3 -> [,] 1;\\n3 -> [,] 2;\\n};\\n\", \"\", \"\\\\usepackage{fontspec}\\n\\\\setmainfont{Latin Modern Math}\\n\\\\usetikzlibrary{arrows}\\n\\\\usetikzlibrary{graphs}\\n\\\\usetikzlibrary{graphdrawing}\\n\\n% from: https://tex.stackexchange.com/questions/453132/fresh-install-of-tl2018-no-tikz-graph-drawing-libraries-found\\n\\\\usepackage{luacode}\\n\\\\begin{luacode*}\\n\\tfunction pgf_lookup_and_require(name)\\n\\tlocal sep = package.config:sub(1,1)\\n\\tlocal function lookup(name)\\n\\tlocal sub = name:gsub('%.',sep)  \\n\\tif kpse.find_file(sub, 'lua') then\\n\\trequire(name)\\n\\telseif kpse.find_file(sub, 'clua') then\\n\\tcollectgarbage('stop') \\n\\trequire(name)\\n\\tcollectgarbage('restart')\\n\\telse\\n\\treturn false\\n\\tend\\n\\treturn true\\n\\tend\\n\\treturn\\n\\tlookup('pgf.gd.' .. name .. '.library') or\\n\\tlookup('pgf.gd.' .. name) or\\n\\tlookup(name .. '.library') or\\n\\tlookup(name) \\n\\tend\\n\\\\end{luacode*}\\n\\n\\\\usegdlibrary{layered}\", \"tikzpicture\", \"\", \"\", true, true)"
      ]
     },
     "execution_count": 14,
     "metadata": {},
     "output_type": "execute_result"
    }
   ],
   "source": [
    "c1 = 0.3 * (X1[1] * X2[1]) + \n",
    "     0.7 * (X1[2] * X3[2])\n",
    "c2 = 0.3 * (X1[1] * X2[1]) + \n",
    "     0.7 * (X1[2] * X2[2])\n",
    "println(\"Is \", tree_formula_string(c1), \" decomposable : \", isdecomposable(c1))\n",
    "println(\"Is \", tree_formula_string(c1), \" structured decomposable : \", isstruct_decomposable(c1))\n",
    "println(\"Is \", tree_formula_string(c2), \" structured decomposable : \", isstruct_decomposable(c2))\n",
    "plot(Vtree(2, :balanced))"
   ]
  },
  {
   "cell_type": "markdown",
   "metadata": {},
   "source": [
    "## Circuit Transformations\n",
    "- Juice provides a range of circuit transformations both for logic circuits and probabilistic circuits. They are primitives operations for structure learning which we will demonstrate later."
   ]
  },
  {
   "cell_type": "markdown",
   "metadata": {},
   "source": [
    "1. **Smooth** a circuit"
   ]
  },
  {
   "cell_type": "code",
   "execution_count": 15,
   "metadata": {},
   "outputs": [
    {
     "name": "stdout",
     "output_type": "stream",
     "text": [
      "(1 ⋁ -2) is smooth? false\n",
      "((1 ⋀ (2 ⋁ -2)) ⋁ (-2 ⋀ (1 ⋁ -1))) is smooth? true\n"
     ]
    }
   ],
   "source": [
    "c1 = 0.4 * X1[1] + 0.6 * X2[2]\n",
    "c2 = smooth(c1)\n",
    "println(tree_formula_string(c1), \" is smooth? \", issmooth(c1))\n",
    "println(tree_formula_string(c2), \" is smooth? \", issmooth(c2))"
   ]
  },
  {
   "cell_type": "markdown",
   "metadata": {},
   "source": [
    "2. **Forget**\n",
    "\n",
    "- Given a logical formula $\\Delta$ and a variable $X$, forgetting the variable is equivalent to: $ \\exists X \\Delta $\n",
    "- PS. it only applies to the Logical Circuits"
   ]
  },
  {
   "cell_type": "code",
   "execution_count": 16,
   "metadata": {
    "tags": []
   },
   "outputs": [
    {
     "name": "stdout",
     "output_type": "stream",
     "text": [
      "(1 ⋀ -2)\n",
      "(true ⋀ -2)\n"
     ]
    }
   ],
   "source": [
    "lv1, lv2 = literals(LogicCircuit, 2)\n",
    "c1 = lv1[1] & lv2[2]\n",
    "c2 = forget(c1, x -> x == 1)\n",
    "println(tree_formula_string(c1))\n",
    "println(tree_formula_string(c2))"
   ]
  },
  {
   "cell_type": "markdown",
   "metadata": {},
   "source": [
    "3. **Propagate constants nodes**"
   ]
  },
  {
   "cell_type": "code",
   "execution_count": 17,
   "metadata": {
    "tags": []
   },
   "outputs": [
    {
     "name": "stdout",
     "output_type": "stream",
     "text": [
      "(true ⋀ -2)\n",
      "(-2)\n"
     ]
    }
   ],
   "source": [
    "c3 = propagate_constants(c2)\n",
    "println(tree_formula_string(c2))\n",
    "println(tree_formula_string(c3))"
   ]
  },
  {
   "cell_type": "markdown",
   "metadata": {},
   "source": [
    "4. **Condition**\n",
    "- Given a logical formula $\\Delta$ and a variable and its assignment $x$, conditioning on the literal is equivalent to: $ \\Delta \\cap x$"
   ]
  },
  {
   "cell_type": "code",
   "execution_count": 18,
   "metadata": {
    "tags": []
   },
   "outputs": [
    {
     "name": "stdout",
     "output_type": "stream",
     "text": [
      "((1 ⋁ -1) ⋀ (2 ⋁ -2))\n",
      "(1 ⋀ (2 ⋁ -2))\n"
     ]
    }
   ],
   "source": [
    "c1 = (X1[1] + X1[2]) * (X2[1] + X2[2])\n",
    "println(tree_formula_string(c1))\n",
    "c2 = condition(c1, Lit(1))\n",
    "println(tree_formula_string(c2))"
   ]
  },
  {
   "cell_type": "markdown",
   "metadata": {},
   "source": [
    "5. **Split**\n",
    "- Given a logical formula $\\Delta$ and a variable and a variable $X$, split on the variable is equivalent to: $ (\\Delta \\cap X=1) \\cup (\\Delta \\cap X=0)$"
   ]
  },
  {
   "cell_type": "code",
   "execution_count": 19,
   "metadata": {
    "tags": []
   },
   "outputs": [
    {
     "data": {
      "image/svg+xml": [
       "<?xml version=\"1.0\" encoding=\"UTF-8\"?>\n",
       "<svg xmlns=\"http://www.w3.org/2000/svg\" xmlns:xlink=\"http://www.w3.org/1999/xlink\" width=\"98.32pt\" height=\"98.315pt\" viewBox=\"0 0 98.32 98.315\" version=\"1.1\">\n",
       "<defs>\n",
       "<g>\n",
       "<symbol overflow=\"visible\" id=\"glyph-1606184035301242-0-0\">\n",
       "<path style=\"stroke:none;\" d=\"\"/>\n",
       "</symbol>\n",
       "<symbol overflow=\"visible\" id=\"glyph-1606184035301242-0-1\">\n",
       "<path style=\"stroke:none;\" d=\"M 2.09375 0 L 2.09375 -0.15625 L 1.921875 -0.15625 C 1.484375 -0.15625 1.46875 -0.203125 1.46875 -0.390625 L 1.46875 -3.1875 C 1.46875 -3.3125 1.46875 -3.3125 1.34375 -3.3125 C 1.046875 -3 0.609375 -3 0.4375 -3 L 0.4375 -2.84375 C 0.546875 -2.84375 0.84375 -2.84375 1.09375 -2.96875 L 1.09375 -0.390625 C 1.09375 -0.21875 1.078125 -0.15625 0.640625 -0.15625 L 0.46875 -0.15625 L 0.46875 0 C 0.640625 -0.015625 1.078125 -0.015625 1.28125 -0.015625 C 1.484375 -0.015625 1.90625 -0.015625 2.09375 0 Z M 2.09375 0 \"/>\n",
       "</symbol>\n",
       "<symbol overflow=\"visible\" id=\"glyph-1606184035301242-0-2\">\n",
       "<path style=\"stroke:none;\" d=\"M 0.953125 -0.265625 C 0.953125 -0.40625 0.84375 -0.53125 0.6875 -0.53125 C 0.546875 -0.53125 0.421875 -0.40625 0.421875 -0.265625 C 0.421875 -0.125 0.546875 0 0.6875 0 C 0.84375 0 0.953125 -0.125 0.953125 -0.265625 Z M 0.953125 -0.265625 \"/>\n",
       "</symbol>\n",
       "<symbol overflow=\"visible\" id=\"glyph-1606184035301242-0-3\">\n",
       "<path style=\"stroke:none;\" d=\"M 2.296875 -1.59375 C 2.296875 -2 2.265625 -2.390625 2.09375 -2.765625 C 1.859375 -3.234375 1.453125 -3.3125 1.25 -3.3125 C 0.953125 -3.3125 0.578125 -3.1875 0.375 -2.71875 C 0.21875 -2.375 0.1875 -2 0.1875 -1.59375 C 0.1875 -1.21875 0.21875 -0.765625 0.421875 -0.390625 C 0.640625 0.015625 1 0.109375 1.234375 0.109375 C 1.515625 0.109375 1.890625 0 2.109375 -0.46875 C 2.265625 -0.8125 2.296875 -1.203125 2.296875 -1.59375 Z M 1.875 -1.65625 C 1.875 -1.28125 1.875 -0.9375 1.828125 -0.625 C 1.75 -0.15625 1.46875 0 1.234375 0 C 1.046875 0 0.75 -0.125 0.65625 -0.609375 C 0.609375 -0.90625 0.609375 -1.359375 0.609375 -1.65625 C 0.609375 -1.96875 0.609375 -2.296875 0.640625 -2.578125 C 0.75 -3.171875 1.109375 -3.203125 1.234375 -3.203125 C 1.40625 -3.203125 1.734375 -3.125 1.828125 -2.625 C 1.875 -2.34375 1.875 -1.96875 1.875 -1.65625 Z M 1.875 -1.65625 \"/>\n",
       "</symbol>\n",
       "<symbol overflow=\"visible\" id=\"glyph-1606184035301242-0-4\">\n",
       "<path style=\"stroke:none;\" d=\"M 2.28125 -0.859375 C 2.28125 -1.265625 1.96875 -1.65625 1.453125 -1.75 C 1.859375 -1.890625 2.140625 -2.234375 2.140625 -2.625 C 2.140625 -3.046875 1.703125 -3.3125 1.21875 -3.3125 C 0.71875 -3.3125 0.34375 -3.015625 0.34375 -2.640625 C 0.34375 -2.484375 0.453125 -2.375 0.59375 -2.375 C 0.75 -2.375 0.859375 -2.5 0.859375 -2.640625 C 0.859375 -2.890625 0.625 -2.890625 0.546875 -2.890625 C 0.703125 -3.125 1.03125 -3.1875 1.203125 -3.1875 C 1.40625 -3.1875 1.6875 -3.078125 1.6875 -2.640625 C 1.6875 -2.578125 1.671875 -2.28125 1.546875 -2.0625 C 1.390625 -1.828125 1.21875 -1.8125 1.09375 -1.8125 C 1.0625 -1.796875 0.9375 -1.796875 0.90625 -1.796875 C 0.875 -1.796875 0.828125 -1.78125 0.828125 -1.734375 C 0.828125 -1.6875 0.875 -1.6875 0.953125 -1.6875 L 1.171875 -1.6875 C 1.578125 -1.6875 1.765625 -1.34375 1.765625 -0.859375 C 1.765625 -0.171875 1.421875 -0.03125 1.203125 -0.03125 C 0.984375 -0.03125 0.609375 -0.109375 0.4375 -0.40625 C 0.609375 -0.390625 0.765625 -0.5 0.765625 -0.6875 C 0.765625 -0.859375 0.640625 -0.96875 0.484375 -0.96875 C 0.375 -0.96875 0.203125 -0.890625 0.203125 -0.671875 C 0.203125 -0.21875 0.671875 0.109375 1.21875 0.109375 C 1.828125 0.109375 2.28125 -0.34375 2.28125 -0.859375 Z M 2.28125 -0.859375 \"/>\n",
       "</symbol>\n",
       "<symbol overflow=\"visible\" id=\"glyph-1606184035301242-0-5\">\n",
       "<path style=\"stroke:none;\" d=\"M 2.421875 -3.203125 L 1.203125 -3.203125 C 0.59375 -3.203125 0.59375 -3.28125 0.5625 -3.375 L 0.4375 -3.375 L 0.28125 -2.34375 L 0.40625 -2.34375 C 0.421875 -2.421875 0.46875 -2.734375 0.53125 -2.796875 C 0.5625 -2.828125 0.953125 -2.828125 1.015625 -2.828125 L 2.046875 -2.828125 L 1.484375 -2.03125 C 1.046875 -1.359375 0.875 -0.671875 0.875 -0.171875 C 0.875 -0.109375 0.875 0.109375 1.109375 0.109375 C 1.328125 0.109375 1.328125 -0.109375 1.328125 -0.171875 L 1.328125 -0.421875 C 1.328125 -0.6875 1.34375 -0.96875 1.390625 -1.234375 C 1.40625 -1.34375 1.484375 -1.78125 1.703125 -2.09375 L 2.375 -3.03125 C 2.421875 -3.09375 2.421875 -3.109375 2.421875 -3.203125 Z M 2.421875 -3.203125 \"/>\n",
       "</symbol>\n",
       "<symbol overflow=\"visible\" id=\"glyph-1606184035301242-0-6\">\n",
       "<path style=\"stroke:none;\" d=\"M 2.34375 -0.828125 L 2.34375 -0.984375 L 1.84375 -0.984375 L 1.84375 -3.25 C 1.84375 -3.34375 1.84375 -3.375 1.765625 -3.375 C 1.71875 -3.375 1.703125 -3.375 1.671875 -3.3125 L 0.140625 -0.984375 L 0.140625 -0.828125 L 1.46875 -0.828125 L 1.46875 -0.390625 C 1.46875 -0.203125 1.453125 -0.15625 1.09375 -0.15625 L 0.984375 -0.15625 L 0.984375 0 C 1.1875 -0.015625 1.453125 -0.015625 1.65625 -0.015625 C 1.859375 -0.015625 2.125 -0.015625 2.328125 0 L 2.328125 -0.15625 L 2.234375 -0.15625 C 1.859375 -0.15625 1.84375 -0.203125 1.84375 -0.390625 L 1.84375 -0.828125 Z M 1.5 -0.984375 L 0.28125 -0.984375 L 1.5 -2.84375 Z M 1.5 -0.984375 \"/>\n",
       "</symbol>\n",
       "<symbol overflow=\"visible\" id=\"glyph-1606184035301242-0-7\">\n",
       "<path style=\"stroke:none;\" d=\"M 2.28125 -1.015625 C 2.28125 -1.65625 1.828125 -2.125 1.28125 -2.125 C 0.9375 -2.125 0.75 -1.875 0.65625 -1.640625 L 0.65625 -1.75 C 0.65625 -3.015625 1.28125 -3.1875 1.53125 -3.1875 C 1.65625 -3.1875 1.859375 -3.171875 1.96875 -3 C 1.890625 -3 1.6875 -3 1.6875 -2.765625 C 1.6875 -2.609375 1.8125 -2.546875 1.921875 -2.546875 C 2 -2.546875 2.15625 -2.59375 2.15625 -2.78125 C 2.15625 -3.078125 1.9375 -3.3125 1.515625 -3.3125 C 0.875 -3.3125 0.203125 -2.671875 0.203125 -1.578125 C 0.203125 -0.25 0.78125 0.109375 1.25 0.109375 C 1.796875 0.109375 2.28125 -0.359375 2.28125 -1.015625 Z M 1.828125 -1.015625 C 1.828125 -0.78125 1.828125 -0.53125 1.75 -0.359375 C 1.59375 -0.0625 1.359375 -0.03125 1.25 -0.03125 C 0.9375 -0.03125 0.78125 -0.328125 0.75 -0.40625 C 0.671875 -0.640625 0.671875 -1.03125 0.671875 -1.125 C 0.671875 -1.515625 0.828125 -2.015625 1.28125 -2.015625 C 1.359375 -2.015625 1.578125 -2.015625 1.734375 -1.703125 C 1.828125 -1.515625 1.828125 -1.265625 1.828125 -1.015625 Z M 1.828125 -1.015625 \"/>\n",
       "</symbol>\n",
       "<symbol overflow=\"visible\" id=\"glyph-1606184035301242-1-0\">\n",
       "<path style=\"stroke:none;\" d=\"\"/>\n",
       "</symbol>\n",
       "<symbol overflow=\"visible\" id=\"glyph-1606184035301242-1-1\">\n",
       "<path style=\"stroke:none;\" d=\"M 7.203125 -2.5 C 7.203125 -2.609375 7.109375 -2.6875 7 -2.6875 L 4.078125 -2.6875 L 4.078125 -5.609375 C 4.078125 -5.71875 3.984375 -5.8125 3.875 -5.8125 C 3.765625 -5.8125 3.671875 -5.71875 3.671875 -5.609375 L 3.671875 -2.6875 L 0.75 -2.6875 C 0.640625 -2.6875 0.5625 -2.609375 0.5625 -2.5 C 0.5625 -2.375 0.640625 -2.296875 0.75 -2.296875 L 3.671875 -2.296875 L 3.671875 0.625 C 3.671875 0.734375 3.765625 0.828125 3.875 0.828125 C 3.984375 0.828125 4.078125 0.734375 4.078125 0.625 L 4.078125 -2.296875 L 7 -2.296875 C 7.109375 -2.296875 7.203125 -2.375 7.203125 -2.5 Z M 7.203125 -2.5 \"/>\n",
       "</symbol>\n",
       "<symbol overflow=\"visible\" id=\"glyph-1606184035301242-1-2\">\n",
       "<path style=\"stroke:none;\" d=\"M 4.34375 -4.265625 C 4.4375 -4.421875 4.375 -4.609375 4.21875 -4.671875 L 2.734375 -5.328125 L 4.21875 -5.984375 C 4.375 -6.0625 4.4375 -6.25 4.34375 -6.40625 C 4.25 -6.5625 4.0625 -6.59375 3.921875 -6.5 L 2.609375 -5.546875 L 2.78125 -7.140625 C 2.796875 -7.328125 2.671875 -7.484375 2.5 -7.484375 C 2.3125 -7.484375 2.1875 -7.328125 2.203125 -7.140625 L 2.375 -5.546875 L 1.0625 -6.5 C 0.921875 -6.59375 0.734375 -6.5625 0.640625 -6.40625 C 0.546875 -6.25 0.609375 -6.0625 0.765625 -5.984375 L 2.25 -5.328125 L 0.765625 -4.671875 C 0.609375 -4.609375 0.546875 -4.421875 0.640625 -4.265625 C 0.734375 -4.109375 0.921875 -4.0625 1.0625 -4.171875 L 2.375 -5.125 L 2.203125 -3.515625 C 2.1875 -3.34375 2.3125 -3.1875 2.5 -3.1875 C 2.671875 -3.1875 2.796875 -3.34375 2.78125 -3.515625 L 2.609375 -5.125 L 3.921875 -4.171875 C 4.0625 -4.0625 4.25 -4.109375 4.34375 -4.265625 Z M 4.34375 -4.265625 \"/>\n",
       "</symbol>\n",
       "<symbol overflow=\"visible\" id=\"glyph-1606184035301242-1-3\">\n",
       "<path style=\"stroke:none;\" d=\"M 4.171875 0 L 4.171875 -0.3125 L 3.859375 -0.3125 C 2.953125 -0.3125 2.9375 -0.421875 2.9375 -0.78125 L 2.9375 -6.375 C 2.9375 -6.625 2.9375 -6.640625 2.703125 -6.640625 C 2.078125 -6 1.203125 -6 0.890625 -6 L 0.890625 -5.6875 C 1.09375 -5.6875 1.671875 -5.6875 2.1875 -5.953125 L 2.1875 -0.78125 C 2.1875 -0.421875 2.15625 -0.3125 1.265625 -0.3125 L 0.953125 -0.3125 L 0.953125 0 C 1.296875 -0.03125 2.15625 -0.03125 2.5625 -0.03125 C 2.953125 -0.03125 3.828125 -0.03125 4.171875 0 Z M 4.171875 0 \"/>\n",
       "</symbol>\n",
       "<symbol overflow=\"visible\" id=\"glyph-1606184035301242-1-4\">\n",
       "<path style=\"stroke:none;\" d=\"M 2.75 -1.859375 L 2.75 -2.4375 L 0.109375 -2.4375 L 0.109375 -1.859375 Z M 2.75 -1.859375 \"/>\n",
       "</symbol>\n",
       "<symbol overflow=\"visible\" id=\"glyph-1606184035301242-1-5\">\n",
       "<path style=\"stroke:none;\" d=\"M 4.46875 -1.734375 L 4.234375 -1.734375 C 4.171875 -1.4375 4.109375 -1 4 -0.84375 C 3.9375 -0.765625 3.28125 -0.765625 3.0625 -0.765625 L 1.265625 -0.765625 L 2.328125 -1.796875 C 3.875 -3.171875 4.46875 -3.703125 4.46875 -4.703125 C 4.46875 -5.84375 3.578125 -6.640625 2.359375 -6.640625 C 1.234375 -6.640625 0.5 -5.71875 0.5 -4.828125 C 0.5 -4.28125 1 -4.28125 1.03125 -4.28125 C 1.203125 -4.28125 1.546875 -4.390625 1.546875 -4.8125 C 1.546875 -5.0625 1.359375 -5.328125 1.015625 -5.328125 C 0.9375 -5.328125 0.921875 -5.328125 0.890625 -5.3125 C 1.109375 -5.96875 1.65625 -6.328125 2.234375 -6.328125 C 3.140625 -6.328125 3.5625 -5.515625 3.5625 -4.703125 C 3.5625 -3.90625 3.078125 -3.125 2.515625 -2.5 L 0.609375 -0.375 C 0.5 -0.265625 0.5 -0.234375 0.5 0 L 4.203125 0 Z M 4.46875 -1.734375 \"/>\n",
       "</symbol>\n",
       "</g>\n",
       "</defs>\n",
       "<g id=\"surface1\">\n",
       "<path style=\"fill:none;stroke-width:0.3985;stroke-linecap:butt;stroke-linejoin:miter;stroke:rgb(0%,0%,0%);stroke-opacity:1;stroke-miterlimit:10;\" d=\"M 0.00103125 -6.838562 L 0.00103125 -20.631531 \" transform=\"matrix(1,0,0,-1,48.331,6.638)\"/>\n",
       "<path style=\"fill:none;stroke-width:0.31879;stroke-linecap:round;stroke-linejoin:round;stroke:rgb(0%,0%,0%);stroke-opacity:1;stroke-miterlimit:10;\" d=\"M -1.196441 1.594781 C -1.094879 0.997125 -0.00112875 0.0986875 0.299652 0.00103125 C -0.00112875 -0.100531 -1.094879 -0.995062 -1.196441 -1.592719 \" transform=\"matrix(0,1,1,0,48.331,27.27066)\"/>\n",
       "<g style=\"fill:rgb(0%,0%,0%);fill-opacity:1;\">\n",
       "  <use xlink:href=\"#glyph-1606184035301242-0-1\" x=\"51.851\" y=\"22.206\"/>\n",
       "  <use xlink:href=\"#glyph-1606184035301242-0-2\" x=\"54.34166\" y=\"22.206\"/>\n",
       "  <use xlink:href=\"#glyph-1606184035301242-0-3\" x=\"55.726467\" y=\"22.206\"/>\n",
       "</g>\n",
       "<path style=\"fill:none;stroke-width:0.3985;stroke-linecap:butt;stroke-linejoin:miter;stroke:rgb(0%,0%,0%);stroke-opacity:1;stroke-miterlimit:10;\" d=\"M -3.627875 -35.604187 L -10.54975 -49.447937 \" transform=\"matrix(1,0,0,-1,48.331,6.638)\"/>\n",
       "<path style=\"fill:none;stroke-width:0.31879;stroke-linecap:round;stroke-linejoin:round;stroke:rgb(0%,0%,0%);stroke-opacity:1;stroke-miterlimit:10;\" d=\"M -1.197005 1.594059 C -1.09568 0.998309 -0.000276956 0.100306 0.298471 0.000720756 C -0.000278753 -0.100606 -1.093951 -0.996842 -1.197033 -1.594338 \" transform=\"matrix(-0.44717,0.89436,0.89436,0.44717,37.78126,56.0843)\"/>\n",
       "<path style=\"fill:none;stroke-width:0.3985;stroke-linecap:butt;stroke-linejoin:miter;stroke:rgb(0%,0%,0%);stroke-opacity:1;stroke-miterlimit:10;\" d=\"M 3.626031 -35.604187 L 10.547906 -49.447937 \" transform=\"matrix(1,0,0,-1,48.331,6.638)\"/>\n",
       "<path style=\"fill:none;stroke-width:0.31879;stroke-linecap:round;stroke-linejoin:round;stroke:rgb(0%,0%,0%);stroke-opacity:1;stroke-miterlimit:10;\" d=\"M -1.196111 1.596183 C -1.094775 0.995193 -0.00110335 0.0989572 0.299393 0.00112416 C 0.000645479 -0.0984613 -1.094758 -0.996464 -1.196082 -1.592214 \" transform=\"matrix(0.44717,0.89436,0.89436,-0.44717,58.88074,56.0843)\"/>\n",
       "<path style=\"fill:none;stroke-width:0.3985;stroke-linecap:butt;stroke-linejoin:miter;stroke:rgb(0%,0%,0%);stroke-opacity:1;stroke-miterlimit:10;\" d=\"M -21.010687 -63.529969 L -36.186469 -78.70575 \" transform=\"matrix(1,0,0,-1,48.331,6.638)\"/>\n",
       "<path style=\"fill:none;stroke-width:0.31879;stroke-linecap:round;stroke-linejoin:round;stroke:rgb(0%,0%,0%);stroke-opacity:1;stroke-miterlimit:10;\" d=\"M -1.195515 1.593097 C -1.096077 0.99647 0.000501167 0.098767 0.298815 -0.000670874 C 0.000501167 -0.100109 -1.096077 -0.997811 -1.195515 -1.594439 \" transform=\"matrix(-0.7071,0.7071,0.7071,0.7071,12.14536,85.34387)\"/>\n",
       "<g style=\"fill:rgb(0%,0%,0%);fill-opacity:1;\">\n",
       "  <use xlink:href=\"#glyph-1606184035301242-0-3\" x=\"23.091\" y=\"84.754\"/>\n",
       "  <use xlink:href=\"#glyph-1606184035301242-0-2\" x=\"25.58166\" y=\"84.754\"/>\n",
       "  <use xlink:href=\"#glyph-1606184035301242-0-4\" x=\"26.966467\" y=\"84.754\"/>\n",
       "</g>\n",
       "<path style=\"fill:none;stroke-width:0.3985;stroke-linecap:butt;stroke-linejoin:miter;stroke:rgb(0%,0%,0%);stroke-opacity:1;stroke-miterlimit:10;\" d=\"M -14.17475 -63.529969 L -14.17475 -77.744812 \" transform=\"matrix(1,0,0,-1,48.331,6.638)\"/>\n",
       "<path style=\"fill:none;stroke-width:0.31879;stroke-linecap:round;stroke-linejoin:round;stroke:rgb(0%,0%,0%);stroke-opacity:1;stroke-miterlimit:10;\" d=\"M -1.1952 1.59239 C -1.097544 0.994734 0.0001125 0.100203 0.296987 -0.00136 C 0.0001125 -0.0990162 -1.097544 -0.997454 -1.1952 -1.59511 \" transform=\"matrix(0,1,1,0,34.15761,84.3827)\"/>\n",
       "<g style=\"fill:rgb(0%,0%,0%);fill-opacity:1;\">\n",
       "  <use xlink:href=\"#glyph-1606184035301242-0-3\" x=\"37.677\" y=\"79.133\"/>\n",
       "  <use xlink:href=\"#glyph-1606184035301242-0-2\" x=\"40.16766\" y=\"79.133\"/>\n",
       "  <use xlink:href=\"#glyph-1606184035301242-0-5\" x=\"41.552467\" y=\"79.133\"/>\n",
       "</g>\n",
       "<path style=\"fill:none;stroke-width:0.3985;stroke-linecap:butt;stroke-linejoin:miter;stroke:rgb(0%,0%,0%);stroke-opacity:1;stroke-miterlimit:10;\" d=\"M 14.172906 -63.529969 L 14.172906 -77.744812 \" transform=\"matrix(1,0,0,-1,48.331,6.638)\"/>\n",
       "<path style=\"fill:none;stroke-width:0.31879;stroke-linecap:round;stroke-linejoin:round;stroke:rgb(0%,0%,0%);stroke-opacity:1;stroke-miterlimit:10;\" d=\"M -1.1952 1.593266 C -1.097544 0.99561 0.0001125 0.101079 0.296987 -0.00048375 C 0.0001125 -0.09814 -1.097544 -0.996577 -1.1952 -1.594234 \" transform=\"matrix(0,1,1,0,62.50439,84.3827)\"/>\n",
       "<g style=\"fill:rgb(0%,0%,0%);fill-opacity:1;\">\n",
       "  <use xlink:href=\"#glyph-1606184035301242-0-3\" x=\"66.024\" y=\"79.135\"/>\n",
       "  <use xlink:href=\"#glyph-1606184035301242-0-2\" x=\"68.51466\" y=\"79.135\"/>\n",
       "  <use xlink:href=\"#glyph-1606184035301242-0-6\" x=\"69.899467\" y=\"79.135\"/>\n",
       "</g>\n",
       "<path style=\"fill:none;stroke-width:0.3985;stroke-linecap:butt;stroke-linejoin:miter;stroke:rgb(0%,0%,0%);stroke-opacity:1;stroke-miterlimit:10;\" d=\"M 21.01275 -63.529969 L 35.360406 -77.877625 \" transform=\"matrix(1,0,0,-1,48.331,6.638)\"/>\n",
       "<path style=\"fill:none;stroke-width:0.31879;stroke-linecap:round;stroke-linejoin:round;stroke:rgb(0%,0%,0%);stroke-opacity:1;stroke-miterlimit:10;\" d=\"M -1.195761 1.595883 C -1.093561 0.996494 0.000255445 0.101553 0.298569 0.00211515 C 0.000255445 -0.0973227 -1.096323 -0.995025 -1.195761 -1.591653 \" transform=\"matrix(0.7071,0.7071,0.7071,-0.7071,83.68973,84.51694)\"/>\n",
       "<g style=\"fill:rgb(0%,0%,0%);fill-opacity:1;\">\n",
       "  <use xlink:href=\"#glyph-1606184035301242-0-3\" x=\"80.197\" y=\"73.874\"/>\n",
       "  <use xlink:href=\"#glyph-1606184035301242-0-2\" x=\"82.68766\" y=\"73.874\"/>\n",
       "  <use xlink:href=\"#glyph-1606184035301242-0-7\" x=\"84.072467\" y=\"73.874\"/>\n",
       "</g>\n",
       "<g style=\"fill:rgb(0%,0%,0%);fill-opacity:1;\">\n",
       "  <use xlink:href=\"#glyph-1606184035301242-1-1\" x=\"44.455\" y=\"9.128\"/>\n",
       "</g>\n",
       "<g style=\"fill:rgb(0%,0%,0%);fill-opacity:1;\">\n",
       "  <use xlink:href=\"#glyph-1606184035301242-1-2\" x=\"45.84\" y=\"38.72\"/>\n",
       "</g>\n",
       "<g style=\"fill:rgb(0%,0%,0%);fill-opacity:1;\">\n",
       "  <use xlink:href=\"#glyph-1606184035301242-1-1\" x=\"30.282\" y=\"65.821\"/>\n",
       "</g>\n",
       "<g style=\"fill:rgb(0%,0%,0%);fill-opacity:1;\">\n",
       "  <use xlink:href=\"#glyph-1606184035301242-1-1\" x=\"58.629\" y=\"65.821\"/>\n",
       "</g>\n",
       "<g style=\"fill:rgb(0%,0%,0%);fill-opacity:1;\">\n",
       "  <use xlink:href=\"#glyph-1606184035301242-1-3\" x=\"3.321\" y=\"94.994\"/>\n",
       "</g>\n",
       "<g style=\"fill:rgb(0%,0%,0%);fill-opacity:1;\">\n",
       "  <use xlink:href=\"#glyph-1606184035301242-1-4\" x=\"30.008\" y=\"94.994\"/>\n",
       "  <use xlink:href=\"#glyph-1606184035301242-1-3\" x=\"33.325559\" y=\"94.994\"/>\n",
       "</g>\n",
       "<g style=\"fill:rgb(0%,0%,0%);fill-opacity:1;\">\n",
       "  <use xlink:href=\"#glyph-1606184035301242-1-5\" x=\"60.013\" y=\"94.994\"/>\n",
       "</g>\n",
       "<g style=\"fill:rgb(0%,0%,0%);fill-opacity:1;\">\n",
       "  <use xlink:href=\"#glyph-1606184035301242-1-4\" x=\"86.701\" y=\"94.994\"/>\n",
       "  <use xlink:href=\"#glyph-1606184035301242-1-5\" x=\"90.018559\" y=\"94.994\"/>\n",
       "</g>\n",
       "</g>\n",
       "</svg>\n",
       "\n"
      ],
      "text/plain": [
       "TikzPicture(\"\\\\graph [layered layout, ] {\\n1/\\\"+\\\" [],\\n2/\\\"*\\\" [],\\n3/\\\"+\\\" [],\\n4/\\\"+\\\" [],\\n5/\\\"1\\\" [],\\n6/\\\"-1\\\" [],\\n7/\\\"2\\\" [],\\n8/\\\"-2\\\" [],\\n;\\n1 -> [font=\\\\tiny,edge label={1.0},] 2;\\n2 -> [font=\\\\tiny,] 3;\\n2 -> [font=\\\\tiny,] 4;\\n3 -> [font=\\\\tiny,edge label={0.3},] 5;\\n3 -> [font=\\\\tiny,edge label={0.7},] 6;\\n4 -> [font=\\\\tiny,edge label={0.4},] 7;\\n4 -> [font=\\\\tiny,edge label={0.6},] 8;\\n};\\n\", \"\", \"\\\\usepackage{fontspec}\\n\\\\setmainfont{Latin Modern Math}\\n\\\\usetikzlibrary{arrows}\\n\\\\usetikzlibrary{graphs}\\n\\\\usetikzlibrary{graphdrawing}\\n\\n% from: https://tex.stackexchange.com/questions/453132/fresh-install-of-tl2018-no-tikz-graph-drawing-libraries-found\\n\\\\usepackage{luacode}\\n\\\\begin{luacode*}\\n\\tfunction pgf_lookup_and_require(name)\\n\\tlocal sep = package.config:sub(1,1)\\n\\tlocal function lookup(name)\\n\\tlocal sub = name:gsub('%.',sep)  \\n\\tif kpse.find_file(sub, 'lua') then\\n\\trequire(name)\\n\\telseif kpse.find_file(sub, 'clua') then\\n\\tcollectgarbage('stop') \\n\\trequire(name)\\n\\tcollectgarbage('restart')\\n\\telse\\n\\treturn false\\n\\tend\\n\\treturn true\\n\\tend\\n\\treturn\\n\\tlookup('pgf.gd.' .. name .. '.library') or\\n\\tlookup('pgf.gd.' .. name) or\\n\\tlookup(name .. '.library') or\\n\\tlookup(name) \\n\\tend\\n\\\\end{luacode*}\\n\\n\\\\usegdlibrary{layered}\", \"tikzpicture\", \"\", \"\", true, true)"
      ]
     },
     "execution_count": 19,
     "metadata": {},
     "output_type": "execute_result"
    }
   ],
   "source": [
    "c1 = (+)((.3X1[1] + .7X1[2]) * (.4X2[1] + .6X2[2]))\n",
    "plot(c1)"
   ]
  },
  {
   "cell_type": "code",
   "execution_count": 20,
   "metadata": {},
   "outputs": [
    {
     "data": {
      "image/svg+xml": [
       "<?xml version=\"1.0\" encoding=\"UTF-8\"?>\n",
       "<svg xmlns=\"http://www.w3.org/2000/svg\" xmlns:xlink=\"http://www.w3.org/1999/xlink\" width=\"98.32pt\" height=\"98.315pt\" viewBox=\"0 0 98.32 98.315\" version=\"1.1\">\n",
       "<defs>\n",
       "<g>\n",
       "<symbol overflow=\"visible\" id=\"glyph-1606184035301243-0-0\">\n",
       "<path style=\"stroke:none;\" d=\"\"/>\n",
       "</symbol>\n",
       "<symbol overflow=\"visible\" id=\"glyph-1606184035301243-0-1\">\n",
       "<path style=\"stroke:none;\" d=\"M 2.296875 -1.59375 C 2.296875 -2 2.265625 -2.390625 2.09375 -2.765625 C 1.859375 -3.234375 1.453125 -3.3125 1.25 -3.3125 C 0.953125 -3.3125 0.578125 -3.1875 0.375 -2.71875 C 0.21875 -2.375 0.1875 -2 0.1875 -1.59375 C 0.1875 -1.21875 0.21875 -0.765625 0.421875 -0.390625 C 0.640625 0.015625 1 0.109375 1.234375 0.109375 C 1.515625 0.109375 1.890625 0 2.109375 -0.46875 C 2.265625 -0.8125 2.296875 -1.203125 2.296875 -1.59375 Z M 1.875 -1.65625 C 1.875 -1.28125 1.875 -0.9375 1.828125 -0.625 C 1.75 -0.15625 1.46875 0 1.234375 0 C 1.046875 0 0.75 -0.125 0.65625 -0.609375 C 0.609375 -0.90625 0.609375 -1.359375 0.609375 -1.65625 C 0.609375 -1.96875 0.609375 -2.296875 0.640625 -2.578125 C 0.75 -3.171875 1.109375 -3.203125 1.234375 -3.203125 C 1.40625 -3.203125 1.734375 -3.125 1.828125 -2.625 C 1.875 -2.34375 1.875 -1.96875 1.875 -1.65625 Z M 1.875 -1.65625 \"/>\n",
       "</symbol>\n",
       "<symbol overflow=\"visible\" id=\"glyph-1606184035301243-0-2\">\n",
       "<path style=\"stroke:none;\" d=\"M 0.953125 -0.265625 C 0.953125 -0.40625 0.84375 -0.53125 0.6875 -0.53125 C 0.546875 -0.53125 0.421875 -0.40625 0.421875 -0.265625 C 0.421875 -0.125 0.546875 0 0.6875 0 C 0.84375 0 0.953125 -0.125 0.953125 -0.265625 Z M 0.953125 -0.265625 \"/>\n",
       "</symbol>\n",
       "<symbol overflow=\"visible\" id=\"glyph-1606184035301243-0-3\">\n",
       "<path style=\"stroke:none;\" d=\"M 2.234375 -1 C 2.234375 -1.59375 1.828125 -2.09375 1.296875 -2.09375 C 1.046875 -2.09375 0.84375 -2.015625 0.65625 -1.84375 L 0.65625 -2.8125 C 0.75 -2.78125 0.921875 -2.75 1.078125 -2.75 C 1.6875 -2.75 2.046875 -3.203125 2.046875 -3.265625 C 2.046875 -3.296875 2.03125 -3.3125 2 -3.3125 C 2 -3.3125 1.984375 -3.3125 1.953125 -3.296875 C 1.859375 -3.265625 1.609375 -3.15625 1.28125 -3.15625 C 1.078125 -3.15625 0.84375 -3.1875 0.609375 -3.296875 C 0.578125 -3.3125 0.546875 -3.3125 0.546875 -3.3125 C 0.5 -3.3125 0.5 -3.28125 0.5 -3.1875 L 0.5 -1.71875 C 0.5 -1.625 0.5 -1.59375 0.578125 -1.59375 C 0.609375 -1.59375 0.625 -1.609375 0.640625 -1.640625 C 0.6875 -1.71875 0.875 -1.984375 1.28125 -1.984375 C 1.546875 -1.984375 1.671875 -1.75 1.703125 -1.671875 C 1.78125 -1.484375 1.796875 -1.28125 1.796875 -1.03125 C 1.796875 -0.859375 1.796875 -0.5625 1.671875 -0.359375 C 1.5625 -0.15625 1.375 -0.03125 1.140625 -0.03125 C 0.78125 -0.03125 0.5 -0.296875 0.40625 -0.59375 C 0.421875 -0.578125 0.4375 -0.578125 0.5 -0.578125 C 0.65625 -0.578125 0.75 -0.703125 0.75 -0.828125 C 0.75 -0.9375 0.65625 -1.0625 0.5 -1.0625 C 0.421875 -1.0625 0.25 -1.03125 0.25 -0.796875 C 0.25 -0.375 0.59375 0.109375 1.15625 0.109375 C 1.734375 0.109375 2.234375 -0.375 2.234375 -1 Z M 2.234375 -1 \"/>\n",
       "</symbol>\n",
       "<symbol overflow=\"visible\" id=\"glyph-1606184035301243-1-0\">\n",
       "<path style=\"stroke:none;\" d=\"\"/>\n",
       "</symbol>\n",
       "<symbol overflow=\"visible\" id=\"glyph-1606184035301243-1-1\">\n",
       "<path style=\"stroke:none;\" d=\"M 7.203125 -2.5 C 7.203125 -2.609375 7.109375 -2.6875 7 -2.6875 L 4.078125 -2.6875 L 4.078125 -5.609375 C 4.078125 -5.71875 3.984375 -5.8125 3.875 -5.8125 C 3.765625 -5.8125 3.671875 -5.71875 3.671875 -5.609375 L 3.671875 -2.6875 L 0.75 -2.6875 C 0.640625 -2.6875 0.5625 -2.609375 0.5625 -2.5 C 0.5625 -2.375 0.640625 -2.296875 0.75 -2.296875 L 3.671875 -2.296875 L 3.671875 0.625 C 3.671875 0.734375 3.765625 0.828125 3.875 0.828125 C 3.984375 0.828125 4.078125 0.734375 4.078125 0.625 L 4.078125 -2.296875 L 7 -2.296875 C 7.109375 -2.296875 7.203125 -2.375 7.203125 -2.5 Z M 7.203125 -2.5 \"/>\n",
       "</symbol>\n",
       "<symbol overflow=\"visible\" id=\"glyph-1606184035301243-1-2\">\n",
       "<path style=\"stroke:none;\" d=\"M 4.34375 -4.265625 C 4.4375 -4.421875 4.375 -4.609375 4.21875 -4.671875 L 2.734375 -5.328125 L 4.21875 -5.984375 C 4.375 -6.0625 4.4375 -6.25 4.34375 -6.40625 C 4.25 -6.5625 4.0625 -6.59375 3.921875 -6.5 L 2.609375 -5.546875 L 2.78125 -7.140625 C 2.796875 -7.328125 2.671875 -7.484375 2.5 -7.484375 C 2.3125 -7.484375 2.1875 -7.328125 2.203125 -7.140625 L 2.375 -5.546875 L 1.0625 -6.5 C 0.921875 -6.59375 0.734375 -6.5625 0.640625 -6.40625 C 0.546875 -6.25 0.609375 -6.0625 0.765625 -5.984375 L 2.25 -5.328125 L 0.765625 -4.671875 C 0.609375 -4.609375 0.546875 -4.421875 0.640625 -4.265625 C 0.734375 -4.109375 0.921875 -4.0625 1.0625 -4.171875 L 2.375 -5.125 L 2.203125 -3.515625 C 2.1875 -3.34375 2.3125 -3.1875 2.5 -3.1875 C 2.671875 -3.1875 2.796875 -3.34375 2.78125 -3.515625 L 2.609375 -5.125 L 3.921875 -4.171875 C 4.0625 -4.0625 4.25 -4.109375 4.34375 -4.265625 Z M 4.34375 -4.265625 \"/>\n",
       "</symbol>\n",
       "<symbol overflow=\"visible\" id=\"glyph-1606184035301243-1-3\">\n",
       "<path style=\"stroke:none;\" d=\"M 4.46875 -1.734375 L 4.234375 -1.734375 C 4.171875 -1.4375 4.109375 -1 4 -0.84375 C 3.9375 -0.765625 3.28125 -0.765625 3.0625 -0.765625 L 1.265625 -0.765625 L 2.328125 -1.796875 C 3.875 -3.171875 4.46875 -3.703125 4.46875 -4.703125 C 4.46875 -5.84375 3.578125 -6.640625 2.359375 -6.640625 C 1.234375 -6.640625 0.5 -5.71875 0.5 -4.828125 C 0.5 -4.28125 1 -4.28125 1.03125 -4.28125 C 1.203125 -4.28125 1.546875 -4.390625 1.546875 -4.8125 C 1.546875 -5.0625 1.359375 -5.328125 1.015625 -5.328125 C 0.9375 -5.328125 0.921875 -5.328125 0.890625 -5.3125 C 1.109375 -5.96875 1.65625 -6.328125 2.234375 -6.328125 C 3.140625 -6.328125 3.5625 -5.515625 3.5625 -4.703125 C 3.5625 -3.90625 3.078125 -3.125 2.515625 -2.5 L 0.609375 -0.375 C 0.5 -0.265625 0.5 -0.234375 0.5 0 L 4.203125 0 Z M 4.46875 -1.734375 \"/>\n",
       "</symbol>\n",
       "<symbol overflow=\"visible\" id=\"glyph-1606184035301243-1-4\">\n",
       "<path style=\"stroke:none;\" d=\"M 4.171875 0 L 4.171875 -0.3125 L 3.859375 -0.3125 C 2.953125 -0.3125 2.9375 -0.421875 2.9375 -0.78125 L 2.9375 -6.375 C 2.9375 -6.625 2.9375 -6.640625 2.703125 -6.640625 C 2.078125 -6 1.203125 -6 0.890625 -6 L 0.890625 -5.6875 C 1.09375 -5.6875 1.671875 -5.6875 2.1875 -5.953125 L 2.1875 -0.78125 C 2.1875 -0.421875 2.15625 -0.3125 1.265625 -0.3125 L 0.953125 -0.3125 L 0.953125 0 C 1.296875 -0.03125 2.15625 -0.03125 2.5625 -0.03125 C 2.953125 -0.03125 3.828125 -0.03125 4.171875 0 Z M 4.171875 0 \"/>\n",
       "</symbol>\n",
       "<symbol overflow=\"visible\" id=\"glyph-1606184035301243-1-5\">\n",
       "<path style=\"stroke:none;\" d=\"M 2.75 -1.859375 L 2.75 -2.4375 L 0.109375 -2.4375 L 0.109375 -1.859375 Z M 2.75 -1.859375 \"/>\n",
       "</symbol>\n",
       "</g>\n",
       "</defs>\n",
       "<g id=\"surface1\">\n",
       "<path style=\"fill:none;stroke-width:0.3985;stroke-linecap:butt;stroke-linejoin:miter;stroke:rgb(0%,0%,0%);stroke-opacity:1;stroke-miterlimit:10;\" d=\"M -3.416937 -6.838562 L -10.338812 -20.682312 \" transform=\"matrix(1,0,0,-1,48.331,6.638)\"/>\n",
       "<path style=\"fill:none;stroke-width:0.31879;stroke-linecap:round;stroke-linejoin:round;stroke:rgb(0%,0%,0%);stroke-opacity:1;stroke-miterlimit:10;\" d=\"M -1.196375 1.591938 C -1.09505 0.996187 0.000353087 0.0981852 0.299101 -0.00140033 C -0.00139575 -0.0992334 -1.095068 -0.995469 -1.196403 -1.596459 \" transform=\"matrix(-0.44717,0.89436,0.89436,0.44717,37.99047,27.31906)\"/>\n",
       "<g style=\"fill:rgb(0%,0%,0%);fill-opacity:1;\">\n",
       "  <use xlink:href=\"#glyph-1606184035301243-0-1\" x=\"44.869\" y=\"27.439\"/>\n",
       "  <use xlink:href=\"#glyph-1606184035301243-0-2\" x=\"47.35966\" y=\"27.439\"/>\n",
       "  <use xlink:href=\"#glyph-1606184035301243-0-3\" x=\"48.744467\" y=\"27.439\"/>\n",
       "</g>\n",
       "<path style=\"fill:none;stroke-width:0.3985;stroke-linecap:butt;stroke-linejoin:miter;stroke:rgb(0%,0%,0%);stroke-opacity:1;stroke-miterlimit:10;\" d=\"M 3.419 -6.838562 L 10.340875 -20.682312 \" transform=\"matrix(1,0,0,-1,48.331,6.638)\"/>\n",
       "<path style=\"fill:none;stroke-width:0.31879;stroke-linecap:round;stroke-linejoin:round;stroke:rgb(0%,0%,0%);stroke-opacity:1;stroke-miterlimit:10;\" d=\"M -1.197228 1.59481 C -1.094145 0.997314 -0.000473311 0.101078 0.298276 -0.00024891 C -0.000471514 -0.0998344 -1.095875 -0.997837 -1.197199 -1.593588 \" transform=\"matrix(0.44717,0.89436,0.89436,-0.44717,58.67153,27.31906)\"/>\n",
       "<g style=\"fill:rgb(0%,0%,0%);fill-opacity:1;\">\n",
       "  <use xlink:href=\"#glyph-1606184035301243-0-1\" x=\"58.833\" y=\"16.972\"/>\n",
       "  <use xlink:href=\"#glyph-1606184035301243-0-2\" x=\"61.32366\" y=\"16.972\"/>\n",
       "  <use xlink:href=\"#glyph-1606184035301243-0-3\" x=\"62.708467\" y=\"16.972\"/>\n",
       "</g>\n",
       "<path style=\"fill:none;stroke-width:0.3985;stroke-linecap:butt;stroke-linejoin:miter;stroke:rgb(0%,0%,0%);stroke-opacity:1;stroke-miterlimit:10;\" d=\"M -14.17475 -35.604187 L -14.17475 -49.397156 \" transform=\"matrix(1,0,0,-1,48.331,6.638)\"/>\n",
       "<path style=\"fill:none;stroke-width:0.31879;stroke-linecap:round;stroke-linejoin:round;stroke:rgb(0%,0%,0%);stroke-opacity:1;stroke-miterlimit:10;\" d=\"M -1.196046 1.59239 C -1.094484 0.994734 -0.00073375 0.100203 0.300047 -0.00136 C -0.00073375 -0.0990162 -1.094484 -0.997454 -1.196046 -1.59511 \" transform=\"matrix(0,1,1,0,34.15761,56.03589)\"/>\n",
       "<path style=\"fill:none;stroke-width:0.3985;stroke-linecap:butt;stroke-linejoin:miter;stroke:rgb(0%,0%,0%);stroke-opacity:1;stroke-miterlimit:10;\" d=\"M -20.182562 -34.358094 L -36.186469 -50.358094 \" transform=\"matrix(1,0,0,-1,48.331,6.638)\"/>\n",
       "<path style=\"fill:none;stroke-width:0.31879;stroke-linecap:round;stroke-linejoin:round;stroke:rgb(0%,0%,0%);stroke-opacity:1;stroke-miterlimit:10;\" d=\"M -1.196106 1.592505 C -1.096669 0.995878 -0.000090157 0.0981756 0.298223 -0.0012622 C -0.000090157 -0.1007 -1.093906 -0.995641 -1.196106 -1.59503 \" transform=\"matrix(-0.7071,0.7071,0.7071,0.7071,12.14536,56.99705)\"/>\n",
       "<path style=\"fill:none;stroke-width:0.3985;stroke-linecap:butt;stroke-linejoin:miter;stroke:rgb(0%,0%,0%);stroke-opacity:1;stroke-miterlimit:10;\" d=\"M 14.172906 -35.604187 L 14.172906 -49.397156 \" transform=\"matrix(1,0,0,-1,48.331,6.638)\"/>\n",
       "<path style=\"fill:none;stroke-width:0.31879;stroke-linecap:round;stroke-linejoin:round;stroke:rgb(0%,0%,0%);stroke-opacity:1;stroke-miterlimit:10;\" d=\"M -1.196046 1.593266 C -1.094484 0.99561 -0.00073375 0.101079 0.300047 -0.00048375 C -0.00073375 -0.09814 -1.094484 -0.996577 -1.196046 -1.594234 \" transform=\"matrix(0,1,1,0,62.50439,56.03589)\"/>\n",
       "<path style=\"fill:none;stroke-width:0.3985;stroke-linecap:butt;stroke-linejoin:miter;stroke:rgb(0%,0%,0%);stroke-opacity:1;stroke-miterlimit:10;\" d=\"M 20.184625 -34.358094 L 35.360406 -49.533875 \" transform=\"matrix(1,0,0,-1,48.331,6.638)\"/>\n",
       "<path style=\"fill:none;stroke-width:0.31879;stroke-linecap:round;stroke-linejoin:round;stroke:rgb(0%,0%,0%);stroke-opacity:1;stroke-miterlimit:10;\" d=\"M -1.19359 1.593712 C -1.094152 0.997085 0.00242628 0.0993822 0.30074 -0.0000556852 C 0.00242628 -0.0994935 -1.094152 -0.997196 -1.19359 -1.593823 \" transform=\"matrix(0.7071,0.7071,0.7071,-0.7071,83.68973,56.17012)\"/>\n",
       "<path style=\"fill:none;stroke-width:0.3985;stroke-linecap:butt;stroke-linejoin:miter;stroke:rgb(0%,0%,0%);stroke-opacity:1;stroke-miterlimit:10;\" d=\"M -14.17475 -63.529969 L -14.17475 -77.744812 \" transform=\"matrix(1,0,0,-1,48.331,6.638)\"/>\n",
       "<path style=\"fill:none;stroke-width:0.31879;stroke-linecap:round;stroke-linejoin:round;stroke:rgb(0%,0%,0%);stroke-opacity:1;stroke-miterlimit:10;\" d=\"M -1.1952 1.59239 C -1.097544 0.994734 0.0001125 0.100203 0.296987 -0.00136 C 0.0001125 -0.0990162 -1.097544 -0.997454 -1.1952 -1.59511 \" transform=\"matrix(0,1,1,0,34.15761,84.3827)\"/>\n",
       "<g style=\"fill:rgb(0%,0%,0%);fill-opacity:1;\">\n",
       "  <use xlink:href=\"#glyph-1606184035301243-0-1\" x=\"37.677\" y=\"79.108\"/>\n",
       "  <use xlink:href=\"#glyph-1606184035301243-0-2\" x=\"40.16766\" y=\"79.108\"/>\n",
       "  <use xlink:href=\"#glyph-1606184035301243-0-3\" x=\"41.552467\" y=\"79.108\"/>\n",
       "</g>\n",
       "<path style=\"fill:none;stroke-width:0.3985;stroke-linecap:butt;stroke-linejoin:miter;stroke:rgb(0%,0%,0%);stroke-opacity:1;stroke-miterlimit:10;\" d=\"M -7.334906 -63.529969 L 7.01275 -77.877625 \" transform=\"matrix(1,0,0,-1,48.331,6.638)\"/>\n",
       "<path style=\"fill:none;stroke-width:0.31879;stroke-linecap:round;stroke-linejoin:round;stroke:rgb(0%,0%,0%);stroke-opacity:1;stroke-miterlimit:10;\" d=\"M -1.196359 1.595284 C -1.094159 0.995895 -0.00034295 0.100955 0.297971 0.00151676 C -0.00034295 -0.0979211 -1.096921 -0.995624 -1.196359 -1.592251 \" transform=\"matrix(0.7071,0.7071,0.7071,-0.7071,55.34292,84.51694)\"/>\n",
       "<g style=\"fill:rgb(0%,0%,0%);fill-opacity:1;\">\n",
       "  <use xlink:href=\"#glyph-1606184035301243-0-1\" x=\"51.851\" y=\"73.874\"/>\n",
       "  <use xlink:href=\"#glyph-1606184035301243-0-2\" x=\"54.34166\" y=\"73.874\"/>\n",
       "  <use xlink:href=\"#glyph-1606184035301243-0-3\" x=\"55.726467\" y=\"73.874\"/>\n",
       "</g>\n",
       "<path style=\"fill:none;stroke-width:0.3985;stroke-linecap:butt;stroke-linejoin:miter;stroke:rgb(0%,0%,0%);stroke-opacity:1;stroke-miterlimit:10;\" d=\"M 7.336969 -63.529969 L -7.838812 -78.70575 \" transform=\"matrix(1,0,0,-1,48.331,6.638)\"/>\n",
       "<path style=\"fill:none;stroke-width:0.31879;stroke-linecap:round;stroke-linejoin:round;stroke:rgb(0%,0%,0%);stroke-opacity:1;stroke-miterlimit:10;\" d=\"M -1.196128 1.593709 C -1.09669 0.997082 -0.00011137 0.0993795 0.298202 -0.0000583369 C -0.00011137 -0.0994962 -1.09669 -0.997199 -1.196128 -1.593826 \" transform=\"matrix(-0.7071,0.7071,0.7071,0.7071,40.49215,85.34387)\"/>\n",
       "<g style=\"fill:rgb(0%,0%,0%);fill-opacity:1;\">\n",
       "  <use xlink:href=\"#glyph-1606184035301243-0-1\" x=\"51.437\" y=\"84.754\"/>\n",
       "  <use xlink:href=\"#glyph-1606184035301243-0-2\" x=\"53.92766\" y=\"84.754\"/>\n",
       "  <use xlink:href=\"#glyph-1606184035301243-0-3\" x=\"55.312467\" y=\"84.754\"/>\n",
       "</g>\n",
       "<path style=\"fill:none;stroke-width:0.3985;stroke-linecap:butt;stroke-linejoin:miter;stroke:rgb(0%,0%,0%);stroke-opacity:1;stroke-miterlimit:10;\" d=\"M 14.172906 -63.529969 L 14.172906 -77.744812 \" transform=\"matrix(1,0,0,-1,48.331,6.638)\"/>\n",
       "<path style=\"fill:none;stroke-width:0.31879;stroke-linecap:round;stroke-linejoin:round;stroke:rgb(0%,0%,0%);stroke-opacity:1;stroke-miterlimit:10;\" d=\"M -1.1952 1.593266 C -1.097544 0.99561 0.0001125 0.101079 0.296987 -0.00048375 C 0.0001125 -0.09814 -1.097544 -0.996577 -1.1952 -1.594234 \" transform=\"matrix(0,1,1,0,62.50439,84.3827)\"/>\n",
       "<g style=\"fill:rgb(0%,0%,0%);fill-opacity:1;\">\n",
       "  <use xlink:href=\"#glyph-1606184035301243-0-1\" x=\"66.024\" y=\"79.108\"/>\n",
       "  <use xlink:href=\"#glyph-1606184035301243-0-2\" x=\"68.51466\" y=\"79.108\"/>\n",
       "  <use xlink:href=\"#glyph-1606184035301243-0-3\" x=\"69.899467\" y=\"79.108\"/>\n",
       "</g>\n",
       "<g style=\"fill:rgb(0%,0%,0%);fill-opacity:1;\">\n",
       "  <use xlink:href=\"#glyph-1606184035301243-1-1\" x=\"44.455\" y=\"9.128\"/>\n",
       "</g>\n",
       "<g style=\"fill:rgb(0%,0%,0%);fill-opacity:1;\">\n",
       "  <use xlink:href=\"#glyph-1606184035301243-1-2\" x=\"31.667\" y=\"38.72\"/>\n",
       "</g>\n",
       "<g style=\"fill:rgb(0%,0%,0%);fill-opacity:1;\">\n",
       "  <use xlink:href=\"#glyph-1606184035301243-1-2\" x=\"60.013\" y=\"38.72\"/>\n",
       "</g>\n",
       "<g style=\"fill:rgb(0%,0%,0%);fill-opacity:1;\">\n",
       "  <use xlink:href=\"#glyph-1606184035301243-1-1\" x=\"30.282\" y=\"65.821\"/>\n",
       "</g>\n",
       "<g style=\"fill:rgb(0%,0%,0%);fill-opacity:1;\">\n",
       "  <use xlink:href=\"#glyph-1606184035301243-1-3\" x=\"3.321\" y=\"66.648\"/>\n",
       "</g>\n",
       "<g style=\"fill:rgb(0%,0%,0%);fill-opacity:1;\">\n",
       "  <use xlink:href=\"#glyph-1606184035301243-1-4\" x=\"31.667\" y=\"94.994\"/>\n",
       "</g>\n",
       "<g style=\"fill:rgb(0%,0%,0%);fill-opacity:1;\">\n",
       "  <use xlink:href=\"#glyph-1606184035301243-1-5\" x=\"58.355\" y=\"94.994\"/>\n",
       "  <use xlink:href=\"#glyph-1606184035301243-1-4\" x=\"61.672559\" y=\"94.994\"/>\n",
       "</g>\n",
       "<g style=\"fill:rgb(0%,0%,0%);fill-opacity:1;\">\n",
       "  <use xlink:href=\"#glyph-1606184035301243-1-1\" x=\"58.629\" y=\"65.821\"/>\n",
       "</g>\n",
       "<g style=\"fill:rgb(0%,0%,0%);fill-opacity:1;\">\n",
       "  <use xlink:href=\"#glyph-1606184035301243-1-5\" x=\"86.701\" y=\"66.648\"/>\n",
       "  <use xlink:href=\"#glyph-1606184035301243-1-3\" x=\"90.018559\" y=\"66.648\"/>\n",
       "</g>\n",
       "</g>\n",
       "</svg>\n",
       "\n"
      ],
      "text/plain": [
       "TikzPicture(\"\\\\graph [layered layout, ] {\\n1/\\\"+\\\" [],\\n2/\\\"*\\\" [],\\n3/\\\"*\\\" [],\\n4/\\\"+\\\" [],\\n5/\\\"2\\\" [],\\n6/\\\"1\\\" [],\\n7/\\\"-1\\\" [],\\n8/\\\"+\\\" [],\\n9/\\\"-2\\\" [],\\n;\\n1 -> [font=\\\\tiny,edge label={0.5},] 2;\\n1 -> [font=\\\\tiny,edge label={0.5},] 3;\\n2 -> [font=\\\\tiny,] 4;\\n2 -> [font=\\\\tiny,] 5;\\n3 -> [font=\\\\tiny,] 8;\\n3 -> [font=\\\\tiny,] 9;\\n4 -> [font=\\\\tiny,edge label={0.5},] 6;\\n4 -> [font=\\\\tiny,edge label={0.5},] 7;\\n8 -> [font=\\\\tiny,edge label={0.5},] 6;\\n8 -> [font=\\\\tiny,edge label={0.5},] 7;\\n};\\n\", \"\", \"\\\\usepackage{fontspec}\\n\\\\setmainfont{Latin Modern Math}\\n\\\\usetikzlibrary{arrows}\\n\\\\usetikzlibrary{graphs}\\n\\\\usetikzlibrary{graphdrawing}\\n\\n% from: https://tex.stackexchange.com/questions/453132/fresh-install-of-tl2018-no-tikz-graph-drawing-libraries-found\\n\\\\usepackage{luacode}\\n\\\\begin{luacode*}\\n\\tfunction pgf_lookup_and_require(name)\\n\\tlocal sep = package.config:sub(1,1)\\n\\tlocal function lookup(name)\\n\\tlocal sub = name:gsub('%.',sep)  \\n\\tif kpse.find_file(sub, 'lua') then\\n\\trequire(name)\\n\\telseif kpse.find_file(sub, 'clua') then\\n\\tcollectgarbage('stop') \\n\\trequire(name)\\n\\tcollectgarbage('restart')\\n\\telse\\n\\treturn false\\n\\tend\\n\\treturn true\\n\\tend\\n\\treturn\\n\\tlookup('pgf.gd.' .. name .. '.library') or\\n\\tlookup('pgf.gd.' .. name) or\\n\\tlookup(name .. '.library') or\\n\\tlookup(name) \\n\\tend\\n\\\\end{luacode*}\\n\\n\\\\usegdlibrary{layered}\", \"tikzpicture\", \"\", \"\", true, true)"
      ]
     },
     "execution_count": 20,
     "metadata": {},
     "output_type": "execute_result"
    }
   ],
   "source": [
    "c2, _ = split(c1, (c1, c1.children[1]), Var(2);depth=2)\n",
    "plot(c2)"
   ]
  },
  {
   "cell_type": "markdown",
   "metadata": {},
   "source": [
    "6. **Clone**"
   ]
  },
  {
   "cell_type": "code",
   "execution_count": 21,
   "metadata": {
    "tags": []
   },
   "outputs": [
    {
     "data": {
      "image/svg+xml": [
       "<?xml version=\"1.0\" encoding=\"UTF-8\"?>\n",
       "<svg xmlns=\"http://www.w3.org/2000/svg\" xmlns:xlink=\"http://www.w3.org/1999/xlink\" width=\"41.628pt\" height=\"98.315pt\" viewBox=\"0 0 41.628 98.315\" version=\"1.1\">\n",
       "<defs>\n",
       "<g>\n",
       "<symbol overflow=\"visible\" id=\"glyph-1606184035301244-0-0\">\n",
       "<path style=\"stroke:none;\" d=\"\"/>\n",
       "</symbol>\n",
       "<symbol overflow=\"visible\" id=\"glyph-1606184035301244-0-1\">\n",
       "<path style=\"stroke:none;\" d=\"M 2.296875 -1.59375 C 2.296875 -2 2.265625 -2.390625 2.09375 -2.765625 C 1.859375 -3.234375 1.453125 -3.3125 1.25 -3.3125 C 0.953125 -3.3125 0.578125 -3.1875 0.375 -2.71875 C 0.21875 -2.375 0.1875 -2 0.1875 -1.59375 C 0.1875 -1.21875 0.21875 -0.765625 0.421875 -0.390625 C 0.640625 0.015625 1 0.109375 1.234375 0.109375 C 1.515625 0.109375 1.890625 0 2.109375 -0.46875 C 2.265625 -0.8125 2.296875 -1.203125 2.296875 -1.59375 Z M 1.875 -1.65625 C 1.875 -1.28125 1.875 -0.9375 1.828125 -0.625 C 1.75 -0.15625 1.46875 0 1.234375 0 C 1.046875 0 0.75 -0.125 0.65625 -0.609375 C 0.609375 -0.90625 0.609375 -1.359375 0.609375 -1.65625 C 0.609375 -1.96875 0.609375 -2.296875 0.640625 -2.578125 C 0.75 -3.171875 1.109375 -3.203125 1.234375 -3.203125 C 1.40625 -3.203125 1.734375 -3.125 1.828125 -2.625 C 1.875 -2.34375 1.875 -1.96875 1.875 -1.65625 Z M 1.875 -1.65625 \"/>\n",
       "</symbol>\n",
       "<symbol overflow=\"visible\" id=\"glyph-1606184035301244-0-2\">\n",
       "<path style=\"stroke:none;\" d=\"M 0.953125 -0.265625 C 0.953125 -0.40625 0.84375 -0.53125 0.6875 -0.53125 C 0.546875 -0.53125 0.421875 -0.40625 0.421875 -0.265625 C 0.421875 -0.125 0.546875 0 0.6875 0 C 0.84375 0 0.953125 -0.125 0.953125 -0.265625 Z M 0.953125 -0.265625 \"/>\n",
       "</symbol>\n",
       "<symbol overflow=\"visible\" id=\"glyph-1606184035301244-0-3\">\n",
       "<path style=\"stroke:none;\" d=\"M 2.234375 -1 C 2.234375 -1.59375 1.828125 -2.09375 1.296875 -2.09375 C 1.046875 -2.09375 0.84375 -2.015625 0.65625 -1.84375 L 0.65625 -2.8125 C 0.75 -2.78125 0.921875 -2.75 1.078125 -2.75 C 1.6875 -2.75 2.046875 -3.203125 2.046875 -3.265625 C 2.046875 -3.296875 2.03125 -3.3125 2 -3.3125 C 2 -3.3125 1.984375 -3.3125 1.953125 -3.296875 C 1.859375 -3.265625 1.609375 -3.15625 1.28125 -3.15625 C 1.078125 -3.15625 0.84375 -3.1875 0.609375 -3.296875 C 0.578125 -3.3125 0.546875 -3.3125 0.546875 -3.3125 C 0.5 -3.3125 0.5 -3.28125 0.5 -3.1875 L 0.5 -1.71875 C 0.5 -1.625 0.5 -1.59375 0.578125 -1.59375 C 0.609375 -1.59375 0.625 -1.609375 0.640625 -1.640625 C 0.6875 -1.71875 0.875 -1.984375 1.28125 -1.984375 C 1.546875 -1.984375 1.671875 -1.75 1.703125 -1.671875 C 1.78125 -1.484375 1.796875 -1.28125 1.796875 -1.03125 C 1.796875 -0.859375 1.796875 -0.5625 1.671875 -0.359375 C 1.5625 -0.15625 1.375 -0.03125 1.140625 -0.03125 C 0.78125 -0.03125 0.5 -0.296875 0.40625 -0.59375 C 0.421875 -0.578125 0.4375 -0.578125 0.5 -0.578125 C 0.65625 -0.578125 0.75 -0.703125 0.75 -0.828125 C 0.75 -0.9375 0.65625 -1.0625 0.5 -1.0625 C 0.421875 -1.0625 0.25 -1.03125 0.25 -0.796875 C 0.25 -0.375 0.59375 0.109375 1.15625 0.109375 C 1.734375 0.109375 2.234375 -0.375 2.234375 -1 Z M 2.234375 -1 \"/>\n",
       "</symbol>\n",
       "<symbol overflow=\"visible\" id=\"glyph-1606184035301244-1-0\">\n",
       "<path style=\"stroke:none;\" d=\"\"/>\n",
       "</symbol>\n",
       "<symbol overflow=\"visible\" id=\"glyph-1606184035301244-1-1\">\n",
       "<path style=\"stroke:none;\" d=\"M 7.203125 -2.5 C 7.203125 -2.609375 7.109375 -2.6875 7 -2.6875 L 4.078125 -2.6875 L 4.078125 -5.609375 C 4.078125 -5.71875 3.984375 -5.8125 3.875 -5.8125 C 3.765625 -5.8125 3.671875 -5.71875 3.671875 -5.609375 L 3.671875 -2.6875 L 0.75 -2.6875 C 0.640625 -2.6875 0.5625 -2.609375 0.5625 -2.5 C 0.5625 -2.375 0.640625 -2.296875 0.75 -2.296875 L 3.671875 -2.296875 L 3.671875 0.625 C 3.671875 0.734375 3.765625 0.828125 3.875 0.828125 C 3.984375 0.828125 4.078125 0.734375 4.078125 0.625 L 4.078125 -2.296875 L 7 -2.296875 C 7.109375 -2.296875 7.203125 -2.375 7.203125 -2.5 Z M 7.203125 -2.5 \"/>\n",
       "</symbol>\n",
       "<symbol overflow=\"visible\" id=\"glyph-1606184035301244-1-2\">\n",
       "<path style=\"stroke:none;\" d=\"M 4.34375 -4.265625 C 4.4375 -4.421875 4.375 -4.609375 4.21875 -4.671875 L 2.734375 -5.328125 L 4.21875 -5.984375 C 4.375 -6.0625 4.4375 -6.25 4.34375 -6.40625 C 4.25 -6.5625 4.0625 -6.59375 3.921875 -6.5 L 2.609375 -5.546875 L 2.78125 -7.140625 C 2.796875 -7.328125 2.671875 -7.484375 2.5 -7.484375 C 2.3125 -7.484375 2.1875 -7.328125 2.203125 -7.140625 L 2.375 -5.546875 L 1.0625 -6.5 C 0.921875 -6.59375 0.734375 -6.5625 0.640625 -6.40625 C 0.546875 -6.25 0.609375 -6.0625 0.765625 -5.984375 L 2.25 -5.328125 L 0.765625 -4.671875 C 0.609375 -4.609375 0.546875 -4.421875 0.640625 -4.265625 C 0.734375 -4.109375 0.921875 -4.0625 1.0625 -4.171875 L 2.375 -5.125 L 2.203125 -3.515625 C 2.1875 -3.34375 2.3125 -3.1875 2.5 -3.1875 C 2.671875 -3.1875 2.796875 -3.34375 2.78125 -3.515625 L 2.609375 -5.125 L 3.921875 -4.171875 C 4.0625 -4.0625 4.25 -4.109375 4.34375 -4.265625 Z M 4.34375 -4.265625 \"/>\n",
       "</symbol>\n",
       "<symbol overflow=\"visible\" id=\"glyph-1606184035301244-1-3\">\n",
       "<path style=\"stroke:none;\" d=\"M 4.171875 0 L 4.171875 -0.3125 L 3.859375 -0.3125 C 2.953125 -0.3125 2.9375 -0.421875 2.9375 -0.78125 L 2.9375 -6.375 C 2.9375 -6.625 2.9375 -6.640625 2.703125 -6.640625 C 2.078125 -6 1.203125 -6 0.890625 -6 L 0.890625 -5.6875 C 1.09375 -5.6875 1.671875 -5.6875 2.1875 -5.953125 L 2.1875 -0.78125 C 2.1875 -0.421875 2.15625 -0.3125 1.265625 -0.3125 L 0.953125 -0.3125 L 0.953125 0 C 1.296875 -0.03125 2.15625 -0.03125 2.5625 -0.03125 C 2.953125 -0.03125 3.828125 -0.03125 4.171875 0 Z M 4.171875 0 \"/>\n",
       "</symbol>\n",
       "<symbol overflow=\"visible\" id=\"glyph-1606184035301244-1-4\">\n",
       "<path style=\"stroke:none;\" d=\"M 2.75 -1.859375 L 2.75 -2.4375 L 0.109375 -2.4375 L 0.109375 -1.859375 Z M 2.75 -1.859375 \"/>\n",
       "</symbol>\n",
       "</g>\n",
       "</defs>\n",
       "<g id=\"surface1\">\n",
       "<path style=\"fill:none;stroke-width:0.3985;stroke-linecap:butt;stroke-linejoin:miter;stroke:rgb(0%,0%,0%);stroke-opacity:1;stroke-miterlimit:10;\" d=\"M -3.417594 -6.838562 L -10.339469 -20.682312 \" transform=\"matrix(1,0,0,-1,19.984,6.638)\"/>\n",
       "<path style=\"fill:none;stroke-width:0.31879;stroke-linecap:round;stroke-linejoin:round;stroke:rgb(0%,0%,0%);stroke-opacity:1;stroke-miterlimit:10;\" d=\"M -1.197828 1.594845 C -1.094756 0.9956 -0.00110045 0.101092 0.297647 0.0015068 C -0.00110224 -0.0998204 -1.094774 -0.996056 -1.197857 -1.593552 \" transform=\"matrix(-0.44717,0.89436,0.89436,0.44717,9.64347,27.31906)\"/>\n",
       "<g style=\"fill:rgb(0%,0%,0%);fill-opacity:1;\">\n",
       "  <use xlink:href=\"#glyph-1606184035301244-0-1\" x=\"16.522\" y=\"27.439\"/>\n",
       "  <use xlink:href=\"#glyph-1606184035301244-0-2\" x=\"19.01266\" y=\"27.439\"/>\n",
       "  <use xlink:href=\"#glyph-1606184035301244-0-3\" x=\"20.397467\" y=\"27.439\"/>\n",
       "</g>\n",
       "<path style=\"fill:none;stroke-width:0.3985;stroke-linecap:butt;stroke-linejoin:miter;stroke:rgb(0%,0%,0%);stroke-opacity:1;stroke-miterlimit:10;\" d=\"M 3.418344 -6.838562 L 10.340219 -20.682312 \" transform=\"matrix(1,0,0,-1,19.984,6.638)\"/>\n",
       "<path style=\"fill:none;stroke-width:0.31879;stroke-linecap:round;stroke-linejoin:round;stroke:rgb(0%,0%,0%);stroke-opacity:1;stroke-miterlimit:10;\" d=\"M -1.197521 1.594223 C -1.094439 0.996727 -0.000766813 0.100491 0.297983 -0.000835927 C -0.000765016 -0.100421 -1.094421 -0.99493 -1.197493 -1.594175 \" transform=\"matrix(0.44717,0.89436,0.89436,-0.44717,30.32453,27.31906)\"/>\n",
       "<g style=\"fill:rgb(0%,0%,0%);fill-opacity:1;\">\n",
       "  <use xlink:href=\"#glyph-1606184035301244-0-1\" x=\"30.486\" y=\"16.972\"/>\n",
       "  <use xlink:href=\"#glyph-1606184035301244-0-2\" x=\"32.97666\" y=\"16.972\"/>\n",
       "  <use xlink:href=\"#glyph-1606184035301244-0-3\" x=\"34.361467\" y=\"16.972\"/>\n",
       "</g>\n",
       "<path style=\"fill:none;stroke-width:0.3985;stroke-linecap:butt;stroke-linejoin:miter;stroke:rgb(0%,0%,0%);stroke-opacity:1;stroke-miterlimit:10;\" d=\"M -10.5465 -35.604187 L -3.624625 -49.447937 \" transform=\"matrix(1,0,0,-1,19.984,6.638)\"/>\n",
       "<path style=\"fill:none;stroke-width:0.31879;stroke-linecap:round;stroke-linejoin:round;stroke:rgb(0%,0%,0%);stroke-opacity:1;stroke-miterlimit:10;\" d=\"M -1.197478 1.593448 C -1.094396 0.995952 -0.000723758 0.0997164 0.298026 -0.00161079 C -0.000721961 -0.101196 -1.094378 -0.995704 -1.19745 -1.594949 \" transform=\"matrix(0.44717,0.89436,0.89436,-0.44717,16.36036,56.0843)\"/>\n",
       "<path style=\"fill:none;stroke-width:0.3985;stroke-linecap:butt;stroke-linejoin:miter;stroke:rgb(0%,0%,0%);stroke-opacity:1;stroke-miterlimit:10;\" d=\"M 10.54725 -35.604187 L 3.625375 -49.447937 \" transform=\"matrix(1,0,0,-1,19.984,6.638)\"/>\n",
       "<path style=\"fill:none;stroke-width:0.31879;stroke-linecap:round;stroke-linejoin:round;stroke:rgb(0%,0%,0%);stroke-opacity:1;stroke-miterlimit:10;\" d=\"M -1.196038 1.592126 C -1.094713 0.996375 0.000689644 0.098373 0.299437 -0.00121249 C -0.00105919 -0.0990456 -1.094731 -0.995281 -1.196067 -1.596271 \" transform=\"matrix(-0.44717,0.89436,0.89436,0.44717,23.60764,56.0843)\"/>\n",
       "<path style=\"fill:none;stroke-width:0.3985;stroke-linecap:butt;stroke-linejoin:miter;stroke:rgb(0%,0%,0%);stroke-opacity:1;stroke-miterlimit:10;\" d=\"M -3.417594 -63.529969 L -10.550406 -77.791687 \" transform=\"matrix(1,0,0,-1,19.984,6.638)\"/>\n",
       "<path style=\"fill:none;stroke-width:0.31879;stroke-linecap:round;stroke-linejoin:round;stroke:rgb(0%,0%,0%);stroke-opacity:1;stroke-miterlimit:10;\" d=\"M -1.195945 1.593855 C -1.094621 0.998105 0.000782463 0.100102 0.29953 0.000516689 C 0.000780666 -0.100811 -1.098133 -0.995299 -1.195974 -1.594542 \" transform=\"matrix(-0.44717,0.89436,0.89436,0.44717,9.43426,84.4311)\"/>\n",
       "<g style=\"fill:rgb(0%,0%,0%);fill-opacity:1;\">\n",
       "  <use xlink:href=\"#glyph-1606184035301244-0-1\" x=\"16.418\" y=\"84.341\"/>\n",
       "  <use xlink:href=\"#glyph-1606184035301244-0-2\" x=\"18.90866\" y=\"84.341\"/>\n",
       "  <use xlink:href=\"#glyph-1606184035301244-0-3\" x=\"20.293467\" y=\"84.341\"/>\n",
       "</g>\n",
       "<path style=\"fill:none;stroke-width:0.3985;stroke-linecap:butt;stroke-linejoin:miter;stroke:rgb(0%,0%,0%);stroke-opacity:1;stroke-miterlimit:10;\" d=\"M 3.418344 -63.529969 L 10.551156 -77.791687 \" transform=\"matrix(1,0,0,-1,19.984,6.638)\"/>\n",
       "<path style=\"fill:none;stroke-width:0.31879;stroke-linecap:round;stroke-linejoin:round;stroke:rgb(0%,0%,0%);stroke-opacity:1;stroke-miterlimit:10;\" d=\"M -1.195638 1.595213 C -1.097797 0.99597 -0.000630939 0.0979873 0.299865 0.000154188 C 0.00111789 -0.0994313 -1.094285 -0.997434 -1.19561 -1.593184 \" transform=\"matrix(0.44717,0.89436,0.89436,-0.44717,30.53374,84.4311)\"/>\n",
       "<g style=\"fill:rgb(0%,0%,0%);fill-opacity:1;\">\n",
       "  <use xlink:href=\"#glyph-1606184035301244-0-1\" x=\"30.591\" y=\"73.874\"/>\n",
       "  <use xlink:href=\"#glyph-1606184035301244-0-2\" x=\"33.08166\" y=\"73.874\"/>\n",
       "  <use xlink:href=\"#glyph-1606184035301244-0-3\" x=\"34.466467\" y=\"73.874\"/>\n",
       "</g>\n",
       "<g style=\"fill:rgb(0%,0%,0%);fill-opacity:1;\">\n",
       "  <use xlink:href=\"#glyph-1606184035301244-1-1\" x=\"16.109\" y=\"9.128\"/>\n",
       "</g>\n",
       "<g style=\"fill:rgb(0%,0%,0%);fill-opacity:1;\">\n",
       "  <use xlink:href=\"#glyph-1606184035301244-1-2\" x=\"3.321\" y=\"38.72\"/>\n",
       "</g>\n",
       "<g style=\"fill:rgb(0%,0%,0%);fill-opacity:1;\">\n",
       "  <use xlink:href=\"#glyph-1606184035301244-1-2\" x=\"31.667\" y=\"38.72\"/>\n",
       "</g>\n",
       "<g style=\"fill:rgb(0%,0%,0%);fill-opacity:1;\">\n",
       "  <use xlink:href=\"#glyph-1606184035301244-1-1\" x=\"16.109\" y=\"65.821\"/>\n",
       "</g>\n",
       "<g style=\"fill:rgb(0%,0%,0%);fill-opacity:1;\">\n",
       "  <use xlink:href=\"#glyph-1606184035301244-1-3\" x=\"3.321\" y=\"94.994\"/>\n",
       "</g>\n",
       "<g style=\"fill:rgb(0%,0%,0%);fill-opacity:1;\">\n",
       "  <use xlink:href=\"#glyph-1606184035301244-1-4\" x=\"30.008\" y=\"94.994\"/>\n",
       "  <use xlink:href=\"#glyph-1606184035301244-1-3\" x=\"33.325559\" y=\"94.994\"/>\n",
       "</g>\n",
       "</g>\n",
       "</svg>\n",
       "\n"
      ],
      "text/plain": [
       "TikzPicture(\"\\\\graph [layered layout, ] {\\n1/\\\"+\\\" [],\\n2/\\\"*\\\" [],\\n3/\\\"*\\\" [],\\n4/\\\"+\\\" [],\\n5/\\\"1\\\" [],\\n6/\\\"-1\\\" [],\\n;\\n1 -> [font=\\\\tiny,edge label={0.5},] 2;\\n1 -> [font=\\\\tiny,edge label={0.5},] 3;\\n2 -> [font=\\\\tiny,] 4;\\n3 -> [font=\\\\tiny,] 4;\\n4 -> [font=\\\\tiny,edge label={0.5},] 5;\\n4 -> [font=\\\\tiny,edge label={0.5},] 6;\\n};\\n\", \"\", \"\\\\usepackage{fontspec}\\n\\\\setmainfont{Latin Modern Math}\\n\\\\usetikzlibrary{arrows}\\n\\\\usetikzlibrary{graphs}\\n\\\\usetikzlibrary{graphdrawing}\\n\\n% from: https://tex.stackexchange.com/questions/453132/fresh-install-of-tl2018-no-tikz-graph-drawing-libraries-found\\n\\\\usepackage{luacode}\\n\\\\begin{luacode*}\\n\\tfunction pgf_lookup_and_require(name)\\n\\tlocal sep = package.config:sub(1,1)\\n\\tlocal function lookup(name)\\n\\tlocal sub = name:gsub('%.',sep)  \\n\\tif kpse.find_file(sub, 'lua') then\\n\\trequire(name)\\n\\telseif kpse.find_file(sub, 'clua') then\\n\\tcollectgarbage('stop') \\n\\trequire(name)\\n\\tcollectgarbage('restart')\\n\\telse\\n\\treturn false\\n\\tend\\n\\treturn true\\n\\tend\\n\\treturn\\n\\tlookup('pgf.gd.' .. name .. '.library') or\\n\\tlookup('pgf.gd.' .. name) or\\n\\tlookup(name .. '.library') or\\n\\tlookup(name) \\n\\tend\\n\\\\end{luacode*}\\n\\n\\\\usegdlibrary{layered}\", \"tikzpicture\", \"\", \"\", true, true)"
      ]
     },
     "execution_count": 21,
     "metadata": {},
     "output_type": "execute_result"
    }
   ],
   "source": [
    "or = X1[1] + X1[2]\n",
    "and1, and2 = (*)(or), (*)(or)\n",
    "c1 = and1 + and2\n",
    "c2 = clone(c1, and1, and2, or)\n",
    "plot(c1)"
   ]
  },
  {
   "cell_type": "code",
   "execution_count": 22,
   "metadata": {},
   "outputs": [
    {
     "data": {
      "image/svg+xml": [
       "<?xml version=\"1.0\" encoding=\"UTF-8\"?>\n",
       "<svg xmlns=\"http://www.w3.org/2000/svg\" xmlns:xlink=\"http://www.w3.org/1999/xlink\" width=\"48.749pt\" height=\"98.315pt\" viewBox=\"0 0 48.749 98.315\" version=\"1.1\">\n",
       "<defs>\n",
       "<g>\n",
       "<symbol overflow=\"visible\" id=\"glyph-1606184035301245-0-0\">\n",
       "<path style=\"stroke:none;\" d=\"\"/>\n",
       "</symbol>\n",
       "<symbol overflow=\"visible\" id=\"glyph-1606184035301245-0-1\">\n",
       "<path style=\"stroke:none;\" d=\"M 2.296875 -1.59375 C 2.296875 -2 2.265625 -2.390625 2.09375 -2.765625 C 1.859375 -3.234375 1.453125 -3.3125 1.25 -3.3125 C 0.953125 -3.3125 0.578125 -3.1875 0.375 -2.71875 C 0.21875 -2.375 0.1875 -2 0.1875 -1.59375 C 0.1875 -1.21875 0.21875 -0.765625 0.421875 -0.390625 C 0.640625 0.015625 1 0.109375 1.234375 0.109375 C 1.515625 0.109375 1.890625 0 2.109375 -0.46875 C 2.265625 -0.8125 2.296875 -1.203125 2.296875 -1.59375 Z M 1.875 -1.65625 C 1.875 -1.28125 1.875 -0.9375 1.828125 -0.625 C 1.75 -0.15625 1.46875 0 1.234375 0 C 1.046875 0 0.75 -0.125 0.65625 -0.609375 C 0.609375 -0.90625 0.609375 -1.359375 0.609375 -1.65625 C 0.609375 -1.96875 0.609375 -2.296875 0.640625 -2.578125 C 0.75 -3.171875 1.109375 -3.203125 1.234375 -3.203125 C 1.40625 -3.203125 1.734375 -3.125 1.828125 -2.625 C 1.875 -2.34375 1.875 -1.96875 1.875 -1.65625 Z M 1.875 -1.65625 \"/>\n",
       "</symbol>\n",
       "<symbol overflow=\"visible\" id=\"glyph-1606184035301245-0-2\">\n",
       "<path style=\"stroke:none;\" d=\"M 0.953125 -0.265625 C 0.953125 -0.40625 0.84375 -0.53125 0.6875 -0.53125 C 0.546875 -0.53125 0.421875 -0.40625 0.421875 -0.265625 C 0.421875 -0.125 0.546875 0 0.6875 0 C 0.84375 0 0.953125 -0.125 0.953125 -0.265625 Z M 0.953125 -0.265625 \"/>\n",
       "</symbol>\n",
       "<symbol overflow=\"visible\" id=\"glyph-1606184035301245-0-3\">\n",
       "<path style=\"stroke:none;\" d=\"M 2.234375 -1 C 2.234375 -1.59375 1.828125 -2.09375 1.296875 -2.09375 C 1.046875 -2.09375 0.84375 -2.015625 0.65625 -1.84375 L 0.65625 -2.8125 C 0.75 -2.78125 0.921875 -2.75 1.078125 -2.75 C 1.6875 -2.75 2.046875 -3.203125 2.046875 -3.265625 C 2.046875 -3.296875 2.03125 -3.3125 2 -3.3125 C 2 -3.3125 1.984375 -3.3125 1.953125 -3.296875 C 1.859375 -3.265625 1.609375 -3.15625 1.28125 -3.15625 C 1.078125 -3.15625 0.84375 -3.1875 0.609375 -3.296875 C 0.578125 -3.3125 0.546875 -3.3125 0.546875 -3.3125 C 0.5 -3.3125 0.5 -3.28125 0.5 -3.1875 L 0.5 -1.71875 C 0.5 -1.625 0.5 -1.59375 0.578125 -1.59375 C 0.609375 -1.59375 0.625 -1.609375 0.640625 -1.640625 C 0.6875 -1.71875 0.875 -1.984375 1.28125 -1.984375 C 1.546875 -1.984375 1.671875 -1.75 1.703125 -1.671875 C 1.78125 -1.484375 1.796875 -1.28125 1.796875 -1.03125 C 1.796875 -0.859375 1.796875 -0.5625 1.671875 -0.359375 C 1.5625 -0.15625 1.375 -0.03125 1.140625 -0.03125 C 0.78125 -0.03125 0.5 -0.296875 0.40625 -0.59375 C 0.421875 -0.578125 0.4375 -0.578125 0.5 -0.578125 C 0.65625 -0.578125 0.75 -0.703125 0.75 -0.828125 C 0.75 -0.9375 0.65625 -1.0625 0.5 -1.0625 C 0.421875 -1.0625 0.25 -1.03125 0.25 -0.796875 C 0.25 -0.375 0.59375 0.109375 1.15625 0.109375 C 1.734375 0.109375 2.234375 -0.375 2.234375 -1 Z M 2.234375 -1 \"/>\n",
       "</symbol>\n",
       "<symbol overflow=\"visible\" id=\"glyph-1606184035301245-1-0\">\n",
       "<path style=\"stroke:none;\" d=\"\"/>\n",
       "</symbol>\n",
       "<symbol overflow=\"visible\" id=\"glyph-1606184035301245-1-1\">\n",
       "<path style=\"stroke:none;\" d=\"M 7.203125 -2.5 C 7.203125 -2.609375 7.109375 -2.6875 7 -2.6875 L 4.078125 -2.6875 L 4.078125 -5.609375 C 4.078125 -5.71875 3.984375 -5.8125 3.875 -5.8125 C 3.765625 -5.8125 3.671875 -5.71875 3.671875 -5.609375 L 3.671875 -2.6875 L 0.75 -2.6875 C 0.640625 -2.6875 0.5625 -2.609375 0.5625 -2.5 C 0.5625 -2.375 0.640625 -2.296875 0.75 -2.296875 L 3.671875 -2.296875 L 3.671875 0.625 C 3.671875 0.734375 3.765625 0.828125 3.875 0.828125 C 3.984375 0.828125 4.078125 0.734375 4.078125 0.625 L 4.078125 -2.296875 L 7 -2.296875 C 7.109375 -2.296875 7.203125 -2.375 7.203125 -2.5 Z M 7.203125 -2.5 \"/>\n",
       "</symbol>\n",
       "<symbol overflow=\"visible\" id=\"glyph-1606184035301245-1-2\">\n",
       "<path style=\"stroke:none;\" d=\"M 4.34375 -4.265625 C 4.4375 -4.421875 4.375 -4.609375 4.21875 -4.671875 L 2.734375 -5.328125 L 4.21875 -5.984375 C 4.375 -6.0625 4.4375 -6.25 4.34375 -6.40625 C 4.25 -6.5625 4.0625 -6.59375 3.921875 -6.5 L 2.609375 -5.546875 L 2.78125 -7.140625 C 2.796875 -7.328125 2.671875 -7.484375 2.5 -7.484375 C 2.3125 -7.484375 2.1875 -7.328125 2.203125 -7.140625 L 2.375 -5.546875 L 1.0625 -6.5 C 0.921875 -6.59375 0.734375 -6.5625 0.640625 -6.40625 C 0.546875 -6.25 0.609375 -6.0625 0.765625 -5.984375 L 2.25 -5.328125 L 0.765625 -4.671875 C 0.609375 -4.609375 0.546875 -4.421875 0.640625 -4.265625 C 0.734375 -4.109375 0.921875 -4.0625 1.0625 -4.171875 L 2.375 -5.125 L 2.203125 -3.515625 C 2.1875 -3.34375 2.3125 -3.1875 2.5 -3.1875 C 2.671875 -3.1875 2.796875 -3.34375 2.78125 -3.515625 L 2.609375 -5.125 L 3.921875 -4.171875 C 4.0625 -4.0625 4.25 -4.109375 4.34375 -4.265625 Z M 4.34375 -4.265625 \"/>\n",
       "</symbol>\n",
       "<symbol overflow=\"visible\" id=\"glyph-1606184035301245-1-3\">\n",
       "<path style=\"stroke:none;\" d=\"M 4.171875 0 L 4.171875 -0.3125 L 3.859375 -0.3125 C 2.953125 -0.3125 2.9375 -0.421875 2.9375 -0.78125 L 2.9375 -6.375 C 2.9375 -6.625 2.9375 -6.640625 2.703125 -6.640625 C 2.078125 -6 1.203125 -6 0.890625 -6 L 0.890625 -5.6875 C 1.09375 -5.6875 1.671875 -5.6875 2.1875 -5.953125 L 2.1875 -0.78125 C 2.1875 -0.421875 2.15625 -0.3125 1.265625 -0.3125 L 0.953125 -0.3125 L 0.953125 0 C 1.296875 -0.03125 2.15625 -0.03125 2.5625 -0.03125 C 2.953125 -0.03125 3.828125 -0.03125 4.171875 0 Z M 4.171875 0 \"/>\n",
       "</symbol>\n",
       "<symbol overflow=\"visible\" id=\"glyph-1606184035301245-1-4\">\n",
       "<path style=\"stroke:none;\" d=\"M 2.75 -1.859375 L 2.75 -2.4375 L 0.109375 -2.4375 L 0.109375 -1.859375 Z M 2.75 -1.859375 \"/>\n",
       "</symbol>\n",
       "</g>\n",
       "</defs>\n",
       "<g id=\"surface1\">\n",
       "<path style=\"fill:none;stroke-width:0.3985;stroke-linecap:butt;stroke-linejoin:miter;stroke:rgb(0%,0%,0%);stroke-opacity:1;stroke-miterlimit:10;\" d=\"M -3.419781 -6.838562 L -10.341656 -20.682312 \" transform=\"matrix(1,0,0,-1,21.369,6.638)\"/>\n",
       "<path style=\"fill:none;stroke-width:0.31879;stroke-linecap:round;stroke-linejoin:round;stroke:rgb(0%,0%,0%);stroke-opacity:1;stroke-miterlimit:10;\" d=\"M -1.19685 1.592889 C -1.095525 0.997138 -0.000122107 0.0991356 0.298625 -0.00044992 C -0.000123904 -0.101777 -1.095543 -0.994519 -1.196878 -1.595509 \" transform=\"matrix(-0.44717,0.89436,0.89436,0.44717,11.02847,27.31906)\"/>\n",
       "<g style=\"fill:rgb(0%,0%,0%);fill-opacity:1;\">\n",
       "  <use xlink:href=\"#glyph-1606184035301245-0-1\" x=\"17.907\" y=\"27.439\"/>\n",
       "  <use xlink:href=\"#glyph-1606184035301245-0-2\" x=\"20.39766\" y=\"27.439\"/>\n",
       "  <use xlink:href=\"#glyph-1606184035301245-0-3\" x=\"21.782467\" y=\"27.439\"/>\n",
       "</g>\n",
       "<path style=\"fill:none;stroke-width:0.3985;stroke-linecap:butt;stroke-linejoin:miter;stroke:rgb(0%,0%,0%);stroke-opacity:1;stroke-miterlimit:10;\" d=\"M 3.420063 -6.838562 L 10.341938 -20.682312 \" transform=\"matrix(1,0,0,-1,21.369,6.638)\"/>\n",
       "<path style=\"fill:none;stroke-width:0.31879;stroke-linecap:round;stroke-linejoin:round;stroke:rgb(0%,0%,0%);stroke-opacity:1;stroke-miterlimit:10;\" d=\"M -1.196752 1.59576 C -1.095417 0.99477 -0.00174515 0.0985346 0.298751 0.000701499 C 0.00000367982 -0.098884 -1.095399 -0.996886 -1.196724 -1.592637 \" transform=\"matrix(0.44717,0.89436,0.89436,-0.44717,31.70953,27.31906)\"/>\n",
       "<g style=\"fill:rgb(0%,0%,0%);fill-opacity:1;\">\n",
       "  <use xlink:href=\"#glyph-1606184035301245-0-1\" x=\"31.871\" y=\"16.972\"/>\n",
       "  <use xlink:href=\"#glyph-1606184035301245-0-2\" x=\"34.36166\" y=\"16.972\"/>\n",
       "  <use xlink:href=\"#glyph-1606184035301245-0-3\" x=\"35.746467\" y=\"16.972\"/>\n",
       "</g>\n",
       "<path style=\"fill:none;stroke-width:0.3985;stroke-linecap:butt;stroke-linejoin:miter;stroke:rgb(0%,0%,0%);stroke-opacity:1;stroke-miterlimit:10;\" d=\"M -14.173687 -35.604187 L -14.173687 -49.397156 \" transform=\"matrix(1,0,0,-1,21.369,6.638)\"/>\n",
       "<path style=\"fill:none;stroke-width:0.31879;stroke-linecap:round;stroke-linejoin:round;stroke:rgb(0%,0%,0%);stroke-opacity:1;stroke-miterlimit:10;\" d=\"M -1.196046 1.593452 C -1.094484 0.995796 -0.00073375 0.101265 0.300047 -0.0002975 C -0.00073375 -0.0979538 -1.094484 -0.996391 -1.196046 -1.594048 \" transform=\"matrix(0,1,1,0,7.19561,56.03589)\"/>\n",
       "<path style=\"fill:none;stroke-width:0.3985;stroke-linecap:butt;stroke-linejoin:miter;stroke:rgb(0%,0%,0%);stroke-opacity:1;stroke-miterlimit:10;\" d=\"M 14.173969 -35.604187 L 14.173969 -49.397156 \" transform=\"matrix(1,0,0,-1,21.369,6.638)\"/>\n",
       "<path style=\"fill:none;stroke-width:0.31879;stroke-linecap:round;stroke-linejoin:round;stroke:rgb(0%,0%,0%);stroke-opacity:1;stroke-miterlimit:10;\" d=\"M -1.196046 1.594329 C -1.094484 0.996673 -0.00073375 0.098235 0.300047 0.00057875 C -0.00073375 -0.100984 -1.094484 -0.995515 -1.196046 -1.593171 \" transform=\"matrix(0,1,1,0,35.54239,56.03589)\"/>\n",
       "<path style=\"fill:none;stroke-width:0.3985;stroke-linecap:butt;stroke-linejoin:miter;stroke:rgb(0%,0%,0%);stroke-opacity:1;stroke-miterlimit:10;\" d=\"M -14.173687 -63.529969 L -14.173687 -77.744812 \" transform=\"matrix(1,0,0,-1,21.369,6.638)\"/>\n",
       "<path style=\"fill:none;stroke-width:0.31879;stroke-linecap:round;stroke-linejoin:round;stroke:rgb(0%,0%,0%);stroke-opacity:1;stroke-miterlimit:10;\" d=\"M -1.1952 1.593452 C -1.097544 0.995796 0.0001125 0.101265 0.296987 -0.0002975 C 0.0001125 -0.0979538 -1.097544 -0.996391 -1.1952 -1.594048 \" transform=\"matrix(0,1,1,0,7.19561,84.3827)\"/>\n",
       "<g style=\"fill:rgb(0%,0%,0%);fill-opacity:1;\">\n",
       "  <use xlink:href=\"#glyph-1606184035301245-0-1\" x=\"10.716\" y=\"79.108\"/>\n",
       "  <use xlink:href=\"#glyph-1606184035301245-0-2\" x=\"13.20666\" y=\"79.108\"/>\n",
       "  <use xlink:href=\"#glyph-1606184035301245-0-3\" x=\"14.591467\" y=\"79.108\"/>\n",
       "</g>\n",
       "<path style=\"fill:none;stroke-width:0.3985;stroke-linecap:butt;stroke-linejoin:miter;stroke:rgb(0%,0%,0%);stroke-opacity:1;stroke-miterlimit:10;\" d=\"M -7.33775 -63.529969 L 7.013813 -77.877625 \" transform=\"matrix(1,0,0,-1,21.369,6.638)\"/>\n",
       "<path style=\"fill:none;stroke-width:0.31879;stroke-linecap:round;stroke-linejoin:round;stroke:rgb(0%,0%,0%);stroke-opacity:1;stroke-miterlimit:10;\" d=\"M -1.195608 1.596036 C -1.09617 0.993884 0.000408358 0.101706 0.298722 0.00226807 C -0.0023538 -0.0999319 -1.09617 -0.994873 -1.195608 -1.5915 \" transform=\"matrix(0.7071,0.7071,0.7071,-0.7071,28.38092,84.51694)\"/>\n",
       "<g style=\"fill:rgb(0%,0%,0%);fill-opacity:1;\">\n",
       "  <use xlink:href=\"#glyph-1606184035301245-0-1\" x=\"24.889\" y=\"73.874\"/>\n",
       "  <use xlink:href=\"#glyph-1606184035301245-0-2\" x=\"27.37966\" y=\"73.874\"/>\n",
       "  <use xlink:href=\"#glyph-1606184035301245-0-3\" x=\"28.764467\" y=\"73.874\"/>\n",
       "</g>\n",
       "<path style=\"fill:none;stroke-width:0.3985;stroke-linecap:butt;stroke-linejoin:miter;stroke:rgb(0%,0%,0%);stroke-opacity:1;stroke-miterlimit:10;\" d=\"M 7.334125 -63.529969 L -7.83775 -78.70575 \" transform=\"matrix(1,0,0,-1,21.369,6.638)\"/>\n",
       "<path style=\"fill:none;stroke-width:0.31879;stroke-linecap:round;stroke-linejoin:round;stroke:rgb(0%,0%,0%);stroke-opacity:1;stroke-miterlimit:10;\" d=\"M -1.196879 1.594461 C -1.094679 0.995071 -0.000862679 0.100131 0.297451 0.000692971 C -0.000862679 -0.0987449 -1.097441 -0.996448 -1.196879 -1.593075 \" transform=\"matrix(-0.7071,0.7071,0.7071,0.7071,13.53015,85.34387)\"/>\n",
       "<g style=\"fill:rgb(0%,0%,0%);fill-opacity:1;\">\n",
       "  <use xlink:href=\"#glyph-1606184035301245-0-1\" x=\"24.476\" y=\"84.754\"/>\n",
       "  <use xlink:href=\"#glyph-1606184035301245-0-2\" x=\"26.96666\" y=\"84.754\"/>\n",
       "  <use xlink:href=\"#glyph-1606184035301245-0-3\" x=\"28.351467\" y=\"84.754\"/>\n",
       "</g>\n",
       "<path style=\"fill:none;stroke-width:0.3985;stroke-linecap:butt;stroke-linejoin:miter;stroke:rgb(0%,0%,0%);stroke-opacity:1;stroke-miterlimit:10;\" d=\"M 14.173969 -63.529969 L 14.173969 -77.744812 \" transform=\"matrix(1,0,0,-1,21.369,6.638)\"/>\n",
       "<path style=\"fill:none;stroke-width:0.31879;stroke-linecap:round;stroke-linejoin:round;stroke:rgb(0%,0%,0%);stroke-opacity:1;stroke-miterlimit:10;\" d=\"M -1.1952 1.594329 C -1.097544 0.996673 0.0001125 0.098235 0.296987 0.00057875 C 0.0001125 -0.100984 -1.097544 -0.995515 -1.1952 -1.593171 \" transform=\"matrix(0,1,1,0,35.54239,84.3827)\"/>\n",
       "<g style=\"fill:rgb(0%,0%,0%);fill-opacity:1;\">\n",
       "  <use xlink:href=\"#glyph-1606184035301245-0-1\" x=\"39.062\" y=\"79.108\"/>\n",
       "  <use xlink:href=\"#glyph-1606184035301245-0-2\" x=\"41.55266\" y=\"79.108\"/>\n",
       "  <use xlink:href=\"#glyph-1606184035301245-0-3\" x=\"42.937467\" y=\"79.108\"/>\n",
       "</g>\n",
       "<g style=\"fill:rgb(0%,0%,0%);fill-opacity:1;\">\n",
       "  <use xlink:href=\"#glyph-1606184035301245-1-1\" x=\"17.494\" y=\"9.128\"/>\n",
       "</g>\n",
       "<g style=\"fill:rgb(0%,0%,0%);fill-opacity:1;\">\n",
       "  <use xlink:href=\"#glyph-1606184035301245-1-2\" x=\"4.705\" y=\"38.72\"/>\n",
       "</g>\n",
       "<g style=\"fill:rgb(0%,0%,0%);fill-opacity:1;\">\n",
       "  <use xlink:href=\"#glyph-1606184035301245-1-2\" x=\"33.052\" y=\"38.72\"/>\n",
       "</g>\n",
       "<g style=\"fill:rgb(0%,0%,0%);fill-opacity:1;\">\n",
       "  <use xlink:href=\"#glyph-1606184035301245-1-1\" x=\"3.321\" y=\"65.821\"/>\n",
       "</g>\n",
       "<g style=\"fill:rgb(0%,0%,0%);fill-opacity:1;\">\n",
       "  <use xlink:href=\"#glyph-1606184035301245-1-3\" x=\"4.705\" y=\"94.994\"/>\n",
       "</g>\n",
       "<g style=\"fill:rgb(0%,0%,0%);fill-opacity:1;\">\n",
       "  <use xlink:href=\"#glyph-1606184035301245-1-4\" x=\"31.393\" y=\"94.994\"/>\n",
       "  <use xlink:href=\"#glyph-1606184035301245-1-3\" x=\"34.710559\" y=\"94.994\"/>\n",
       "</g>\n",
       "<g style=\"fill:rgb(0%,0%,0%);fill-opacity:1;\">\n",
       "  <use xlink:href=\"#glyph-1606184035301245-1-1\" x=\"31.667\" y=\"65.821\"/>\n",
       "</g>\n",
       "</g>\n",
       "</svg>\n",
       "\n"
      ],
      "text/plain": [
       "TikzPicture(\"\\\\graph [layered layout, ] {\\n1/\\\"+\\\" [],\\n2/\\\"*\\\" [],\\n3/\\\"*\\\" [],\\n4/\\\"+\\\" [],\\n5/\\\"1\\\" [],\\n6/\\\"-1\\\" [],\\n7/\\\"+\\\" [],\\n;\\n1 -> [font=\\\\tiny,edge label={0.5},] 2;\\n1 -> [font=\\\\tiny,edge label={0.5},] 3;\\n2 -> [font=\\\\tiny,] 4;\\n3 -> [font=\\\\tiny,] 7;\\n4 -> [font=\\\\tiny,edge label={0.5},] 5;\\n4 -> [font=\\\\tiny,edge label={0.5},] 6;\\n7 -> [font=\\\\tiny,edge label={0.5},] 5;\\n7 -> [font=\\\\tiny,edge label={0.5},] 6;\\n};\\n\", \"\", \"\\\\usepackage{fontspec}\\n\\\\setmainfont{Latin Modern Math}\\n\\\\usetikzlibrary{arrows}\\n\\\\usetikzlibrary{graphs}\\n\\\\usetikzlibrary{graphdrawing}\\n\\n% from: https://tex.stackexchange.com/questions/453132/fresh-install-of-tl2018-no-tikz-graph-drawing-libraries-found\\n\\\\usepackage{luacode}\\n\\\\begin{luacode*}\\n\\tfunction pgf_lookup_and_require(name)\\n\\tlocal sep = package.config:sub(1,1)\\n\\tlocal function lookup(name)\\n\\tlocal sub = name:gsub('%.',sep)  \\n\\tif kpse.find_file(sub, 'lua') then\\n\\trequire(name)\\n\\telseif kpse.find_file(sub, 'clua') then\\n\\tcollectgarbage('stop') \\n\\trequire(name)\\n\\tcollectgarbage('restart')\\n\\telse\\n\\treturn false\\n\\tend\\n\\treturn true\\n\\tend\\n\\treturn\\n\\tlookup('pgf.gd.' .. name .. '.library') or\\n\\tlookup('pgf.gd.' .. name) or\\n\\tlookup(name .. '.library') or\\n\\tlookup(name) \\n\\tend\\n\\\\end{luacode*}\\n\\n\\\\usegdlibrary{layered}\", \"tikzpicture\", \"\", \"\", true, true)"
      ]
     },
     "execution_count": 22,
     "metadata": {},
     "output_type": "execute_result"
    }
   ],
   "source": [
    "plot(c2)"
   ]
  },
  {
   "cell_type": "markdown",
   "metadata": {},
   "source": [
    "7. **Merge**"
   ]
  },
  {
   "cell_type": "code",
   "execution_count": 23,
   "metadata": {
    "tags": []
   },
   "outputs": [
    {
     "data": {
      "image/svg+xml": [
       "<?xml version=\"1.0\" encoding=\"UTF-8\"?>\n",
       "<svg xmlns=\"http://www.w3.org/2000/svg\" xmlns:xlink=\"http://www.w3.org/1999/xlink\" width=\"69.7pt\" height=\"126.662pt\" viewBox=\"0 0 69.7 126.662\" version=\"1.1\">\n",
       "<defs>\n",
       "<g>\n",
       "<symbol overflow=\"visible\" id=\"glyph-1606184035301246-0-0\">\n",
       "<path style=\"stroke:none;\" d=\"\"/>\n",
       "</symbol>\n",
       "<symbol overflow=\"visible\" id=\"glyph-1606184035301246-0-1\">\n",
       "<path style=\"stroke:none;\" d=\"M 2.09375 0 L 2.09375 -0.15625 L 1.921875 -0.15625 C 1.484375 -0.15625 1.46875 -0.203125 1.46875 -0.390625 L 1.46875 -3.1875 C 1.46875 -3.3125 1.46875 -3.3125 1.34375 -3.3125 C 1.046875 -3 0.609375 -3 0.4375 -3 L 0.4375 -2.84375 C 0.546875 -2.84375 0.84375 -2.84375 1.09375 -2.96875 L 1.09375 -0.390625 C 1.09375 -0.21875 1.078125 -0.15625 0.640625 -0.15625 L 0.46875 -0.15625 L 0.46875 0 C 0.640625 -0.015625 1.078125 -0.015625 1.28125 -0.015625 C 1.484375 -0.015625 1.90625 -0.015625 2.09375 0 Z M 2.09375 0 \"/>\n",
       "</symbol>\n",
       "<symbol overflow=\"visible\" id=\"glyph-1606184035301246-0-2\">\n",
       "<path style=\"stroke:none;\" d=\"M 0.953125 -0.265625 C 0.953125 -0.40625 0.84375 -0.53125 0.6875 -0.53125 C 0.546875 -0.53125 0.421875 -0.40625 0.421875 -0.265625 C 0.421875 -0.125 0.546875 0 0.6875 0 C 0.84375 0 0.953125 -0.125 0.953125 -0.265625 Z M 0.953125 -0.265625 \"/>\n",
       "</symbol>\n",
       "<symbol overflow=\"visible\" id=\"glyph-1606184035301246-0-3\">\n",
       "<path style=\"stroke:none;\" d=\"M 2.296875 -1.59375 C 2.296875 -2 2.265625 -2.390625 2.09375 -2.765625 C 1.859375 -3.234375 1.453125 -3.3125 1.25 -3.3125 C 0.953125 -3.3125 0.578125 -3.1875 0.375 -2.71875 C 0.21875 -2.375 0.1875 -2 0.1875 -1.59375 C 0.1875 -1.21875 0.21875 -0.765625 0.421875 -0.390625 C 0.640625 0.015625 1 0.109375 1.234375 0.109375 C 1.515625 0.109375 1.890625 0 2.109375 -0.46875 C 2.265625 -0.8125 2.296875 -1.203125 2.296875 -1.59375 Z M 1.875 -1.65625 C 1.875 -1.28125 1.875 -0.9375 1.828125 -0.625 C 1.75 -0.15625 1.46875 0 1.234375 0 C 1.046875 0 0.75 -0.125 0.65625 -0.609375 C 0.609375 -0.90625 0.609375 -1.359375 0.609375 -1.65625 C 0.609375 -1.96875 0.609375 -2.296875 0.640625 -2.578125 C 0.75 -3.171875 1.109375 -3.203125 1.234375 -3.203125 C 1.40625 -3.203125 1.734375 -3.125 1.828125 -2.625 C 1.875 -2.34375 1.875 -1.96875 1.875 -1.65625 Z M 1.875 -1.65625 \"/>\n",
       "</symbol>\n",
       "<symbol overflow=\"visible\" id=\"glyph-1606184035301246-0-4\">\n",
       "<path style=\"stroke:none;\" d=\"M 2.234375 -1 C 2.234375 -1.59375 1.828125 -2.09375 1.296875 -2.09375 C 1.046875 -2.09375 0.84375 -2.015625 0.65625 -1.84375 L 0.65625 -2.8125 C 0.75 -2.78125 0.921875 -2.75 1.078125 -2.75 C 1.6875 -2.75 2.046875 -3.203125 2.046875 -3.265625 C 2.046875 -3.296875 2.03125 -3.3125 2 -3.3125 C 2 -3.3125 1.984375 -3.3125 1.953125 -3.296875 C 1.859375 -3.265625 1.609375 -3.15625 1.28125 -3.15625 C 1.078125 -3.15625 0.84375 -3.1875 0.609375 -3.296875 C 0.578125 -3.3125 0.546875 -3.3125 0.546875 -3.3125 C 0.5 -3.3125 0.5 -3.28125 0.5 -3.1875 L 0.5 -1.71875 C 0.5 -1.625 0.5 -1.59375 0.578125 -1.59375 C 0.609375 -1.59375 0.625 -1.609375 0.640625 -1.640625 C 0.6875 -1.71875 0.875 -1.984375 1.28125 -1.984375 C 1.546875 -1.984375 1.671875 -1.75 1.703125 -1.671875 C 1.78125 -1.484375 1.796875 -1.28125 1.796875 -1.03125 C 1.796875 -0.859375 1.796875 -0.5625 1.671875 -0.359375 C 1.5625 -0.15625 1.375 -0.03125 1.140625 -0.03125 C 0.78125 -0.03125 0.5 -0.296875 0.40625 -0.59375 C 0.421875 -0.578125 0.4375 -0.578125 0.5 -0.578125 C 0.65625 -0.578125 0.75 -0.703125 0.75 -0.828125 C 0.75 -0.9375 0.65625 -1.0625 0.5 -1.0625 C 0.421875 -1.0625 0.25 -1.03125 0.25 -0.796875 C 0.25 -0.375 0.59375 0.109375 1.15625 0.109375 C 1.734375 0.109375 2.234375 -0.375 2.234375 -1 Z M 2.234375 -1 \"/>\n",
       "</symbol>\n",
       "<symbol overflow=\"visible\" id=\"glyph-1606184035301246-1-0\">\n",
       "<path style=\"stroke:none;\" d=\"\"/>\n",
       "</symbol>\n",
       "<symbol overflow=\"visible\" id=\"glyph-1606184035301246-1-1\">\n",
       "<path style=\"stroke:none;\" d=\"M 7.203125 -2.5 C 7.203125 -2.609375 7.109375 -2.6875 7 -2.6875 L 4.078125 -2.6875 L 4.078125 -5.609375 C 4.078125 -5.71875 3.984375 -5.8125 3.875 -5.8125 C 3.765625 -5.8125 3.671875 -5.71875 3.671875 -5.609375 L 3.671875 -2.6875 L 0.75 -2.6875 C 0.640625 -2.6875 0.5625 -2.609375 0.5625 -2.5 C 0.5625 -2.375 0.640625 -2.296875 0.75 -2.296875 L 3.671875 -2.296875 L 3.671875 0.625 C 3.671875 0.734375 3.765625 0.828125 3.875 0.828125 C 3.984375 0.828125 4.078125 0.734375 4.078125 0.625 L 4.078125 -2.296875 L 7 -2.296875 C 7.109375 -2.296875 7.203125 -2.375 7.203125 -2.5 Z M 7.203125 -2.5 \"/>\n",
       "</symbol>\n",
       "<symbol overflow=\"visible\" id=\"glyph-1606184035301246-1-2\">\n",
       "<path style=\"stroke:none;\" d=\"M 4.34375 -4.265625 C 4.4375 -4.421875 4.375 -4.609375 4.21875 -4.671875 L 2.734375 -5.328125 L 4.21875 -5.984375 C 4.375 -6.0625 4.4375 -6.25 4.34375 -6.40625 C 4.25 -6.5625 4.0625 -6.59375 3.921875 -6.5 L 2.609375 -5.546875 L 2.78125 -7.140625 C 2.796875 -7.328125 2.671875 -7.484375 2.5 -7.484375 C 2.3125 -7.484375 2.1875 -7.328125 2.203125 -7.140625 L 2.375 -5.546875 L 1.0625 -6.5 C 0.921875 -6.59375 0.734375 -6.5625 0.640625 -6.40625 C 0.546875 -6.25 0.609375 -6.0625 0.765625 -5.984375 L 2.25 -5.328125 L 0.765625 -4.671875 C 0.609375 -4.609375 0.546875 -4.421875 0.640625 -4.265625 C 0.734375 -4.109375 0.921875 -4.0625 1.0625 -4.171875 L 2.375 -5.125 L 2.203125 -3.515625 C 2.1875 -3.34375 2.3125 -3.1875 2.5 -3.1875 C 2.671875 -3.1875 2.796875 -3.34375 2.78125 -3.515625 L 2.609375 -5.125 L 3.921875 -4.171875 C 4.0625 -4.0625 4.25 -4.109375 4.34375 -4.265625 Z M 4.34375 -4.265625 \"/>\n",
       "</symbol>\n",
       "<symbol overflow=\"visible\" id=\"glyph-1606184035301246-1-3\">\n",
       "<path style=\"stroke:none;\" d=\"M 4.171875 0 L 4.171875 -0.3125 L 3.859375 -0.3125 C 2.953125 -0.3125 2.9375 -0.421875 2.9375 -0.78125 L 2.9375 -6.375 C 2.9375 -6.625 2.9375 -6.640625 2.703125 -6.640625 C 2.078125 -6 1.203125 -6 0.890625 -6 L 0.890625 -5.6875 C 1.09375 -5.6875 1.671875 -5.6875 2.1875 -5.953125 L 2.1875 -0.78125 C 2.1875 -0.421875 2.15625 -0.3125 1.265625 -0.3125 L 0.953125 -0.3125 L 0.953125 0 C 1.296875 -0.03125 2.15625 -0.03125 2.5625 -0.03125 C 2.953125 -0.03125 3.828125 -0.03125 4.171875 0 Z M 4.171875 0 \"/>\n",
       "</symbol>\n",
       "<symbol overflow=\"visible\" id=\"glyph-1606184035301246-1-4\">\n",
       "<path style=\"stroke:none;\" d=\"M 2.75 -1.859375 L 2.75 -2.4375 L 0.109375 -2.4375 L 0.109375 -1.859375 Z M 2.75 -1.859375 \"/>\n",
       "</symbol>\n",
       "<symbol overflow=\"visible\" id=\"glyph-1606184035301246-1-5\">\n",
       "<path style=\"stroke:none;\" d=\"M 4.46875 -1.734375 L 4.234375 -1.734375 C 4.171875 -1.4375 4.109375 -1 4 -0.84375 C 3.9375 -0.765625 3.28125 -0.765625 3.0625 -0.765625 L 1.265625 -0.765625 L 2.328125 -1.796875 C 3.875 -3.171875 4.46875 -3.703125 4.46875 -4.703125 C 4.46875 -5.84375 3.578125 -6.640625 2.359375 -6.640625 C 1.234375 -6.640625 0.5 -5.71875 0.5 -4.828125 C 0.5 -4.28125 1 -4.28125 1.03125 -4.28125 C 1.203125 -4.28125 1.546875 -4.390625 1.546875 -4.8125 C 1.546875 -5.0625 1.359375 -5.328125 1.015625 -5.328125 C 0.9375 -5.328125 0.921875 -5.328125 0.890625 -5.3125 C 1.109375 -5.96875 1.65625 -6.328125 2.234375 -6.328125 C 3.140625 -6.328125 3.5625 -5.515625 3.5625 -4.703125 C 3.5625 -3.90625 3.078125 -3.125 2.515625 -2.5 L 0.609375 -0.375 C 0.5 -0.265625 0.5 -0.234375 0.5 0 L 4.203125 0 Z M 4.46875 -1.734375 \"/>\n",
       "</symbol>\n",
       "</g>\n",
       "</defs>\n",
       "<g id=\"surface1\">\n",
       "<path style=\"fill:none;stroke-width:0.3985;stroke-linecap:butt;stroke-linejoin:miter;stroke:rgb(0%,0%,0%);stroke-opacity:1;stroke-miterlimit:10;\" d=\"M 0.00096875 -6.838563 L 0.00096875 -20.631531 \" transform=\"matrix(1,0,0,-1,35.542,6.638)\"/>\n",
       "<path style=\"fill:none;stroke-width:0.31879;stroke-linecap:round;stroke-linejoin:round;stroke:rgb(0%,0%,0%);stroke-opacity:1;stroke-miterlimit:10;\" d=\"M -1.196441 1.594719 C -1.094879 0.997062 -0.00112875 0.098625 0.299653 0.00096875 C -0.00112875 -0.100594 -1.094879 -0.995125 -1.196441 -1.592781 \" transform=\"matrix(0,1,1,0,35.542,27.27066)\"/>\n",
       "<g style=\"fill:rgb(0%,0%,0%);fill-opacity:1;\">\n",
       "  <use xlink:href=\"#glyph-1606184035301246-0-1\" x=\"39.062\" y=\"22.206\"/>\n",
       "  <use xlink:href=\"#glyph-1606184035301246-0-2\" x=\"41.55266\" y=\"22.206\"/>\n",
       "  <use xlink:href=\"#glyph-1606184035301246-0-3\" x=\"42.937467\" y=\"22.206\"/>\n",
       "</g>\n",
       "<path style=\"fill:none;stroke-width:0.3985;stroke-linecap:butt;stroke-linejoin:miter;stroke:rgb(0%,0%,0%);stroke-opacity:1;stroke-miterlimit:10;\" d=\"M -6.01075 -34.358094 L -21.186531 -49.533875 \" transform=\"matrix(1,0,0,-1,35.542,6.638)\"/>\n",
       "<path style=\"fill:none;stroke-width:0.31879;stroke-linecap:round;stroke-linejoin:round;stroke:rgb(0%,0%,0%);stroke-opacity:1;stroke-miterlimit:10;\" d=\"M -1.193926 1.594159 C -1.094488 0.997532 0.0020904 0.0998294 0.300404 0.000391564 C 0.0020904 -0.0990463 -1.094488 -0.996749 -1.193926 -1.593376 \" transform=\"matrix(-0.7071,0.7071,0.7071,0.7071,14.35667,56.17012)\"/>\n",
       "<path style=\"fill:none;stroke-width:0.3985;stroke-linecap:butt;stroke-linejoin:miter;stroke:rgb(0%,0%,0%);stroke-opacity:1;stroke-miterlimit:10;\" d=\"M 0.00096875 -35.604188 L 0.00096875 -77.744813 \" transform=\"matrix(1,0,0,-1,35.542,6.638)\"/>\n",
       "<path style=\"fill:none;stroke-width:0.31879;stroke-linecap:round;stroke-linejoin:round;stroke:rgb(0%,0%,0%);stroke-opacity:1;stroke-miterlimit:10;\" d=\"M -1.1952 1.594719 C -1.097544 0.997062 0.0001125 0.098625 0.296988 0.00096875 C 0.0001125 -0.100594 -1.097544 -0.995125 -1.1952 -1.592781 \" transform=\"matrix(0,1,1,0,35.542,84.3827)\"/>\n",
       "<path style=\"fill:none;stroke-width:0.3985;stroke-linecap:butt;stroke-linejoin:miter;stroke:rgb(0%,0%,0%);stroke-opacity:1;stroke-miterlimit:10;\" d=\"M -28.346688 -63.529969 L -28.346688 -77.744813 \" transform=\"matrix(1,0,0,-1,35.542,6.638)\"/>\n",
       "<path style=\"fill:none;stroke-width:0.31879;stroke-linecap:round;stroke-linejoin:round;stroke:rgb(0%,0%,0%);stroke-opacity:1;stroke-miterlimit:10;\" d=\"M -1.1952 1.593863 C -1.097544 0.996206 0.0001125 0.0977688 0.296988 0.0001125 C 0.0001125 -0.10145 -1.097544 -0.995981 -1.1952 -1.593637 \" transform=\"matrix(0,1,1,0,7.1952,84.3827)\"/>\n",
       "<g style=\"fill:rgb(0%,0%,0%);fill-opacity:1;\">\n",
       "  <use xlink:href=\"#glyph-1606184035301246-0-3\" x=\"10.716\" y=\"79.108\"/>\n",
       "  <use xlink:href=\"#glyph-1606184035301246-0-2\" x=\"13.20666\" y=\"79.108\"/>\n",
       "  <use xlink:href=\"#glyph-1606184035301246-0-4\" x=\"14.591467\" y=\"79.108\"/>\n",
       "</g>\n",
       "<path style=\"fill:none;stroke-width:0.3985;stroke-linecap:butt;stroke-linejoin:miter;stroke:rgb(0%,0%,0%);stroke-opacity:1;stroke-miterlimit:10;\" d=\"M -20.952156 -60.389344 L 21.92675 -81.83075 \" transform=\"matrix(1,0,0,-1,35.542,6.638)\"/>\n",
       "<path style=\"fill:none;stroke-width:0.31879;stroke-linecap:round;stroke-linejoin:round;stroke:rgb(0%,0%,0%);stroke-opacity:1;stroke-miterlimit:10;\" d=\"M -1.194421 1.59477 C -1.09659 0.997272 -0.00118712 0.0992698 0.29756 -0.000315736 C 0.00230524 -0.0998959 -1.094861 -0.997879 -1.194449 -1.593628 \" transform=\"matrix(0.89436,0.44717,0.44717,-0.89436,57.46839,88.46822)\"/>\n",
       "<g style=\"fill:rgb(0%,0%,0%);fill-opacity:1;\">\n",
       "  <use xlink:href=\"#glyph-1606184035301246-0-3\" x=\"39.755\" y=\"74.221\"/>\n",
       "  <use xlink:href=\"#glyph-1606184035301246-0-2\" x=\"42.24566\" y=\"74.221\"/>\n",
       "  <use xlink:href=\"#glyph-1606184035301246-0-4\" x=\"43.630467\" y=\"74.221\"/>\n",
       "</g>\n",
       "<path style=\"fill:none;stroke-width:0.3985;stroke-linecap:butt;stroke-linejoin:miter;stroke:rgb(0%,0%,0%);stroke-opacity:1;stroke-miterlimit:10;\" d=\"M 0.00096875 -91.877625 L 0.00096875 -106.092469 \" transform=\"matrix(1,0,0,-1,35.542,6.638)\"/>\n",
       "<path style=\"fill:none;stroke-width:0.31879;stroke-linecap:round;stroke-linejoin:round;stroke:rgb(0%,0%,0%);stroke-opacity:1;stroke-miterlimit:10;\" d=\"M -1.194344 1.594719 C -1.096688 0.997062 0.00096875 0.098625 0.297844 0.00096875 C 0.00096875 -0.100594 -1.096688 -0.995125 -1.194344 -1.592781 \" transform=\"matrix(0,1,1,0,35.542,112.7295)\"/>\n",
       "<g style=\"fill:rgb(0%,0%,0%);fill-opacity:1;\">\n",
       "  <use xlink:href=\"#glyph-1606184035301246-0-3\" x=\"39.062\" y=\"107.455\"/>\n",
       "  <use xlink:href=\"#glyph-1606184035301246-0-2\" x=\"41.55266\" y=\"107.455\"/>\n",
       "  <use xlink:href=\"#glyph-1606184035301246-0-4\" x=\"42.937467\" y=\"107.455\"/>\n",
       "</g>\n",
       "<path style=\"fill:none;stroke-width:0.3985;stroke-linecap:butt;stroke-linejoin:miter;stroke:rgb(0%,0%,0%);stroke-opacity:1;stroke-miterlimit:10;\" d=\"M 6.836906 -91.877625 L 22.012687 -107.053406 \" transform=\"matrix(1,0,0,-1,35.542,6.638)\"/>\n",
       "<path style=\"fill:none;stroke-width:0.31879;stroke-linecap:round;stroke-linejoin:round;stroke:rgb(0%,0%,0%);stroke-opacity:1;stroke-miterlimit:10;\" d=\"M -1.195158 1.593571 C -1.09572 0.996944 0.000858259 0.0992407 0.299172 -0.000197108 C 0.000858259 -0.099635 -1.09572 -0.997338 -1.195158 -1.593965 \" transform=\"matrix(0.7071,0.7071,0.7071,-0.7071,57.55422,113.69066)\"/>\n",
       "<g style=\"fill:rgb(0%,0%,0%);fill-opacity:1;\">\n",
       "  <use xlink:href=\"#glyph-1606184035301246-0-3\" x=\"53.649\" y=\"102.635\"/>\n",
       "  <use xlink:href=\"#glyph-1606184035301246-0-2\" x=\"56.13966\" y=\"102.635\"/>\n",
       "  <use xlink:href=\"#glyph-1606184035301246-0-4\" x=\"57.524467\" y=\"102.635\"/>\n",
       "</g>\n",
       "<path style=\"fill:none;stroke-width:0.3985;stroke-linecap:butt;stroke-linejoin:miter;stroke:rgb(0%,0%,0%);stroke-opacity:1;stroke-miterlimit:10;\" d=\"M 22.336906 -91.0495 L 7.161125 -106.225281 \" transform=\"matrix(1,0,0,-1,35.542,6.638)\"/>\n",
       "<path style=\"fill:none;stroke-width:0.31879;stroke-linecap:round;stroke-linejoin:round;stroke:rgb(0%,0%,0%);stroke-opacity:1;stroke-miterlimit:10;\" d=\"M -1.196104 1.593192 C -1.096666 0.996565 -0.0000875053 0.0988624 0.298226 -0.000575414 C -0.0000875053 -0.100013 -1.096666 -0.997716 -1.196104 -1.594343 \" transform=\"matrix(-0.7071,0.7071,0.7071,0.7071,42.70347,112.86375)\"/>\n",
       "<path style=\"fill:none;stroke-width:0.3985;stroke-linecap:butt;stroke-linejoin:miter;stroke:rgb(0%,0%,0%);stroke-opacity:1;stroke-miterlimit:10;\" d=\"M 28.348625 -92.295594 L 28.348625 -106.092469 \" transform=\"matrix(1,0,0,-1,35.542,6.638)\"/>\n",
       "<path style=\"fill:none;stroke-width:0.31879;stroke-linecap:round;stroke-linejoin:round;stroke:rgb(0%,0%,0%);stroke-opacity:1;stroke-miterlimit:10;\" d=\"M -1.194344 1.595575 C -1.096688 0.997919 0.00096875 0.0994812 0.297844 0.001825 C 0.00096875 -0.0997375 -1.096688 -0.998175 -1.194344 -1.595831 \" transform=\"matrix(0,1,1,0,63.8888,112.7295)\"/>\n",
       "<g style=\"fill:rgb(0%,0%,0%);fill-opacity:1;\">\n",
       "  <use xlink:href=\"#glyph-1606184035301246-1-1\" x=\"31.667\" y=\"9.129\"/>\n",
       "</g>\n",
       "<g style=\"fill:rgb(0%,0%,0%);fill-opacity:1;\">\n",
       "  <use xlink:href=\"#glyph-1606184035301246-1-2\" x=\"33.052\" y=\"38.721\"/>\n",
       "</g>\n",
       "<g style=\"fill:rgb(0%,0%,0%);fill-opacity:1;\">\n",
       "  <use xlink:href=\"#glyph-1606184035301246-1-1\" x=\"3.321\" y=\"65.822\"/>\n",
       "</g>\n",
       "<g style=\"fill:rgb(0%,0%,0%);fill-opacity:1;\">\n",
       "  <use xlink:href=\"#glyph-1606184035301246-1-1\" x=\"31.667\" y=\"94.168\"/>\n",
       "</g>\n",
       "<g style=\"fill:rgb(0%,0%,0%);fill-opacity:1;\">\n",
       "  <use xlink:href=\"#glyph-1606184035301246-1-3\" x=\"4.705\" y=\"94.995\"/>\n",
       "</g>\n",
       "<g style=\"fill:rgb(0%,0%,0%);fill-opacity:1;\">\n",
       "  <use xlink:href=\"#glyph-1606184035301246-1-2\" x=\"61.398\" y=\"95.413\"/>\n",
       "</g>\n",
       "<g style=\"fill:rgb(0%,0%,0%);fill-opacity:1;\">\n",
       "  <use xlink:href=\"#glyph-1606184035301246-1-4\" x=\"31.393\" y=\"123.341\"/>\n",
       "  <use xlink:href=\"#glyph-1606184035301246-1-3\" x=\"34.710559\" y=\"123.341\"/>\n",
       "</g>\n",
       "<g style=\"fill:rgb(0%,0%,0%);fill-opacity:1;\">\n",
       "  <use xlink:href=\"#glyph-1606184035301246-1-5\" x=\"61.398\" y=\"123.341\"/>\n",
       "</g>\n",
       "</g>\n",
       "</svg>\n",
       "\n"
      ],
      "text/plain": [
       "TikzPicture(\"\\\\graph [layered layout, ] {\\n1/\\\"+\\\" [],\\n2/\\\"*\\\" [],\\n3/\\\"+\\\" [],\\n4/\\\"+\\\" [],\\n5/\\\"1\\\" [],\\n6/\\\"*\\\" [],\\n7/\\\"-1\\\" [],\\n8/\\\"2\\\" [],\\n;\\n1 -> [font=\\\\tiny,edge label={1.0},] 2;\\n2 -> [font=\\\\tiny,] 3;\\n2 -> [font=\\\\tiny,] 4;\\n3 -> [font=\\\\tiny,edge label={0.5},] 5;\\n3 -> [font=\\\\tiny,edge label={0.5},] 6;\\n4 -> [font=\\\\tiny,edge label={0.5},] 7;\\n4 -> [font=\\\\tiny,edge label={0.5},] 8;\\n6 -> [font=\\\\tiny,] 7;\\n6 -> [font=\\\\tiny,] 8;\\n};\\n\", \"\", \"\\\\usepackage{fontspec}\\n\\\\setmainfont{Latin Modern Math}\\n\\\\usetikzlibrary{arrows}\\n\\\\usetikzlibrary{graphs}\\n\\\\usetikzlibrary{graphdrawing}\\n\\n% from: https://tex.stackexchange.com/questions/453132/fresh-install-of-tl2018-no-tikz-graph-drawing-libraries-found\\n\\\\usepackage{luacode}\\n\\\\begin{luacode*}\\n\\tfunction pgf_lookup_and_require(name)\\n\\tlocal sep = package.config:sub(1,1)\\n\\tlocal function lookup(name)\\n\\tlocal sub = name:gsub('%.',sep)  \\n\\tif kpse.find_file(sub, 'lua') then\\n\\trequire(name)\\n\\telseif kpse.find_file(sub, 'clua') then\\n\\tcollectgarbage('stop') \\n\\trequire(name)\\n\\tcollectgarbage('restart')\\n\\telse\\n\\treturn false\\n\\tend\\n\\treturn true\\n\\tend\\n\\treturn\\n\\tlookup('pgf.gd.' .. name .. '.library') or\\n\\tlookup('pgf.gd.' .. name) or\\n\\tlookup(name .. '.library') or\\n\\tlookup(name) \\n\\tend\\n\\\\end{luacode*}\\n\\n\\\\usegdlibrary{layered}\", \"tikzpicture\", \"\", \"\", true, true)"
      ]
     },
     "execution_count": 23,
     "metadata": {},
     "output_type": "execute_result"
    }
   ],
   "source": [
    "or1 = X1[1] + (X1[2] & X2[1])\n",
    "or2 = X1[2] + X2[1]\n",
    "c1 = (+)(or1 * or2)\n",
    "c2 = merge(c1, or1, or2)\n",
    "plot(c1)"
   ]
  },
  {
   "cell_type": "code",
   "execution_count": 24,
   "metadata": {},
   "outputs": [
    {
     "data": {
      "image/svg+xml": [
       "<?xml version=\"1.0\" encoding=\"UTF-8\"?>\n",
       "<svg xmlns=\"http://www.w3.org/2000/svg\" xmlns:xlink=\"http://www.w3.org/1999/xlink\" width=\"41.936pt\" height=\"98.315pt\" viewBox=\"0 0 41.936 98.315\" version=\"1.1\">\n",
       "<defs>\n",
       "<g>\n",
       "<symbol overflow=\"visible\" id=\"glyph-1606184035301247-0-0\">\n",
       "<path style=\"stroke:none;\" d=\"\"/>\n",
       "</symbol>\n",
       "<symbol overflow=\"visible\" id=\"glyph-1606184035301247-0-1\">\n",
       "<path style=\"stroke:none;\" d=\"M 2.09375 0 L 2.09375 -0.15625 L 1.921875 -0.15625 C 1.484375 -0.15625 1.46875 -0.203125 1.46875 -0.390625 L 1.46875 -3.1875 C 1.46875 -3.3125 1.46875 -3.3125 1.34375 -3.3125 C 1.046875 -3 0.609375 -3 0.4375 -3 L 0.4375 -2.84375 C 0.546875 -2.84375 0.84375 -2.84375 1.09375 -2.96875 L 1.09375 -0.390625 C 1.09375 -0.21875 1.078125 -0.15625 0.640625 -0.15625 L 0.46875 -0.15625 L 0.46875 0 C 0.640625 -0.015625 1.078125 -0.015625 1.28125 -0.015625 C 1.484375 -0.015625 1.90625 -0.015625 2.09375 0 Z M 2.09375 0 \"/>\n",
       "</symbol>\n",
       "<symbol overflow=\"visible\" id=\"glyph-1606184035301247-0-2\">\n",
       "<path style=\"stroke:none;\" d=\"M 0.953125 -0.265625 C 0.953125 -0.40625 0.84375 -0.53125 0.6875 -0.53125 C 0.546875 -0.53125 0.421875 -0.40625 0.421875 -0.265625 C 0.421875 -0.125 0.546875 0 0.6875 0 C 0.84375 0 0.953125 -0.125 0.953125 -0.265625 Z M 0.953125 -0.265625 \"/>\n",
       "</symbol>\n",
       "<symbol overflow=\"visible\" id=\"glyph-1606184035301247-0-3\">\n",
       "<path style=\"stroke:none;\" d=\"M 2.296875 -1.59375 C 2.296875 -2 2.265625 -2.390625 2.09375 -2.765625 C 1.859375 -3.234375 1.453125 -3.3125 1.25 -3.3125 C 0.953125 -3.3125 0.578125 -3.1875 0.375 -2.71875 C 0.21875 -2.375 0.1875 -2 0.1875 -1.59375 C 0.1875 -1.21875 0.21875 -0.765625 0.421875 -0.390625 C 0.640625 0.015625 1 0.109375 1.234375 0.109375 C 1.515625 0.109375 1.890625 0 2.109375 -0.46875 C 2.265625 -0.8125 2.296875 -1.203125 2.296875 -1.59375 Z M 1.875 -1.65625 C 1.875 -1.28125 1.875 -0.9375 1.828125 -0.625 C 1.75 -0.15625 1.46875 0 1.234375 0 C 1.046875 0 0.75 -0.125 0.65625 -0.609375 C 0.609375 -0.90625 0.609375 -1.359375 0.609375 -1.65625 C 0.609375 -1.96875 0.609375 -2.296875 0.640625 -2.578125 C 0.75 -3.171875 1.109375 -3.203125 1.234375 -3.203125 C 1.40625 -3.203125 1.734375 -3.125 1.828125 -2.625 C 1.875 -2.34375 1.875 -1.96875 1.875 -1.65625 Z M 1.875 -1.65625 \"/>\n",
       "</symbol>\n",
       "<symbol overflow=\"visible\" id=\"glyph-1606184035301247-0-4\">\n",
       "<path style=\"stroke:none;\" d=\"M 2.234375 -1 C 2.234375 -1.59375 1.828125 -2.09375 1.296875 -2.09375 C 1.046875 -2.09375 0.84375 -2.015625 0.65625 -1.84375 L 0.65625 -2.8125 C 0.75 -2.78125 0.921875 -2.75 1.078125 -2.75 C 1.6875 -2.75 2.046875 -3.203125 2.046875 -3.265625 C 2.046875 -3.296875 2.03125 -3.3125 2 -3.3125 C 2 -3.3125 1.984375 -3.3125 1.953125 -3.296875 C 1.859375 -3.265625 1.609375 -3.15625 1.28125 -3.15625 C 1.078125 -3.15625 0.84375 -3.1875 0.609375 -3.296875 C 0.578125 -3.3125 0.546875 -3.3125 0.546875 -3.3125 C 0.5 -3.3125 0.5 -3.28125 0.5 -3.1875 L 0.5 -1.71875 C 0.5 -1.625 0.5 -1.59375 0.578125 -1.59375 C 0.609375 -1.59375 0.625 -1.609375 0.640625 -1.640625 C 0.6875 -1.71875 0.875 -1.984375 1.28125 -1.984375 C 1.546875 -1.984375 1.671875 -1.75 1.703125 -1.671875 C 1.78125 -1.484375 1.796875 -1.28125 1.796875 -1.03125 C 1.796875 -0.859375 1.796875 -0.5625 1.671875 -0.359375 C 1.5625 -0.15625 1.375 -0.03125 1.140625 -0.03125 C 0.78125 -0.03125 0.5 -0.296875 0.40625 -0.59375 C 0.421875 -0.578125 0.4375 -0.578125 0.5 -0.578125 C 0.65625 -0.578125 0.75 -0.703125 0.75 -0.828125 C 0.75 -0.9375 0.65625 -1.0625 0.5 -1.0625 C 0.421875 -1.0625 0.25 -1.03125 0.25 -0.796875 C 0.25 -0.375 0.59375 0.109375 1.15625 0.109375 C 1.734375 0.109375 2.234375 -0.375 2.234375 -1 Z M 2.234375 -1 \"/>\n",
       "</symbol>\n",
       "<symbol overflow=\"visible\" id=\"glyph-1606184035301247-1-0\">\n",
       "<path style=\"stroke:none;\" d=\"\"/>\n",
       "</symbol>\n",
       "<symbol overflow=\"visible\" id=\"glyph-1606184035301247-1-1\">\n",
       "<path style=\"stroke:none;\" d=\"M 7.203125 -2.5 C 7.203125 -2.609375 7.109375 -2.6875 7 -2.6875 L 4.078125 -2.6875 L 4.078125 -5.609375 C 4.078125 -5.71875 3.984375 -5.8125 3.875 -5.8125 C 3.765625 -5.8125 3.671875 -5.71875 3.671875 -5.609375 L 3.671875 -2.6875 L 0.75 -2.6875 C 0.640625 -2.6875 0.5625 -2.609375 0.5625 -2.5 C 0.5625 -2.375 0.640625 -2.296875 0.75 -2.296875 L 3.671875 -2.296875 L 3.671875 0.625 C 3.671875 0.734375 3.765625 0.828125 3.875 0.828125 C 3.984375 0.828125 4.078125 0.734375 4.078125 0.625 L 4.078125 -2.296875 L 7 -2.296875 C 7.109375 -2.296875 7.203125 -2.375 7.203125 -2.5 Z M 7.203125 -2.5 \"/>\n",
       "</symbol>\n",
       "<symbol overflow=\"visible\" id=\"glyph-1606184035301247-1-2\">\n",
       "<path style=\"stroke:none;\" d=\"M 4.34375 -4.265625 C 4.4375 -4.421875 4.375 -4.609375 4.21875 -4.671875 L 2.734375 -5.328125 L 4.21875 -5.984375 C 4.375 -6.0625 4.4375 -6.25 4.34375 -6.40625 C 4.25 -6.5625 4.0625 -6.59375 3.921875 -6.5 L 2.609375 -5.546875 L 2.78125 -7.140625 C 2.796875 -7.328125 2.671875 -7.484375 2.5 -7.484375 C 2.3125 -7.484375 2.1875 -7.328125 2.203125 -7.140625 L 2.375 -5.546875 L 1.0625 -6.5 C 0.921875 -6.59375 0.734375 -6.5625 0.640625 -6.40625 C 0.546875 -6.25 0.609375 -6.0625 0.765625 -5.984375 L 2.25 -5.328125 L 0.765625 -4.671875 C 0.609375 -4.609375 0.546875 -4.421875 0.640625 -4.265625 C 0.734375 -4.109375 0.921875 -4.0625 1.0625 -4.171875 L 2.375 -5.125 L 2.203125 -3.515625 C 2.1875 -3.34375 2.3125 -3.1875 2.5 -3.1875 C 2.671875 -3.1875 2.796875 -3.34375 2.78125 -3.515625 L 2.609375 -5.125 L 3.921875 -4.171875 C 4.0625 -4.0625 4.25 -4.109375 4.34375 -4.265625 Z M 4.34375 -4.265625 \"/>\n",
       "</symbol>\n",
       "<symbol overflow=\"visible\" id=\"glyph-1606184035301247-1-3\">\n",
       "<path style=\"stroke:none;\" d=\"M 2.75 -1.859375 L 2.75 -2.4375 L 0.109375 -2.4375 L 0.109375 -1.859375 Z M 2.75 -1.859375 \"/>\n",
       "</symbol>\n",
       "<symbol overflow=\"visible\" id=\"glyph-1606184035301247-1-4\">\n",
       "<path style=\"stroke:none;\" d=\"M 4.171875 0 L 4.171875 -0.3125 L 3.859375 -0.3125 C 2.953125 -0.3125 2.9375 -0.421875 2.9375 -0.78125 L 2.9375 -6.375 C 2.9375 -6.625 2.9375 -6.640625 2.703125 -6.640625 C 2.078125 -6 1.203125 -6 0.890625 -6 L 0.890625 -5.6875 C 1.09375 -5.6875 1.671875 -5.6875 2.1875 -5.953125 L 2.1875 -0.78125 C 2.1875 -0.421875 2.15625 -0.3125 1.265625 -0.3125 L 0.953125 -0.3125 L 0.953125 0 C 1.296875 -0.03125 2.15625 -0.03125 2.5625 -0.03125 C 2.953125 -0.03125 3.828125 -0.03125 4.171875 0 Z M 4.171875 0 \"/>\n",
       "</symbol>\n",
       "<symbol overflow=\"visible\" id=\"glyph-1606184035301247-1-5\">\n",
       "<path style=\"stroke:none;\" d=\"M 4.46875 -1.734375 L 4.234375 -1.734375 C 4.171875 -1.4375 4.109375 -1 4 -0.84375 C 3.9375 -0.765625 3.28125 -0.765625 3.0625 -0.765625 L 1.265625 -0.765625 L 2.328125 -1.796875 C 3.875 -3.171875 4.46875 -3.703125 4.46875 -4.703125 C 4.46875 -5.84375 3.578125 -6.640625 2.359375 -6.640625 C 1.234375 -6.640625 0.5 -5.71875 0.5 -4.828125 C 0.5 -4.28125 1 -4.28125 1.03125 -4.28125 C 1.203125 -4.28125 1.546875 -4.390625 1.546875 -4.8125 C 1.546875 -5.0625 1.359375 -5.328125 1.015625 -5.328125 C 0.9375 -5.328125 0.921875 -5.328125 0.890625 -5.3125 C 1.109375 -5.96875 1.65625 -6.328125 2.234375 -6.328125 C 3.140625 -6.328125 3.5625 -5.515625 3.5625 -4.703125 C 3.5625 -3.90625 3.078125 -3.125 2.515625 -2.5 L 0.609375 -0.375 C 0.5 -0.265625 0.5 -0.234375 0.5 0 L 4.203125 0 Z M 4.46875 -1.734375 \"/>\n",
       "</symbol>\n",
       "</g>\n",
       "</defs>\n",
       "<g id=\"surface1\">\n",
       "<path style=\"fill:none;stroke-width:0.3985;stroke-linecap:butt;stroke-linejoin:miter;stroke:rgb(0%,0%,0%);stroke-opacity:1;stroke-miterlimit:10;\" d=\"M 0.00153125 -6.838562 L 0.00153125 -20.631531 \" transform=\"matrix(1,0,0,-1,21.643,6.638)\"/>\n",
       "<path style=\"fill:none;stroke-width:0.31879;stroke-linecap:round;stroke-linejoin:round;stroke:rgb(0%,0%,0%);stroke-opacity:1;stroke-miterlimit:10;\" d=\"M -1.196441 1.595281 C -1.094879 0.997625 -0.00112875 0.0991875 0.299652 0.00153125 C -0.00112875 -0.100031 -1.094879 -0.994563 -1.196441 -1.592219 \" transform=\"matrix(0,1,1,0,21.643,27.27066)\"/>\n",
       "<g style=\"fill:rgb(0%,0%,0%);fill-opacity:1;\">\n",
       "  <use xlink:href=\"#glyph-1606184035301247-0-1\" x=\"25.163\" y=\"22.206\"/>\n",
       "  <use xlink:href=\"#glyph-1606184035301247-0-2\" x=\"27.65366\" y=\"22.206\"/>\n",
       "  <use xlink:href=\"#glyph-1606184035301247-0-3\" x=\"29.038467\" y=\"22.206\"/>\n",
       "</g>\n",
       "<path style=\"fill:none;stroke-width:0.3985;stroke-linecap:butt;stroke-linejoin:miter;stroke:rgb(0%,0%,0%);stroke-opacity:1;stroke-miterlimit:10;\" d=\"M 0.00153125 -35.604187 L 0.00153125 -49.397156 \" transform=\"matrix(1,0,0,-1,21.643,6.638)\"/>\n",
       "<path style=\"fill:none;stroke-width:0.31879;stroke-linecap:round;stroke-linejoin:round;stroke:rgb(0%,0%,0%);stroke-opacity:1;stroke-miterlimit:10;\" d=\"M -1.196046 1.595281 C -1.094484 0.997625 -0.00073375 0.0991875 0.300047 0.00153125 C -0.00073375 -0.100031 -1.094484 -0.994563 -1.196046 -1.592219 \" transform=\"matrix(0,1,1,0,21.643,56.03589)\"/>\n",
       "<path style=\"fill:none;stroke-width:0.3985;stroke-linecap:butt;stroke-linejoin:miter;stroke:rgb(0%,0%,0%);stroke-opacity:1;stroke-miterlimit:10;\" d=\"M -3.420344 -63.529969 L -10.54925 -77.791687 \" transform=\"matrix(1,0,0,-1,21.643,6.638)\"/>\n",
       "<path style=\"fill:none;stroke-width:0.31879;stroke-linecap:round;stroke-linejoin:round;stroke:rgb(0%,0%,0%);stroke-opacity:1;stroke-miterlimit:10;\" d=\"M -1.196462 1.59489 C -1.093391 0.995645 0.000265341 0.101136 0.299013 0.00155096 C 0.000263544 -0.0997763 -1.096903 -0.997759 -1.196491 -1.593508 \" transform=\"matrix(-0.44717,0.89436,0.89436,0.44717,11.09326,84.4311)\"/>\n",
       "<g style=\"fill:rgb(0%,0%,0%);fill-opacity:1;\">\n",
       "  <use xlink:href=\"#glyph-1606184035301247-0-3\" x=\"18.076\" y=\"84.341\"/>\n",
       "  <use xlink:href=\"#glyph-1606184035301247-0-2\" x=\"20.56666\" y=\"84.341\"/>\n",
       "  <use xlink:href=\"#glyph-1606184035301247-0-4\" x=\"21.951467\" y=\"84.341\"/>\n",
       "</g>\n",
       "<path style=\"fill:none;stroke-width:0.3985;stroke-linecap:butt;stroke-linejoin:miter;stroke:rgb(0%,0%,0%);stroke-opacity:1;stroke-miterlimit:10;\" d=\"M 3.4195 -63.529969 L 10.548406 -77.791687 \" transform=\"matrix(1,0,0,-1,21.643,6.638)\"/>\n",
       "<path style=\"fill:none;stroke-width:0.31879;stroke-linecap:round;stroke-linejoin:round;stroke:rgb(0%,0%,0%);stroke-opacity:1;stroke-miterlimit:10;\" d=\"M -1.196868 1.592753 C -1.09728 0.997004 -0.000113816 0.0990215 0.300383 0.00118846 C 0.00163502 -0.098397 -1.093768 -0.996399 -1.195093 -1.59215 \" transform=\"matrix(0.44717,0.89436,0.89436,-0.44717,32.19274,84.4311)\"/>\n",
       "<g style=\"fill:rgb(0%,0%,0%);fill-opacity:1;\">\n",
       "  <use xlink:href=\"#glyph-1606184035301247-0-3\" x=\"32.25\" y=\"73.874\"/>\n",
       "  <use xlink:href=\"#glyph-1606184035301247-0-2\" x=\"34.74066\" y=\"73.874\"/>\n",
       "  <use xlink:href=\"#glyph-1606184035301247-0-4\" x=\"36.125467\" y=\"73.874\"/>\n",
       "</g>\n",
       "<g style=\"fill:rgb(0%,0%,0%);fill-opacity:1;\">\n",
       "  <use xlink:href=\"#glyph-1606184035301247-1-1\" x=\"17.768\" y=\"9.128\"/>\n",
       "</g>\n",
       "<g style=\"fill:rgb(0%,0%,0%);fill-opacity:1;\">\n",
       "  <use xlink:href=\"#glyph-1606184035301247-1-2\" x=\"19.152\" y=\"38.72\"/>\n",
       "</g>\n",
       "<g style=\"fill:rgb(0%,0%,0%);fill-opacity:1;\">\n",
       "  <use xlink:href=\"#glyph-1606184035301247-1-1\" x=\"17.768\" y=\"65.821\"/>\n",
       "</g>\n",
       "<g style=\"fill:rgb(0%,0%,0%);fill-opacity:1;\">\n",
       "  <use xlink:href=\"#glyph-1606184035301247-1-3\" x=\"3.321\" y=\"94.994\"/>\n",
       "  <use xlink:href=\"#glyph-1606184035301247-1-4\" x=\"6.638559\" y=\"94.994\"/>\n",
       "</g>\n",
       "<g style=\"fill:rgb(0%,0%,0%);fill-opacity:1;\">\n",
       "  <use xlink:href=\"#glyph-1606184035301247-1-5\" x=\"33.326\" y=\"94.994\"/>\n",
       "</g>\n",
       "</g>\n",
       "</svg>\n",
       "\n"
      ],
      "text/plain": [
       "TikzPicture(\"\\\\graph [layered layout, ] {\\n1/\\\"+\\\" [],\\n2/\\\"*\\\" [],\\n3/\\\"+\\\" [],\\n4/\\\"-1\\\" [],\\n5/\\\"2\\\" [],\\n;\\n1 -> [font=\\\\tiny,edge label={1.0},] 2;\\n2 -> [font=\\\\tiny,] 3;\\n3 -> [font=\\\\tiny,edge label={0.5},] 4;\\n3 -> [font=\\\\tiny,edge label={0.5},] 5;\\n};\\n\", \"\", \"\\\\usepackage{fontspec}\\n\\\\setmainfont{Latin Modern Math}\\n\\\\usetikzlibrary{arrows}\\n\\\\usetikzlibrary{graphs}\\n\\\\usetikzlibrary{graphdrawing}\\n\\n% from: https://tex.stackexchange.com/questions/453132/fresh-install-of-tl2018-no-tikz-graph-drawing-libraries-found\\n\\\\usepackage{luacode}\\n\\\\begin{luacode*}\\n\\tfunction pgf_lookup_and_require(name)\\n\\tlocal sep = package.config:sub(1,1)\\n\\tlocal function lookup(name)\\n\\tlocal sub = name:gsub('%.',sep)  \\n\\tif kpse.find_file(sub, 'lua') then\\n\\trequire(name)\\n\\telseif kpse.find_file(sub, 'clua') then\\n\\tcollectgarbage('stop') \\n\\trequire(name)\\n\\tcollectgarbage('restart')\\n\\telse\\n\\treturn false\\n\\tend\\n\\treturn true\\n\\tend\\n\\treturn\\n\\tlookup('pgf.gd.' .. name .. '.library') or\\n\\tlookup('pgf.gd.' .. name) or\\n\\tlookup(name .. '.library') or\\n\\tlookup(name) \\n\\tend\\n\\\\end{luacode*}\\n\\n\\\\usegdlibrary{layered}\", \"tikzpicture\", \"\", \"\", true, true)"
      ]
     },
     "execution_count": 24,
     "metadata": {},
     "output_type": "execute_result"
    }
   ],
   "source": [
    "plot(c2)"
   ]
  },
  {
   "cell_type": "markdown",
   "metadata": {},
   "source": [
    "## Circuit Queries\n",
    "### Logical queries\n",
    "1. If the data satisfies circuit logical formula? "
   ]
  },
  {
   "cell_type": "code",
   "execution_count": 25,
   "metadata": {
    "tags": []
   },
   "outputs": [
    {
     "name": "stdout",
     "output_type": "stream",
     "text": [
      "((1 ⋀ (2 ⋁ -3)) ⋁ (-1 ⋀ (-2 ⋁ 3)))\n"
     ]
    },
    {
     "data": {
      "text/plain": [
       "2-element BitArray{1}:\n",
       " 1\n",
       " 0"
      ]
     },
     "execution_count": 25,
     "metadata": {},
     "output_type": "execute_result"
    }
   ],
   "source": [
    "input = DataFrame(BitArray([1 1 0; 1 0 1]))\n",
    "println(tree_formula_string(pc))\n",
    "satisfies(pc, input)"
   ]
  },
  {
   "cell_type": "markdown",
   "metadata": {},
   "source": [
    "2. Model counting of circuit logical formula"
   ]
  },
  {
   "cell_type": "code",
   "execution_count": 26,
   "metadata": {},
   "outputs": [
    {
     "data": {
      "text/plain": [
       "8"
      ]
     },
     "execution_count": 26,
     "metadata": {},
     "output_type": "execute_result"
    }
   ],
   "source": [
    "model_count(pc)"
   ]
  },
  {
   "cell_type": "markdown",
   "metadata": {},
   "source": [
    "### Probabilistic queries"
   ]
  },
  {
   "cell_type": "markdown",
   "metadata": {},
   "source": [
    "Some helper functions, you can skip them."
   ]
  },
  {
   "cell_type": "code",
   "execution_count": 27,
   "metadata": {},
   "outputs": [],
   "source": [
    "# You can skip this part. Includes helper functions to make partial observations from arrays of strings\n",
    "# so its easier to present.\n",
    "\n",
    "# Make one observation from list of string describing the observation\n",
    "#\n",
    "# For example, [\"smoker\", \"male\"] sets \n",
    "#   1) The mentioned features to the correct values.\n",
    "#   2) Every feature not mentioned to missing values. \n",
    "FEATURES = 36;\n",
    "function make_one_observation(obs)\n",
    "    result = missings(Bool, FEATURES)\n",
    "    for k in obs\n",
    "        # Smoking\n",
    "        if lowercase(k) == \"smoker\"\n",
    "            result[7:8] .= [0, 1]\n",
    "        elseif lowercase(k) == \"!smoker\"\n",
    "            result[7:8] .= [1, 0]\n",
    "        # Gender\n",
    "        elseif lowercase(k) == \"male\"\n",
    "            result[13:14] .= [1, 0]\n",
    "        elseif lowercase(k) == \"female\"\n",
    "            result[13:14] .= [0, 1]\n",
    "        # Region\n",
    "        elseif lowercase(k) == \"southeast\"\n",
    "            result[9:12] .= [0, 0, 1, 0]\n",
    "        elseif lowercase(k) == \"southwest\"\n",
    "            result[9:12] .= [0, 1, 0, 0]\n",
    "        # Child\n",
    "        elseif lowercase(k) == \"1-child\"\n",
    "            result[1:6] .= [0,1,0,0,0,0]\n",
    "        end\n",
    "    end\n",
    "    result\n",
    "end;\n",
    "\n",
    "function make_observations(obs)\n",
    "    count = size(obs)[1]\n",
    "    result = missings(Bool, count, FEATURES)\n",
    "    for i=1:count\n",
    "        result[i, :] .= make_one_observation(obs[i])\n",
    "    end\n",
    "    DataFrame(result)\n",
    "end;\n",
    "\n",
    "function flip_coin(d::DataFrame; keep_prob=0.8)\n",
    "    m = missings(Bool, num_examples(d), num_features(d))\n",
    "    flag = rand(num_examples(d), num_features(d)) .<= keep_prob\n",
    "    m[flag] .= Matrix(d)[flag]\n",
    "    DataFrame(m)\n",
    "end;\n"
   ]
  },
  {
   "cell_type": "markdown",
   "metadata": {},
   "source": [
    "loading data"
   ]
  },
  {
   "cell_type": "code",
   "execution_count": 28,
   "metadata": {},
   "outputs": [
    {
     "name": "stdout",
     "output_type": "stream",
     "text": [
      "\"Insurance\" training set has 36 variables and 935 samples.\n"
     ]
    }
   ],
   "source": [
    "using CSV\n",
    "train_x = DataFrame(BitArray(Matrix(CSV.read(\"insurance/insurance_train_x.csv\", DataFrame))))\n",
    "train_y = CSV.read(\"insurance/insurance_train_y.csv\", DataFrame);\n",
    "\n",
    "println(\"\\\"Insurance\\\" training set has $(num_features(train_x)) variables and $(num_examples(train_x)) samples.\")"
   ]
  },
  {
   "cell_type": "markdown",
   "metadata": {},
   "source": [
    "load a pretrained probabilistic circuit (automatically downloaded through Julia Artifacts)\n",
    "  - Original Files can be found here https://github.com/UCLA-StarAI/Circuit-Model-Zoo\n"
   ]
  },
  {
   "cell_type": "code",
   "execution_count": 29,
   "metadata": {},
   "outputs": [
    {
     "name": "stdout",
     "output_type": "stream",
     "text": [
      "Probablistic Circuit with 27493 nodes and 16272 parameters.\n"
     ]
    }
   ],
   "source": [
    "pc = load_prob_circuit(zoo_psdd_file(\"insurance.psdd\"))\n",
    "println(\"Probablistic Circuit with $(num_nodes(pc)) nodes and $(num_parameters(pc)) parameters.\")"
   ]
  },
  {
   "cell_type": "markdown",
   "metadata": {},
   "source": [
    "#### EVI: Complete Evidence Query\n",
    "\n",
    "All features are observed, we want to compute the probability: $P(x)$"
   ]
  },
  {
   "cell_type": "code",
   "execution_count": 30,
   "metadata": {
    "tags": []
   },
   "outputs": [
    {
     "data": {
      "text/plain": [
       "-9.71171374929969"
      ]
     },
     "execution_count": 30,
     "metadata": {},
     "output_type": "execute_result"
    }
   ],
   "source": [
    "log_likelihood_avg(pc, train_x)"
   ]
  },
  {
   "cell_type": "markdown",
   "metadata": {},
   "source": [
    "#### MAR: Marginal Query (partial evidence)\n",
    "\n",
    "Now, what happens if we only observe a subset of the features $X^o$? We want to compute: $ P(X^o) = \\sum_{x^m} P(X^o X^m) $\n",
    "\n",
    "**Problem:** Computing above query is usually not tractable as it involves summing over exponential (infinite) possible worlds.\n",
    "\n",
    "**Good News:** In probabilistic circuits, if the circuit is **smooth** and **decomposable**, we can do this tractably. No need to enumerate all possible worlds."
   ]
  },
  {
   "cell_type": "code",
   "execution_count": 31,
   "metadata": {
    "scrolled": true,
    "tags": []
   },
   "outputs": [
    {
     "name": "stdout",
     "output_type": "stream",
     "text": [
      "Probability of being smoker? 0.18403563\n",
      "Probability of being female smoker? 0.096237846\n",
      "Probability of being male smoker with one child living in the southeast? 0.0009639263\n"
     ]
    }
   ],
   "source": [
    "marg_data = make_observations([[\"smoker\"], \n",
    "                       [\"female\"], \n",
    "                       [\"female\", \"smoker\"], \n",
    "                       [\"southeast\", \"male\", \"1-child\", \"smoker\"]],\n",
    "                    )\n",
    "prob = exp.(marginal(pc, marg_data))\n",
    "println(\"Probability of being smoker? \", prob[1])\n",
    "println(\"Probability of being female smoker? \", prob[3])\n",
    "println(\"Probability of being male smoker with one child living in the southeast? \", prob[4])"
   ]
  },
  {
   "cell_type": "markdown",
   "metadata": {},
   "source": [
    "#### CON: Conditional Queries\n",
    "\n",
    "Given some observations $X^o$, we want to compute probabilities conditioned on the observations: $ P(Q \\mid X^o) $\n",
    "if we can do marginals tractably, we can also do conditionals tractably: $ P(Q \\mid X^o) = \\cfrac{P(Q, X^o)}{P(X^o)} $"
   ]
  },
  {
   "cell_type": "code",
   "execution_count": 32,
   "metadata": {},
   "outputs": [
    {
     "name": "stdout",
     "output_type": "stream",
     "text": [
      " P('smoker' | 'female') = 0.20398751\n"
     ]
    }
   ],
   "source": [
    "println(\" P('smoker' | 'female') = $(prob[3]/prob[2])\")"
   ]
  },
  {
   "cell_type": "markdown",
   "metadata": {},
   "source": [
    "#### Advanced queries: expected predictions\n",
    "\n",
    "We have two separate models $p$ and $f$. $p$ is a generative model representing some distributions, and $f$ is a predictive model. We are interested in computing **expected predictions** of $f$ according to the distribution encoded by $g$.\n",
    "\n",
    "- Appears all the time in machine learning, such as handling missing data\n",
    "- We can do this tractably!\n",
    "\n",
    "\n",
    "$ \\Large \\mathbb{E}_{\\mathbf{x}^m\\ \\sim\\ p(\\mathbf{x}^m\\ \\mid\\ \\mathbf{x}^o )}\\left[\\ f( \\mathbf{x}^o \\mathbf{x}^m) \\ \\right] $\n",
    "\n",
    "- In above equation $ \\mathbf{x}^m $ = missing features, and $ \\mathbf{x}^o $ = observed features.\n",
    "\n",
    "- Expected Prediction useful for:\n",
    "  - Handling missing values at test time\n",
    "  - Reasoning about behaviour of predictive models"
   ]
  },
  {
   "cell_type": "markdown",
   "metadata": {},
   "source": [
    "- load a regression circuit"
   ]
  },
  {
   "cell_type": "code",
   "execution_count": 33,
   "metadata": {},
   "outputs": [
    {
     "name": "stdout",
     "output_type": "stream",
     "text": [
      "Regression Circuit with 1076 nodes.\n"
     ]
    }
   ],
   "source": [
    "rc = load_logistic_circuit(zoo_lc_file(\"insurance.circuit\"), 1)\n",
    "println(\"Regression Circuit with $(num_nodes(rc)) nodes.\")"
   ]
  },
  {
   "cell_type": "markdown",
   "metadata": {},
   "source": [
    "##### Sample Queries\n",
    "1. How different are the insurance costs between smokers and non smokers?"
   ]
  },
  {
   "cell_type": "code",
   "execution_count": 34,
   "metadata": {},
   "outputs": [
    {
     "name": "stdout",
     "output_type": "stream",
     "text": [
      "Non-Smoker: $ 8741.748\n",
      "Smoker    : $ 31355.338\n",
      "Difference: $ 22613.59\n"
     ]
    }
   ],
   "source": [
    "data = make_observations([[\"!smoker\"], \n",
    "                 [\"smoker\"]])\n",
    "exps, exp_cache = Expectation(pc, rc, data)\n",
    "println(\"Non-Smoker: \\$ $(exps[1])\");\n",
    "println(\"Smoker    : \\$ $(exps[2])\");\n",
    "println(\"Difference: \\$ $(exps[2] - exps[1])\");"
   ]
  },
  {
   "cell_type": "markdown",
   "metadata": {},
   "source": [
    "2. Is the predictive model biased by gender?"
   ]
  },
  {
   "cell_type": "code",
   "execution_count": 35,
   "metadata": {},
   "outputs": [
    {
     "name": "stdout",
     "output_type": "stream",
     "text": [
      "Female  : $ 14170.123\n",
      "Male    : $ 13196.557\n",
      "Diff    : $ 973.5664\n"
     ]
    }
   ],
   "source": [
    "data = make_observations([[\"male\"],\n",
    "                 [\"female\"]])\n",
    "exps, exp_cache = Expectation(pc, rc, data);\n",
    "println(\"Female  : \\$ $(exps[2])\");\n",
    "println(\"Male    : \\$ $(exps[1])\");\n",
    "println(\"Diff    : \\$ $(exps[2] - exps[1])\");"
   ]
  },
  {
   "cell_type": "markdown",
   "metadata": {},
   "source": [
    "3. Expecation and standard devation of few subpopulations"
   ]
  },
  {
   "cell_type": "code",
   "execution_count": 36,
   "metadata": {},
   "outputs": [
    {
     "name": "stdout",
     "output_type": "stream",
     "text": [
      "mu: 30975.0, std = 11229.0\n"
     ]
    }
   ],
   "source": [
    "data = make_observations( [[\"southeast\", \"male\", \"1-child\", \"smoker\"], \n",
    "                 [\"southwest\", \"male\", \"1-child\", \"smoker\"]])\n",
    "exps, exp_cache = Expectation(pc, rc, data);\n",
    "# Computes the second moment\n",
    "mom2, mom_cache = Moment(pc, rc, data, 2);\n",
    "# Computing Standard Deviation\n",
    "stds = sqrt.( mom2 - exps.^2 );\n",
    "# Living in South East, Smoker, Male, One child\n",
    "println(\"mu: $(round(exps[1])), std = $(round(stds[1]))\")"
   ]
  },
  {
   "cell_type": "markdown",
   "metadata": {},
   "source": [
    "## Parameter Learning and Structure learning\n",
    "### Parameter Learning\n",
    "1. load data and create a fully factorized circuit"
   ]
  },
  {
   "cell_type": "code",
   "execution_count": 37,
   "metadata": {},
   "outputs": [],
   "source": [
    "train_x, valid_x, test_x = twenty_datasets(\"nltcs\")\n",
    "v = Vtree(num_features(train_x), :balanced)\n",
    "pc = fully_factorized_circuit(StructProbCircuit, v);"
   ]
  },
  {
   "cell_type": "markdown",
   "metadata": {},
   "source": [
    "2. Maximum likelihood estimate parameters (MLE) given complete data"
   ]
  },
  {
   "cell_type": "code",
   "execution_count": 38,
   "metadata": {},
   "outputs": [
    {
     "name": "stdout",
     "output_type": "stream",
     "text": [
      "Training set log-likelihood is -9.270330518351884\n"
     ]
    }
   ],
   "source": [
    "estimate_parameters(pc, train_x; pseudocount=1.0);\n",
    "println(\"Training set log-likelihood is \", log_likelihood_avg(pc, train_x))"
   ]
  },
  {
   "cell_type": "markdown",
   "metadata": {},
   "source": [
    "### Structure learn\n",
    "#### Initializations\n",
    "- Initialized from a Chow-Liu Tree"
   ]
  },
  {
   "cell_type": "code",
   "execution_count": 39,
   "metadata": {},
   "outputs": [
    {
     "name": "stdout",
     "output_type": "stream",
     "text": [
      "Initial circuits has 121 nodes, 74 parameters.\n",
      "Training set log-likelihood is -6.7600561877106955\n"
     ]
    }
   ],
   "source": [
    "pc, vtree = learn_chow_liu_tree_circuit(train_x)\n",
    "println(\"Initial circuits has $(num_nodes(pc)) nodes, $(num_parameters(pc)) parameters.\")\n",
    "println(\"Training set log-likelihood is \", log_likelihood_avg(pc, train_x))"
   ]
  },
  {
   "cell_type": "markdown",
   "metadata": {},
   "source": [
    "#### Strcuture update\n",
    "- Perform greedy search based on some buid-in heuristics, you can also use customized strategies by writing the callback function"
   ]
  },
  {
   "cell_type": "code",
   "execution_count": 40,
   "metadata": {},
   "outputs": [
    {
     "name": "stdout",
     "output_type": "stream",
     "text": [
      "Circuits has 213 nodes, 136 parameters.\n",
      "Training set log-likelihood is -6.531536485344027\n"
     ]
    }
   ],
   "source": [
    "loss(circuit) = ProbabilisticCircuits.heuristic_loss(circuit, train_x)\n",
    "pc = struct_learn(pc; \n",
    "    primitives=[split_step], \n",
    "    kwargs=Dict(split_step=>(loss=loss,)),\n",
    "    maxiter=10)\n",
    "estimate_parameters(pc, train_x; pseudocount=1.0)\n",
    "println(\"Circuits has $(num_nodes(pc)) nodes, $(num_parameters(pc)) parameters.\")\n",
    "println(\"Training set log-likelihood is \", log_likelihood_avg(pc, train_x))"
   ]
  },
  {
   "cell_type": "markdown",
   "metadata": {},
   "source": [
    "## Benchmarks and GPU accelerated computing \n",
    "\n",
    "This part was benchmarked using a NVIDIA TITAN RTX.\n",
    "\n",
    "\n",
    "Depending where the data is Juice automatically uses the correct implementation using Julia's multiple dispatch, so using the GPU version is as simple as moving the data to gpu `to_gpu` and then everything is is identical (maybe differ in more advanced cases)."
   ]
  },
  {
   "cell_type": "markdown",
   "metadata": {},
   "source": [
    "#### Load circuit and data"
   ]
  },
  {
   "cell_type": "code",
   "execution_count": 41,
   "metadata": {},
   "outputs": [
    {
     "name": "stdout",
     "output_type": "stream",
     "text": [
      "Load a circuit with 153021 nodes and 91380 parameters.\n",
      "Load a data with 69 features and 17412 examples.\n"
     ]
    }
   ],
   "source": [
    "pc = zoo_psdd(\"plants.psdd\")\n",
    "println(\"Load a circuit with $(num_nodes(pc)) nodes and $(num_parameters(pc)) parameters.\")\n",
    "data, _, _ = twenty_datasets(\"plants\")\n",
    "println(\"Load a data with $(num_features(data)) features and $(num_examples(data)) examples.\")"
   ]
  },
  {
   "cell_type": "markdown",
   "metadata": {},
   "source": [
    "#### Move data to GPU"
   ]
  },
  {
   "cell_type": "code",
   "execution_count": 42,
   "metadata": {},
   "outputs": [],
   "source": [
    "gpu_data = to_gpu(data);"
   ]
  },
  {
   "cell_type": "markdown",
   "metadata": {},
   "source": [
    "#### If the data satisty logical constrains ?\n",
    "\n",
    "CPU"
   ]
  },
  {
   "cell_type": "code",
   "execution_count": 43,
   "metadata": {},
   "outputs": [
    {
     "name": "stdout",
     "output_type": "stream",
     "text": [
      "  147.943 ms (927801 allocations: 189.69 MiB)\n"
     ]
    }
   ],
   "source": [
    "@btime satisfies($pc, $data);"
   ]
  },
  {
   "cell_type": "markdown",
   "metadata": {},
   "source": [
    "GPU"
   ]
  },
  {
   "cell_type": "code",
   "execution_count": 44,
   "metadata": {},
   "outputs": [
    {
     "name": "stdout",
     "output_type": "stream",
     "text": [
      "  73.994 ms (929353 allocations: 57.81 MiB)\n"
     ]
    }
   ],
   "source": [
    "@btime satisfies($pc, $gpu_data);"
   ]
  },
  {
   "cell_type": "markdown",
   "metadata": {},
   "source": [
    "As we see, the GPU version is about 2x faster for `satisfies`."
   ]
  },
  {
   "cell_type": "markdown",
   "metadata": {},
   "source": [
    "#### EVI queries\n",
    "CPU"
   ]
  },
  {
   "cell_type": "code",
   "execution_count": 45,
   "metadata": {},
   "outputs": [
    {
     "name": "stdout",
     "output_type": "stream",
     "text": [
      "  333.853 ms (1351524 allocations: 334.75 MiB)\n"
     ]
    }
   ],
   "source": [
    "@btime EVI($pc, $data);"
   ]
  },
  {
   "cell_type": "markdown",
   "metadata": {},
   "source": [
    "GPU "
   ]
  },
  {
   "cell_type": "code",
   "execution_count": 46,
   "metadata": {},
   "outputs": [
    {
     "name": "stdout",
     "output_type": "stream",
     "text": [
      "  118.363 ms (1354507 allocations: 70.86 MiB)\n"
     ]
    }
   ],
   "source": [
    "@btime EVI($pc, $gpu_data);"
   ]
  },
  {
   "cell_type": "markdown",
   "metadata": {},
   "source": [
    "As we see, the GPU version is about 3x faster for `EVI`."
   ]
  },
  {
   "cell_type": "markdown",
   "metadata": {},
   "source": [
    "#### MAR queries\n",
    "CPU "
   ]
  },
  {
   "cell_type": "code",
   "execution_count": 47,
   "metadata": {},
   "outputs": [
    {
     "name": "stdout",
     "output_type": "stream",
     "text": [
      "  4.328 s (6088570 allocations: 4.31 GiB)\n"
     ]
    }
   ],
   "source": [
    "data_miss = flip_coin(data)\n",
    "@btime MAR($pc, $data_miss);"
   ]
  },
  {
   "cell_type": "markdown",
   "metadata": {},
   "source": [
    "GPU"
   ]
  },
  {
   "cell_type": "code",
   "execution_count": 48,
   "metadata": {},
   "outputs": [],
   "source": [
    "# a. Everything in one batch\n",
    "gpu_data_miss = to_gpu(data_miss);\n",
    "\n",
    "# b. Use this instead for smaller batch size in case all data does not fit into gpu memory in one batch\n",
    "# gpu_data_miss = to_gpu(batch(data_miss, 8192));"
   ]
  },
  {
   "cell_type": "code",
   "execution_count": 49,
   "metadata": {},
   "outputs": [
    {
     "name": "stdout",
     "output_type": "stream",
     "text": [
      "  422.633 ms (6090571 allocations: 215.29 MiB)\n"
     ]
    }
   ],
   "source": [
    "@btime MAR($pc, $gpu_data_miss);"
   ]
  },
  {
   "cell_type": "markdown",
   "metadata": {},
   "source": [
    "As we see, the GPU version is about 10x faster for `MAR`."
   ]
  },
  {
   "cell_type": "markdown",
   "metadata": {},
   "source": [
    "#### Maximum likelihood estimate parameters (MLE) given complete data\n",
    "CPU "
   ]
  },
  {
   "cell_type": "code",
   "execution_count": 50,
   "metadata": {},
   "outputs": [
    {
     "name": "stdout",
     "output_type": "stream",
     "text": [
      "  341.473 ms (1500255 allocations: 345.80 MiB)\n"
     ]
    }
   ],
   "source": [
    "@btime estimate_parameters(pc, data; pseudocount=1.0);"
   ]
  },
  {
   "cell_type": "markdown",
   "metadata": {},
   "source": [
    "GPU "
   ]
  },
  {
   "cell_type": "code",
   "execution_count": 51,
   "metadata": {},
   "outputs": [
    {
     "name": "stdout",
     "output_type": "stream",
     "text": [
      "  96.983 ms (1220808 allocations: 77.72 MiB)\n"
     ]
    }
   ],
   "source": [
    "@btime estimate_parameters(pc, gpu_data; pseudocount=1.0);"
   ]
  },
  {
   "cell_type": "markdown",
   "metadata": {},
   "source": [
    "#### Expectation maximization estimate parameters (EM) given data with missing values\n",
    "CPU "
   ]
  },
  {
   "cell_type": "code",
   "execution_count": 52,
   "metadata": {},
   "outputs": [
    {
     "name": "stdout",
     "output_type": "stream",
     "text": [
      "  48.016 s (6472549 allocations: 14.55 GiB)\n"
     ]
    }
   ],
   "source": [
    "@btime params_cpu = estimate_parameters_em($pc, $data_miss; pseudocount=1.0);"
   ]
  },
  {
   "cell_type": "markdown",
   "metadata": {},
   "source": [
    "GPU"
   ]
  },
  {
   "cell_type": "code",
   "execution_count": 53,
   "metadata": {},
   "outputs": [],
   "source": [
    "#@time params_gpu = estimate_parameters_em(pc, gpu_data_miss; pseudocount=1.0);"
   ]
  },
  {
   "cell_type": "markdown",
   "metadata": {},
   "source": [
    "#### Expected Prediction Benchmark"
   ]
  },
  {
   "cell_type": "code",
   "execution_count": 54,
   "metadata": {},
   "outputs": [],
   "source": [
    "pc = load_prob_circuit(zoo_psdd_file(\"insurance.psdd\"));\n",
    "rc = load_logistic_circuit(zoo_lc_file(\"insurance.circuit\"), 1);\n",
    "train_x = DataFrame(BitArray(Matrix(CSV.read(\"insurance/insurance_train_x.csv\", DataFrame))))\n",
    "\n",
    "data_miss = flip_coin(vcat(train_x, train_x));\n",
    "data_miss2 = flip_coin(vcat(train_x, train_x));"
   ]
  },
  {
   "cell_type": "markdown",
   "metadata": {},
   "source": [
    "CPU Version (Recursive)"
   ]
  },
  {
   "cell_type": "code",
   "execution_count": 55,
   "metadata": {},
   "outputs": [
    {
     "name": "stdout",
     "output_type": "stream",
     "text": [
      "  12.931 s (6413973 allocations: 5.30 GiB)\n"
     ]
    }
   ],
   "source": [
    "@btime Expectation($pc, $rc, $data_miss);"
   ]
  },
  {
   "cell_type": "markdown",
   "metadata": {},
   "source": [
    "GPU Version (By compiling into  [BitCircuitPair](https://juice-jl.github.io/ProbabilisticCircuits.jl/dev/api/internals/probabilistic_circuits/#ProbabilisticCircuits.BitCircuitPair))"
   ]
  },
  {
   "cell_type": "code",
   "execution_count": 56,
   "metadata": {},
   "outputs": [],
   "source": [
    "train_x_gpu = to_gpu(data_miss);"
   ]
  },
  {
   "cell_type": "code",
   "execution_count": 57,
   "metadata": {},
   "outputs": [
    {
     "name": "stderr",
     "output_type": "stream",
     "text": [
      "┌ Warning: Performing scalar operations on GPU arrays: This is very slow, consider disallowing these operations with `allowscalar(false)`\n",
      "└ @ GPUArrays /home/pashak/.julia/packages/GPUArrays/jhRU7/src/host/indexing.jl:43\n"
     ]
    },
    {
     "name": "stdout",
     "output_type": "stream",
     "text": [
      "  559.230 ms (2870863 allocations: 148.29 MiB)\n"
     ]
    }
   ],
   "source": [
    "@btime ExpectationBit($pc, $rc, $train_x_gpu);"
   ]
  },
  {
   "cell_type": "markdown",
   "metadata": {},
   "source": [
    "As we see, the GPU version is about 20x faster than the recursive CPU version.\n",
    "\n",
    "**Sidenote:** The gpu version is even faster for upcoming batches if we reuse the `ParamBitCircuitPair` and already allocated memory:"
   ]
  },
  {
   "cell_type": "code",
   "execution_count": 62,
   "metadata": {},
   "outputs": [],
   "source": [
    "results, fvalues, gvalues, pbc = ExpectationBit(pc, rc, train_x_gpu; return_aux=true);\n",
    "\n",
    "# Second batch\n",
    "train_x_gpu2 = to_gpu(data_miss2)"
   ]
  },
  {
   "cell_type": "code",
   "execution_count": 63,
   "metadata": {},
   "outputs": [
    {
     "name": "stdout",
     "output_type": "stream",
     "text": [
      "  56.083 ms (242437 allocations: 11.70 MiB)\n"
     ]
    }
   ],
   "source": [
    "@btime ExpectationBit($pbc, $pc, $rc, $train_x_gpu2, $fvalues, $gvalues); "
   ]
  }
 ],
 "metadata": {
  "@webio": {
   "lastCommId": null,
   "lastKernelId": null
  },
  "kernelspec": {
   "display_name": "Julia 1.5.3",
   "language": "julia",
   "name": "julia-1.5"
  },
  "language_info": {
   "file_extension": ".jl",
   "mimetype": "application/julia",
   "name": "julia",
   "version": "1.5.3"
  }
 },
 "nbformat": 4,
 "nbformat_minor": 2
}
