{
 "cells": [
  {
   "cell_type": "markdown",
   "metadata": {},
   "source": [
    "# Juice Examples\n",
    "This notebook includes:\n",
    "- Logic Circuits\n",
    "    - Construct a circuit\n",
    "    - Structure Properties\n",
    "    - Transformations\n",
    "    - Queries\n",
    "- Probabilistic Circuits\n",
    "## Logic Circuits"
   ]
  },
  {
   "cell_type": "code",
   "execution_count": 66,
   "metadata": {},
   "outputs": [],
   "source": [
    "using Revise # TODO remove "
   ]
  },
  {
   "cell_type": "code",
   "execution_count": 2,
   "metadata": {
    "tags": []
   },
   "outputs": [],
   "source": [
    "using LogicCircuits"
   ]
  },
  {
   "cell_type": "markdown",
   "metadata": {},
   "source": [
    "### Construct/ Load/ Compile a logic circuit\n",
    "1. Handcradft a logic circuit"
   ]
  },
  {
   "cell_type": "code",
   "execution_count": 3,
   "metadata": {
    "tags": []
   },
   "outputs": [
    {
     "name": "stdout",
     "output_type": "stream",
     "text": [
      "((1 ⋀ 2) ⋁ (-1 ⋀ -2 ⋀ true))\n"
     ]
    }
   ],
   "source": [
    "lit1, litn1 = compile(PlainLogicCircuit, Lit(1)), compile(PlainLogicCircuit, Lit(- 1))\n",
    "lit2, litn2 = compile(PlainLogicCircuit, Lit(2)), compile(PlainLogicCircuit, Lit(- 2))\n",
    "and1 = lit1 & lit2\n",
    "true_node = compile(PlainLogicCircuit, true)\n",
    "and2 = conjoin([litn1, litn2, true_node])\n",
    "c1 = and1 | and2\n",
    "println(tree_formula_string(c1))"
   ]
  },
  {
   "cell_type": "code",
   "execution_count": 4,
   "metadata": {
    "tags": []
   },
   "outputs": [
    {
     "name": "stdout",
     "output_type": "stream",
     "text": [
      "((1 ⋀ 2) ⋁ (-1 ⋀ -2))\n"
     ]
    }
   ],
   "source": [
    "# structured-decomposble circuit and its vtree\n",
    "v1, v2 = Vtree(Var(1)), Vtree(Var(2))\n",
    "v_and = Vtree(v1, v2)\n",
    "sl1, sln1 = compile(StructLogicCircuit, v1, Lit(1)), compile(StructLogicCircuit, v1, Lit(- 1))\n",
    "sl2, sln2 = compile(StructLogicCircuit, v2, Lit(2)), compile(StructLogicCircuit, v2, Lit(- 2))\n",
    "c2 = v_and(v_and(sl1 & sl2) | v_and(sln1 & sln2))\n",
    "println(tree_formula_string(c2))"
   ]
  },
  {
   "cell_type": "markdown",
   "metadata": {},
   "source": [
    "2. Load from file/module zoo"
   ]
  },
  {
   "cell_type": "code",
   "execution_count": 5,
   "metadata": {},
   "outputs": [
    {
     "data": {
      "text/plain": [
       "(PlainStruct⋁Node(17071440171319300258), PlainVtreeInnerNode(1,2,3,4,5,6,7,8,9,10,11,12,13,14,15,16))"
      ]
     },
     "execution_count": 5,
     "metadata": {},
     "output_type": "execute_result"
    }
   ],
   "source": [
    "lc = load_logic_circuit(zoo_sdd_file(\"random.sdd\"))\n",
    "lc2 = load_smooth_logic_circuit(zoo_psdd_file(\"nltcs.psdd\"))\n",
    "lc, v = load_struct_smooth_logic_circuit(zoo_psdd_file(\"nltcs.psdd\"), zoo_vtree_file(\"nltcs.vtree\"))"
   ]
  },
  {
   "cell_type": "markdown",
   "metadata": {},
   "source": [
    "3. fully factorized circuit"
   ]
  },
  {
   "cell_type": "code",
   "execution_count": 6,
   "metadata": {
    "tags": []
   },
   "outputs": [
    {
     "name": "stdout",
     "output_type": "stream",
     "text": [
      "(((1 ⋁ -1) ⋀ (2 ⋁ -2) ⋀ (3 ⋁ -3)))\n",
      "((((1 ⋁ -1) ⋀ (2 ⋁ -2))))\n"
     ]
    }
   ],
   "source": [
    "c3 = fully_factorized_circuit(PlainLogicCircuit, 3)\n",
    "c4 = fully_factorized_circuit(PlainStructLogicCircuit, v_and)\n",
    "println(tree_formula_string(c3))\n",
    "println(tree_formula_string(c4))"
   ]
  },
  {
   "cell_type": "markdown",
   "metadata": {},
   "source": [
    "4. SDD compilation "
   ]
  },
  {
   "cell_type": "code",
   "execution_count": 7,
   "metadata": {
    "tags": []
   },
   "outputs": [
    {
     "name": "stdout",
     "output_type": "stream",
     "text": [
      "((-3 ⋀ ((((2 ⋀ true) ⋁ (-2 ⋀ -4)) ⋀ false) ⋁ (((2 ⋀ false) ⋁ (-2 ⋀ 4)) ⋀ ((((7 ⋀ 8) ⋁ (-7 ⋀ -8)) ⋀ false) ⋁ (((-7 ⋀ 8) ⋁ (7 ⋀ false)) ⋀ ((-6 ⋀ ((-9 ⋀ ((10 ⋀ ((11 ⋀ ((12 ⋀ ((13 ⋀ ((14 ⋀ ((-15 ⋀ ((-16 ⋀ 17) ⋁ (16 ⋀ false))) ⋁ (15 ⋀ false))) ⋁ (-14 ⋀ false))) ⋁ (-13 ⋀ ((-14 ⋀ ((15 ⋀ ((-16 ⋀ 17) ⋁ (16 ⋀ false))) ⋁ (-15 ⋀ false))) ⋁ (14 ⋀ false))))) ⋁ (-12 ⋀ false))) ⋁ (-11 ⋀ false))) ⋁ (-10 ⋀ false))) ⋁ (9 ⋀ false))) ⋁ (6 ⋀ false))) ⋁ (((7 ⋀ -8) ⋁ (-7 ⋀ false)) ⋀ ((-6 ⋀ ((9 ⋀ ((-10 ⋀ ((11 ⋀ ((-12 ⋀ ((13 ⋀ ((14 ⋀ ((-15 ⋀ ((-16 ⋀ 17) ⋁ (16 ⋀ false))) ⋁ (15 ⋀ false))) ⋁ (-14 ⋀ false))) ⋁ (-13 ⋀ ((-14 ⋀ ((15 ⋀ ((16 ⋀ -17) ⋁ (-16 ⋀ false))) ⋁ (-15 ⋀ false))) ⋁ (14 ⋀ false))))) ⋁ (12 ⋀ false))) ⋁ (-11 ⋀ false))) ⋁ (10 ⋀ false))) ⋁ (-9 ⋀ false))) ⋁ (6 ⋀ false))))))) ⋁ (3 ⋀ ((1 ⋀ ((((2 ⋀ 4) ⋁ (-2 ⋀ true)) ⋀ false) ⋁ (((2 ⋀ -4) ⋁ (-2 ⋀ false)) ⋀ ((((-7 ⋀ -8) ⋁ (7 ⋀ true)) ⋀ false) ⋁ (((-7 ⋀ 8) ⋁ (7 ⋀ false)) ⋀ ((-5 ⋀ ((-6 ⋀ ((9 ⋀ ((-10 ⋀ ((11 ⋀ ((-12 ⋀ ((13 ⋀ ((14 ⋀ ((-15 ⋀ ((-16 ⋀ 17) ⋁ (16 ⋀ false))) ⋁ (15 ⋀ false))) ⋁ (-14 ⋀ false))) ⋁ (-13 ⋀ ((-14 ⋀ ((15 ⋀ ((16 ⋀ -17) ⋁ (-16 ⋀ false))) ⋁ (-15 ⋀ false))) ⋁ (14 ⋀ false))))) ⋁ (12 ⋀ false))) ⋁ (-11 ⋀ false))) ⋁ (10 ⋀ false))) ⋁ (-9 ⋀ ((10 ⋀ ((11 ⋀ ((12 ⋀ ((13 ⋀ ((14 ⋀ ((-15 ⋀ ((-16 ⋀ 17) ⋁ (16 ⋀ false))) ⋁ (15 ⋀ false))) ⋁ (-14 ⋀ false))) ⋁ (-13 ⋀ ((-14 ⋀ ((15 ⋀ ((-16 ⋀ 17) ⋁ (16 ⋀ false))) ⋁ (-15 ⋀ false))) ⋁ (14 ⋀ false))))) ⋁ (-12 ⋀ false))) ⋁ (-11 ⋀ false))) ⋁ (-10 ⋀ false))))) ⋁ (6 ⋀ false))) ⋁ (5 ⋀ ((6 ⋀ ((9 ⋀ ((-10 ⋀ ((-11 ⋀ ((-14 ⋀ ((15 ⋀ ((16 ⋀ -17) ⋁ (-16 ⋀ false))) ⋁ (-15 ⋀ false))) ⋁ (14 ⋀ false))) ⋁ (11 ⋀ false))) ⋁ (10 ⋀ false))) ⋁ (-9 ⋀ false))) ⋁ (-6 ⋀ false))))))))) ⋁ (-1 ⋀ ((((2 ⋀ true) ⋁ (-2 ⋀ -4)) ⋀ false) ⋁ (((2 ⋀ false) ⋁ (-2 ⋀ 4)) ⋀ ((((7 ⋀ 8) ⋁ (-7 ⋀ -8)) ⋀ false) ⋁ (((-7 ⋀ 8) ⋁ (7 ⋀ false)) ⋀ ((5 ⋀ false) ⋁ (-5 ⋀ ((-6 ⋀ ((-9 ⋀ ((10 ⋀ ((11 ⋀ ((12 ⋀ ((13 ⋀ ((14 ⋀ ((-15 ⋀ ((-16 ⋀ 17) ⋁ (16 ⋀ false))) ⋁ (15 ⋀ false))) ⋁ (-14 ⋀ false))) ⋁ (-13 ⋀ ((-14 ⋀ ((15 ⋀ ((-16 ⋀ 17) ⋁ (16 ⋀ false))) ⋁ (-15 ⋀ false))) ⋁ (14 ⋀ false))))) ⋁ (-12 ⋀ false))) ⋁ (-11 ⋀ false))) ⋁ (-10 ⋀ false))) ⋁ (9 ⋀ false))) ⋁ (6 ⋀ false))))) ⋁ (((7 ⋀ -8) ⋁ (-7 ⋀ false)) ⋀ ((-5 ⋀ ((-6 ⋀ ((9 ⋀ ((-10 ⋀ ((11 ⋀ ((-12 ⋀ ((13 ⋀ ((14 ⋀ ((-15 ⋀ ((-16 ⋀ 17) ⋁ (16 ⋀ false))) ⋁ (15 ⋀ false))) ⋁ (-14 ⋀ false))) ⋁ (-13 ⋀ ((-14 ⋀ ((15 ⋀ ((16 ⋀ -17) ⋁ (-16 ⋀ false))) ⋁ (-15 ⋀ false))) ⋁ (14 ⋀ false))))) ⋁ (12 ⋀ false))) ⋁ (-11 ⋀ false))) ⋁ (10 ⋀ false))) ⋁ (-9 ⋀ false))) ⋁ (6 ⋀ false))) ⋁ (5 ⋀ ((6 ⋀ ((9 ⋀ ((-10 ⋀ ((-11 ⋀ ((-14 ⋀ ((15 ⋀ ((16 ⋀ -17) ⋁ (-16 ⋀ false))) ⋁ (-15 ⋀ false))) ⋁ (14 ⋀ false))) ⋁ (11 ⋀ false))) ⋁ (10 ⋀ false))) ⋁ (-9 ⋀ false))) ⋁ (-6 ⋀ false))))))))))))\n"
     ]
    }
   ],
   "source": [
    "mgr1 = SddMgr(3, :balanced)\n",
    "\n",
    "cnf1 = zoo_cnf(\"easy/C17_mince.cnf\")\n",
    "vtree1 = zoo_vtree(\"easy/C17_mince.min.vtree\");\n",
    "\n",
    "mgr2 = SddMgr(vtree1)\n",
    "cnfΔ = compile(mgr2, cnf1)\n",
    "println(tree_formula_string(cnfΔ))"
   ]
  },
  {
   "cell_type": "markdown",
   "metadata": {},
   "source": [
    "2. Circuit Statistics"
   ]
  },
  {
   "cell_type": "code",
   "execution_count": 8,
   "metadata": {
    "tags": []
   },
   "outputs": [
    {
     "name": "stdout",
     "output_type": "stream",
     "text": [
      "((1 ⋀ 2) ⋁ (-1 ⋀ -2 ⋀ true))\n",
      "Number of variables : 2\n",
      "Number of nodes : 8\n",
      "Number of edges : 7\n"
     ]
    }
   ],
   "source": [
    "println(tree_formula_string(c1))\n",
    "println(\"Number of variables : \", num_variables(c1))\n",
    "println(\"Number of nodes : \", num_nodes(c1))\n",
    "println(\"Number of edges : \", num_edges(c1))"
   ]
  },
  {
   "cell_type": "code",
   "execution_count": 9,
   "metadata": {
    "tags": []
   },
   "outputs": [
    {
     "name": "stdout",
     "output_type": "stream",
     "text": [
      "Number of children of root node : 2\n",
      "Inner nodes : PlainLogicInnerNode[Plain⋀Node(9708351419127740086), Plain⋀Node(13003709538712002003), Plain⋁Node(8595816351066912710)]\n",
      "\n",
      "Leaf nodes : PlainLogicCircuit[PlainLiteralNode(3194420677731455510), PlainLiteralNode(7949410174404004732), PlainLiteralNode(7936209029251308934), PlainLiteralNode(16180952742282381550), PlainTrueNode(4494288336901689378)]\n",
      "\n",
      "Conjunction/And nodes : Plain⋀Node[Plain⋀Node(9708351419127740086), Plain⋀Node(13003709538712002003)]\n",
      "\n",
      "Disjunction/Or nodes : Plain⋁Node[Plain⋁Node(8595816351066912710)]\n",
      "\n",
      "Literal nodes : PlainLiteralNode[PlainLiteralNode(3194420677731455510), PlainLiteralNode(7949410174404004732), PlainLiteralNode(7936209029251308934), PlainLiteralNode(16180952742282381550)]\n",
      "\n",
      "Constant nodes : (nothing, PlainTrueNode(4494288336901689378))\n",
      "\n"
     ]
    }
   ],
   "source": [
    "println(\"Number of children of root node : \", num_children(c1))\n",
    "println(\"Inner nodes : \", innernodes(c1), \"\\n\")\n",
    "println(\"Leaf nodes : \", leafnodes(c1), \"\\n\")\n",
    "println(\"Conjunction/And nodes : \", and_nodes(c1), \"\\n\")\n",
    "println(\"Disjunction/Or nodes : \", or_nodes(c1), \"\\n\")\n",
    "println(\"Literal nodes : \", literal_nodes(c1), \"\\n\")\n",
    "println(\"Constant nodes : \", canonical_constants(c1), \"\\n\")"
   ]
  },
  {
   "cell_type": "markdown",
   "metadata": {},
   "source": [
    "3. Structure properties"
   ]
  },
  {
   "cell_type": "code",
   "execution_count": 10,
   "metadata": {
    "tags": []
   },
   "outputs": [
    {
     "name": "stdout",
     "output_type": "stream",
     "text": [
      "true\n",
      "true\n",
      "true\n"
     ]
    }
   ],
   "source": [
    "println(isfalse(compile(PlainLogicCircuit, false)))\n",
    "println(istrue(true_node))\n",
    "println(isliteralgate(lit1))"
   ]
  },
  {
   "cell_type": "code",
   "execution_count": 11,
   "metadata": {
    "tags": []
   },
   "outputs": [
    {
     "name": "stdout",
     "output_type": "stream",
     "text": [
      "Is ((1 ⋀ 2) ⋁ (-1 ⋀ -2 ⋀ true)) decomposable : true\n",
      "Is (1 ⋀ -1) decomposable : false\n"
     ]
    }
   ],
   "source": [
    "println(\"Is \", tree_formula_string(c1), \" decomposable : \", isdecomposable(c1))\n",
    "t = lit1 & litn1\n",
    "println(\"Is \", tree_formula_string(t), \" decomposable : \", isdecomposable(t))"
   ]
  },
  {
   "cell_type": "code",
   "execution_count": 12,
   "metadata": {
    "tags": []
   },
   "outputs": [
    {
     "name": "stdout",
     "output_type": "stream",
     "text": [
      "Is ((1 ⋀ 2) ⋁ (-1 ⋀ -2 ⋀ true)) smooth : true\n",
      "Is (1 ⋁ 2) smooth : false\n"
     ]
    }
   ],
   "source": [
    "println(\"Is \", tree_formula_string(c1), \" smooth : \", issmooth(c1))\n",
    "t = lit1 | lit2\n",
    "println(\"Is \", tree_formula_string(t), \" smooth : \", issmooth(t))"
   ]
  },
  {
   "cell_type": "code",
   "execution_count": 13,
   "metadata": {
    "tags": []
   },
   "outputs": [
    {
     "name": "stdout",
     "output_type": "stream",
     "text": [
      "Is ((1 ⋀ 2) ⋁ (-1 ⋀ -2 ⋀ true)) deterministic : true\n",
      "Is ((1 ⋀ 2) ⋁ (1 ⋀ 2)) deterministic : false\n"
     ]
    }
   ],
   "source": [
    "println(\"Is \", tree_formula_string(c1), \" deterministic : \", isdeterministic(c1))\n",
    "t = (lit1 & lit2) | (lit1 & lit2)\n",
    "println(\"Is \", tree_formula_string(t), \" deterministic : \", isdeterministic(t))"
   ]
  },
  {
   "cell_type": "code",
   "execution_count": 14,
   "metadata": {
    "tags": []
   },
   "outputs": [
    {
     "name": "stdout",
     "output_type": "stream",
     "text": [
      "Is ((1 ⋀ 2) ⋁ (-1 ⋀ -2 ⋀ true)) structured decomposable : false\n"
     ]
    }
   ],
   "source": [
    "println(\"Is \", tree_formula_string(c1), \" structured decomposable : \", isstruct_decomposable(c1))"
   ]
  },
  {
   "cell_type": "code",
   "execution_count": 15,
   "metadata": {},
   "outputs": [
    {
     "data": {
      "text/plain": [
       "true"
      ]
     },
     "execution_count": 15,
     "metadata": {},
     "output_type": "execute_result"
    }
   ],
   "source": [
    "iscanonical(c1, 10)"
   ]
  },
  {
   "cell_type": "markdown",
   "metadata": {},
   "source": [
    "4. Transformations"
   ]
  },
  {
   "cell_type": "code",
   "execution_count": 16,
   "metadata": {
    "tags": []
   },
   "outputs": [
    {
     "name": "stdout",
     "output_type": "stream",
     "text": [
      "(1 ⋁ 2)\n",
      "((1 ⋀ (2 ⋁ -2)) ⋁ (2 ⋀ (1 ⋁ -1)))\n"
     ]
    }
   ],
   "source": [
    "c2 = lit1 | lit2\n",
    "issmooth(c2)\n",
    "println(tree_formula_string(c2))\n",
    "println(tree_formula_string(smooth(c2)))"
   ]
  },
  {
   "cell_type": "code",
   "execution_count": 17,
   "metadata": {
    "tags": []
   },
   "outputs": [
    {
     "name": "stdout",
     "output_type": "stream",
     "text": [
      "(1 ⋁ 2)\n",
      "(true ⋁ 2)\n"
     ]
    }
   ],
   "source": [
    "c3 = lit1 | lit2\n",
    "c4 = forget(c3, x -> x == 1)\n",
    "println(tree_formula_string(c3))\n",
    "println(tree_formula_string(c4))"
   ]
  },
  {
   "cell_type": "code",
   "execution_count": 18,
   "metadata": {
    "tags": []
   },
   "outputs": [
    {
     "name": "stdout",
     "output_type": "stream",
     "text": [
      "((-1 ⋀ -2 ⋀ true) ⋁ (true ⋀ 2 ⋀ false))\n",
      "((-1 ⋀ -2))\n"
     ]
    }
   ],
   "source": [
    "c5 = conjoin([litn1, litn2, true_node]) | conjoin([true_node, lit2, compile(PlainLogicCircuit, false)])\n",
    "println(tree_formula_string(c5))\n",
    "println(tree_formula_string(propagate_constants(c5)))"
   ]
  },
  {
   "cell_type": "code",
   "execution_count": 19,
   "metadata": {
    "tags": []
   },
   "outputs": [
    {
     "name": "stdout",
     "output_type": "stream",
     "text": [
      "((1 ⋁ -1) ⋀ (2 ⋁ -2))\n",
      "(1 ⋀ (2 ⋁ -2))\n"
     ]
    }
   ],
   "source": [
    "c6 = (lit1 | litn1) & (lit2 | litn2)\n",
    "println(tree_formula_string(c6))\n",
    "c7 = condition(c6, Lit(1))\n",
    "println(tree_formula_string(c7))"
   ]
  },
  {
   "cell_type": "code",
   "execution_count": 20,
   "metadata": {
    "tags": []
   },
   "outputs": [
    {
     "name": "stdout",
     "output_type": "stream",
     "text": [
      "(((1 ⋁ -1) ⋀ (2 ⋁ -2)))\n",
      "(((1 ⋁ -1) ⋀ 2) ⋁ ((1 ⋁ -1) ⋀ -2))\n"
     ]
    }
   ],
   "source": [
    "c8 = disjoin([c6])\n",
    "c9, _ = split(c8, (c8, c8.children[1]), Var(2))\n",
    "println(tree_formula_string(c8))\n",
    "println(tree_formula_string(c9))"
   ]
  },
  {
   "cell_type": "code",
   "execution_count": 21,
   "metadata": {
    "tags": []
   },
   "outputs": [
    {
     "name": "stdout",
     "output_type": "stream",
     "text": [
      "(((1 ⋁ -1)) ⋁ ((1 ⋁ -1)))\n",
      "(((1 ⋁ -1)) ⋁ ((1 ⋁ -1)))\n",
      "6\n",
      "7\n"
     ]
    }
   ],
   "source": [
    "or = lit1 | litn1\n",
    "and1, and2 = conjoin([or]), conjoin([or])\n",
    "c10 = and1 | and2\n",
    "c11 = clone(c10, and1, and2, or)\n",
    "println(tree_formula_string(c10))\n",
    "println(tree_formula_string(c11))\n",
    "println(num_nodes(c10))\n",
    "println(num_nodes(c11))"
   ]
  },
  {
   "cell_type": "code",
   "execution_count": 22,
   "metadata": {
    "tags": []
   },
   "outputs": [
    {
     "name": "stdout",
     "output_type": "stream",
     "text": [
      "(((1 ⋁ (-1 ⋀ true)) ⋀ (1 ⋁ -1)))\n",
      "(((1 ⋁ -1) ⋀ (1 ⋁ -1)))\n"
     ]
    }
   ],
   "source": [
    "or1 = lit1 | (litn1 & true_node)\n",
    "or2 = lit1 | litn1\n",
    "c12 = disjoin([or1 & or2])\n",
    "c13 = merge(c12, or1, or2)\n",
    "println(tree_formula_string(c12))\n",
    "println(tree_formula_string(c13))"
   ]
  },
  {
   "cell_type": "code",
   "execution_count": 23,
   "metadata": {},
   "outputs": [
    {
     "data": {
      "text/plain": [
       "true"
      ]
     },
     "execution_count": 23,
     "metadata": {},
     "output_type": "execute_result"
    }
   ],
   "source": [
    "c12 = deepcopy(c11, typemax(Int))\n",
    "all(isliteralgate, intersect(linearize(c12), linearize(c11)))"
   ]
  },
  {
   "cell_type": "code",
   "execution_count": 24,
   "metadata": {
    "tags": []
   },
   "outputs": [
    {
     "name": "stdout",
     "output_type": "stream",
     "text": [
      "(((1 ⋁ -1) ⋀ (2 ⋁ -2) ⋀ (3 ⋁ -3) ⋀ (4 ⋁ -4) ⋀ (5 ⋁ -5)))\n",
      "((1 ⋀ -2 ⋀ -3 ⋀ -4 ⋀ (5 ⋁ -5)) ⋁ (-1 ⋀ -2 ⋀ -3 ⋀ -4 ⋀ (5 ⋁ -5)) ⋁ (1 ⋀ 2 ⋀ 3 ⋀ -4 ⋀ (5 ⋁ -5)) ⋁ (-1 ⋀ 2 ⋀ 3 ⋀ -4 ⋀ (5 ⋁ -5)) ⋁ (1 ⋀ 2 ⋀ 3 ⋀ 4 ⋀ (5 ⋁ -5)) ⋁ (-1 ⋀ 2 ⋀ 3 ⋀ 4 ⋀ (5 ⋁ -5)) ⋁ ((1 ⋁ -1) ⋀ -2 ⋀ -3 ⋀ 4 ⋀ (5 ⋁ -5)) ⋁ (1 ⋀ -2 ⋀ 3 ⋀ (4 ⋁ -4) ⋀ (5 ⋁ -5)) ⋁ (-1 ⋀ -2 ⋀ 3 ⋀ (4 ⋁ -4) ⋀ (5 ⋁ -5)) ⋁ (1 ⋀ 2 ⋀ -3 ⋀ (4 ⋁ -4) ⋀ (5 ⋁ -5)) ⋁ (-1 ⋀ 2 ⋀ -3 ⋀ (4 ⋁ -4) ⋀ (5 ⋁ -5)))\n"
     ]
    }
   ],
   "source": [
    "# struct learn \n",
    "c0 = fully_factorized_circuit(PlainLogicCircuit, 5)\n",
    "println(tree_formula_string(c0))\n",
    "c1 = struct_learn(c0, maxiter=10)\n",
    "println(tree_formula_string(c1))"
   ]
  },
  {
   "cell_type": "markdown",
   "metadata": {},
   "source": [
    "5. Queries"
   ]
  },
  {
   "cell_type": "code",
   "execution_count": 25,
   "metadata": {
    "tags": []
   },
   "outputs": [
    {
     "name": "stdout",
     "output_type": "stream",
     "text": [
      "(((1 ⋁ -1) ⋀ (2 ⋁ -2) ⋀ (3 ⋁ -3)))\n"
     ]
    },
    {
     "data": {
      "text/plain": [
       "1-element BitArray{1}:\n",
       " 1"
      ]
     },
     "execution_count": 25,
     "metadata": {},
     "output_type": "execute_result"
    }
   ],
   "source": [
    "using DataFrames\n",
    "r = fully_factorized_circuit(PlainLogicCircuit, 3)\n",
    "input = DataFrame(BitArray([1 0 1]))\n",
    "println(tree_formula_string(r))\n",
    "r(input)"
   ]
  },
  {
   "cell_type": "code",
   "execution_count": 26,
   "metadata": {},
   "outputs": [
    {
     "data": {
      "text/plain": [
       "8"
      ]
     },
     "execution_count": 26,
     "metadata": {},
     "output_type": "execute_result"
    }
   ],
   "source": [
    "model_count(r)"
   ]
  },
  {
   "cell_type": "code",
   "execution_count": 27,
   "metadata": {},
   "outputs": [
    {
     "data": {
      "text/plain": [
       "1//1"
      ]
     },
     "execution_count": 27,
     "metadata": {},
     "output_type": "execute_result"
    }
   ],
   "source": [
    "sat_prob(r)"
   ]
  },
  {
   "cell_type": "code",
   "execution_count": 28,
   "metadata": {},
   "outputs": [
    {
     "data": {
      "text/plain": [
       "Dict{Union{UInt32, Node},Array{Rational{BigInt},1}} with 14 entries:\n",
       "  PlainLiteralNode(9717145580426841028)  => Rational{BigInt}[6570//6571]\n",
       "  0x00000002                             => Rational{BigInt}[1//5348]\n",
       "  PlainLiteralNode(17302982585874176582) => Rational{BigInt}[1//5348]\n",
       "  PlainLiteralNode(2302487501762443527)  => Rational{BigInt}[1//6571]\n",
       "  PlainLiteralNode(3670243649522944203)  => Rational{BigInt}[5347//5348]\n",
       "  Plain⋀Node(11863762494823991312)       => Rational{BigInt}[1//1]\n",
       "  Plain⋁Node(3432184517696092499)        => Rational{BigInt}[1//1]\n",
       "  Plain⋁Node(9157160399648451416)        => Rational{BigInt}[1//1]\n",
       "  Plain⋁Node(10383250449938666906)       => Rational{BigInt}[1//1]\n",
       "  Plain⋁Node(12716246322367834782)       => Rational{BigInt}[1//1]\n",
       "  0x00000003                             => Rational{BigInt}[1//1568]\n",
       "  PlainLiteralNode(8676723560986193910)  => Rational{BigInt}[1567//1568]\n",
       "  PlainLiteralNode(16140241248468807097) => Rational{BigInt}[1//1568]\n",
       "  0x00000001                             => Rational{BigInt}[1//6571]"
      ]
     },
     "execution_count": 28,
     "metadata": {},
     "output_type": "execute_result"
    }
   ],
   "source": [
    "prob_equiv_signature(r, 1)"
   ]
  },
  {
   "cell_type": "markdown",
   "metadata": {},
   "source": [
    "6. Visulizations"
   ]
  },
  {
   "cell_type": "code",
   "execution_count": 29,
   "metadata": {
    "tags": []
   },
   "outputs": [],
   "source": [
    "using TikzGraphs\n",
    "using LightGraphs:DiGraph"
   ]
  },
  {
   "cell_type": "code",
   "execution_count": 30,
   "metadata": {},
   "outputs": [
    {
     "data": {
      "image/svg+xml": [
       "<?xml version=\"1.0\" encoding=\"UTF-8\"?>\n",
       "<svg xmlns=\"http://www.w3.org/2000/svg\" xmlns:xlink=\"http://www.w3.org/1999/xlink\" width=\"226.711pt\" height=\"123.982pt\" viewBox=\"0 0 226.711 123.982\" version=\"1.2\">\n",
       "<defs>\n",
       "<g>\n",
       "<symbol overflow=\"visible\" id=\"glyph-1600136556647674-0-0\">\n",
       "<path style=\"stroke:none;\" d=\"\"/>\n",
       "</symbol>\n",
       "<symbol overflow=\"visible\" id=\"glyph-1600136556647674-0-1\">\n",
       "<path style=\"stroke:none;\" d=\"M 4.171875 0 L 4.171875 -0.3125 L 3.859375 -0.3125 C 2.953125 -0.3125 2.921875 -0.421875 2.921875 -0.78125 L 2.921875 -6.375 C 2.921875 -6.609375 2.921875 -6.625 2.703125 -6.625 C 2.078125 -5.984375 1.203125 -5.984375 0.890625 -5.984375 L 0.890625 -5.6875 C 1.078125 -5.6875 1.671875 -5.6875 2.1875 -5.9375 L 2.1875 -0.78125 C 2.1875 -0.421875 2.15625 -0.3125 1.265625 -0.3125 L 0.953125 -0.3125 L 0.953125 0 C 1.296875 -0.03125 2.15625 -0.03125 2.5625 -0.03125 C 2.953125 -0.03125 3.828125 -0.03125 4.171875 0 Z M 4.171875 0 \"/>\n",
       "</symbol>\n",
       "<symbol overflow=\"visible\" id=\"glyph-1600136556647674-0-2\">\n",
       "<path style=\"stroke:none;\" d=\"M 4.46875 -1.734375 L 4.21875 -1.734375 C 4.171875 -1.4375 4.09375 -1 4 -0.84375 C 3.9375 -0.765625 3.28125 -0.765625 3.0625 -0.765625 L 1.265625 -0.765625 L 2.3125 -1.796875 C 3.875 -3.171875 4.46875 -3.703125 4.46875 -4.703125 C 4.46875 -5.828125 3.578125 -6.625 2.359375 -6.625 C 1.234375 -6.625 0.5 -5.71875 0.5 -4.828125 C 0.5 -4.265625 1 -4.265625 1.03125 -4.265625 C 1.1875 -4.265625 1.546875 -4.390625 1.546875 -4.796875 C 1.546875 -5.0625 1.359375 -5.3125 1.015625 -5.3125 C 0.9375 -5.3125 0.921875 -5.3125 0.890625 -5.3125 C 1.109375 -5.953125 1.65625 -6.3125 2.234375 -6.3125 C 3.140625 -6.3125 3.5625 -5.515625 3.5625 -4.703125 C 3.5625 -3.90625 3.0625 -3.109375 2.515625 -2.5 L 0.609375 -0.375 C 0.5 -0.265625 0.5 -0.234375 0.5 0 L 4.1875 0 Z M 4.46875 -1.734375 \"/>\n",
       "</symbol>\n",
       "<symbol overflow=\"visible\" id=\"glyph-1600136556647674-0-3\">\n",
       "<path style=\"stroke:none;\" d=\"M 4.546875 -1.703125 C 4.546875 -2.515625 3.921875 -3.296875 2.890625 -3.5 C 3.703125 -3.765625 4.28125 -4.46875 4.28125 -5.25 C 4.28125 -6.078125 3.40625 -6.625 2.453125 -6.625 C 1.4375 -6.625 0.6875 -6.03125 0.6875 -5.28125 C 0.6875 -4.953125 0.90625 -4.75 1.1875 -4.75 C 1.5 -4.75 1.703125 -4.96875 1.703125 -5.265625 C 1.703125 -5.765625 1.234375 -5.765625 1.078125 -5.765625 C 1.390625 -6.25 2.046875 -6.375 2.40625 -6.375 C 2.8125 -6.375 3.359375 -6.15625 3.359375 -5.265625 C 3.359375 -5.140625 3.34375 -4.5625 3.078125 -4.125 C 2.78125 -3.65625 2.453125 -3.625 2.203125 -3.609375 C 2.125 -3.609375 1.875 -3.578125 1.8125 -3.578125 C 1.734375 -3.578125 1.65625 -3.5625 1.65625 -3.46875 C 1.65625 -3.359375 1.734375 -3.359375 1.90625 -3.359375 L 2.34375 -3.359375 C 3.15625 -3.359375 3.515625 -2.671875 3.515625 -1.703125 C 3.515625 -0.34375 2.84375 -0.0625 2.40625 -0.0625 C 1.96875 -0.0625 1.21875 -0.234375 0.875 -0.8125 C 1.21875 -0.765625 1.53125 -0.984375 1.53125 -1.359375 C 1.53125 -1.71875 1.265625 -1.921875 0.96875 -1.921875 C 0.734375 -1.921875 0.421875 -1.78125 0.421875 -1.34375 C 0.421875 -0.4375 1.34375 0.21875 2.421875 0.21875 C 3.640625 0.21875 4.546875 -0.6875 4.546875 -1.703125 Z M 4.546875 -1.703125 \"/>\n",
       "</symbol>\n",
       "<symbol overflow=\"visible\" id=\"glyph-1600136556647674-0-4\">\n",
       "<path style=\"stroke:none;\" d=\"M 4.6875 -1.640625 L 4.6875 -1.953125 L 3.6875 -1.953125 L 3.6875 -6.484375 C 3.6875 -6.671875 3.6875 -6.734375 3.53125 -6.734375 C 3.4375 -6.734375 3.40625 -6.734375 3.328125 -6.625 L 0.28125 -1.953125 L 0.28125 -1.640625 L 2.921875 -1.640625 L 2.921875 -0.78125 C 2.921875 -0.421875 2.90625 -0.3125 2.171875 -0.3125 L 1.953125 -0.3125 L 1.953125 0 C 2.375 -0.03125 2.890625 -0.03125 3.296875 -0.03125 C 3.71875 -0.03125 4.25 -0.03125 4.65625 0 L 4.65625 -0.3125 L 4.453125 -0.3125 C 3.71875 -0.3125 3.6875 -0.421875 3.6875 -0.78125 L 3.6875 -1.640625 Z M 2.984375 -1.953125 L 0.5625 -1.953125 L 2.984375 -5.65625 Z M 2.984375 -1.953125 \"/>\n",
       "</symbol>\n",
       "<symbol overflow=\"visible\" id=\"glyph-1600136556647674-0-5\">\n",
       "<path style=\"stroke:none;\" d=\"M 4.46875 -2 C 4.46875 -3.1875 3.65625 -4.1875 2.578125 -4.1875 C 2.09375 -4.1875 1.671875 -4.015625 1.3125 -3.671875 L 1.3125 -5.609375 C 1.515625 -5.546875 1.84375 -5.484375 2.15625 -5.484375 C 3.390625 -5.484375 4.078125 -6.390625 4.078125 -6.515625 C 4.078125 -6.578125 4.046875 -6.625 3.984375 -6.625 C 3.984375 -6.625 3.953125 -6.625 3.90625 -6.59375 C 3.703125 -6.515625 3.21875 -6.3125 2.546875 -6.3125 C 2.15625 -6.3125 1.6875 -6.375 1.21875 -6.59375 C 1.140625 -6.625 1.109375 -6.625 1.109375 -6.625 C 1 -6.625 1 -6.546875 1 -6.375 L 1 -3.4375 C 1 -3.25 1 -3.171875 1.140625 -3.171875 C 1.21875 -3.171875 1.234375 -3.203125 1.28125 -3.265625 C 1.390625 -3.421875 1.75 -3.96875 2.5625 -3.96875 C 3.078125 -3.96875 3.328125 -3.5 3.40625 -3.328125 C 3.5625 -2.953125 3.578125 -2.5625 3.578125 -2.0625 C 3.578125 -1.71875 3.578125 -1.125 3.34375 -0.703125 C 3.109375 -0.3125 2.734375 -0.0625 2.28125 -0.0625 C 1.546875 -0.0625 0.984375 -0.59375 0.8125 -1.171875 C 0.84375 -1.171875 0.875 -1.15625 0.984375 -1.15625 C 1.3125 -1.15625 1.484375 -1.40625 1.484375 -1.640625 C 1.484375 -1.875 1.3125 -2.125 0.984375 -2.125 C 0.84375 -2.125 0.5 -2.0625 0.5 -1.609375 C 0.5 -0.75 1.1875 0.21875 2.296875 0.21875 C 3.453125 0.21875 4.46875 -0.734375 4.46875 -2 Z M 4.46875 -2 \"/>\n",
       "</symbol>\n",
       "<symbol overflow=\"visible\" id=\"glyph-1600136556647674-0-6\">\n",
       "<path style=\"stroke:none;\" d=\"M 4.546875 -2.03125 C 4.546875 -3.296875 3.65625 -4.25 2.5625 -4.25 C 1.875 -4.25 1.515625 -3.75 1.3125 -3.265625 L 1.3125 -3.5 C 1.3125 -6.015625 2.546875 -6.375 3.0625 -6.375 C 3.296875 -6.375 3.71875 -6.3125 3.9375 -5.984375 C 3.78125 -5.984375 3.390625 -5.984375 3.390625 -5.53125 C 3.390625 -5.21875 3.625 -5.078125 3.84375 -5.078125 C 4 -5.078125 4.296875 -5.171875 4.296875 -5.546875 C 4.296875 -6.15625 3.859375 -6.625 3.03125 -6.625 C 1.765625 -6.625 0.421875 -5.34375 0.421875 -3.140625 C 0.421875 -0.484375 1.578125 0.21875 2.5 0.21875 C 3.609375 0.21875 4.546875 -0.71875 4.546875 -2.03125 Z M 3.65625 -2.046875 C 3.65625 -1.5625 3.65625 -1.0625 3.484375 -0.703125 C 3.1875 -0.109375 2.734375 -0.0625 2.5 -0.0625 C 1.875 -0.0625 1.578125 -0.65625 1.515625 -0.8125 C 1.328125 -1.28125 1.328125 -2.0625 1.328125 -2.25 C 1.328125 -3.03125 1.65625 -4.015625 2.546875 -4.015625 C 2.703125 -4.015625 3.171875 -4.015625 3.46875 -3.40625 C 3.65625 -3.03125 3.65625 -2.53125 3.65625 -2.046875 Z M 3.65625 -2.046875 \"/>\n",
       "</symbol>\n",
       "<symbol overflow=\"visible\" id=\"glyph-1600136556647674-0-7\">\n",
       "<path style=\"stroke:none;\" d=\"M 4.828125 -6.40625 L 2.40625 -6.40625 C 1.1875 -6.40625 1.171875 -6.546875 1.140625 -6.734375 L 0.890625 -6.734375 L 0.5625 -4.671875 L 0.8125 -4.671875 C 0.84375 -4.84375 0.921875 -5.46875 1.0625 -5.578125 C 1.125 -5.640625 1.90625 -5.640625 2.03125 -5.640625 L 4.09375 -5.640625 L 2.96875 -4.078125 C 2.078125 -2.734375 1.75 -1.34375 1.75 -0.328125 C 1.75 -0.234375 1.75 0.21875 2.203125 0.21875 C 2.671875 0.21875 2.671875 -0.234375 2.671875 -0.328125 L 2.671875 -0.84375 C 2.671875 -1.390625 2.703125 -1.9375 2.78125 -2.46875 C 2.8125 -2.703125 2.953125 -3.546875 3.390625 -4.171875 L 4.734375 -6.0625 C 4.828125 -6.1875 4.828125 -6.203125 4.828125 -6.40625 Z M 4.828125 -6.40625 \"/>\n",
       "</symbol>\n",
       "<symbol overflow=\"visible\" id=\"glyph-1600136556647674-0-8\">\n",
       "<path style=\"stroke:none;\" d=\"M 4.546875 -1.671875 C 4.546875 -2.03125 4.4375 -2.484375 4.0625 -2.890625 C 3.875 -3.109375 3.71875 -3.203125 3.078125 -3.609375 C 3.796875 -3.96875 4.28125 -4.484375 4.28125 -5.140625 C 4.28125 -6.0625 3.390625 -6.625 2.484375 -6.625 C 1.5 -6.625 0.6875 -5.890625 0.6875 -4.96875 C 0.6875 -4.78125 0.703125 -4.34375 1.125 -3.875 C 1.234375 -3.75 1.609375 -3.5 1.84375 -3.328125 C 1.28125 -3.046875 0.421875 -2.484375 0.421875 -1.5 C 0.421875 -0.453125 1.4375 0.21875 2.484375 0.21875 C 3.609375 0.21875 4.546875 -0.609375 4.546875 -1.671875 Z M 3.84375 -5.140625 C 3.84375 -4.578125 3.453125 -4.09375 2.859375 -3.75 L 1.625 -4.546875 C 1.171875 -4.84375 1.125 -5.1875 1.125 -5.359375 C 1.125 -5.96875 1.765625 -6.375 2.484375 -6.375 C 3.203125 -6.375 3.84375 -5.859375 3.84375 -5.140625 Z M 4.046875 -1.3125 C 4.046875 -0.578125 3.296875 -0.0625 2.484375 -0.0625 C 1.625 -0.0625 0.921875 -0.671875 0.921875 -1.5 C 0.921875 -2.078125 1.234375 -2.71875 2.078125 -3.1875 L 3.296875 -2.40625 C 3.578125 -2.21875 4.046875 -1.921875 4.046875 -1.3125 Z M 4.046875 -1.3125 \"/>\n",
       "</symbol>\n",
       "<symbol overflow=\"visible\" id=\"glyph-1600136556647674-0-9\">\n",
       "<path style=\"stroke:none;\" d=\"M 4.546875 -3.28125 C 4.546875 -5.953125 3.40625 -6.625 2.515625 -6.625 C 1.96875 -6.625 1.484375 -6.453125 1.0625 -6 C 0.640625 -5.546875 0.421875 -5.140625 0.421875 -4.390625 C 0.421875 -3.140625 1.296875 -2.171875 2.40625 -2.171875 C 3.015625 -2.171875 3.421875 -2.59375 3.65625 -3.171875 L 3.65625 -2.84375 C 3.65625 -0.515625 2.625 -0.0625 2.046875 -0.0625 C 1.875 -0.0625 1.328125 -0.078125 1.0625 -0.421875 C 1.5 -0.421875 1.578125 -0.703125 1.578125 -0.875 C 1.578125 -1.1875 1.34375 -1.328125 1.125 -1.328125 C 0.96875 -1.328125 0.671875 -1.25 0.671875 -0.859375 C 0.671875 -0.1875 1.203125 0.21875 2.046875 0.21875 C 3.328125 0.21875 4.546875 -1.140625 4.546875 -3.28125 Z M 3.640625 -4.1875 C 3.640625 -3.359375 3.296875 -2.40625 2.421875 -2.40625 C 2.265625 -2.40625 1.796875 -2.40625 1.5 -3.03125 C 1.3125 -3.390625 1.3125 -3.890625 1.3125 -4.375 C 1.3125 -4.921875 1.3125 -5.390625 1.515625 -5.75 C 1.796875 -6.25 2.171875 -6.375 2.515625 -6.375 C 2.96875 -6.375 3.296875 -6.046875 3.46875 -5.59375 C 3.59375 -5.28125 3.640625 -4.640625 3.640625 -4.1875 Z M 3.640625 -4.1875 \"/>\n",
       "</symbol>\n",
       "<symbol overflow=\"visible\" id=\"glyph-1600136556647674-0-10\">\n",
       "<path style=\"stroke:none;\" d=\"M 4.578125 -3.1875 C 4.578125 -3.984375 4.53125 -4.78125 4.1875 -5.515625 C 3.71875 -6.46875 2.90625 -6.625 2.484375 -6.625 C 1.890625 -6.625 1.171875 -6.375 0.75 -5.4375 C 0.4375 -4.75 0.390625 -3.984375 0.390625 -3.1875 C 0.390625 -2.4375 0.421875 -1.546875 0.84375 -0.78125 C 1.265625 0.015625 1.984375 0.21875 2.484375 0.21875 C 3.015625 0.21875 3.765625 0.015625 4.203125 -0.9375 C 4.53125 -1.625 4.578125 -2.40625 4.578125 -3.1875 Z M 3.75 -3.296875 C 3.75 -2.5625 3.75 -1.875 3.640625 -1.25 C 3.5 -0.296875 2.921875 0 2.484375 0 C 2.09375 0 1.5 -0.25 1.328125 -1.203125 C 1.21875 -1.796875 1.21875 -2.71875 1.21875 -3.296875 C 1.21875 -3.9375 1.21875 -4.59375 1.296875 -5.140625 C 1.484375 -6.3125 2.234375 -6.40625 2.484375 -6.40625 C 2.8125 -6.40625 3.46875 -6.234375 3.65625 -5.25 C 3.75 -4.6875 3.75 -3.9375 3.75 -3.296875 Z M 3.75 -3.296875 \"/>\n",
       "</symbol>\n",
       "<symbol overflow=\"visible\" id=\"glyph-1600136556647674-0-11\">\n",
       "<path style=\"stroke:none;\" d=\"M 1.90625 -0.53125 C 1.90625 -0.8125 1.671875 -1.0625 1.390625 -1.0625 C 1.09375 -1.0625 0.859375 -0.8125 0.859375 -0.53125 C 0.859375 -0.234375 1.09375 0 1.390625 0 C 1.671875 0 1.90625 -0.234375 1.90625 -0.53125 Z M 1.90625 -0.53125 \"/>\n",
       "</symbol>\n",
       "</g>\n",
       "</defs>\n",
       "<g id=\"surface1\">\n",
       "<path style=\"fill:none;stroke-width:0.3985;stroke-linecap:butt;stroke-linejoin:miter;stroke:rgb(0%,0%,0%);stroke-opacity:1;stroke-miterlimit:10;\" d=\"M 83.016933 80.990849 L 73.094144 61.153093 \" transform=\"matrix(0.998727,0,0,-0.998727,5.803602,88.844768)\"/>\n",
       "<path style=\"fill:none;stroke-width:0.31879;stroke-linecap:round;stroke-linejoin:round;stroke:rgb(0%,0%,0%);stroke-opacity:1;stroke-miterlimit:10;\" d=\"M -1.197321 1.594788 C -1.095867 0.998278 0.000932158 0.0991312 0.300061 -0.000581292 C -0.000818904 -0.0985391 -1.095885 -0.995917 -1.1956 -1.592426 \" transform=\"matrix(-0.446601,0.893221,0.893221,0.446601,78.806401,27.771302)\"/>\n",
       "<path style=\"fill:none;stroke-width:0.3985;stroke-linecap:butt;stroke-linejoin:miter;stroke:rgb(0%,0%,0%);stroke-opacity:1;stroke-miterlimit:10;\" d=\"M 89.087161 80.990849 L 109.014876 61.067046 \" transform=\"matrix(0.998727,0,0,-0.998727,5.803602,88.844768)\"/>\n",
       "<path style=\"fill:none;stroke-width:0.31879;stroke-linecap:round;stroke-linejoin:round;stroke:rgb(0%,0%,0%);stroke-opacity:1;stroke-miterlimit:10;\" d=\"M -1.196189 1.593819 C -1.096625 0.996432 -0.00141425 0.10035 0.29728 0.000785639 C -0.00141425 -0.098779 -1.096625 -0.99486 -1.196189 -1.592248 \" transform=\"matrix(0.7062,0.7062,0.7062,-0.7062,114.680131,27.857022)\"/>\n",
       "<path style=\"fill:none;stroke-width:0.3985;stroke-linecap:butt;stroke-linejoin:miter;stroke:rgb(0%,0%,0%);stroke-opacity:1;stroke-miterlimit:10;\" d=\"M 65.963972 53.424503 L 33.633749 31.869717 \" transform=\"matrix(0.998727,0,0,-0.998727,5.803602,88.844768)\"/>\n",
       "<path style=\"fill:none;stroke-width:0.31879;stroke-linecap:round;stroke-linejoin:round;stroke:rgb(0%,0%,0%);stroke-opacity:1;stroke-miterlimit:10;\" d=\"M -1.195752 1.592856 C -1.095944 0.995118 -0.000262411 0.100147 0.29915 -0.00073963 C -0.000260768 -0.0972916 -1.098097 -0.996621 -1.195726 -1.594361 \" transform=\"matrix(-0.830961,0.553964,0.553964,0.830961,39.393523,57.014584)\"/>\n",
       "<path style=\"fill:none;stroke-width:0.3985;stroke-linecap:butt;stroke-linejoin:miter;stroke:rgb(0%,0%,0%);stroke-opacity:1;stroke-miterlimit:10;\" d=\"M 70.868654 52.646168 L 70.868654 32.851436 \" transform=\"matrix(0.998727,0,0,-0.998727,5.803602,88.844768)\"/>\n",
       "<path style=\"fill:none;stroke-width:0.31879;stroke-linecap:round;stroke-linejoin:round;stroke:rgb(0%,0%,0%);stroke-opacity:1;stroke-miterlimit:10;\" d=\"M -1.195352 1.593525 C -1.097571 0.995107 0.00148403 0.099435 0.298737 0.00165425 C 0.00148403 -0.100038 -1.097571 -0.995709 -1.195352 -1.594127 \" transform=\"matrix(0,0.998727,0.998727,0,76.580379,56.033674)\"/>\n",
       "<path style=\"fill:none;stroke-width:0.3985;stroke-linecap:butt;stroke-linejoin:miter;stroke:rgb(0%,0%,0%);stroke-opacity:1;stroke-miterlimit:10;\" d=\"M 24.297645 24.297577 L 6.333368 6.3333 \" transform=\"matrix(0.998727,0,0,-0.998727,5.803602,88.844768)\"/>\n",
       "<path style=\"fill:none;stroke-width:0.31879;stroke-linecap:round;stroke-linejoin:round;stroke:rgb(0%,0%,0%);stroke-opacity:1;stroke-miterlimit:10;\" d=\"M -1.195821 1.595847 C -1.096256 0.99846 0.00172 0.0996124 0.300414 0.0000477941 C 0.00172 -0.0995168 -1.096256 -0.998364 -1.195821 -1.595752 \" transform=\"matrix(-0.7062,0.7062,0.7062,0.7062,12.130087,82.518283)\"/>\n",
       "<path style=\"fill:none;stroke-width:0.3985;stroke-linecap:butt;stroke-linejoin:miter;stroke:rgb(0%,0%,0%);stroke-opacity:1;stroke-miterlimit:10;\" d=\"M 28.345767 24.297577 L 28.345767 7.295462 \" transform=\"matrix(0.998727,0,0,-0.998727,5.803602,88.844768)\"/>\n",
       "<path style=\"fill:none;stroke-width:0.31879;stroke-linecap:round;stroke-linejoin:round;stroke:rgb(0%,0%,0%);stroke-opacity:1;stroke-miterlimit:10;\" d=\"M -1.196599 1.594749 C -1.094907 0.996331 0.000237553 0.100659 0.297491 -0.00103282 C 0.000237553 -0.0988136 -1.094907 -0.994485 -1.196599 -1.592903 \" transform=\"matrix(0,0.998727,0.998727,0,34.114313,81.558356)\"/>\n",
       "<path style=\"fill:none;stroke-width:0.3985;stroke-linecap:butt;stroke-linejoin:miter;stroke:rgb(0%,0%,0%);stroke-opacity:1;stroke-miterlimit:10;\" d=\"M 68.842637 24.297577 L 60.370914 7.358042 \" transform=\"matrix(0.998727,0,0,-0.998727,5.803602,88.844768)\"/>\n",
       "<path style=\"fill:none;stroke-width:0.31879;stroke-linecap:round;stroke-linejoin:round;stroke:rgb(0%,0%,0%);stroke-opacity:1;stroke-miterlimit:10;\" d=\"M -1.195272 1.592078 C -1.093818 0.995567 0.00123204 0.0999189 0.30036 0.00020648 C -0.000519021 -0.0977513 -1.095585 -0.995129 -1.193551 -1.595137 \" transform=\"matrix(-0.446601,0.893221,0.893221,0.446601,66.098801,81.497244)\"/>\n",
       "<path style=\"fill:none;stroke-width:0.3985;stroke-linecap:butt;stroke-linejoin:miter;stroke:rgb(0%,0%,0%);stroke-opacity:1;stroke-miterlimit:10;\" d=\"M 72.89076 24.297577 L 82.809638 4.45591 \" transform=\"matrix(0.998727,0,0,-0.998727,5.803602,88.844768)\"/>\n",
       "<path style=\"fill:none;stroke-width:0.31879;stroke-linecap:round;stroke-linejoin:round;stroke:rgb(0%,0%,0%);stroke-opacity:1;stroke-miterlimit:10;\" d=\"M -1.195768 1.592826 C -1.096052 0.996317 -0.000986176 0.0989391 0.299893 0.000981299 C 0.000764886 -0.0987311 -1.096035 -0.997878 -1.197488 -1.594388 \" transform=\"matrix(0.446601,0.893221,0.893221,-0.446601,88.509722,84.392723)\"/>\n",
       "<path style=\"fill:none;stroke-width:0.3985;stroke-linecap:butt;stroke-linejoin:miter;stroke:rgb(0%,0%,0%);stroke-opacity:1;stroke-miterlimit:10;\" d=\"M 83.016933 -4.047103 L 74.517831 -21.045306 \" transform=\"matrix(0.998727,0,0,-0.998727,5.803602,88.844768)\"/>\n",
       "<path style=\"fill:none;stroke-width:0.31879;stroke-linecap:round;stroke-linejoin:round;stroke:rgb(0%,0%,0%);stroke-opacity:1;stroke-miterlimit:10;\" d=\"M -1.194122 1.593689 C -1.096167 0.995429 -0.00111707 0.099781 0.298011 0.0000685373 C -0.00111887 -0.101388 -1.097934 -0.995267 -1.1959 -1.595274 \" transform=\"matrix(-0.446601,0.893221,0.893221,0.446601,80.226781,109.862686)\"/>\n",
       "<path style=\"fill:none;stroke-width:0.3985;stroke-linecap:butt;stroke-linejoin:miter;stroke:rgb(0%,0%,0%);stroke-opacity:1;stroke-miterlimit:10;\" d=\"M 87.065056 -4.047103 L 95.536779 -20.990549 \" transform=\"matrix(0.998727,0,0,-0.998727,5.803602,88.844768)\"/>\n",
       "<path style=\"fill:none;stroke-width:0.31879;stroke-linecap:round;stroke-linejoin:round;stroke:rgb(0%,0%,0%);stroke-opacity:1;stroke-miterlimit:10;\" d=\"M -1.197079 1.592821 C -1.097364 0.996313 -0.00229763 0.0989346 0.298582 0.000976815 C -0.000546568 -0.0987356 -1.095597 -0.994384 -1.195301 -1.596142 \" transform=\"matrix(0.446601,0.893221,0.893221,-0.446601,101.217343,109.807955)\"/>\n",
       "<path style=\"fill:none;stroke-width:0.3985;stroke-linecap:butt;stroke-linejoin:miter;stroke:rgb(0%,0%,0%);stroke-opacity:1;stroke-miterlimit:10;\" d=\"M 113.38763 52.646168 L 113.38763 32.851436 \" transform=\"matrix(0.998727,0,0,-0.998727,5.803602,88.844768)\"/>\n",
       "<path style=\"fill:none;stroke-width:0.31879;stroke-linecap:round;stroke-linejoin:round;stroke:rgb(0%,0%,0%);stroke-opacity:1;stroke-miterlimit:10;\" d=\"M -1.195352 1.59228 C -1.097571 0.997774 0.00148403 0.0981908 0.298737 0.000410084 C 0.00148403 -0.101282 -1.097571 -0.996953 -1.195352 -1.595372 \" transform=\"matrix(0,0.998727,0.998727,0,119.046465,56.033674)\"/>\n",
       "<path style=\"fill:none;stroke-width:0.3985;stroke-linecap:butt;stroke-linejoin:miter;stroke:rgb(0%,0%,0%);stroke-opacity:1;stroke-miterlimit:10;\" d=\"M 118.292312 54.24195 L 164.765541 31.005336 \" transform=\"matrix(0.998727,0,0,-0.998727,5.803602,88.844768)\"/>\n",
       "<path style=\"fill:none;stroke-width:0.31879;stroke-linecap:round;stroke-linejoin:round;stroke:rgb(0%,0%,0%);stroke-opacity:1;stroke-miterlimit:10;\" d=\"M -1.196003 1.594419 C -1.09455 0.997909 0.00224977 0.0987619 0.299629 0.00254809 C 0.000498711 -0.0989083 -1.094568 -0.996286 -1.194283 -1.592795 \" transform=\"matrix(0.893221,0.446601,0.446601,-0.893221,170.360133,57.88018)\"/>\n",
       "<path style=\"fill:none;stroke-width:0.3985;stroke-linecap:butt;stroke-linejoin:miter;stroke:rgb(0%,0%,0%);stroke-opacity:1;stroke-miterlimit:10;\" d=\"M 113.38763 24.297577 L 113.38763 7.404977 \" transform=\"matrix(0.998727,0,0,-0.998727,5.803602,88.844768)\"/>\n",
       "<path style=\"fill:none;stroke-width:0.31879;stroke-linecap:round;stroke-linejoin:round;stroke:rgb(0%,0%,0%);stroke-opacity:1;stroke-miterlimit:10;\" d=\"M -1.196523 1.59228 C -1.094831 0.997774 0.000313127 0.0981908 0.297567 0.000410084 C 0.000313127 -0.101282 -1.094831 -0.996953 -1.196523 -1.595372 \" transform=\"matrix(0,0.998727,0.998727,0,119.046465,81.448906)\"/>\n",
       "<path style=\"fill:none;stroke-width:0.3985;stroke-linecap:butt;stroke-linejoin:miter;stroke:rgb(0%,0%,0%);stroke-opacity:1;stroke-miterlimit:10;\" d=\"M 117.435753 24.297577 L 135.40003 6.3333 \" transform=\"matrix(0.998727,0,0,-0.998727,5.803602,88.844768)\"/>\n",
       "<path style=\"fill:none;stroke-width:0.31879;stroke-linecap:round;stroke-linejoin:round;stroke:rgb(0%,0%,0%);stroke-opacity:1;stroke-miterlimit:10;\" d=\"M -1.196254 1.595318 C -1.09669 0.997931 0.00128673 0.0990835 0.299981 -0.000481069 C 0.00128673 -0.100046 -1.093924 -0.996127 -1.193489 -1.593515 \" transform=\"matrix(0.7062,0.7062,0.7062,-0.7062,141.030681,82.518283)\"/>\n",
       "<path style=\"fill:none;stroke-width:0.3985;stroke-linecap:butt;stroke-linejoin:miter;stroke:rgb(0%,0%,0%);stroke-opacity:1;stroke-miterlimit:10;\" d=\"M 170.080902 24.297577 L 170.080902 7.404977 \" transform=\"matrix(0.998727,0,0,-0.998727,5.803602,88.844768)\"/>\n",
       "<path style=\"fill:none;stroke-width:0.31879;stroke-linecap:round;stroke-linejoin:round;stroke:rgb(0%,0%,0%);stroke-opacity:1;stroke-miterlimit:10;\" d=\"M -1.196523 1.595843 C -1.094831 0.997425 0.000313127 0.0978423 0.297567 0.0000616115 C 0.000313127 -0.0977191 -1.094831 -0.997302 -1.196523 -1.59572 \" transform=\"matrix(0,0.998727,0.998727,0,175.667907,81.448906)\"/>\n",
       "<path style=\"fill:none;stroke-width:0.3985;stroke-linecap:butt;stroke-linejoin:miter;stroke:rgb(0%,0%,0%);stroke-opacity:1;stroke-miterlimit:10;\" d=\"M 174.129024 24.297577 L 194.056738 4.373774 \" transform=\"matrix(0.998727,0,0,-0.998727,5.803602,88.844768)\"/>\n",
       "<path style=\"fill:none;stroke-width:0.31879;stroke-linecap:round;stroke-linejoin:round;stroke:rgb(0%,0%,0%);stroke-opacity:1;stroke-miterlimit:10;\" d=\"M -1.195416 1.595058 C -1.095851 0.99767 -0.000640362 0.101589 0.300819 -0.000741621 C -0.000640362 -0.0975405 -1.095851 -0.993622 -1.195416 -1.596541 \" transform=\"matrix(0.7062,0.7062,0.7062,-0.7062,199.612304,84.478444)\"/>\n",
       "<path style=\"fill:none;stroke-width:0.3985;stroke-linecap:butt;stroke-linejoin:miter;stroke:rgb(0%,0%,0%);stroke-opacity:1;stroke-miterlimit:10;\" d=\"M 196.403476 -4.047103 L 187.931753 -20.990549 \" transform=\"matrix(0.998727,0,0,-0.998727,5.803602,88.844768)\"/>\n",
       "<path style=\"fill:none;stroke-width:0.31879;stroke-linecap:round;stroke-linejoin:round;stroke:rgb(0%,0%,0%);stroke-opacity:1;stroke-miterlimit:10;\" d=\"M -1.193758 1.593057 C -1.095803 0.994797 -0.000753057 0.0991486 0.298375 -0.000563827 C -0.000754856 -0.10202 -1.09757 -0.9959 -1.195536 -1.595907 \" transform=\"matrix(-0.446601,0.893221,0.893221,0.446601,193.49704,109.807955)\"/>\n",
       "<path style=\"fill:none;stroke-width:0.3985;stroke-linecap:butt;stroke-linejoin:miter;stroke:rgb(0%,0%,0%);stroke-opacity:1;stroke-miterlimit:10;\" d=\"M 200.451599 -4.047103 L 208.923322 -20.990549 \" transform=\"matrix(0.998727,0,0,-0.998727,5.803602,88.844768)\"/>\n",
       "<path style=\"fill:none;stroke-width:0.31879;stroke-linecap:round;stroke-linejoin:round;stroke:rgb(0%,0%,0%);stroke-opacity:1;stroke-miterlimit:10;\" d=\"M -1.195632 1.595714 C -1.097667 0.995707 -0.000851125 0.101828 0.298279 0.000371286 C -0.000849326 -0.0993412 -1.0959 -0.99499 -1.193855 -1.593249 \" transform=\"matrix(0.446601,0.893221,0.893221,-0.446601,214.460207,109.807955)\"/>\n",
       "<g style=\"fill:rgb(0%,0%,0%);fill-opacity:1;\">\n",
       "  <use xlink:href=\"#glyph-1600136556647674-0-1\" x=\"3.316772\" y=\"92.157545\"/>\n",
       "</g>\n",
       "<g style=\"fill:rgb(0%,0%,0%);fill-opacity:1;\">\n",
       "  <use xlink:href=\"#glyph-1600136556647674-0-2\" x=\"31.626684\" y=\"92.157545\"/>\n",
       "</g>\n",
       "<g style=\"fill:rgb(0%,0%,0%);fill-opacity:1;\">\n",
       "  <use xlink:href=\"#glyph-1600136556647674-0-3\" x=\"59.936596\" y=\"92.048684\"/>\n",
       "</g>\n",
       "<g style=\"fill:rgb(0%,0%,0%);fill-opacity:1;\">\n",
       "  <use xlink:href=\"#glyph-1600136556647674-0-4\" x=\"74.09255\" y=\"120.523386\"/>\n",
       "</g>\n",
       "<g style=\"fill:rgb(0%,0%,0%);fill-opacity:1;\">\n",
       "  <use xlink:href=\"#glyph-1600136556647674-0-5\" x=\"102.402462\" y=\"120.358596\"/>\n",
       "</g>\n",
       "<g style=\"fill:rgb(0%,0%,0%);fill-opacity:1;\">\n",
       "  <use xlink:href=\"#glyph-1600136556647674-0-6\" x=\"116.557418\" y=\"92.048684\"/>\n",
       "</g>\n",
       "<g style=\"fill:rgb(0%,0%,0%);fill-opacity:1;\">\n",
       "  <use xlink:href=\"#glyph-1600136556647674-0-7\" x=\"144.868329\" y=\"92.09862\"/>\n",
       "</g>\n",
       "<g style=\"fill:rgb(0%,0%,0%);fill-opacity:1;\">\n",
       "  <use xlink:href=\"#glyph-1600136556647674-0-8\" x=\"173.178241\" y=\"92.048684\"/>\n",
       "</g>\n",
       "<g style=\"fill:rgb(0%,0%,0%);fill-opacity:1;\">\n",
       "  <use xlink:href=\"#glyph-1600136556647674-0-9\" x=\"187.333197\" y=\"120.358596\"/>\n",
       "</g>\n",
       "<g style=\"fill:rgb(0%,0%,0%);fill-opacity:1;\">\n",
       "  <use xlink:href=\"#glyph-1600136556647674-0-1\" x=\"213.156279\" y=\"120.358596\"/>\n",
       "  <use xlink:href=\"#glyph-1600136556647674-0-10\" x=\"218.131257\" y=\"120.358596\"/>\n",
       "</g>\n",
       "<g style=\"fill:rgb(0%,0%,0%);fill-opacity:1;\">\n",
       "  <use xlink:href=\"#glyph-1600136556647674-0-11\" x=\"89.352098\" y=\"4.441361\"/>\n",
       "</g>\n",
       "<g style=\"fill:rgb(0%,0%,0%);fill-opacity:1;\">\n",
       "  <use xlink:href=\"#glyph-1600136556647674-0-11\" x=\"75.196144\" y=\"32.751273\"/>\n",
       "</g>\n",
       "<g style=\"fill:rgb(0%,0%,0%);fill-opacity:1;\">\n",
       "  <use xlink:href=\"#glyph-1600136556647674-0-11\" x=\"32.731276\" y=\"61.061185\"/>\n",
       "</g>\n",
       "<g style=\"fill:rgb(0%,0%,0%);fill-opacity:1;\">\n",
       "  <use xlink:href=\"#glyph-1600136556647674-0-11\" x=\"75.196144\" y=\"61.061185\"/>\n",
       "</g>\n",
       "<g style=\"fill:rgb(0%,0%,0%);fill-opacity:1;\">\n",
       "  <use xlink:href=\"#glyph-1600136556647674-0-11\" x=\"89.352098\" y=\"89.372096\"/>\n",
       "</g>\n",
       "<g style=\"fill:rgb(0%,0%,0%);fill-opacity:1;\">\n",
       "  <use xlink:href=\"#glyph-1600136556647674-0-11\" x=\"117.66201\" y=\"32.751273\"/>\n",
       "</g>\n",
       "<g style=\"fill:rgb(0%,0%,0%);fill-opacity:1;\">\n",
       "  <use xlink:href=\"#glyph-1600136556647674-0-11\" x=\"117.66201\" y=\"61.061185\"/>\n",
       "</g>\n",
       "<g style=\"fill:rgb(0%,0%,0%);fill-opacity:1;\">\n",
       "  <use xlink:href=\"#glyph-1600136556647674-0-11\" x=\"174.282833\" y=\"61.061185\"/>\n",
       "</g>\n",
       "<g style=\"fill:rgb(0%,0%,0%);fill-opacity:1;\">\n",
       "  <use xlink:href=\"#glyph-1600136556647674-0-11\" x=\"202.592745\" y=\"89.372096\"/>\n",
       "</g>\n",
       "</g>\n",
       "</svg>\n",
       "\n"
      ],
      "text/plain": [
       "TikzPictures.TikzPicture(\"\\\\graph [layered layout, ] {\\n1/\\\"1\\\" [],\\n2/\\\"2\\\" [],\\n3/\\\"3\\\" [],\\n4/\\\"4\\\" [],\\n5/\\\"5\\\" [],\\n6/\\\"6\\\" [],\\n7/\\\"7\\\" [],\\n8/\\\"8\\\" [],\\n9/\\\"9\\\" [],\\n10/\\\"10\\\" [],\\n11/\\\".\\\" [],\\n12/\\\".\\\" [],\\n13/\\\".\\\" [],\\n14/\\\".\\\" [],\\n15/\\\".\\\" [],\\n16/\\\".\\\" [],\\n17/\\\".\\\" [],\\n18/\\\".\\\" [],\\n19/\\\".\\\" [],\\n;\\n11 -> [,] 12;\\n11 -> [,] 16;\\n12 -> [,] 13;\\n12 -> [,] 14;\\n13 -> [,] 1;\\n13 -> [,] 2;\\n14 -> [,] 3;\\n14 -> [,] 15;\\n15 -> [,] 4;\\n15 -> [,] 5;\\n16 -> [,] 17;\\n16 -> [,] 18;\\n17 -> [,] 6;\\n17 -> [,] 7;\\n18 -> [,] 8;\\n18 -> [,] 19;\\n19 -> [,] 9;\\n19 -> [,] 10;\\n};\\n\", \"\", \"\\\\usepackage{fontspec}\\n\\\\setmainfont{Latin Modern Math}\\n\\\\usetikzlibrary{arrows}\\n\\\\usetikzlibrary{graphs}\\n\\\\usetikzlibrary{graphdrawing}\\n\\n% from: https://tex.stackexchange.com/questions/453132/fresh-install-of-tl2018-no-tikz-graph-drawing-libraries-found\\n\\\\usepackage{luacode}\\n\\\\begin{luacode*}\\n\\tfunction pgf_lookup_and_require(name)\\n\\tlocal sep = package.config:sub(1,1)\\n\\tlocal function lookup(name)\\n\\tlocal sub = name:gsub('%.',sep)  \\n\\tif kpse.find_file(sub, 'lua') then\\n\\trequire(name)\\n\\telseif kpse.find_file(sub, 'clua') then\\n\\tcollectgarbage('stop') \\n\\trequire(name)\\n\\tcollectgarbage('restart')\\n\\telse\\n\\treturn false\\n\\tend\\n\\treturn true\\n\\tend\\n\\treturn\\n\\tlookup('pgf.gd.' .. name .. '.library') or\\n\\tlookup('pgf.gd.' .. name) or\\n\\tlookup(name .. '.library') or\\n\\tlookup(name) \\n\\tend\\n\\\\end{luacode*}\\n\\n\\\\usegdlibrary{layered}\", \"tikzpicture\", true)"
      ]
     },
     "execution_count": 30,
     "metadata": {},
     "output_type": "execute_result"
    }
   ],
   "source": [
    "v = PlainVtree(10, :balanced)\n",
    "g, label = DiGraph(v)\n",
    "TikzGraphs.plot(g, label)"
   ]
  },
  {
   "cell_type": "code",
   "execution_count": 31,
   "metadata": {},
   "outputs": [
    {
     "data": {
      "image/svg+xml": [
       "<?xml version=\"1.0\" encoding=\"UTF-8\"?>\n",
       "<svg xmlns=\"http://www.w3.org/2000/svg\" xmlns:xlink=\"http://www.w3.org/1999/xlink\" width=\"268.399pt\" height=\"100.418pt\" viewBox=\"0 0 268.399 100.418\" version=\"1.2\">\n",
       "<defs>\n",
       "<g>\n",
       "<symbol overflow=\"visible\" id=\"glyph-1600136556647675-0-0\">\n",
       "<path style=\"stroke:none;\" d=\"\"/>\n",
       "</symbol>\n",
       "<symbol overflow=\"visible\" id=\"glyph-1600136556647675-0-1\">\n",
       "<path style=\"stroke:none;\" d=\"M 7.734375 -7.1875 C 7.859375 -7.546875 7.3125 -7.734375 7.1875 -7.375 L 4.125 1.453125 L 1.0625 -7.375 C 0.9375 -7.734375 0.390625 -7.546875 0.53125 -7.1875 L 3.921875 2.640625 C 4 2.828125 4.265625 2.828125 4.3125 2.640625 Z M 7.734375 -7.1875 \"/>\n",
       "</symbol>\n",
       "<symbol overflow=\"visible\" id=\"glyph-1600136556647675-0-2\">\n",
       "<path style=\"stroke:none;\" d=\"M 7.734375 2.234375 L 4.3125 -7.59375 C 4.265625 -7.78125 4 -7.78125 3.921875 -7.59375 L 0.53125 2.234375 C 0.390625 2.59375 0.9375 2.78125 1.0625 2.421875 L 4.125 -6.40625 L 7.1875 2.421875 C 7.3125 2.78125 7.859375 2.59375 7.734375 2.234375 Z M 7.734375 2.234375 \"/>\n",
       "</symbol>\n",
       "<symbol overflow=\"visible\" id=\"glyph-1600136556647675-0-3\">\n",
       "<path style=\"stroke:none;\" d=\"M 4.15625 0 L 4.15625 -0.3125 L 3.828125 -0.3125 C 2.9375 -0.3125 2.90625 -0.421875 2.90625 -0.78125 L 2.90625 -6.34375 C 2.90625 -6.578125 2.90625 -6.59375 2.6875 -6.59375 C 2.078125 -5.96875 1.203125 -5.96875 0.875 -5.96875 L 0.875 -5.65625 C 1.078125 -5.65625 1.671875 -5.65625 2.171875 -5.90625 L 2.171875 -0.78125 C 2.171875 -0.421875 2.15625 -0.3125 1.265625 -0.3125 L 0.9375 -0.3125 L 0.9375 0 C 1.28125 -0.03125 2.15625 -0.03125 2.546875 -0.03125 C 2.9375 -0.03125 3.796875 -0.03125 4.15625 0 Z M 4.15625 0 \"/>\n",
       "</symbol>\n",
       "<symbol overflow=\"visible\" id=\"glyph-1600136556647675-0-4\">\n",
       "<path style=\"stroke:none;\" d=\"M 2.734375 -1.859375 L 2.734375 -2.421875 L 0.109375 -2.421875 L 0.109375 -1.859375 Z M 2.734375 -1.859375 \"/>\n",
       "</symbol>\n",
       "<symbol overflow=\"visible\" id=\"glyph-1600136556647675-0-5\">\n",
       "<path style=\"stroke:none;\" d=\"M 4.453125 -1.71875 L 4.203125 -1.71875 C 4.15625 -1.421875 4.078125 -0.984375 3.984375 -0.84375 C 3.90625 -0.765625 3.265625 -0.765625 3.046875 -0.765625 L 1.265625 -0.765625 L 2.3125 -1.78125 C 3.859375 -3.15625 4.453125 -3.6875 4.453125 -4.671875 C 4.453125 -5.8125 3.5625 -6.59375 2.34375 -6.59375 C 1.234375 -6.59375 0.5 -5.6875 0.5 -4.796875 C 0.5 -4.25 0.984375 -4.25 1.015625 -4.25 C 1.1875 -4.25 1.53125 -4.375 1.53125 -4.78125 C 1.53125 -5.03125 1.359375 -5.296875 1.015625 -5.296875 C 0.9375 -5.296875 0.90625 -5.296875 0.875 -5.28125 C 1.109375 -5.921875 1.640625 -6.296875 2.21875 -6.296875 C 3.125 -6.296875 3.546875 -5.484375 3.546875 -4.671875 C 3.546875 -3.890625 3.046875 -3.09375 2.5 -2.484375 L 0.609375 -0.359375 C 0.5 -0.25 0.5 -0.234375 0.5 0 L 4.171875 0 Z M 4.453125 -1.71875 \"/>\n",
       "</symbol>\n",
       "<symbol overflow=\"visible\" id=\"glyph-1600136556647675-0-6\">\n",
       "<path style=\"stroke:none;\" d=\"M 4.53125 -1.6875 C 4.53125 -2.5 3.90625 -3.28125 2.875 -3.484375 C 3.6875 -3.75 4.265625 -4.453125 4.265625 -5.234375 C 4.265625 -6.046875 3.390625 -6.59375 2.4375 -6.59375 C 1.4375 -6.59375 0.6875 -6 0.6875 -5.25 C 0.6875 -4.921875 0.90625 -4.734375 1.1875 -4.734375 C 1.5 -4.734375 1.6875 -4.953125 1.6875 -5.234375 C 1.6875 -5.734375 1.234375 -5.734375 1.078125 -5.734375 C 1.390625 -6.21875 2.046875 -6.34375 2.390625 -6.34375 C 2.796875 -6.34375 3.34375 -6.125 3.34375 -5.234375 C 3.34375 -5.125 3.328125 -4.546875 3.078125 -4.109375 C 2.78125 -3.640625 2.4375 -3.609375 2.1875 -3.59375 C 2.109375 -3.59375 1.875 -3.5625 1.796875 -3.5625 C 1.71875 -3.5625 1.65625 -3.546875 1.65625 -3.453125 C 1.65625 -3.34375 1.71875 -3.34375 1.890625 -3.34375 L 2.328125 -3.34375 C 3.140625 -3.34375 3.5 -2.671875 3.5 -1.6875 C 3.5 -0.34375 2.828125 -0.0625 2.390625 -0.0625 C 1.96875 -0.0625 1.21875 -0.234375 0.875 -0.8125 C 1.21875 -0.765625 1.53125 -0.984375 1.53125 -1.359375 C 1.53125 -1.71875 1.265625 -1.90625 0.96875 -1.90625 C 0.734375 -1.90625 0.421875 -1.765625 0.421875 -1.34375 C 0.421875 -0.4375 1.34375 0.21875 2.421875 0.21875 C 3.625 0.21875 4.53125 -0.6875 4.53125 -1.6875 Z M 4.53125 -1.6875 \"/>\n",
       "</symbol>\n",
       "<symbol overflow=\"visible\" id=\"glyph-1600136556647675-0-7\">\n",
       "<path style=\"stroke:none;\" d=\"M 4.671875 -1.640625 L 4.671875 -1.9375 L 3.671875 -1.9375 L 3.671875 -6.453125 C 3.671875 -6.640625 3.671875 -6.703125 3.515625 -6.703125 C 3.421875 -6.703125 3.390625 -6.703125 3.3125 -6.59375 L 0.28125 -1.9375 L 0.28125 -1.640625 L 2.90625 -1.640625 L 2.90625 -0.765625 C 2.90625 -0.421875 2.890625 -0.3125 2.15625 -0.3125 L 1.953125 -0.3125 L 1.953125 0 C 2.359375 -0.03125 2.875 -0.03125 3.28125 -0.03125 C 3.703125 -0.03125 4.234375 -0.03125 4.640625 0 L 4.640625 -0.3125 L 4.421875 -0.3125 C 3.6875 -0.3125 3.671875 -0.421875 3.671875 -0.765625 L 3.671875 -1.640625 Z M 2.96875 -1.9375 L 0.5625 -1.9375 L 2.96875 -5.640625 Z M 2.96875 -1.9375 \"/>\n",
       "</symbol>\n",
       "<symbol overflow=\"visible\" id=\"glyph-1600136556647675-0-8\">\n",
       "<path style=\"stroke:none;\" d=\"M 4.453125 -1.984375 C 4.453125 -3.171875 3.640625 -4.15625 2.5625 -4.15625 C 2.09375 -4.15625 1.671875 -4 1.3125 -3.65625 L 1.3125 -5.59375 C 1.5 -5.53125 1.828125 -5.453125 2.15625 -5.453125 C 3.375 -5.453125 4.0625 -6.359375 4.0625 -6.484375 C 4.0625 -6.546875 4.03125 -6.59375 3.96875 -6.59375 C 3.96875 -6.59375 3.9375 -6.59375 3.890625 -6.5625 C 3.6875 -6.484375 3.203125 -6.28125 2.53125 -6.28125 C 2.140625 -6.28125 1.6875 -6.34375 1.21875 -6.5625 C 1.140625 -6.59375 1.09375 -6.59375 1.09375 -6.59375 C 1 -6.59375 1 -6.515625 1 -6.34375 L 1 -3.421875 C 1 -3.234375 1 -3.15625 1.140625 -3.15625 C 1.203125 -3.15625 1.234375 -3.1875 1.265625 -3.25 C 1.375 -3.40625 1.75 -3.9375 2.546875 -3.9375 C 3.0625 -3.9375 3.3125 -3.484375 3.390625 -3.3125 C 3.546875 -2.9375 3.5625 -2.5625 3.5625 -2.0625 C 3.5625 -1.71875 3.5625 -1.125 3.328125 -0.703125 C 3.09375 -0.3125 2.71875 -0.0625 2.265625 -0.0625 C 1.546875 -0.0625 0.984375 -0.578125 0.8125 -1.171875 C 0.84375 -1.15625 0.875 -1.15625 0.984375 -1.15625 C 1.3125 -1.15625 1.46875 -1.390625 1.46875 -1.640625 C 1.46875 -1.875 1.3125 -2.125 0.984375 -2.125 C 0.84375 -2.125 0.5 -2.046875 0.5 -1.59375 C 0.5 -0.75 1.171875 0.21875 2.28125 0.21875 C 3.4375 0.21875 4.453125 -0.734375 4.453125 -1.984375 Z M 4.453125 -1.984375 \"/>\n",
       "</symbol>\n",
       "</g>\n",
       "</defs>\n",
       "<g id=\"surface1\">\n",
       "<path style=\"fill:none;stroke-width:0.3985;stroke-linecap:butt;stroke-linejoin:miter;stroke:rgb(0%,0%,0%);stroke-opacity:1;stroke-miterlimit:10;\" d=\"M -0.00180313 -8.828986 L -0.00180313 -19.059815 \" transform=\"matrix(0.994238,0,0,-0.994238,133.076011,8.581265)\"/>\n",
       "<path style=\"fill:none;stroke-width:0.31879;stroke-linecap:round;stroke-linejoin:round;stroke:rgb(0%,0%,0%);stroke-opacity:1;stroke-miterlimit:10;\" d=\"M -1.197046 1.593326 C -1.094895 0.996135 0.00126489 0.100348 0.299861 -0.00180313 C 0.00126489 -0.100025 -1.094895 -0.995812 -1.197046 -1.593003 \" transform=\"matrix(0,0.994238,0.994238,0,133.076011,27.529992)\"/>\n",
       "<path style=\"fill:none;stroke-width:0.3985;stroke-linecap:butt;stroke-linejoin:miter;stroke:rgb(0%,0%,0%);stroke-opacity:1;stroke-miterlimit:10;\" d=\"M -7.670996 -30.536102 L -91.104898 -54.376605 \" transform=\"matrix(0.994238,0,0,-0.994238,133.076011,8.581265)\"/>\n",
       "<path style=\"fill:none;stroke-width:0.31879;stroke-linecap:round;stroke-linejoin:round;stroke:rgb(0%,0%,0%);stroke-opacity:1;stroke-miterlimit:10;\" d=\"M -1.19497 1.5919 C -1.095653 0.995543 0.000481196 0.0980613 0.299473 0.00038412 C 0.00156517 -0.0983864 -1.096147 -0.9943 -1.194356 -1.595519 \" transform=\"matrix(-0.955959,0.273107,0.273107,0.955959,42.497116,62.644407)\"/>\n",
       "<path style=\"fill:none;stroke-width:0.3985;stroke-linecap:butt;stroke-linejoin:miter;stroke:rgb(0%,0%,0%);stroke-opacity:1;stroke-miterlimit:10;\" d=\"M -7.670996 -33.459196 L -34.469953 -51.327786 \" transform=\"matrix(0.994238,0,0,-0.994238,133.076011,8.581265)\"/>\n",
       "<path style=\"fill:none;stroke-width:0.31879;stroke-linecap:round;stroke-linejoin:round;stroke:rgb(0%,0%,0%);stroke-opacity:1;stroke-miterlimit:10;\" d=\"M -1.195537 1.591822 C -1.096367 0.996834 0.000992439 0.100001 0.298488 0.000838275 C 0.000994089 -0.0983291 -1.09744 -0.995181 -1.19551 -1.595619 \" transform=\"matrix(-0.827226,0.551474,0.551474,0.827226,98.805048,59.612042)\"/>\n",
       "<path style=\"fill:none;stroke-width:0.3985;stroke-linecap:butt;stroke-linejoin:miter;stroke:rgb(0%,0%,0%);stroke-opacity:1;stroke-miterlimit:10;\" d=\"M -0.00180313 -37.175925 L -0.00180313 -47.406754 \" transform=\"matrix(0.994238,0,0,-0.994238,133.076011,8.581265)\"/>\n",
       "<path style=\"fill:none;stroke-width:0.31879;stroke-linecap:round;stroke-linejoin:round;stroke:rgb(0%,0%,0%);stroke-opacity:1;stroke-miterlimit:10;\" d=\"M -1.196887 1.593326 C -1.094736 0.996135 0.00142437 0.100348 0.30002 -0.00180313 C 0.00142437 -0.100025 -1.094736 -0.995812 -1.196887 -1.593003 \" transform=\"matrix(0,0.994238,0.994238,0,133.076011,55.713428)\"/>\n",
       "<path style=\"fill:none;stroke-width:0.3985;stroke-linecap:butt;stroke-linejoin:miter;stroke:rgb(0%,0%,0%);stroke-opacity:1;stroke-miterlimit:10;\" d=\"M 7.66739 -33.459196 L 34.470275 -51.327786 \" transform=\"matrix(0.994238,0,0,-0.994238,133.076011,8.581265)\"/>\n",
       "<path style=\"fill:none;stroke-width:0.31879;stroke-linecap:round;stroke-linejoin:round;stroke:rgb(0%,0%,0%);stroke-opacity:1;stroke-miterlimit:10;\" d=\"M -1.195242 1.595798 C -1.097171 0.99536 0.00126255 0.098508 0.298756 -0.000659302 C 0.0012609 -0.0998217 -1.096098 -0.996655 -1.195268 -1.591643 \" transform=\"matrix(0.827226,0.551474,0.551474,-0.827226,167.346975,59.612042)\"/>\n",
       "<path style=\"fill:none;stroke-width:0.3985;stroke-linecap:butt;stroke-linejoin:miter;stroke:rgb(0%,0%,0%);stroke-opacity:1;stroke-miterlimit:10;\" d=\"M 7.66739 -30.536102 L 91.105221 -54.376605 \" transform=\"matrix(0.994238,0,0,-0.994238,133.076011,8.581265)\"/>\n",
       "<path style=\"fill:none;stroke-width:0.31879;stroke-linecap:round;stroke-linejoin:round;stroke:rgb(0%,0%,0%);stroke-opacity:1;stroke-miterlimit:10;\" d=\"M -1.194046 1.595607 C -1.095836 0.994389 0.0018754 0.098475 0.299783 -0.000295489 C 0.000791433 -0.0979727 -1.095343 -0.995454 -1.19466 -1.591811 \" transform=\"matrix(0.955959,0.273107,0.273107,-0.955959,223.654907,62.644407)\"/>\n",
       "<path style=\"fill:none;stroke-width:0.3985;stroke-linecap:butt;stroke-linejoin:miter;stroke:rgb(0%,0%,0%);stroke-opacity:1;stroke-miterlimit:10;\" d=\"M -106.88332 -64.363842 L -121.227696 -78.70429 \" transform=\"matrix(0.994238,0,0,-0.994238,133.076011,8.581265)\"/>\n",
       "<path style=\"fill:none;stroke-width:0.31879;stroke-linecap:round;stroke-linejoin:round;stroke:rgb(0%,0%,0%);stroke-opacity:1;stroke-miterlimit:10;\" d=\"M -1.194581 1.592403 C -1.097345 0.995096 0.0000326195 0.0977471 0.297297 0.000511144 C 0.0000326195 -0.102281 -1.094567 -0.996852 -1.197359 -1.594159 \" transform=\"matrix(-0.703025,0.703025,0.703025,0.703025,12.548492,86.833602)\"/>\n",
       "<path style=\"fill:none;stroke-width:0.3985;stroke-linecap:butt;stroke-linejoin:miter;stroke:rgb(0%,0%,0%);stroke-opacity:1;stroke-miterlimit:10;\" d=\"M -99.214127 -65.522865 L -99.214127 -77.745641 \" transform=\"matrix(0.994238,0,0,-0.994238,133.076011,8.581265)\"/>\n",
       "<path style=\"fill:none;stroke-width:0.31879;stroke-linecap:round;stroke-linejoin:round;stroke:rgb(0%,0%,0%);stroke-opacity:1;stroke-miterlimit:10;\" d=\"M -1.19737 1.594822 C -1.095219 0.997631 0.000940953 0.0979154 0.299537 -0.000306862 C 0.000940953 -0.0985291 -1.095219 -0.994316 -1.19737 -1.595436 \" transform=\"matrix(0,0.994238,0.994238,0,34.433899,85.877971)\"/>\n",
       "<path style=\"fill:none;stroke-width:0.3985;stroke-linecap:butt;stroke-linejoin:miter;stroke:rgb(0%,0%,0%);stroke-opacity:1;stroke-miterlimit:10;\" d=\"M -50.189441 -64.363842 L -64.533817 -78.70429 \" transform=\"matrix(0.994238,0,0,-0.994238,133.076011,8.581265)\"/>\n",
       "<path style=\"fill:none;stroke-width:0.31879;stroke-linecap:round;stroke-linejoin:round;stroke:rgb(0%,0%,0%);stroke-opacity:1;stroke-miterlimit:10;\" d=\"M -1.194771 1.592593 C -1.097535 0.995287 -0.000157566 0.0979373 0.297107 0.00070133 C -0.000157566 -0.102091 -1.094757 -0.996662 -1.197549 -1.593969 \" transform=\"matrix(-0.703025,0.703025,0.703025,0.703025,68.915412,86.833602)\"/>\n",
       "<path style=\"fill:none;stroke-width:0.3985;stroke-linecap:butt;stroke-linejoin:miter;stroke:rgb(0%,0%,0%);stroke-opacity:1;stroke-miterlimit:10;\" d=\"M -42.520248 -65.522865 L -42.520248 -77.745641 \" transform=\"matrix(0.994238,0,0,-0.994238,133.076011,8.581265)\"/>\n",
       "<path style=\"fill:none;stroke-width:0.31879;stroke-linecap:round;stroke-linejoin:round;stroke:rgb(0%,0%,0%);stroke-opacity:1;stroke-miterlimit:10;\" d=\"M -1.19737 1.595081 C -1.095219 0.99789 0.000940953 0.0981743 0.299537 -0.0000479013 C 0.000940953 -0.0982701 -1.095219 -0.997986 -1.19737 -1.595177 \" transform=\"matrix(0,0.994238,0.994238,0,90.800829,85.877971)\"/>\n",
       "<path style=\"fill:none;stroke-width:0.3985;stroke-linecap:butt;stroke-linejoin:miter;stroke:rgb(0%,0%,0%);stroke-opacity:1;stroke-miterlimit:10;\" d=\"M -4.413946 -65.522865 L -10.495868 -77.682779 \" transform=\"matrix(0.994238,0,0,-0.994238,133.076011,8.581265)\"/>\n",
       "<path style=\"fill:none;stroke-width:0.31879;stroke-linecap:round;stroke-linejoin:round;stroke:rgb(0%,0%,0%);stroke-opacity:1;stroke-miterlimit:10;\" d=\"M -1.196887 1.592632 C -1.096732 0.996943 0.00150542 0.100765 0.29847 -0.00115502 C -0.000253545 -0.097798 -1.09675 -0.997471 -1.193401 -1.594916 \" transform=\"matrix(-0.444593,0.889206,0.889206,0.444593,122.641537,85.817143)\"/>\n",
       "<path style=\"fill:none;stroke-width:0.3985;stroke-linecap:butt;stroke-linejoin:miter;stroke:rgb(0%,0%,0%);stroke-opacity:1;stroke-miterlimit:10;\" d=\"M 4.414269 -65.522865 L 10.49619 -77.682779 \" transform=\"matrix(0.994238,0,0,-0.994238,133.076011,8.581265)\"/>\n",
       "<path style=\"fill:none;stroke-width:0.31879;stroke-linecap:round;stroke-linejoin:round;stroke:rgb(0%,0%,0%);stroke-opacity:1;stroke-miterlimit:10;\" d=\"M -1.195014 1.59169 C -1.096606 0.997759 -0.000109247 0.0980866 0.298614 0.00144362 C 0.00164972 -0.100476 -1.096588 -0.996654 -1.196742 -1.592344 \" transform=\"matrix(0.444593,0.889206,0.889206,-0.444593,143.510486,85.817143)\"/>\n",
       "<path style=\"fill:none;stroke-width:0.3985;stroke-linecap:butt;stroke-linejoin:miter;stroke:rgb(0%,0%,0%);stroke-opacity:1;stroke-miterlimit:10;\" d=\"M 42.520571 -65.522865 L 42.520571 -77.690636 \" transform=\"matrix(0.994238,0,0,-0.994238,133.076011,8.581265)\"/>\n",
       "<path style=\"fill:none;stroke-width:0.31879;stroke-linecap:round;stroke-linejoin:round;stroke:rgb(0%,0%,0%);stroke-opacity:1;stroke-miterlimit:10;\" d=\"M -1.193656 1.5955 C -1.095434 0.99438 0.000726497 0.0985928 0.299322 0.00037054 C 0.000726497 -0.0978517 -1.095434 -0.997567 -1.193656 -1.594759 \" transform=\"matrix(0,0.994238,0.994238,0,175.351194,85.823496)\"/>\n",
       "<path style=\"fill:none;stroke-width:0.3985;stroke-linecap:butt;stroke-linejoin:miter;stroke:rgb(0%,0%,0%);stroke-opacity:1;stroke-miterlimit:10;\" d=\"M 50.189763 -64.363842 L 63.65014 -77.824219 \" transform=\"matrix(0.994238,0,0,-0.994238,133.076011,8.581265)\"/>\n",
       "<path style=\"fill:none;stroke-width:0.31879;stroke-linecap:round;stroke-linejoin:round;stroke:rgb(0%,0%,0%);stroke-opacity:1;stroke-miterlimit:10;\" d=\"M -1.194994 1.594196 C -1.097761 0.996884 -0.000382332 0.0995205 0.299662 -0.000496523 C -0.000383746 -0.100509 -1.094997 -0.995079 -1.195016 -1.595168 \" transform=\"matrix(0.703025,0.703015,0.703015,-0.703025,196.359992,85.956953)\"/>\n",
       "<path style=\"fill:none;stroke-width:0.3985;stroke-linecap:butt;stroke-linejoin:miter;stroke:rgb(0%,0%,0%);stroke-opacity:1;stroke-miterlimit:10;\" d=\"M 99.21445 -65.522865 L 99.21445 -77.635632 \" transform=\"matrix(0.994238,0,0,-0.994238,133.076011,8.581265)\"/>\n",
       "<path style=\"fill:none;stroke-width:0.31879;stroke-linecap:round;stroke-linejoin:round;stroke:rgb(0%,0%,0%);stroke-opacity:1;stroke-miterlimit:10;\" d=\"M -1.19387 1.595759 C -1.095648 0.994639 0.000512041 0.0988517 0.299108 0.000629501 C 0.000512041 -0.101522 -1.095648 -0.997308 -1.19387 -1.5945 \" transform=\"matrix(0,0.994238,0.994238,0,231.718124,85.769022)\"/>\n",
       "<path style=\"fill:none;stroke-width:0.3985;stroke-linecap:butt;stroke-linejoin:miter;stroke:rgb(0%,0%,0%);stroke-opacity:1;stroke-miterlimit:10;\" d=\"M 106.883642 -64.363842 L 120.289014 -77.769214 \" transform=\"matrix(0.994238,0,0,-0.994238,133.076011,8.581265)\"/>\n",
       "<path style=\"fill:none;stroke-width:0.31879;stroke-linecap:round;stroke-linejoin:round;stroke:rgb(0%,0%,0%);stroke-opacity:1;stroke-miterlimit:10;\" d=\"M -1.195089 1.594387 C -1.095074 0.994302 -0.000474924 0.0997312 0.299568 -0.000283001 C -0.000474924 -0.100297 -1.095074 -0.994868 -1.195089 -1.594953 \" transform=\"matrix(0.703025,0.703025,0.703025,-0.703025,252.672408,85.902479)\"/>\n",
       "<g style=\"fill:rgb(0%,0%,0%);fill-opacity:1;\">\n",
       "  <use xlink:href=\"#glyph-1600136556647675-0-1\" x=\"128.95092\" y=\"11.038026\"/>\n",
       "</g>\n",
       "<g style=\"fill:rgb(0%,0%,0%);fill-opacity:1;\">\n",
       "  <use xlink:href=\"#glyph-1600136556647675-0-2\" x=\"128.95092\" y=\"39.260455\"/>\n",
       "</g>\n",
       "<g style=\"fill:rgb(0%,0%,0%);fill-opacity:1;\">\n",
       "  <use xlink:href=\"#glyph-1600136556647675-0-1\" x=\"30.309622\" y=\"67.40434\"/>\n",
       "</g>\n",
       "<g style=\"fill:rgb(0%,0%,0%);fill-opacity:1;\">\n",
       "  <use xlink:href=\"#glyph-1600136556647675-0-1\" x=\"86.675936\" y=\"67.40434\"/>\n",
       "</g>\n",
       "<g style=\"fill:rgb(0%,0%,0%);fill-opacity:1;\">\n",
       "  <use xlink:href=\"#glyph-1600136556647675-0-1\" x=\"128.95092\" y=\"67.40434\"/>\n",
       "</g>\n",
       "<g style=\"fill:rgb(0%,0%,0%);fill-opacity:1;\">\n",
       "  <use xlink:href=\"#glyph-1600136556647675-0-1\" x=\"171.224909\" y=\"67.40434\"/>\n",
       "</g>\n",
       "<g style=\"fill:rgb(0%,0%,0%);fill-opacity:1;\">\n",
       "  <use xlink:href=\"#glyph-1600136556647675-0-1\" x=\"227.591223\" y=\"67.40434\"/>\n",
       "</g>\n",
       "<g style=\"fill:rgb(0%,0%,0%);fill-opacity:1;\">\n",
       "  <use xlink:href=\"#glyph-1600136556647675-0-3\" x=\"3.776403\" y=\"96.429119\"/>\n",
       "</g>\n",
       "<g style=\"fill:rgb(0%,0%,0%);fill-opacity:1;\">\n",
       "  <use xlink:href=\"#glyph-1600136556647675-0-4\" x=\"30.309622\" y=\"96.429119\"/>\n",
       "  <use xlink:href=\"#glyph-1600136556647675-0-3\" x=\"33.608064\" y=\"96.429119\"/>\n",
       "</g>\n",
       "<g style=\"fill:rgb(0%,0%,0%);fill-opacity:1;\">\n",
       "  <use xlink:href=\"#glyph-1600136556647675-0-5\" x=\"60.141722\" y=\"96.429119\"/>\n",
       "</g>\n",
       "<g style=\"fill:rgb(0%,0%,0%);fill-opacity:1;\">\n",
       "  <use xlink:href=\"#glyph-1600136556647675-0-4\" x=\"86.675936\" y=\"96.429119\"/>\n",
       "  <use xlink:href=\"#glyph-1600136556647675-0-5\" x=\"89.974378\" y=\"96.429119\"/>\n",
       "</g>\n",
       "<g style=\"fill:rgb(0%,0%,0%);fill-opacity:1;\">\n",
       "  <use xlink:href=\"#glyph-1600136556647675-0-6\" x=\"116.508036\" y=\"96.319753\"/>\n",
       "</g>\n",
       "<g style=\"fill:rgb(0%,0%,0%);fill-opacity:1;\">\n",
       "  <use xlink:href=\"#glyph-1600136556647675-0-4\" x=\"143.042249\" y=\"96.319753\"/>\n",
       "  <use xlink:href=\"#glyph-1600136556647675-0-6\" x=\"146.340692\" y=\"96.319753\"/>\n",
       "</g>\n",
       "<g style=\"fill:rgb(0%,0%,0%);fill-opacity:1;\">\n",
       "  <use xlink:href=\"#glyph-1600136556647675-0-7\" x=\"172.874349\" y=\"96.483802\"/>\n",
       "</g>\n",
       "<g style=\"fill:rgb(0%,0%,0%);fill-opacity:1;\">\n",
       "  <use xlink:href=\"#glyph-1600136556647675-0-4\" x=\"199.408563\" y=\"96.483802\"/>\n",
       "  <use xlink:href=\"#glyph-1600136556647675-0-7\" x=\"202.707005\" y=\"96.483802\"/>\n",
       "</g>\n",
       "<g style=\"fill:rgb(0%,0%,0%);fill-opacity:1;\">\n",
       "  <use xlink:href=\"#glyph-1600136556647675-0-8\" x=\"229.240663\" y=\"96.319753\"/>\n",
       "</g>\n",
       "<g style=\"fill:rgb(0%,0%,0%);fill-opacity:1;\">\n",
       "  <use xlink:href=\"#glyph-1600136556647675-0-4\" x=\"255.774877\" y=\"96.319753\"/>\n",
       "  <use xlink:href=\"#glyph-1600136556647675-0-8\" x=\"259.073319\" y=\"96.319753\"/>\n",
       "</g>\n",
       "</g>\n",
       "</svg>\n",
       "\n"
      ],
      "text/plain": [
       "TikzPictures.TikzPicture(\"\\\\graph [layered layout, ] {\\n1/\\\"⋁\\\" [],\\n2/\\\"⋀\\\" [],\\n3/\\\"⋁\\\" [],\\n4/\\\"⋁\\\" [],\\n5/\\\"⋁\\\" [],\\n6/\\\"⋁\\\" [],\\n7/\\\"⋁\\\" [],\\n8/\\\"1\\\" [],\\n9/\\\"-1\\\" [],\\n10/\\\"2\\\" [],\\n11/\\\"-2\\\" [],\\n12/\\\"3\\\" [],\\n13/\\\"-3\\\" [],\\n14/\\\"4\\\" [],\\n15/\\\"-4\\\" [],\\n16/\\\"5\\\" [],\\n17/\\\"-5\\\" [],\\n;\\n1 -> [,] 2;\\n2 -> [,] 3;\\n2 -> [,] 4;\\n2 -> [,] 5;\\n2 -> [,] 6;\\n2 -> [,] 7;\\n3 -> [,] 8;\\n3 -> [,] 9;\\n4 -> [,] 10;\\n4 -> [,] 11;\\n5 -> [,] 12;\\n5 -> [,] 13;\\n6 -> [,] 14;\\n6 -> [,] 15;\\n7 -> [,] 16;\\n7 -> [,] 17;\\n};\\n\", \"\", \"\\\\usepackage{fontspec}\\n\\\\setmainfont{Latin Modern Math}\\n\\\\usetikzlibrary{arrows}\\n\\\\usetikzlibrary{graphs}\\n\\\\usetikzlibrary{graphdrawing}\\n\\n% from: https://tex.stackexchange.com/questions/453132/fresh-install-of-tl2018-no-tikz-graph-drawing-libraries-found\\n\\\\usepackage{luacode}\\n\\\\begin{luacode*}\\n\\tfunction pgf_lookup_and_require(name)\\n\\tlocal sep = package.config:sub(1,1)\\n\\tlocal function lookup(name)\\n\\tlocal sub = name:gsub('%.',sep)  \\n\\tif kpse.find_file(sub, 'lua') then\\n\\trequire(name)\\n\\telseif kpse.find_file(sub, 'clua') then\\n\\tcollectgarbage('stop') \\n\\trequire(name)\\n\\tcollectgarbage('restart')\\n\\telse\\n\\treturn false\\n\\tend\\n\\treturn true\\n\\tend\\n\\treturn\\n\\tlookup('pgf.gd.' .. name .. '.library') or\\n\\tlookup('pgf.gd.' .. name) or\\n\\tlookup(name .. '.library') or\\n\\tlookup(name) \\n\\tend\\n\\\\end{luacode*}\\n\\n\\\\usegdlibrary{layered}\", \"tikzpicture\", true)"
      ]
     },
     "execution_count": 31,
     "metadata": {},
     "output_type": "execute_result"
    }
   ],
   "source": [
    "lc = fully_factorized_circuit(PlainLogicCircuit, 5)\n",
    "g, label = DiGraph(lc)\n",
    "TikzGraphs.plot(g, label)"
   ]
  },
  {
   "cell_type": "markdown",
   "metadata": {},
   "source": [
    "## Probabilistic Circuits"
   ]
  },
  {
   "cell_type": "code",
   "execution_count": 32,
   "metadata": {
    "tags": []
   },
   "outputs": [
    {
     "name": "stderr",
     "output_type": "stream",
     "text": [
      "┌ Info: Precompiling ProbabilisticCircuits [2396afbe-23d7-11ea-1e05-f1aa98e17a44]\n",
      "└ @ Base loading.jl:1278\n"
     ]
    }
   ],
   "source": [
    "using ProbabilisticCircuits"
   ]
  },
  {
   "cell_type": "code",
   "execution_count": 33,
   "metadata": {
    "tags": []
   },
   "outputs": [
    {
     "data": {
      "image/svg+xml": [
       "<?xml version=\"1.0\" encoding=\"UTF-8\"?>\n",
       "<svg xmlns=\"http://www.w3.org/2000/svg\" xmlns:xlink=\"http://www.w3.org/1999/xlink\" width=\"268.399pt\" height=\"98.425pt\" viewBox=\"0 0 268.399 98.425\" version=\"1.2\">\n",
       "<defs>\n",
       "<g>\n",
       "<symbol overflow=\"visible\" id=\"glyph-1600136556647676-0-0\">\n",
       "<path style=\"stroke:none;\" d=\"\"/>\n",
       "</symbol>\n",
       "<symbol overflow=\"visible\" id=\"glyph-1600136556647676-0-1\">\n",
       "<path style=\"stroke:none;\" d=\"M 2.078125 0 L 2.078125 -0.15625 L 1.921875 -0.15625 C 1.46875 -0.15625 1.453125 -0.203125 1.453125 -0.390625 L 1.453125 -3.171875 C 1.453125 -3.28125 1.453125 -3.296875 1.34375 -3.296875 C 1.03125 -2.984375 0.59375 -2.984375 0.4375 -2.984375 L 0.4375 -2.828125 C 0.546875 -2.828125 0.828125 -2.828125 1.09375 -2.953125 L 1.09375 -0.390625 C 1.09375 -0.21875 1.078125 -0.15625 0.625 -0.15625 L 0.46875 -0.15625 L 0.46875 0 C 0.640625 -0.015625 1.078125 -0.015625 1.265625 -0.015625 C 1.46875 -0.015625 1.90625 -0.015625 2.078125 0 Z M 2.078125 0 \"/>\n",
       "</symbol>\n",
       "<symbol overflow=\"visible\" id=\"glyph-1600136556647676-0-2\">\n",
       "<path style=\"stroke:none;\" d=\"M 0.953125 -0.265625 C 0.953125 -0.40625 0.828125 -0.53125 0.6875 -0.53125 C 0.546875 -0.53125 0.421875 -0.40625 0.421875 -0.265625 C 0.421875 -0.125 0.546875 0 0.6875 0 C 0.828125 0 0.953125 -0.125 0.953125 -0.265625 Z M 0.953125 -0.265625 \"/>\n",
       "</symbol>\n",
       "<symbol overflow=\"visible\" id=\"glyph-1600136556647676-0-3\">\n",
       "<path style=\"stroke:none;\" d=\"M 2.28125 -1.578125 C 2.28125 -1.984375 2.25 -2.375 2.078125 -2.75 C 1.859375 -3.21875 1.453125 -3.296875 1.234375 -3.296875 C 0.9375 -3.296875 0.578125 -3.171875 0.375 -2.703125 C 0.21875 -2.375 0.1875 -1.984375 0.1875 -1.578125 C 0.1875 -1.21875 0.21875 -0.765625 0.421875 -0.390625 C 0.625 0.015625 0.984375 0.109375 1.234375 0.109375 C 1.5 0.109375 1.875 0 2.09375 -0.46875 C 2.25 -0.8125 2.28125 -1.1875 2.28125 -1.578125 Z M 1.875 -1.640625 C 1.875 -1.265625 1.875 -0.9375 1.8125 -0.625 C 1.734375 -0.15625 1.453125 0 1.234375 0 C 1.046875 0 0.75 -0.125 0.65625 -0.59375 C 0.609375 -0.890625 0.609375 -1.359375 0.609375 -1.640625 C 0.609375 -1.96875 0.609375 -2.28125 0.640625 -2.5625 C 0.734375 -3.140625 1.109375 -3.1875 1.234375 -3.1875 C 1.390625 -3.1875 1.71875 -3.09375 1.8125 -2.609375 C 1.875 -2.328125 1.875 -1.953125 1.875 -1.640625 Z M 1.875 -1.640625 \"/>\n",
       "</symbol>\n",
       "<symbol overflow=\"visible\" id=\"glyph-1600136556647676-0-4\">\n",
       "<path style=\"stroke:none;\" d=\"M 2.21875 -1 C 2.21875 -1.578125 1.8125 -2.078125 1.28125 -2.078125 C 1.046875 -2.078125 0.828125 -2 0.65625 -1.828125 L 0.65625 -2.796875 C 0.75 -2.765625 0.921875 -2.734375 1.078125 -2.734375 C 1.6875 -2.734375 2.03125 -3.1875 2.03125 -3.25 C 2.03125 -3.28125 2.015625 -3.296875 1.984375 -3.296875 C 1.984375 -3.296875 1.96875 -3.296875 1.9375 -3.28125 C 1.84375 -3.234375 1.59375 -3.140625 1.265625 -3.140625 C 1.0625 -3.140625 0.84375 -3.171875 0.609375 -3.28125 C 0.5625 -3.296875 0.546875 -3.296875 0.546875 -3.296875 C 0.5 -3.296875 0.5 -3.25 0.5 -3.171875 L 0.5 -1.703125 C 0.5 -1.625 0.5 -1.578125 0.5625 -1.578125 C 0.609375 -1.578125 0.609375 -1.59375 0.640625 -1.625 C 0.6875 -1.703125 0.875 -1.96875 1.265625 -1.96875 C 1.53125 -1.96875 1.65625 -1.75 1.6875 -1.65625 C 1.765625 -1.46875 1.78125 -1.28125 1.78125 -1.03125 C 1.78125 -0.859375 1.78125 -0.5625 1.671875 -0.359375 C 1.546875 -0.15625 1.359375 -0.03125 1.140625 -0.03125 C 0.765625 -0.03125 0.484375 -0.296875 0.40625 -0.578125 C 0.421875 -0.578125 0.4375 -0.578125 0.484375 -0.578125 C 0.65625 -0.578125 0.734375 -0.703125 0.734375 -0.8125 C 0.734375 -0.9375 0.65625 -1.0625 0.484375 -1.0625 C 0.421875 -1.0625 0.25 -1.03125 0.25 -0.796875 C 0.25 -0.375 0.59375 0.109375 1.140625 0.109375 C 1.71875 0.109375 2.21875 -0.359375 2.21875 -1 Z M 2.21875 -1 \"/>\n",
       "</symbol>\n",
       "<symbol overflow=\"visible\" id=\"glyph-1600136556647676-1-0\">\n",
       "<path style=\"stroke:none;\" d=\"\"/>\n",
       "</symbol>\n",
       "<symbol overflow=\"visible\" id=\"glyph-1600136556647676-1-1\">\n",
       "<path style=\"stroke:none;\" d=\"M 7.15625 -2.484375 C 7.15625 -2.578125 7.0625 -2.671875 6.953125 -2.671875 L 4.046875 -2.671875 L 4.046875 -5.578125 C 4.046875 -5.6875 3.96875 -5.78125 3.859375 -5.78125 C 3.75 -5.78125 3.65625 -5.6875 3.65625 -5.578125 L 3.65625 -2.671875 L 0.75 -2.671875 C 0.640625 -2.671875 0.5625 -2.578125 0.5625 -2.484375 C 0.5625 -2.375 0.640625 -2.28125 0.75 -2.28125 L 3.65625 -2.28125 L 3.65625 0.625 C 3.65625 0.734375 3.75 0.828125 3.859375 0.828125 C 3.96875 0.828125 4.046875 0.734375 4.046875 0.625 L 4.046875 -2.28125 L 6.953125 -2.28125 C 7.0625 -2.28125 7.15625 -2.375 7.15625 -2.484375 Z M 7.15625 -2.484375 \"/>\n",
       "</symbol>\n",
       "<symbol overflow=\"visible\" id=\"glyph-1600136556647676-1-2\">\n",
       "<path style=\"stroke:none;\" d=\"M 4.3125 -4.234375 C 4.40625 -4.390625 4.34375 -4.578125 4.1875 -4.640625 L 2.71875 -5.296875 L 4.1875 -5.953125 C 4.34375 -6.015625 4.40625 -6.21875 4.3125 -6.375 C 4.234375 -6.515625 4.03125 -6.5625 3.890625 -6.453125 L 2.59375 -5.515625 L 2.765625 -7.109375 C 2.78125 -7.28125 2.65625 -7.4375 2.484375 -7.4375 C 2.296875 -7.4375 2.171875 -7.28125 2.1875 -7.109375 L 2.359375 -5.515625 L 1.0625 -6.453125 C 0.921875 -6.5625 0.71875 -6.515625 0.640625 -6.375 C 0.546875 -6.21875 0.609375 -6.015625 0.765625 -5.953125 L 2.234375 -5.296875 L 0.765625 -4.640625 C 0.609375 -4.578125 0.546875 -4.390625 0.640625 -4.234375 C 0.71875 -4.078125 0.921875 -4.046875 1.0625 -4.140625 L 2.359375 -5.09375 L 2.1875 -3.5 C 2.171875 -3.3125 2.296875 -3.171875 2.484375 -3.171875 C 2.65625 -3.171875 2.78125 -3.3125 2.765625 -3.5 L 2.59375 -5.09375 L 3.890625 -4.140625 C 4.03125 -4.046875 4.234375 -4.078125 4.3125 -4.234375 Z M 4.3125 -4.234375 \"/>\n",
       "</symbol>\n",
       "<symbol overflow=\"visible\" id=\"glyph-1600136556647676-1-3\">\n",
       "<path style=\"stroke:none;\" d=\"M 4.15625 0 L 4.15625 -0.3125 L 3.828125 -0.3125 C 2.9375 -0.3125 2.90625 -0.421875 2.90625 -0.78125 L 2.90625 -6.34375 C 2.90625 -6.578125 2.90625 -6.59375 2.6875 -6.59375 C 2.078125 -5.96875 1.203125 -5.96875 0.875 -5.96875 L 0.875 -5.65625 C 1.078125 -5.65625 1.671875 -5.65625 2.171875 -5.90625 L 2.171875 -0.78125 C 2.171875 -0.421875 2.15625 -0.3125 1.265625 -0.3125 L 0.9375 -0.3125 L 0.9375 0 C 1.28125 -0.03125 2.15625 -0.03125 2.546875 -0.03125 C 2.9375 -0.03125 3.796875 -0.03125 4.15625 0 Z M 4.15625 0 \"/>\n",
       "</symbol>\n",
       "<symbol overflow=\"visible\" id=\"glyph-1600136556647676-1-4\">\n",
       "<path style=\"stroke:none;\" d=\"M 2.734375 -1.859375 L 2.734375 -2.421875 L 0.109375 -2.421875 L 0.109375 -1.859375 Z M 2.734375 -1.859375 \"/>\n",
       "</symbol>\n",
       "<symbol overflow=\"visible\" id=\"glyph-1600136556647676-1-5\">\n",
       "<path style=\"stroke:none;\" d=\"M 4.453125 -1.71875 L 4.203125 -1.71875 C 4.15625 -1.421875 4.078125 -0.984375 3.984375 -0.84375 C 3.90625 -0.765625 3.265625 -0.765625 3.046875 -0.765625 L 1.265625 -0.765625 L 2.3125 -1.78125 C 3.859375 -3.15625 4.453125 -3.6875 4.453125 -4.671875 C 4.453125 -5.8125 3.5625 -6.59375 2.34375 -6.59375 C 1.234375 -6.59375 0.5 -5.6875 0.5 -4.796875 C 0.5 -4.25 0.984375 -4.25 1.015625 -4.25 C 1.1875 -4.25 1.53125 -4.375 1.53125 -4.78125 C 1.53125 -5.03125 1.359375 -5.296875 1.015625 -5.296875 C 0.9375 -5.296875 0.90625 -5.296875 0.875 -5.28125 C 1.109375 -5.921875 1.640625 -6.296875 2.21875 -6.296875 C 3.125 -6.296875 3.546875 -5.484375 3.546875 -4.671875 C 3.546875 -3.890625 3.046875 -3.09375 2.5 -2.484375 L 0.609375 -0.359375 C 0.5 -0.25 0.5 -0.234375 0.5 0 L 4.171875 0 Z M 4.453125 -1.71875 \"/>\n",
       "</symbol>\n",
       "<symbol overflow=\"visible\" id=\"glyph-1600136556647676-1-6\">\n",
       "<path style=\"stroke:none;\" d=\"M 4.53125 -1.6875 C 4.53125 -2.5 3.90625 -3.28125 2.875 -3.484375 C 3.6875 -3.75 4.265625 -4.453125 4.265625 -5.234375 C 4.265625 -6.046875 3.390625 -6.59375 2.4375 -6.59375 C 1.4375 -6.59375 0.6875 -6 0.6875 -5.25 C 0.6875 -4.921875 0.90625 -4.734375 1.1875 -4.734375 C 1.5 -4.734375 1.6875 -4.953125 1.6875 -5.234375 C 1.6875 -5.734375 1.234375 -5.734375 1.078125 -5.734375 C 1.390625 -6.21875 2.046875 -6.34375 2.390625 -6.34375 C 2.796875 -6.34375 3.34375 -6.125 3.34375 -5.234375 C 3.34375 -5.125 3.328125 -4.546875 3.078125 -4.109375 C 2.78125 -3.640625 2.4375 -3.609375 2.1875 -3.59375 C 2.109375 -3.59375 1.875 -3.5625 1.796875 -3.5625 C 1.71875 -3.5625 1.65625 -3.546875 1.65625 -3.453125 C 1.65625 -3.34375 1.71875 -3.34375 1.890625 -3.34375 L 2.328125 -3.34375 C 3.140625 -3.34375 3.5 -2.671875 3.5 -1.6875 C 3.5 -0.34375 2.828125 -0.0625 2.390625 -0.0625 C 1.96875 -0.0625 1.21875 -0.234375 0.875 -0.8125 C 1.21875 -0.765625 1.53125 -0.984375 1.53125 -1.359375 C 1.53125 -1.71875 1.265625 -1.90625 0.96875 -1.90625 C 0.734375 -1.90625 0.421875 -1.765625 0.421875 -1.34375 C 0.421875 -0.4375 1.34375 0.21875 2.421875 0.21875 C 3.625 0.21875 4.53125 -0.6875 4.53125 -1.6875 Z M 4.53125 -1.6875 \"/>\n",
       "</symbol>\n",
       "<symbol overflow=\"visible\" id=\"glyph-1600136556647676-1-7\">\n",
       "<path style=\"stroke:none;\" d=\"M 4.671875 -1.640625 L 4.671875 -1.9375 L 3.671875 -1.9375 L 3.671875 -6.453125 C 3.671875 -6.640625 3.671875 -6.703125 3.515625 -6.703125 C 3.421875 -6.703125 3.390625 -6.703125 3.3125 -6.59375 L 0.28125 -1.9375 L 0.28125 -1.640625 L 2.90625 -1.640625 L 2.90625 -0.765625 C 2.90625 -0.421875 2.890625 -0.3125 2.15625 -0.3125 L 1.953125 -0.3125 L 1.953125 0 C 2.359375 -0.03125 2.875 -0.03125 3.28125 -0.03125 C 3.703125 -0.03125 4.234375 -0.03125 4.640625 0 L 4.640625 -0.3125 L 4.421875 -0.3125 C 3.6875 -0.3125 3.671875 -0.421875 3.671875 -0.765625 L 3.671875 -1.640625 Z M 2.96875 -1.9375 L 0.5625 -1.9375 L 2.96875 -5.640625 Z M 2.96875 -1.9375 \"/>\n",
       "</symbol>\n",
       "<symbol overflow=\"visible\" id=\"glyph-1600136556647676-1-8\">\n",
       "<path style=\"stroke:none;\" d=\"M 4.453125 -1.984375 C 4.453125 -3.171875 3.640625 -4.15625 2.5625 -4.15625 C 2.09375 -4.15625 1.671875 -4 1.3125 -3.65625 L 1.3125 -5.59375 C 1.5 -5.53125 1.828125 -5.453125 2.15625 -5.453125 C 3.375 -5.453125 4.0625 -6.359375 4.0625 -6.484375 C 4.0625 -6.546875 4.03125 -6.59375 3.96875 -6.59375 C 3.96875 -6.59375 3.9375 -6.59375 3.890625 -6.5625 C 3.6875 -6.484375 3.203125 -6.28125 2.53125 -6.28125 C 2.140625 -6.28125 1.6875 -6.34375 1.21875 -6.5625 C 1.140625 -6.59375 1.09375 -6.59375 1.09375 -6.59375 C 1 -6.59375 1 -6.515625 1 -6.34375 L 1 -3.421875 C 1 -3.234375 1 -3.15625 1.140625 -3.15625 C 1.203125 -3.15625 1.234375 -3.1875 1.265625 -3.25 C 1.375 -3.40625 1.75 -3.9375 2.546875 -3.9375 C 3.0625 -3.9375 3.3125 -3.484375 3.390625 -3.3125 C 3.546875 -2.9375 3.5625 -2.5625 3.5625 -2.0625 C 3.5625 -1.71875 3.5625 -1.125 3.328125 -0.703125 C 3.09375 -0.3125 2.71875 -0.0625 2.265625 -0.0625 C 1.546875 -0.0625 0.984375 -0.578125 0.8125 -1.171875 C 0.84375 -1.15625 0.875 -1.15625 0.984375 -1.15625 C 1.3125 -1.15625 1.46875 -1.390625 1.46875 -1.640625 C 1.46875 -1.875 1.3125 -2.125 0.984375 -2.125 C 0.84375 -2.125 0.5 -2.046875 0.5 -1.59375 C 0.5 -0.75 1.171875 0.21875 2.28125 0.21875 C 3.4375 0.21875 4.453125 -0.734375 4.453125 -1.984375 Z M 4.453125 -1.984375 \"/>\n",
       "</symbol>\n",
       "</g>\n",
       "</defs>\n",
       "<g id=\"surface1\">\n",
       "<path style=\"fill:none;stroke-width:0.3985;stroke-linecap:butt;stroke-linejoin:miter;stroke:rgb(0%,0%,0%);stroke-opacity:1;stroke-miterlimit:10;\" d=\"M -0.00185516 -6.838711 L -0.00185516 -20.633677 \" transform=\"matrix(0.994192,0,0,-0.994192,133.076063,6.599446)\"/>\n",
       "<path style=\"fill:none;stroke-width:0.31879;stroke-linecap:round;stroke-linejoin:round;stroke:rgb(0%,0%,0%);stroke-opacity:1;stroke-miterlimit:10;\" d=\"M -1.197349 1.593347 C -1.095193 0.996129 0.00101736 0.100301 0.299627 -0.00185516 C 0.00101736 -0.100082 -1.095193 -0.99591 -1.197349 -1.593129 \" transform=\"matrix(0,0.994192,0.994192,0,133.076063,27.11227)\"/>\n",
       "<g style=\"fill:rgb(0%,0%,0%);fill-opacity:1;\">\n",
       "  <use xlink:href=\"#glyph-1600136556647676-0-1\" x=\"136.575619\" y=\"22.077026\"/>\n",
       "  <use xlink:href=\"#glyph-1600136556647676-0-2\" x=\"139.051813\" y=\"22.077026\"/>\n",
       "  <use xlink:href=\"#glyph-1600136556647676-0-3\" x=\"140.428577\" y=\"22.077026\"/>\n",
       "</g>\n",
       "<path style=\"fill:none;stroke-width:0.3985;stroke-linecap:butt;stroke-linejoin:miter;stroke:rgb(0%,0%,0%);stroke-opacity:1;stroke-miterlimit:10;\" d=\"M -6.009404 -30.063446 L -91.376315 -54.455115 \" transform=\"matrix(0.994192,0,0,-0.994192,133.076063,6.599446)\"/>\n",
       "<path style=\"fill:none;stroke-width:0.31879;stroke-linecap:round;stroke-linejoin:round;stroke:rgb(0%,0%,0%);stroke-opacity:1;stroke-miterlimit:10;\" d=\"M -1.197415 1.592924 C -1.094322 0.995455 -0.00191888 0.098992 0.300865 0.000226541 C -0.000837286 -0.0974661 -1.095919 -0.998271 -1.196841 -1.594663 \" transform=\"matrix(-0.955906,0.273105,0.273105,0.955906,42.228943,60.737928)\"/>\n",
       "<path style=\"fill:none;stroke-width:0.3985;stroke-linecap:butt;stroke-linejoin:miter;stroke:rgb(0%,0%,0%);stroke-opacity:1;stroke-miterlimit:10;\" d=\"M -6.009404 -32.354094 L -34.742695 -51.508312 \" transform=\"matrix(0.994192,0,0,-0.994192,133.076063,6.599446)\"/>\n",
       "<path style=\"fill:none;stroke-width:0.31879;stroke-linecap:round;stroke-linejoin:round;stroke:rgb(0%,0%,0%);stroke-opacity:1;stroke-miterlimit:10;\" d=\"M -1.195612 1.594078 C -1.095348 0.993614 -0.00120728 0.0989187 0.299571 -0.00242774 C -0.00120563 -0.0994201 -1.094241 -0.995223 -1.195585 -1.59351 \" transform=\"matrix(-0.827188,0.551448,0.551448,0.827188,98.534297,57.809466)\"/>\n",
       "<path style=\"fill:none;stroke-width:0.3985;stroke-linecap:butt;stroke-linejoin:miter;stroke:rgb(0%,0%,0%);stroke-opacity:1;stroke-miterlimit:10;\" d=\"M -0.00185516 -35.603435 L -0.00185516 -49.398401 \" transform=\"matrix(0.994192,0,0,-0.994192,133.076063,6.599446)\"/>\n",
       "<path style=\"fill:none;stroke-width:0.31879;stroke-linecap:round;stroke-linejoin:round;stroke:rgb(0%,0%,0%);stroke-opacity:1;stroke-miterlimit:10;\" d=\"M -1.193926 1.593347 C -1.095699 0.996129 0.000511448 0.100301 0.299121 -0.00185516 C 0.000511448 -0.100082 -1.095699 -0.99591 -1.193926 -1.593129 \" transform=\"matrix(0,0.994192,0.994192,0,133.076063,55.710429)\"/>\n",
       "<path style=\"fill:none;stroke-width:0.3985;stroke-linecap:butt;stroke-linejoin:miter;stroke:rgb(0%,0%,0%);stroke-opacity:1;stroke-miterlimit:10;\" d=\"M 6.009622 -32.354094 L 34.742914 -51.508312 \" transform=\"matrix(0.994192,0,0,-0.994192,133.076063,6.599446)\"/>\n",
       "<path style=\"fill:none;stroke-width:0.31879;stroke-linecap:round;stroke-linejoin:round;stroke:rgb(0%,0%,0%);stroke-opacity:1;stroke-miterlimit:10;\" d=\"M -1.195403 1.593631 C -1.094059 0.995345 -0.0010236 0.0995415 0.296484 0.000369573 C -0.00102525 -0.0987974 -1.098435 -0.995672 -1.19543 -1.593957 \" transform=\"matrix(0.827188,0.551448,0.551448,-0.827188,167.61783,57.809466)\"/>\n",
       "<path style=\"fill:none;stroke-width:0.3985;stroke-linecap:butt;stroke-linejoin:miter;stroke:rgb(0%,0%,0%);stroke-opacity:1;stroke-miterlimit:10;\" d=\"M 6.009622 -30.063446 L 91.376534 -54.455115 \" transform=\"matrix(0.994192,0,0,-0.994192,133.076063,6.599446)\"/>\n",
       "<path style=\"fill:none;stroke-width:0.31879;stroke-linecap:round;stroke-linejoin:round;stroke:rgb(0%,0%,0%);stroke-opacity:1;stroke-miterlimit:10;\" d=\"M -1.196615 1.594706 C -1.095694 0.998315 -0.000611826 0.0975097 0.297313 -0.00126233 C -0.00169343 -0.0989484 -1.094097 -0.995411 -1.19719 -1.59288 \" transform=\"matrix(0.955906,0.273105,0.273105,-0.955906,223.923173,60.737908)\"/>\n",
       "<path style=\"fill:none;stroke-width:0.3985;stroke-linecap:butt;stroke-linejoin:miter;stroke:rgb(0%,0%,0%);stroke-opacity:1;stroke-miterlimit:10;\" d=\"M -106.051393 -63.531268 L -121.225463 -78.705337 \" transform=\"matrix(0.994192,0,0,-0.994192,133.076063,6.599446)\"/>\n",
       "<path style=\"fill:none;stroke-width:0.31879;stroke-linecap:round;stroke-linejoin:round;stroke:rgb(0%,0%,0%);stroke-opacity:1;stroke-miterlimit:10;\" d=\"M -1.195475 1.594796 C -1.095456 0.994684 -0.000805993 0.100071 0.29925 0.000052562 C -0.000805993 -0.0999662 -1.095456 -0.994578 -1.195475 -1.594691 \" transform=\"matrix(-0.702993,0.702993,0.702993,0.702993,12.554084,84.848186)\"/>\n",
       "<g style=\"fill:rgb(0%,0%,0%);fill-opacity:1;\">\n",
       "  <use xlink:href=\"#glyph-1600136556647676-0-3\" x=\"23.437572\" y=\"84.262736\"/>\n",
       "  <use xlink:href=\"#glyph-1600136556647676-0-2\" x=\"25.913767\" y=\"84.262736\"/>\n",
       "  <use xlink:href=\"#glyph-1600136556647676-0-4\" x=\"27.29053\" y=\"84.262736\"/>\n",
       "</g>\n",
       "<path style=\"fill:none;stroke-width:0.3985;stroke-linecap:butt;stroke-linejoin:miter;stroke:rgb(0%,0%,0%);stroke-opacity:1;stroke-miterlimit:10;\" d=\"M -99.214811 -63.531268 L -99.214811 -77.746644 \" transform=\"matrix(0.994192,0,0,-0.994192,133.076063,6.599446)\"/>\n",
       "<path style=\"fill:none;stroke-width:0.31879;stroke-linecap:round;stroke-linejoin:round;stroke:rgb(0%,0%,0%);stroke-opacity:1;stroke-miterlimit:10;\" d=\"M -1.196422 1.594212 C -1.094267 0.996993 0.00194408 0.101165 0.300553 -0.00099077 C 0.00194408 -0.0992175 -1.094267 -0.995046 -1.196422 -1.592264 \" transform=\"matrix(0,0.994192,0.994192,0,34.438485,83.892598)\"/>\n",
       "<g style=\"fill:rgb(0%,0%,0%);fill-opacity:1;\">\n",
       "  <use xlink:href=\"#glyph-1600136556647676-0-3\" x=\"37.938856\" y=\"78.648534\"/>\n",
       "  <use xlink:href=\"#glyph-1600136556647676-0-2\" x=\"40.41505\" y=\"78.648534\"/>\n",
       "  <use xlink:href=\"#glyph-1600136556647676-0-4\" x=\"41.791814\" y=\"78.648534\"/>\n",
       "</g>\n",
       "<path style=\"fill:none;stroke-width:0.3985;stroke-linecap:butt;stroke-linejoin:miter;stroke:rgb(0%,0%,0%);stroke-opacity:1;stroke-miterlimit:10;\" d=\"M -49.358837 -63.531268 L -64.532907 -78.705337 \" transform=\"matrix(0.994192,0,0,-0.994192,133.076063,6.599446)\"/>\n",
       "<path style=\"fill:none;stroke-width:0.31879;stroke-linecap:round;stroke-linejoin:round;stroke:rgb(0%,0%,0%);stroke-opacity:1;stroke-miterlimit:10;\" d=\"M -1.194729 1.594051 C -1.097489 0.996717 -0.0000608348 0.0993262 0.299995 -0.000692596 C -0.0000608348 -0.100711 -1.094711 -0.995324 -1.194729 -1.595436 \" transform=\"matrix(-0.702993,0.702993,0.702993,0.702993,68.918413,84.848186)\"/>\n",
       "<g style=\"fill:rgb(0%,0%,0%);fill-opacity:1;\">\n",
       "  <use xlink:href=\"#glyph-1600136556647676-0-3\" x=\"79.801295\" y=\"84.262736\"/>\n",
       "  <use xlink:href=\"#glyph-1600136556647676-0-2\" x=\"82.277489\" y=\"84.262736\"/>\n",
       "  <use xlink:href=\"#glyph-1600136556647676-0-4\" x=\"83.654253\" y=\"84.262736\"/>\n",
       "</g>\n",
       "<path style=\"fill:none;stroke-width:0.3985;stroke-linecap:butt;stroke-linejoin:miter;stroke:rgb(0%,0%,0%);stroke-opacity:1;stroke-miterlimit:10;\" d=\"M -42.518326 -63.531268 L -42.518326 -77.746644 \" transform=\"matrix(0.994192,0,0,-0.994192,133.076063,6.599446)\"/>\n",
       "<path style=\"fill:none;stroke-width:0.31879;stroke-linecap:round;stroke-linejoin:round;stroke:rgb(0%,0%,0%);stroke-opacity:1;stroke-miterlimit:10;\" d=\"M -1.196422 1.593148 C -1.094267 0.995929 0.00194408 0.100101 0.300553 0.0018745 C 0.00194408 -0.100281 -1.094267 -0.996109 -1.196422 -1.593328 \" transform=\"matrix(0,0.994192,0.994192,0,90.802824,83.892598)\"/>\n",
       "<g style=\"fill:rgb(0%,0%,0%);fill-opacity:1;\">\n",
       "  <use xlink:href=\"#glyph-1600136556647676-0-3\" x=\"94.302578\" y=\"78.648534\"/>\n",
       "  <use xlink:href=\"#glyph-1600136556647676-0-2\" x=\"96.778772\" y=\"78.648534\"/>\n",
       "  <use xlink:href=\"#glyph-1600136556647676-0-4\" x=\"98.155536\" y=\"78.648534\"/>\n",
       "</g>\n",
       "<path style=\"fill:none;stroke-width:0.3985;stroke-linecap:butt;stroke-linejoin:miter;stroke:rgb(0%,0%,0%);stroke-opacity:1;stroke-miterlimit:10;\" d=\"M -3.420146 -63.531268 L -10.496402 -77.683779 \" transform=\"matrix(0.994192,0,0,-0.994192,133.076063,6.599446)\"/>\n",
       "<path style=\"fill:none;stroke-width:0.31879;stroke-linecap:round;stroke-linejoin:round;stroke:rgb(0%,0%,0%);stroke-opacity:1;stroke-miterlimit:10;\" d=\"M -1.195808 1.592675 C -1.095649 0.996958 -0.00087531 0.0989815 0.299618 -0.00118575 C 0.000880204 -0.0978331 -1.095667 -0.997547 -1.197594 -1.593262 \" transform=\"matrix(-0.444573,0.889165,0.889165,0.444573,122.642069,83.831774)\"/>\n",
       "<g style=\"fill:rgb(0%,0%,0%);fill-opacity:1;\">\n",
       "  <use xlink:href=\"#glyph-1600136556647676-0-3\" x=\"129.557618\" y=\"83.797454\"/>\n",
       "  <use xlink:href=\"#glyph-1600136556647676-0-2\" x=\"132.033812\" y=\"83.797454\"/>\n",
       "  <use xlink:href=\"#glyph-1600136556647676-0-4\" x=\"133.410576\" y=\"83.797454\"/>\n",
       "</g>\n",
       "<path style=\"fill:none;stroke-width:0.3985;stroke-linecap:butt;stroke-linejoin:miter;stroke:rgb(0%,0%,0%);stroke-opacity:1;stroke-miterlimit:10;\" d=\"M 3.420365 -63.531268 L 10.496621 -77.683779 \" transform=\"matrix(0.994192,0,0,-0.994192,133.076063,6.599446)\"/>\n",
       "<path style=\"fill:none;stroke-width:0.31879;stroke-linecap:round;stroke-linejoin:round;stroke:rgb(0%,0%,0%);stroke-opacity:1;stroke-miterlimit:10;\" d=\"M -1.197496 1.593458 C -1.095569 0.997743 0.000978041 0.0980288 0.299715 0.00138143 C -0.000777472 -0.0987859 -1.095551 -0.996762 -1.19571 -1.592479 \" transform=\"matrix(0.444573,0.889165,0.889165,-0.444573,143.510058,83.831774)\"/>\n",
       "<g style=\"fill:rgb(0%,0%,0%);fill-opacity:1;\">\n",
       "  <use xlink:href=\"#glyph-1600136556647676-0-3\" x=\"143.593619\" y=\"73.391247\"/>\n",
       "  <use xlink:href=\"#glyph-1600136556647676-0-2\" x=\"146.069813\" y=\"73.391247\"/>\n",
       "  <use xlink:href=\"#glyph-1600136556647676-0-4\" x=\"147.446577\" y=\"73.391247\"/>\n",
       "</g>\n",
       "<path style=\"fill:none;stroke-width:0.3985;stroke-linecap:butt;stroke-linejoin:miter;stroke:rgb(0%,0%,0%);stroke-opacity:1;stroke-miterlimit:10;\" d=\"M 42.518544 -63.531268 L 42.518544 -77.691637 \" transform=\"matrix(0.994192,0,0,-0.994192,133.076063,6.599446)\"/>\n",
       "<path style=\"fill:none;stroke-width:0.31879;stroke-linecap:round;stroke-linejoin:round;stroke:rgb(0%,0%,0%);stroke-opacity:1;stroke-miterlimit:10;\" d=\"M -1.196639 1.593547 C -1.094484 0.996328 0.0017271 0.1005 0.300336 -0.00165574 C 0.0017271 -0.0998825 -1.094484 -0.995711 -1.196639 -1.592929 \" transform=\"matrix(0,0.994192,0.994192,0,175.349302,83.838127)\"/>\n",
       "<g style=\"fill:rgb(0%,0%,0%);fill-opacity:1;\">\n",
       "  <use xlink:href=\"#glyph-1600136556647676-0-3\" x=\"178.848659\" y=\"78.621691\"/>\n",
       "  <use xlink:href=\"#glyph-1600136556647676-0-2\" x=\"181.324853\" y=\"78.621691\"/>\n",
       "  <use xlink:href=\"#glyph-1600136556647676-0-4\" x=\"182.701617\" y=\"78.621691\"/>\n",
       "</g>\n",
       "<path style=\"fill:none;stroke-width:0.3985;stroke-linecap:butt;stroke-linejoin:miter;stroke:rgb(0%,0%,0%);stroke-opacity:1;stroke-miterlimit:10;\" d=\"M 49.359056 -63.531268 L 63.649085 -77.825225 \" transform=\"matrix(0.994192,0,0,-0.994192,133.076063,6.599446)\"/>\n",
       "<path style=\"fill:none;stroke-width:0.31879;stroke-linecap:round;stroke-linejoin:round;stroke:rgb(0%,0%,0%);stroke-opacity:1;stroke-miterlimit:10;\" d=\"M -1.195086 1.592791 C -1.097845 0.995457 -0.000417102 0.0980665 0.299639 -0.00195223 C -0.000417102 -0.101971 -1.095067 -0.996583 -1.197864 -1.593918 \" transform=\"matrix(0.702993,0.702993,0.702993,-0.702993,196.357134,83.971577)\"/>\n",
       "<g style=\"fill:rgb(0%,0%,0%);fill-opacity:1;\">\n",
       "  <use xlink:href=\"#glyph-1600136556647676-0-3\" x=\"192.911504\" y=\"73.418091\"/>\n",
       "  <use xlink:href=\"#glyph-1600136556647676-0-2\" x=\"195.387698\" y=\"73.418091\"/>\n",
       "  <use xlink:href=\"#glyph-1600136556647676-0-4\" x=\"196.764462\" y=\"73.418091\"/>\n",
       "</g>\n",
       "<path style=\"fill:none;stroke-width:0.3985;stroke-linecap:butt;stroke-linejoin:miter;stroke:rgb(0%,0%,0%);stroke-opacity:1;stroke-miterlimit:10;\" d=\"M 99.21503 -63.531268 L 99.21503 -77.63663 \" transform=\"matrix(0.994192,0,0,-0.994192,133.076063,6.599446)\"/>\n",
       "<path style=\"fill:none;stroke-width:0.31879;stroke-linecap:round;stroke-linejoin:round;stroke:rgb(0%,0%,0%);stroke-opacity:1;stroke-miterlimit:10;\" d=\"M -1.196856 1.592483 C -1.094701 0.995264 0.00151011 0.0994363 0.300119 0.00120953 C 0.00151011 -0.100946 -1.094701 -0.996774 -1.196856 -1.593993 \" transform=\"matrix(0,0.994192,0.994192,0,231.713641,83.783655)\"/>\n",
       "<g style=\"fill:rgb(0%,0%,0%);fill-opacity:1;\">\n",
       "  <use xlink:href=\"#glyph-1600136556647676-0-3\" x=\"235.211387\" y=\"78.593854\"/>\n",
       "  <use xlink:href=\"#glyph-1600136556647676-0-2\" x=\"237.687581\" y=\"78.593854\"/>\n",
       "  <use xlink:href=\"#glyph-1600136556647676-0-4\" x=\"239.064345\" y=\"78.593854\"/>\n",
       "</g>\n",
       "<path style=\"fill:none;stroke-width:0.3985;stroke-linecap:butt;stroke-linejoin:miter;stroke:rgb(0%,0%,0%);stroke-opacity:1;stroke-miterlimit:10;\" d=\"M 106.051612 -63.531268 L 120.290563 -77.770219 \" transform=\"matrix(0.994192,0,0,-0.994192,133.076063,6.599446)\"/>\n",
       "<path style=\"fill:none;stroke-width:0.31879;stroke-linecap:round;stroke-linejoin:round;stroke:rgb(0%,0%,0%);stroke-opacity:1;stroke-miterlimit:10;\" d=\"M -1.196116 1.592067 C -1.096098 0.997511 0.00133039 0.100121 0.301387 0.000102125 C 0.00133039 -0.0999166 -1.096098 -0.997307 -1.196116 -1.591863 \" transform=\"matrix(0.702993,0.702993,0.702993,-0.702993,252.666962,83.917105)\"/>\n",
       "<g style=\"fill:rgb(0%,0%,0%);fill-opacity:1;\">\n",
       "  <use xlink:href=\"#glyph-1600136556647676-0-3\" x=\"249.248383\" y=\"73.391247\"/>\n",
       "  <use xlink:href=\"#glyph-1600136556647676-0-2\" x=\"251.724577\" y=\"73.391247\"/>\n",
       "  <use xlink:href=\"#glyph-1600136556647676-0-4\" x=\"253.101341\" y=\"73.391247\"/>\n",
       "</g>\n",
       "<g style=\"fill:rgb(0%,0%,0%);fill-opacity:1;\">\n",
       "  <use xlink:href=\"#glyph-1600136556647676-1-1\" x=\"129.223569\" y=\"9.075978\"/>\n",
       "</g>\n",
       "<g style=\"fill:rgb(0%,0%,0%);fill-opacity:1;\">\n",
       "  <use xlink:href=\"#glyph-1600136556647676-1-2\" x=\"130.599531\" y=\"38.495111\"/>\n",
       "</g>\n",
       "<g style=\"fill:rgb(0%,0%,0%);fill-opacity:1;\">\n",
       "  <use xlink:href=\"#glyph-1600136556647676-1-1\" x=\"30.586807\" y=\"65.439701\"/>\n",
       "</g>\n",
       "<g style=\"fill:rgb(0%,0%,0%);fill-opacity:1;\">\n",
       "  <use xlink:href=\"#glyph-1600136556647676-1-1\" x=\"86.950529\" y=\"65.439701\"/>\n",
       "</g>\n",
       "<g style=\"fill:rgb(0%,0%,0%);fill-opacity:1;\">\n",
       "  <use xlink:href=\"#glyph-1600136556647676-1-1\" x=\"129.223569\" y=\"65.439701\"/>\n",
       "</g>\n",
       "<g style=\"fill:rgb(0%,0%,0%);fill-opacity:1;\">\n",
       "  <use xlink:href=\"#glyph-1600136556647676-1-1\" x=\"171.495616\" y=\"65.439701\"/>\n",
       "</g>\n",
       "<g style=\"fill:rgb(0%,0%,0%);fill-opacity:1;\">\n",
       "  <use xlink:href=\"#glyph-1600136556647676-1-1\" x=\"227.859338\" y=\"65.439701\"/>\n",
       "</g>\n",
       "<g style=\"fill:rgb(0%,0%,0%);fill-opacity:1;\">\n",
       "  <use xlink:href=\"#glyph-1600136556647676-1-3\" x=\"3.782398\" y=\"94.443261\"/>\n",
       "</g>\n",
       "<g style=\"fill:rgb(0%,0%,0%);fill-opacity:1;\">\n",
       "  <use xlink:href=\"#glyph-1600136556647676-1-4\" x=\"30.314398\" y=\"94.443261\"/>\n",
       "  <use xlink:href=\"#glyph-1600136556647676-1-3\" x=\"33.612688\" y=\"94.443261\"/>\n",
       "</g>\n",
       "<g style=\"fill:rgb(0%,0%,0%);fill-opacity:1;\">\n",
       "  <use xlink:href=\"#glyph-1600136556647676-1-5\" x=\"60.145127\" y=\"94.443261\"/>\n",
       "</g>\n",
       "<g style=\"fill:rgb(0%,0%,0%);fill-opacity:1;\">\n",
       "  <use xlink:href=\"#glyph-1600136556647676-1-4\" x=\"86.67812\" y=\"94.443261\"/>\n",
       "  <use xlink:href=\"#glyph-1600136556647676-1-5\" x=\"89.976411\" y=\"94.443261\"/>\n",
       "</g>\n",
       "<g style=\"fill:rgb(0%,0%,0%);fill-opacity:1;\">\n",
       "  <use xlink:href=\"#glyph-1600136556647676-1-6\" x=\"116.508849\" y=\"94.3339\"/>\n",
       "</g>\n",
       "<g style=\"fill:rgb(0%,0%,0%);fill-opacity:1;\">\n",
       "  <use xlink:href=\"#glyph-1600136556647676-1-4\" x=\"143.041843\" y=\"94.3339\"/>\n",
       "  <use xlink:href=\"#glyph-1600136556647676-1-6\" x=\"146.340133\" y=\"94.3339\"/>\n",
       "</g>\n",
       "<g style=\"fill:rgb(0%,0%,0%);fill-opacity:1;\">\n",
       "  <use xlink:href=\"#glyph-1600136556647676-1-7\" x=\"172.872571\" y=\"94.497942\"/>\n",
       "</g>\n",
       "<g style=\"fill:rgb(0%,0%,0%);fill-opacity:1;\">\n",
       "  <use xlink:href=\"#glyph-1600136556647676-1-4\" x=\"199.405565\" y=\"94.497942\"/>\n",
       "  <use xlink:href=\"#glyph-1600136556647676-1-7\" x=\"202.703856\" y=\"94.497942\"/>\n",
       "</g>\n",
       "<g style=\"fill:rgb(0%,0%,0%);fill-opacity:1;\">\n",
       "  <use xlink:href=\"#glyph-1600136556647676-1-8\" x=\"229.236294\" y=\"94.3339\"/>\n",
       "</g>\n",
       "<g style=\"fill:rgb(0%,0%,0%);fill-opacity:1;\">\n",
       "  <use xlink:href=\"#glyph-1600136556647676-1-4\" x=\"255.769288\" y=\"94.3339\"/>\n",
       "  <use xlink:href=\"#glyph-1600136556647676-1-8\" x=\"259.067578\" y=\"94.3339\"/>\n",
       "</g>\n",
       "</g>\n",
       "</svg>\n",
       "\n"
      ],
      "text/plain": [
       "TikzPictures.TikzPicture(\"\\\\graph [layered layout, ] {\\n1/\\\"+\\\" [],\\n2/\\\"*\\\" [],\\n3/\\\"+\\\" [],\\n4/\\\"+\\\" [],\\n5/\\\"+\\\" [],\\n6/\\\"+\\\" [],\\n7/\\\"+\\\" [],\\n8/\\\"1\\\" [],\\n9/\\\"-1\\\" [],\\n10/\\\"2\\\" [],\\n11/\\\"-2\\\" [],\\n12/\\\"3\\\" [],\\n13/\\\"-3\\\" [],\\n14/\\\"4\\\" [],\\n15/\\\"-4\\\" [],\\n16/\\\"5\\\" [],\\n17/\\\"-5\\\" [],\\n;\\n1 -> [font=\\\\tiny,edge label={1.0},] 2;\\n2 -> [font=\\\\tiny,] 3;\\n2 -> [font=\\\\tiny,] 4;\\n2 -> [font=\\\\tiny,] 5;\\n2 -> [font=\\\\tiny,] 6;\\n2 -> [font=\\\\tiny,] 7;\\n3 -> [font=\\\\tiny,edge label={0.5},] 8;\\n3 -> [font=\\\\tiny,edge label={0.5},] 9;\\n4 -> [font=\\\\tiny,edge label={0.5},] 10;\\n4 -> [font=\\\\tiny,edge label={0.5},] 11;\\n5 -> [font=\\\\tiny,edge label={0.5},] 12;\\n5 -> [font=\\\\tiny,edge label={0.5},] 13;\\n6 -> [font=\\\\tiny,edge label={0.5},] 14;\\n6 -> [font=\\\\tiny,edge label={0.5},] 15;\\n7 -> [font=\\\\tiny,edge label={0.5},] 16;\\n7 -> [font=\\\\tiny,edge label={0.5},] 17;\\n};\\n\", \"\", \"\\\\usepackage{fontspec}\\n\\\\setmainfont{Latin Modern Math}\\n\\\\usetikzlibrary{arrows}\\n\\\\usetikzlibrary{graphs}\\n\\\\usetikzlibrary{graphdrawing}\\n\\n% from: https://tex.stackexchange.com/questions/453132/fresh-install-of-tl2018-no-tikz-graph-drawing-libraries-found\\n\\\\usepackage{luacode}\\n\\\\begin{luacode*}\\n\\tfunction pgf_lookup_and_require(name)\\n\\tlocal sep = package.config:sub(1,1)\\n\\tlocal function lookup(name)\\n\\tlocal sub = name:gsub('%.',sep)  \\n\\tif kpse.find_file(sub, 'lua') then\\n\\trequire(name)\\n\\telseif kpse.find_file(sub, 'clua') then\\n\\tcollectgarbage('stop') \\n\\trequire(name)\\n\\tcollectgarbage('restart')\\n\\telse\\n\\treturn false\\n\\tend\\n\\treturn true\\n\\tend\\n\\treturn\\n\\tlookup('pgf.gd.' .. name .. '.library') or\\n\\tlookup('pgf.gd.' .. name) or\\n\\tlookup(name .. '.library') or\\n\\tlookup(name) \\n\\tend\\n\\\\end{luacode*}\\n\\n\\\\usegdlibrary{layered}\", \"tikzpicture\", true)"
      ]
     },
     "execution_count": 33,
     "metadata": {},
     "output_type": "execute_result"
    }
   ],
   "source": [
    "pc = fully_factorized_circuit(ProbCircuit, 5)\n",
    "uniform_parameters(pc)\n",
    "g, label, edge_labels = DiGraph(pc)\n",
    "TikzGraphs.plot(g, label; edge_labels=edge_labels, edge_style=\"font=\\\\tiny\")"
   ]
  },
  {
   "cell_type": "markdown",
   "metadata": {},
   "source": [
    "helper function"
   ]
  },
  {
   "cell_type": "code",
   "execution_count": 34,
   "metadata": {},
   "outputs": [],
   "source": [
    "# You can skip this part. Includes helper functions to make partial observations from arrays of strings\n",
    "# so its easier to present.\n",
    "\n",
    "# Make one observation from list of string describing the observation\n",
    "#\n",
    "# For example, [\"smoker\", \"male\"] sets \n",
    "#   1) The mentioned features to the correct values.\n",
    "#   2) Every feature not mentioned to missing values. \n",
    "FEATURES = 36;\n",
    "function make_one_observation(obs)\n",
    "    result = missings(Bool, FEATURES)\n",
    "    for k in obs\n",
    "        # Smoking\n",
    "        if lowercase(k) == \"smoker\"\n",
    "            result[7:8] .= [0, 1]\n",
    "        elseif lowercase(k) == \"!smoker\"\n",
    "            result[7:8] .= [1, 0]\n",
    "        # Gender\n",
    "        elseif lowercase(k) == \"male\"\n",
    "            result[13:14] .= [1, 0]\n",
    "        elseif lowercase(k) == \"female\"\n",
    "            result[13:14] .= [0, 1]\n",
    "        # Region\n",
    "        elseif lowercase(k) == \"southeast\"\n",
    "            result[9:12] .= [0, 0, 1, 0]\n",
    "        elseif lowercase(k) == \"southwest\"\n",
    "            result[9:12] .= [0, 1, 0, 0]\n",
    "        # Child\n",
    "        elseif lowercase(k) == \"1-child\"\n",
    "            result[1:6] .= [0,1,0,0,0,0]\n",
    "        end\n",
    "    end\n",
    "    result\n",
    "end;\n",
    "\n",
    "function make_observations(obs)\n",
    "    count = size(obs)[1]\n",
    "    result = missings(Bool, count, FEATURES)\n",
    "    for i=1:count\n",
    "        result[i, :] .= make_one_observation(obs[i])\n",
    "    end\n",
    "    DataFrame(result)\n",
    "end;"
   ]
  },
  {
   "cell_type": "markdown",
   "metadata": {},
   "source": [
    "load data"
   ]
  },
  {
   "cell_type": "code",
   "execution_count": 35,
   "metadata": {},
   "outputs": [
    {
     "name": "stdout",
     "output_type": "stream",
     "text": [
      "\"Insurance\" training set has 36 variables and 935 samples.\n"
     ]
    }
   ],
   "source": [
    "using CSV\n",
    "train_x = DataFrame(BitArray(Matrix(CSV.read(\"insurance/insurance_train_x.csv\"))))\n",
    "println(\"\\\"Insurance\\\" training set has $(num_features(train_x)) variables and $(num_examples(train_x)) samples.\")\n",
    "train_y = CSV.read(\"insurance/insurance_train_y.csv\");"
   ]
  },
  {
   "cell_type": "markdown",
   "metadata": {},
   "source": [
    "Here for the purpose of this demo, we load a pretrained probabilistic circuit:"
   ]
  },
  {
   "cell_type": "code",
   "execution_count": 41,
   "metadata": {},
   "outputs": [
    {
     "name": "stdout",
     "output_type": "stream",
     "text": [
      "Probablistic Circuit with 27493 nodes.\n"
     ]
    }
   ],
   "source": [
    "pc = load_prob_circuit(zoo_psdd_file(\"insurance.psdd\"))\n",
    "println(\"Probablistic Circuit with $(num_nodes(pc)) nodes.\")"
   ]
  },
  {
   "cell_type": "markdown",
   "metadata": {},
   "source": [
    "### Queries\n",
    "#### EVI: Complete Evidence Query\n",
    "\n",
    "All features are observed, we want to compute the probability: $$ P(x) $$"
   ]
  },
  {
   "cell_type": "code",
   "execution_count": 42,
   "metadata": {
    "tags": []
   },
   "outputs": [
    {
     "data": {
      "text/plain": [
       "-9.711713749299689"
      ]
     },
     "execution_count": 42,
     "metadata": {},
     "output_type": "execute_result"
    }
   ],
   "source": [
    "log_likelihood_avg(pc, train_x)"
   ]
  },
  {
   "cell_type": "markdown",
   "metadata": {},
   "source": [
    "#### MAR: Marginal Query (partial evidence)\n",
    "\n",
    "Now, what happens if we only observe a subset of the features $X^o$? We want to compute:\n",
    "\n",
    "$$ P(X^o) = \\sum_{x^m} P(X^o X^m) $$\n",
    "\n",
    "**Problem:** Computing above query is usually not tractable as it involves summing over exponential (infinite) possible worlds.\n",
    "\n",
    "**Good News:** In probabilistic circuits, if the circuit is **smooth** and **decomposable**, we can do this tractably. No need to enumerate all possible worlds."
   ]
  },
  {
   "cell_type": "code",
   "execution_count": 44,
   "metadata": {
    "scrolled": true,
    "tags": []
   },
   "outputs": [
    {
     "name": "stdout",
     "output_type": "stream",
     "text": [
      "Probability of being smoker? 0.18403563\n",
      "Probability of being female smoker? 0.096237846\n",
      "Probability of being male smoker with one child living in the southeast? 0.0009639263\n"
     ]
    }
   ],
   "source": [
    "marg_data = make_observations([[\"smoker\"], \n",
    "                       [\"female\"], \n",
    "                       [\"female\", \"smoker\"], \n",
    "                       [\"southeast\", \"male\", \"1-child\", \"smoker\"]],\n",
    "                    )\n",
    "prob = exp.(marginal(pc, marg_data))\n",
    "println(\"Probability of being smoker? \", prob[1])\n",
    "println(\"Probability of being female smoker? \", prob[3])\n",
    "println(\"Probability of being male smoker with one child living in the southeast? \", prob[4])"
   ]
  },
  {
   "cell_type": "markdown",
   "metadata": {},
   "source": [
    "#### CON: Conditional Queries\n",
    "\n",
    "Given some observations $X^o$, we want to compute probabilities conditioned on the observations:\n",
    "\n",
    "$$ P(Q \\mid X^o) $$\n",
    "\n",
    "if we can do marginals tractably, we can also do conditionals tractably:\n",
    "\n",
    "$$ P(Q \\mid X^o) = \\cfrac{P(Q, X^o)}{P(X^o)} $$"
   ]
  },
  {
   "cell_type": "code",
   "execution_count": 45,
   "metadata": {},
   "outputs": [
    {
     "name": "stdout",
     "output_type": "stream",
     "text": [
      " P('smoker' | 'female') = 0.20398751\n"
     ]
    }
   ],
   "source": [
    "println(\" P('smoker' | 'female') = $(prob[3]/prob[2])\")"
   ]
  },
  {
   "cell_type": "markdown",
   "metadata": {},
   "source": [
    "#### MPE: Most Probable Explanation\n",
    "aka Maximum A Posteriori (MAP)\n",
    "\n",
    "Given some observations $X^o$, we want to compute the event which is most likely to heppen\n",
    "\n",
    "$$ argmax_{q}P(q \\mid X^o) $$\n",
    "\n",
    "In probabilistic circuits, if the circuit is **deterministic** and **decomposable**, we can do this tractably."
   ]
  },
  {
   "cell_type": "code",
   "execution_count": null,
   "metadata": {},
   "outputs": [],
   "source": [
    "# TODO"
   ]
  },
  {
   "cell_type": "markdown",
   "metadata": {},
   "source": [
    "#### Advanced queries: expected predictions\n",
    "What about reasoning about predictive models such as regression models:\n",
    "\n",
    "\n",
    "We are interested in computing **expected predictions**\n",
    "\n",
    "- Appears all the time in machine learning, such as handling missing data\n",
    "- We can do this tractably!\n",
    "\n",
    "\n",
    "$$ \\Large \\mathbb{E}_{\\mathbf{x}^m\\ \\sim\\ p(\\mathbf{x}^m\\ \\mid\\ \\mathbf{x}^o )}\\left[\\ f( \\mathbf{x}^o \\mathbf{x}^m) \\ \\right] $$\n",
    "\n",
    "- In above equation $ \\mathbf{x}^m $ = missing features, and $ \\mathbf{x}^o $ = observed features.\n",
    "\n",
    "- We have two separate models $p$ and $f$.\n",
    "\n",
    "- Expected Prediction useful for:\n",
    "  - Handling missing values at test time\n",
    "  - Reasoning about behaviour of predictive models"
   ]
  },
  {
   "cell_type": "code",
   "execution_count": 51,
   "metadata": {},
   "outputs": [
    {
     "name": "stdout",
     "output_type": "stream",
     "text": [
      "Regression Circuit with 1076 nodes.\n"
     ]
    }
   ],
   "source": [
    "rc = load_logistic_circuit(zoo_lc_file(\"insurance.circuit\"), 1)\n",
    "println(\"Regression Circuit with $(num_nodes(rc)) nodes.\")"
   ]
  },
  {
   "cell_type": "markdown",
   "metadata": {},
   "source": [
    "##### Sample Queries\n",
    "1. How different are the insurance costs between smokers and non smokers?"
   ]
  },
  {
   "cell_type": "code",
   "execution_count": 60,
   "metadata": {},
   "outputs": [
    {
     "name": "stdout",
     "output_type": "stream",
     "text": [
      "Smoker    : $ 31355.33282984327\n",
      "Non-Smoker: $ 8741.748027632839\n",
      "Difference: $ 22613.584802210433\n"
     ]
    }
   ],
   "source": [
    "data = make_observations([[\"!smoker\"], \n",
    "                 [\"smoker\"]])\n",
    "exps, exp_cache = Expectation(pc, rc, data)\n",
    "println(\"Smoker    : \\$ $(exps[2])\");\n",
    "println(\"Non-Smoker: \\$ $(exps[1])\");\n",
    "println(\"Difference: \\$ $(exps[2] - exps[1])\");"
   ]
  },
  {
   "cell_type": "markdown",
   "metadata": {},
   "source": [
    "2. Is the predictive model biased by gender?"
   ]
  },
  {
   "cell_type": "code",
   "execution_count": 61,
   "metadata": {},
   "outputs": [
    {
     "name": "stdout",
     "output_type": "stream",
     "text": [
      "Female  : $ 14170.126564819753\n",
      "Male    : $ 13196.551315011335\n",
      "Diff    : $ 973.5752498084184\n"
     ]
    }
   ],
   "source": [
    "data = make_observations([[\"male\"],\n",
    "                 [\"female\"]])\n",
    "exps, exp_cache = Expectation(pc, rc, data);\n",
    "println(\"Female  : \\$ $(exps[2])\");\n",
    "println(\"Male    : \\$ $(exps[1])\");\n",
    "println(\"Diff    : \\$ $(exps[2] - exps[1])\");"
   ]
  },
  {
   "cell_type": "markdown",
   "metadata": {},
   "source": [
    "3. Expecation and standard devation of few subpopulations"
   ]
  },
  {
   "cell_type": "code",
   "execution_count": 65,
   "metadata": {},
   "outputs": [
    {
     "name": "stdout",
     "output_type": "stream",
     "text": [
      "mu: 30975.0, std = 11229.0\n"
     ]
    }
   ],
   "source": [
    "data = make_observations( [[\"southeast\", \"male\", \"1-child\", \"smoker\"], \n",
    "                 [\"southwest\", \"male\", \"1-child\", \"smoker\"]])\n",
    "exps, exp_cache = Expectation(pc, rc, data);\n",
    "# Computes the second moment\n",
    "mom2, mom_cache = Moment(pc, rc, data, 2);\n",
    "# Computing Standard Deviation\n",
    "stds = sqrt.( mom2 - exps.^2 );\n",
    "# Living in South East, Smoker, Male, One child\n",
    "println(\"mu: $(round(exps[1])), std = $(round(stds[1]))\")"
   ]
  },
  {
   "cell_type": "code",
   "execution_count": null,
   "metadata": {},
   "outputs": [],
   "source": []
  }
 ],
 "metadata": {
  "@webio": {
   "lastCommId": null,
   "lastKernelId": null
  },
  "kernelspec": {
   "display_name": "Julia 1.5.0-rc1",
   "language": "julia",
   "name": "julia-1.5"
  },
  "language_info": {
   "file_extension": ".jl",
   "mimetype": "application/julia",
   "name": "julia",
   "version": "1.5.0"
  }
 },
 "nbformat": 4,
 "nbformat_minor": 2
}
