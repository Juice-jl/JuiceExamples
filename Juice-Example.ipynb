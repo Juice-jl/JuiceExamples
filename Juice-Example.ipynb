{
 "cells": [
  {
   "cell_type": "markdown",
   "metadata": {},
   "source": [
    "# Juice Examples\n",
    "This notebook includes:\n",
    "- Logic Circuits/ Probabilistic Circuits\n",
    "    - Create a Circuit\n",
    "    - Structure Properties\n",
    "    - Circuit Transformations\n",
    "    - Queries\n",
    "    - Parameter Learning and Structure Learning\n",
    "    - Benchmarks and GPU accelerated computing  "
   ]
  },
  {
   "cell_type": "code",
   "execution_count": null,
   "metadata": {},
   "outputs": [],
   "source": [
    "using Revise # TODO remove "
   ]
  },
  {
   "cell_type": "code",
   "execution_count": 2,
   "metadata": {
    "tags": []
   },
   "outputs": [
    {
     "name": "stderr",
     "output_type": "stream",
     "text": [
      "┌ Info: Precompiling ProbabilisticCircuits [2396afbe-23d7-11ea-1e05-f1aa98e17a44]\n",
      "└ @ Base loading.jl:1278\n"
     ]
    }
   ],
   "source": [
    "using LogicCircuits\n",
    "using ProbabilisticCircuits"
   ]
  },
  {
   "cell_type": "markdown",
   "metadata": {},
   "source": [
    "## Create a Circuit\n",
    "1. We can handcraft a Probabilistic Circuit by using `+` and `*` operators easily."
   ]
  },
  {
   "cell_type": "code",
   "execution_count": 11,
   "metadata": {},
   "outputs": [
    {
     "data": {
      "image/svg+xml": [
       "<?xml version=\"1.0\" encoding=\"UTF-8\"?>\n",
       "<svg xmlns=\"http://www.w3.org/2000/svg\" xmlns:xlink=\"http://www.w3.org/1999/xlink\" width=\"111.116pt\" height=\"98.425pt\" viewBox=\"0 0 111.116 98.425\" version=\"1.2\">\n",
       "<defs>\n",
       "<g>\n",
       "<symbol overflow=\"visible\" id=\"glyph-1600136556647675-0-0\">\n",
       "<path style=\"stroke:none;\" d=\"\"/>\n",
       "</symbol>\n",
       "<symbol overflow=\"visible\" id=\"glyph-1600136556647675-0-1\">\n",
       "<path style=\"stroke:none;\" d=\"M 2.265625 -1.578125 C 2.265625 -1.96875 2.25 -2.375 2.078125 -2.734375 C 1.84375 -3.203125 1.4375 -3.28125 1.234375 -3.28125 C 0.9375 -3.28125 0.578125 -3.15625 0.375 -2.703125 C 0.21875 -2.359375 0.1875 -1.96875 0.1875 -1.578125 C 0.1875 -1.203125 0.21875 -0.765625 0.421875 -0.390625 C 0.625 0.015625 0.984375 0.109375 1.234375 0.109375 C 1.5 0.109375 1.875 0 2.09375 -0.46875 C 2.25 -0.8125 2.265625 -1.1875 2.265625 -1.578125 Z M 1.859375 -1.640625 C 1.859375 -1.265625 1.859375 -0.9375 1.8125 -0.609375 C 1.734375 -0.140625 1.453125 0 1.234375 0 C 1.03125 0 0.75 -0.125 0.65625 -0.59375 C 0.609375 -0.890625 0.609375 -1.34375 0.609375 -1.640625 C 0.609375 -1.953125 0.609375 -2.28125 0.640625 -2.546875 C 0.734375 -3.140625 1.109375 -3.1875 1.234375 -3.1875 C 1.390625 -3.1875 1.71875 -3.09375 1.8125 -2.609375 C 1.859375 -2.328125 1.859375 -1.953125 1.859375 -1.640625 Z M 1.859375 -1.640625 \"/>\n",
       "</symbol>\n",
       "<symbol overflow=\"visible\" id=\"glyph-1600136556647675-0-2\">\n",
       "<path style=\"stroke:none;\" d=\"M 0.953125 -0.265625 C 0.953125 -0.40625 0.828125 -0.515625 0.6875 -0.515625 C 0.546875 -0.515625 0.421875 -0.40625 0.421875 -0.265625 C 0.421875 -0.125 0.546875 0 0.6875 0 C 0.828125 0 0.953125 -0.125 0.953125 -0.265625 Z M 0.953125 -0.265625 \"/>\n",
       "</symbol>\n",
       "<symbol overflow=\"visible\" id=\"glyph-1600136556647675-0-3\">\n",
       "<path style=\"stroke:none;\" d=\"M 2.25 -0.84375 C 2.25 -1.25 1.953125 -1.640625 1.4375 -1.734375 C 1.84375 -1.875 2.125 -2.21875 2.125 -2.609375 C 2.125 -3.015625 1.6875 -3.28125 1.21875 -3.28125 C 0.71875 -3.28125 0.34375 -2.984375 0.34375 -2.609375 C 0.34375 -2.453125 0.453125 -2.359375 0.59375 -2.359375 C 0.75 -2.359375 0.84375 -2.46875 0.84375 -2.609375 C 0.84375 -2.859375 0.609375 -2.859375 0.53125 -2.859375 C 0.6875 -3.09375 1.015625 -3.171875 1.1875 -3.171875 C 1.390625 -3.171875 1.671875 -3.0625 1.671875 -2.609375 C 1.671875 -2.546875 1.65625 -2.265625 1.53125 -2.046875 C 1.375 -1.8125 1.21875 -1.796875 1.09375 -1.796875 C 1.046875 -1.78125 0.9375 -1.78125 0.90625 -1.78125 C 0.859375 -1.765625 0.828125 -1.765625 0.828125 -1.71875 C 0.828125 -1.65625 0.859375 -1.65625 0.9375 -1.65625 L 1.15625 -1.65625 C 1.5625 -1.65625 1.75 -1.328125 1.75 -0.84375 C 1.75 -0.171875 1.40625 -0.03125 1.1875 -0.03125 C 0.984375 -0.03125 0.609375 -0.109375 0.4375 -0.40625 C 0.609375 -0.375 0.765625 -0.484375 0.765625 -0.671875 C 0.765625 -0.859375 0.625 -0.953125 0.484375 -0.953125 C 0.359375 -0.953125 0.203125 -0.890625 0.203125 -0.671875 C 0.203125 -0.21875 0.671875 0.109375 1.203125 0.109375 C 1.8125 0.109375 2.25 -0.34375 2.25 -0.84375 Z M 2.25 -0.84375 \"/>\n",
       "</symbol>\n",
       "<symbol overflow=\"visible\" id=\"glyph-1600136556647675-0-4\">\n",
       "<path style=\"stroke:none;\" d=\"M 2.390625 -3.1875 L 1.1875 -3.1875 C 0.59375 -3.1875 0.578125 -3.25 0.5625 -3.34375 L 0.4375 -3.34375 L 0.28125 -2.328125 L 0.40625 -2.328125 C 0.421875 -2.40625 0.453125 -2.703125 0.515625 -2.765625 C 0.5625 -2.796875 0.9375 -2.796875 1 -2.796875 L 2.03125 -2.796875 L 1.46875 -2.015625 C 1.03125 -1.359375 0.875 -0.671875 0.875 -0.15625 C 0.875 -0.109375 0.875 0.109375 1.09375 0.109375 C 1.328125 0.109375 1.328125 -0.109375 1.328125 -0.15625 L 1.328125 -0.421875 C 1.328125 -0.6875 1.34375 -0.953125 1.375 -1.21875 C 1.390625 -1.34375 1.46875 -1.765625 1.6875 -2.0625 L 2.34375 -3 C 2.390625 -3.0625 2.390625 -3.078125 2.390625 -3.1875 Z M 2.390625 -3.1875 \"/>\n",
       "</symbol>\n",
       "<symbol overflow=\"visible\" id=\"glyph-1600136556647675-0-5\">\n",
       "<path style=\"stroke:none;\" d=\"M 2.21875 -0.859375 L 2.09375 -0.859375 C 2.0625 -0.71875 2.03125 -0.5 1.984375 -0.421875 C 1.953125 -0.375 1.625 -0.375 1.515625 -0.375 L 0.625 -0.375 L 1.15625 -0.890625 C 1.921875 -1.5625 2.21875 -1.84375 2.21875 -2.328125 C 2.21875 -2.890625 1.765625 -3.28125 1.171875 -3.28125 C 0.609375 -3.28125 0.25 -2.828125 0.25 -2.390625 C 0.25 -2.125 0.5 -2.125 0.515625 -2.125 C 0.59375 -2.125 0.765625 -2.171875 0.765625 -2.375 C 0.765625 -2.515625 0.671875 -2.640625 0.5 -2.640625 C 0.46875 -2.640625 0.453125 -2.640625 0.4375 -2.625 C 0.546875 -2.953125 0.8125 -3.140625 1.109375 -3.140625 C 1.5625 -3.140625 1.765625 -2.734375 1.765625 -2.328125 C 1.765625 -1.9375 1.515625 -1.546875 1.25 -1.234375 L 0.296875 -0.1875 C 0.25 -0.125 0.25 -0.125 0.25 0 L 2.078125 0 Z M 2.21875 -0.859375 \"/>\n",
       "</symbol>\n",
       "<symbol overflow=\"visible\" id=\"glyph-1600136556647675-0-6\">\n",
       "<path style=\"stroke:none;\" d=\"M 2.25 -0.828125 C 2.25 -1 2.203125 -1.234375 2.015625 -1.4375 C 1.921875 -1.546875 1.84375 -1.59375 1.53125 -1.78125 C 1.875 -1.96875 2.125 -2.234375 2.125 -2.546875 C 2.125 -3 1.6875 -3.28125 1.234375 -3.28125 C 0.734375 -3.28125 0.34375 -2.921875 0.34375 -2.46875 C 0.34375 -2.375 0.34375 -2.15625 0.5625 -1.921875 C 0.609375 -1.859375 0.796875 -1.734375 0.921875 -1.65625 C 0.625 -1.515625 0.203125 -1.234375 0.203125 -0.75 C 0.203125 -0.21875 0.71875 0.109375 1.234375 0.109375 C 1.78125 0.109375 2.25 -0.296875 2.25 -0.828125 Z M 1.90625 -2.546875 C 1.90625 -2.265625 1.71875 -2.03125 1.421875 -1.859375 L 0.8125 -2.25 C 0.578125 -2.40625 0.5625 -2.578125 0.5625 -2.65625 C 0.5625 -2.953125 0.875 -3.171875 1.234375 -3.171875 C 1.59375 -3.171875 1.90625 -2.90625 1.90625 -2.546875 Z M 2.015625 -0.65625 C 2.015625 -0.28125 1.640625 -0.03125 1.234375 -0.03125 C 0.8125 -0.03125 0.453125 -0.328125 0.453125 -0.75 C 0.453125 -1.03125 0.609375 -1.34375 1.03125 -1.578125 L 1.640625 -1.1875 C 1.78125 -1.09375 2.015625 -0.953125 2.015625 -0.65625 Z M 2.015625 -0.65625 \"/>\n",
       "</symbol>\n",
       "<symbol overflow=\"visible\" id=\"glyph-1600136556647675-0-7\">\n",
       "<path style=\"stroke:none;\" d=\"M 2.328125 -0.8125 L 2.328125 -0.96875 L 1.828125 -0.96875 L 1.828125 -3.21875 C 1.828125 -3.3125 1.828125 -3.34375 1.75 -3.34375 C 1.703125 -3.34375 1.6875 -3.34375 1.65625 -3.28125 L 0.140625 -0.96875 L 0.140625 -0.8125 L 1.453125 -0.8125 L 1.453125 -0.390625 C 1.453125 -0.203125 1.4375 -0.15625 1.078125 -0.15625 L 0.96875 -0.15625 L 0.96875 0 C 1.171875 -0.015625 1.4375 -0.015625 1.640625 -0.015625 C 1.84375 -0.015625 2.109375 -0.015625 2.3125 0 L 2.3125 -0.15625 L 2.203125 -0.15625 C 1.84375 -0.15625 1.828125 -0.203125 1.828125 -0.390625 L 1.828125 -0.8125 Z M 1.484375 -0.96875 L 0.28125 -0.96875 L 1.484375 -2.8125 Z M 1.484375 -0.96875 \"/>\n",
       "</symbol>\n",
       "<symbol overflow=\"visible\" id=\"glyph-1600136556647675-0-8\">\n",
       "<path style=\"stroke:none;\" d=\"M 2.25 -1 C 2.25 -1.640625 1.8125 -2.109375 1.265625 -2.109375 C 0.9375 -2.109375 0.75 -1.859375 0.65625 -1.625 L 0.65625 -1.734375 C 0.65625 -2.984375 1.265625 -3.171875 1.515625 -3.171875 C 1.640625 -3.171875 1.84375 -3.140625 1.953125 -2.96875 C 1.875 -2.96875 1.671875 -2.96875 1.671875 -2.75 C 1.671875 -2.59375 1.796875 -2.515625 1.90625 -2.515625 C 1.984375 -2.515625 2.140625 -2.5625 2.140625 -2.75 C 2.140625 -3.046875 1.921875 -3.28125 1.5 -3.28125 C 0.875 -3.28125 0.203125 -2.65625 0.203125 -1.5625 C 0.203125 -0.234375 0.78125 0.109375 1.234375 0.109375 C 1.78125 0.109375 2.25 -0.359375 2.25 -1 Z M 1.8125 -1.015625 C 1.8125 -0.78125 1.8125 -0.53125 1.734375 -0.34375 C 1.578125 -0.046875 1.359375 -0.03125 1.234375 -0.03125 C 0.921875 -0.03125 0.78125 -0.328125 0.75 -0.40625 C 0.65625 -0.625 0.65625 -1.03125 0.65625 -1.109375 C 0.65625 -1.5 0.8125 -2 1.265625 -2 C 1.34375 -2 1.5625 -2 1.71875 -1.6875 C 1.8125 -1.5 1.8125 -1.25 1.8125 -1.015625 Z M 1.8125 -1.015625 \"/>\n",
       "</symbol>\n",
       "<symbol overflow=\"visible\" id=\"glyph-1600136556647675-1-0\">\n",
       "<path style=\"stroke:none;\" d=\"\"/>\n",
       "</symbol>\n",
       "<symbol overflow=\"visible\" id=\"glyph-1600136556647675-1-1\">\n",
       "<path style=\"stroke:none;\" d=\"M 7.140625 -2.46875 C 7.140625 -2.578125 7.046875 -2.671875 6.9375 -2.671875 L 4.046875 -2.671875 L 4.046875 -5.5625 C 4.046875 -5.671875 3.953125 -5.765625 3.84375 -5.765625 C 3.734375 -5.765625 3.65625 -5.671875 3.65625 -5.5625 L 3.65625 -2.671875 L 0.75 -2.671875 C 0.640625 -2.671875 0.546875 -2.578125 0.546875 -2.46875 C 0.546875 -2.359375 0.640625 -2.28125 0.75 -2.28125 L 3.65625 -2.28125 L 3.65625 0.625 C 3.65625 0.734375 3.734375 0.828125 3.84375 0.828125 C 3.953125 0.828125 4.046875 0.734375 4.046875 0.625 L 4.046875 -2.28125 L 6.9375 -2.28125 C 7.046875 -2.28125 7.140625 -2.359375 7.140625 -2.46875 Z M 7.140625 -2.46875 \"/>\n",
       "</symbol>\n",
       "<symbol overflow=\"visible\" id=\"glyph-1600136556647675-1-2\">\n",
       "<path style=\"stroke:none;\" d=\"M 4.3125 -4.234375 C 4.40625 -4.375 4.34375 -4.5625 4.1875 -4.640625 L 2.703125 -5.296875 L 4.1875 -5.9375 C 4.34375 -6.015625 4.40625 -6.203125 4.3125 -6.359375 C 4.21875 -6.515625 4.03125 -6.546875 3.890625 -6.453125 L 2.59375 -5.5 L 2.765625 -7.09375 C 2.78125 -7.265625 2.65625 -7.421875 2.46875 -7.421875 C 2.296875 -7.421875 2.171875 -7.265625 2.1875 -7.09375 L 2.359375 -5.5 L 1.0625 -6.453125 C 0.921875 -6.546875 0.71875 -6.515625 0.640625 -6.359375 C 0.546875 -6.203125 0.609375 -6.015625 0.765625 -5.9375 L 2.234375 -5.296875 L 0.765625 -4.640625 C 0.609375 -4.5625 0.546875 -4.375 0.640625 -4.234375 C 0.71875 -4.078125 0.921875 -4.03125 1.0625 -4.140625 L 2.359375 -5.078125 L 2.1875 -3.484375 C 2.171875 -3.3125 2.296875 -3.171875 2.46875 -3.171875 C 2.65625 -3.171875 2.78125 -3.3125 2.765625 -3.484375 L 2.59375 -5.078125 L 3.890625 -4.140625 C 4.03125 -4.03125 4.21875 -4.078125 4.3125 -4.234375 Z M 4.3125 -4.234375 \"/>\n",
       "</symbol>\n",
       "<symbol overflow=\"visible\" id=\"glyph-1600136556647675-1-3\">\n",
       "<path style=\"stroke:none;\" d=\"M 4.140625 0 L 4.140625 -0.3125 L 3.828125 -0.3125 C 2.9375 -0.3125 2.90625 -0.421875 2.90625 -0.78125 L 2.90625 -6.328125 C 2.90625 -6.5625 2.90625 -6.59375 2.6875 -6.59375 C 2.0625 -5.953125 1.203125 -5.953125 0.875 -5.953125 L 0.875 -5.640625 C 1.078125 -5.640625 1.65625 -5.640625 2.171875 -5.90625 L 2.171875 -0.78125 C 2.171875 -0.421875 2.140625 -0.3125 1.25 -0.3125 L 0.9375 -0.3125 L 0.9375 0 C 1.28125 -0.03125 2.140625 -0.03125 2.546875 -0.03125 C 2.9375 -0.03125 3.796875 -0.03125 4.140625 0 Z M 4.140625 0 \"/>\n",
       "</symbol>\n",
       "<symbol overflow=\"visible\" id=\"glyph-1600136556647675-1-4\">\n",
       "<path style=\"stroke:none;\" d=\"M 4.4375 -1.71875 L 4.1875 -1.71875 C 4.140625 -1.421875 4.078125 -0.984375 3.96875 -0.84375 C 3.90625 -0.765625 3.25 -0.765625 3.03125 -0.765625 L 1.25 -0.765625 L 2.296875 -1.78125 C 3.84375 -3.140625 4.4375 -3.671875 4.4375 -4.671875 C 4.4375 -5.796875 3.546875 -6.59375 2.34375 -6.59375 C 1.21875 -6.59375 0.5 -5.671875 0.5 -4.796875 C 0.5 -4.25 0.984375 -4.25 1.015625 -4.25 C 1.1875 -4.25 1.53125 -4.359375 1.53125 -4.765625 C 1.53125 -5.03125 1.359375 -5.28125 1.015625 -5.28125 C 0.9375 -5.28125 0.90625 -5.28125 0.875 -5.265625 C 1.109375 -5.921875 1.640625 -6.28125 2.21875 -6.28125 C 3.109375 -6.28125 3.546875 -5.484375 3.546875 -4.671875 C 3.546875 -3.875 3.046875 -3.09375 2.5 -2.484375 L 0.609375 -0.359375 C 0.5 -0.25 0.5 -0.234375 0.5 0 L 4.15625 0 Z M 4.4375 -1.71875 \"/>\n",
       "</symbol>\n",
       "<symbol overflow=\"visible\" id=\"glyph-1600136556647675-1-5\">\n",
       "<path style=\"stroke:none;\" d=\"M 2.734375 -1.84375 L 2.734375 -2.421875 L 0.109375 -2.421875 L 0.109375 -1.84375 Z M 2.734375 -1.84375 \"/>\n",
       "</symbol>\n",
       "<symbol overflow=\"visible\" id=\"glyph-1600136556647675-1-6\">\n",
       "<path style=\"stroke:none;\" d=\"M 4.515625 -1.6875 C 4.515625 -2.5 3.890625 -3.28125 2.875 -3.484375 C 3.671875 -3.75 4.25 -4.4375 4.25 -5.21875 C 4.25 -6.03125 3.375 -6.59375 2.4375 -6.59375 C 1.4375 -6.59375 0.6875 -6 0.6875 -5.234375 C 0.6875 -4.921875 0.90625 -4.734375 1.1875 -4.734375 C 1.5 -4.734375 1.6875 -4.9375 1.6875 -5.234375 C 1.6875 -5.734375 1.21875 -5.734375 1.078125 -5.734375 C 1.390625 -6.21875 2.03125 -6.34375 2.390625 -6.34375 C 2.796875 -6.34375 3.34375 -6.125 3.34375 -5.234375 C 3.34375 -5.109375 3.328125 -4.546875 3.0625 -4.109375 C 2.765625 -3.625 2.4375 -3.59375 2.1875 -3.59375 C 2.109375 -3.578125 1.875 -3.5625 1.796875 -3.5625 C 1.71875 -3.546875 1.65625 -3.546875 1.65625 -3.4375 C 1.65625 -3.328125 1.71875 -3.328125 1.890625 -3.328125 L 2.328125 -3.328125 C 3.140625 -3.328125 3.5 -2.65625 3.5 -1.6875 C 3.5 -0.34375 2.8125 -0.0625 2.390625 -0.0625 C 1.953125 -0.0625 1.21875 -0.234375 0.875 -0.8125 C 1.21875 -0.765625 1.515625 -0.984375 1.515625 -1.359375 C 1.515625 -1.71875 1.25 -1.90625 0.96875 -1.90625 C 0.734375 -1.90625 0.421875 -1.765625 0.421875 -1.328125 C 0.421875 -0.4375 1.328125 0.21875 2.40625 0.21875 C 3.625 0.21875 4.515625 -0.6875 4.515625 -1.6875 Z M 4.515625 -1.6875 \"/>\n",
       "</symbol>\n",
       "</g>\n",
       "</defs>\n",
       "<g id=\"surface1\">\n",
       "<path style=\"fill:none;stroke-width:0.3985;stroke-linecap:butt;stroke-linejoin:miter;stroke:rgb(0%,0%,0%);stroke-opacity:1;stroke-miterlimit:10;\" d=\"M -3.417914 -6.837823 L -10.339734 -20.681463 \" transform=\"matrix(0.992107,0,0,-0.992107,47.94953,6.688804)\"/>\n",
       "<path style=\"fill:none;stroke-width:0.31879;stroke-linecap:round;stroke-linejoin:round;stroke:rgb(0%,0%,0%);stroke-opacity:1;stroke-miterlimit:10;\" d=\"M -1.197438 1.594577 C -1.097068 0.997609 0.00000579538 0.0977455 0.299369 0.000889679 C 0.001765 -0.0994827 -1.095325 -0.995805 -1.195705 -1.596293 \" transform=\"matrix(-0.443641,0.887301,0.887301,0.443641,37.690617,27.206631)\"/>\n",
       "<g style=\"fill:rgb(0%,0%,0%);fill-opacity:1;\">\n",
       "  <use xlink:href=\"#glyph-1600136556647675-0-1\" x=\"44.514855\" y=\"27.325624\"/>\n",
       "  <use xlink:href=\"#glyph-1600136556647675-0-2\" x=\"46.985857\" y=\"27.325624\"/>\n",
       "  <use xlink:href=\"#glyph-1600136556647675-0-3\" x=\"48.359734\" y=\"27.325624\"/>\n",
       "</g>\n",
       "<path style=\"fill:none;stroke-width:0.3985;stroke-linecap:butt;stroke-linejoin:miter;stroke:rgb(0%,0%,0%);stroke-opacity:1;stroke-miterlimit:10;\" d=\"M 3.417286 -6.837823 L 10.339106 -20.681463 \" transform=\"matrix(0.992107,0,0,-0.992107,47.94953,6.688804)\"/>\n",
       "<path style=\"fill:none;stroke-width:0.31879;stroke-linecap:round;stroke-linejoin:round;stroke:rgb(0%,0%,0%);stroke-opacity:1;stroke-miterlimit:10;\" d=\"M -1.195986 1.595731 C -1.095606 0.995243 0.00148409 0.0989209 0.299088 -0.00145152 C -0.000275117 -0.0983073 -1.095588 -0.994649 -1.195958 -1.591617 \" transform=\"matrix(0.443641,0.887301,0.887301,-0.443641,58.208444,27.206631)\"/>\n",
       "<g style=\"fill:rgb(0%,0%,0%);fill-opacity:1;\">\n",
       "  <use xlink:href=\"#glyph-1600136556647675-0-1\" x=\"58.36864\" y=\"16.942231\"/>\n",
       "  <use xlink:href=\"#glyph-1600136556647675-0-2\" x=\"60.839641\" y=\"16.942231\"/>\n",
       "  <use xlink:href=\"#glyph-1600136556647675-0-4\" x=\"62.213518\" y=\"16.942231\"/>\n",
       "</g>\n",
       "<path style=\"fill:none;stroke-width:0.3985;stroke-linecap:butt;stroke-linejoin:miter;stroke:rgb(0%,0%,0%);stroke-opacity:1;stroke-miterlimit:10;\" d=\"M -20.183051 -34.355799 L -36.184347 -50.357095 \" transform=\"matrix(0.992107,0,0,-0.992107,47.94953,6.688804)\"/>\n",
       "<path style=\"fill:none;stroke-width:0.31879;stroke-linecap:round;stroke-linejoin:round;stroke:rgb(0%,0%,0%);stroke-opacity:1;stroke-miterlimit:10;\" d=\"M -1.196691 1.594843 C -1.093678 0.996253 -0.00229659 0.099761 0.29839 -0.000467923 C 0.000487551 -0.0979127 -1.096462 -0.994405 -1.193907 -1.592994 \" transform=\"matrix(-0.701519,0.701519,0.701519,0.701519,12.049498,56.650377)\"/>\n",
       "<path style=\"fill:none;stroke-width:0.3985;stroke-linecap:butt;stroke-linejoin:miter;stroke:rgb(0%,0%,0%);stroke-opacity:1;stroke-miterlimit:10;\" d=\"M -14.17469 -35.603932 L -14.17469 -49.396387 \" transform=\"matrix(0.992107,0,0,-0.992107,47.94953,6.688804)\"/>\n",
       "<path style=\"fill:none;stroke-width:0.31879;stroke-linecap:round;stroke-linejoin:round;stroke:rgb(0%,0%,0%);stroke-opacity:1;stroke-miterlimit:10;\" d=\"M -1.194513 1.593317 C -1.096079 0.994843 -0.00150251 0.10107 0.297734 -0.00130038 C -0.00150251 -0.0997335 -1.096079 -0.997444 -1.194513 -1.595918 \" transform=\"matrix(0,0.992107,0.992107,0,33.888009,55.696803)\"/>\n",
       "<path style=\"fill:none;stroke-width:0.3985;stroke-linecap:butt;stroke-linejoin:miter;stroke:rgb(0%,0%,0%);stroke-opacity:1;stroke-miterlimit:10;\" d=\"M 14.174062 -35.603932 L 14.174062 -49.396387 \" transform=\"matrix(0.992107,0,0,-0.992107,47.94953,6.688804)\"/>\n",
       "<path style=\"fill:none;stroke-width:0.31879;stroke-linecap:round;stroke-linejoin:round;stroke:rgb(0%,0%,0%);stroke-opacity:1;stroke-miterlimit:10;\" d=\"M -1.194513 1.59529 C -1.096079 0.996816 -0.00150251 0.0991054 0.297734 0.000672277 C -0.00150251 -0.0977609 -1.096079 -0.995471 -1.194513 -1.593945 \" transform=\"matrix(0,0.992107,0.992107,0,62.011052,55.696803)\"/>\n",
       "<path style=\"fill:none;stroke-width:0.3985;stroke-linecap:butt;stroke-linejoin:miter;stroke:rgb(0%,0%,0%);stroke-opacity:1;stroke-miterlimit:10;\" d=\"M 20.182423 -34.355799 L 35.35688 -49.530257 \" transform=\"matrix(0.992107,0,0,-0.992107,47.94953,6.688804)\"/>\n",
       "<path style=\"fill:none;stroke-width:0.31879;stroke-linecap:round;stroke-linejoin:round;stroke:rgb(0%,0%,0%);stroke-opacity:1;stroke-miterlimit:10;\" d=\"M -1.194236 1.592536 C -1.094007 0.996731 0.000158504 0.0974544 0.298061 0.0000096426 C 0.000158504 -0.0974352 -1.094007 -0.996711 -1.194236 -1.592517 \" transform=\"matrix(0.701519,0.701519,0.701519,-0.701519,83.029179,55.829974)\"/>\n",
       "<path style=\"fill:none;stroke-width:0.3985;stroke-linecap:butt;stroke-linejoin:miter;stroke:rgb(0%,0%,0%);stroke-opacity:1;stroke-miterlimit:10;\" d=\"M -19.30109 -63.531391 L -30.030305 -77.835699 \" transform=\"matrix(0.992107,0,0,-0.992107,47.94953,6.688804)\"/>\n",
       "<path style=\"fill:none;stroke-width:0.31879;stroke-linecap:round;stroke-linejoin:round;stroke:rgb(0%,0%,0%);stroke-opacity:1;stroke-miterlimit:10;\" d=\"M -1.196046 1.593593 C -1.096029 0.994315 -0.000622936 0.0981631 0.300199 -0.00105749 C -0.000620967 -0.0987091 -1.096009 -0.994095 -1.196014 -1.595738 \" transform=\"matrix(-0.595254,0.793656,0.793656,0.595254,18.156096,83.910812)\"/>\n",
       "<g style=\"fill:rgb(0%,0%,0%);fill-opacity:1;\">\n",
       "  <use xlink:href=\"#glyph-1600136556647675-0-1\" x=\"26.833522\" y=\"83.778505\"/>\n",
       "  <use xlink:href=\"#glyph-1600136556647675-0-2\" x=\"29.304523\" y=\"83.778505\"/>\n",
       "  <use xlink:href=\"#glyph-1600136556647675-0-5\" x=\"30.6784\" y=\"83.778505\"/>\n",
       "</g>\n",
       "<path style=\"fill:none;stroke-width:0.3985;stroke-linecap:butt;stroke-linejoin:miter;stroke:rgb(0%,0%,0%);stroke-opacity:1;stroke-miterlimit:10;\" d=\"M -12.465891 -63.531391 L -8.934108 -77.650644 \" transform=\"matrix(0.992107,0,0,-0.992107,47.94953,6.688804)\"/>\n",
       "<path style=\"fill:none;stroke-width:0.31879;stroke-linecap:round;stroke-linejoin:round;stroke:rgb(0%,0%,0%);stroke-opacity:1;stroke-miterlimit:10;\" d=\"M -1.19468 1.593781 C -1.096306 0.99694 -0.0019113 0.0983579 0.297945 -0.000949701 C 0.000958395 -0.101227 -1.095303 -0.996042 -1.196513 -1.595753 \" transform=\"matrix(0.240596,0.962483,0.962483,-0.240596,39.08548,83.724723)\"/>\n",
       "<g style=\"fill:rgb(0%,0%,0%);fill-opacity:1;\">\n",
       "  <use xlink:href=\"#glyph-1600136556647675-0-1\" x=\"40.881759\" y=\"73.340546\"/>\n",
       "  <use xlink:href=\"#glyph-1600136556647675-0-2\" x=\"43.352761\" y=\"73.340546\"/>\n",
       "  <use xlink:href=\"#glyph-1600136556647675-0-6\" x=\"44.726637\" y=\"73.340546\"/>\n",
       "</g>\n",
       "<path style=\"fill:none;stroke-width:0.3985;stroke-linecap:butt;stroke-linejoin:miter;stroke:rgb(0%,0%,0%);stroke-opacity:1;stroke-miterlimit:10;\" d=\"M 39.101278 -63.531391 L 31.970779 -77.792388 \" transform=\"matrix(0.992107,0,0,-0.992107,47.94953,6.688804)\"/>\n",
       "<path style=\"fill:none;stroke-width:0.31879;stroke-linecap:round;stroke-linejoin:round;stroke:rgb(0%,0%,0%);stroke-opacity:1;stroke-miterlimit:10;\" d=\"M -1.1947 1.595413 C -1.097853 0.996684 -0.00253967 0.100342 0.298585 -0.0000355408 C 0.00098047 -0.100408 -1.09611 -0.99673 -1.194729 -1.591936 \" transform=\"matrix(-0.443641,0.887301,0.887301,0.443641,79.667652,83.867894)\"/>\n",
       "<g style=\"fill:rgb(0%,0%,0%);fill-opacity:1;\">\n",
       "  <use xlink:href=\"#glyph-1600136556647675-0-1\" x=\"86.59508\" y=\"83.833071\"/>\n",
       "  <use xlink:href=\"#glyph-1600136556647675-0-2\" x=\"89.066081\" y=\"83.833071\"/>\n",
       "  <use xlink:href=\"#glyph-1600136556647675-0-7\" x=\"90.439958\" y=\"83.833071\"/>\n",
       "</g>\n",
       "<path style=\"fill:none;stroke-width:0.3985;stroke-linecap:butt;stroke-linejoin:miter;stroke:rgb(0%,0%,0%);stroke-opacity:1;stroke-miterlimit:10;\" d=\"M 45.940415 -63.531391 L 53.015791 -77.682143 \" transform=\"matrix(0.992107,0,0,-0.992107,47.94953,6.688804)\"/>\n",
       "<path style=\"fill:none;stroke-width:0.31879;stroke-linecap:round;stroke-linejoin:round;stroke:rgb(0%,0%,0%);stroke-opacity:1;stroke-miterlimit:10;\" d=\"M -1.194895 1.593092 C -1.096275 0.997886 -0.000946107 0.0980422 0.298419 0.00119171 C 0.000816639 -0.100947 -1.094496 -0.997289 -1.194866 -1.594257 \" transform=\"matrix(0.443641,0.887301,0.887301,-0.443641,100.546239,83.759179)\"/>\n",
       "<g style=\"fill:rgb(0%,0%,0%);fill-opacity:1;\">\n",
       "  <use xlink:href=\"#glyph-1600136556647675-0-1\" x=\"100.628435\" y=\"73.340546\"/>\n",
       "  <use xlink:href=\"#glyph-1600136556647675-0-2\" x=\"103.099437\" y=\"73.340546\"/>\n",
       "  <use xlink:href=\"#glyph-1600136556647675-0-8\" x=\"104.473314\" y=\"73.340546\"/>\n",
       "</g>\n",
       "<g style=\"fill:rgb(0%,0%,0%);fill-opacity:1;\">\n",
       "  <use xlink:href=\"#glyph-1600136556647675-1-1\" x=\"44.104123\" y=\"9.160143\"/>\n",
       "</g>\n",
       "<g style=\"fill:rgb(0%,0%,0%);fill-opacity:1;\">\n",
       "  <use xlink:href=\"#glyph-1600136556647675-1-2\" x=\"31.417057\" y=\"38.517585\"/>\n",
       "</g>\n",
       "<g style=\"fill:rgb(0%,0%,0%);fill-opacity:1;\">\n",
       "  <use xlink:href=\"#glyph-1600136556647675-1-2\" x=\"59.539326\" y=\"38.517585\"/>\n",
       "</g>\n",
       "<g style=\"fill:rgb(0%,0%,0%);fill-opacity:1;\">\n",
       "  <use xlink:href=\"#glyph-1600136556647675-1-3\" x=\"3.294788\" y=\"66.225153\"/>\n",
       "</g>\n",
       "<g style=\"fill:rgb(0%,0%,0%);fill-opacity:1;\">\n",
       "  <use xlink:href=\"#glyph-1600136556647675-1-1\" x=\"30.042988\" y=\"65.405673\"/>\n",
       "</g>\n",
       "<g style=\"fill:rgb(0%,0%,0%);fill-opacity:1;\">\n",
       "  <use xlink:href=\"#glyph-1600136556647675-1-4\" x=\"10.324859\" y=\"94.348414\"/>\n",
       "</g>\n",
       "<g style=\"fill:rgb(0%,0%,0%);fill-opacity:1;\">\n",
       "  <use xlink:href=\"#glyph-1600136556647675-1-5\" x=\"36.802214\" y=\"94.239283\"/>\n",
       "  <use xlink:href=\"#glyph-1600136556647675-1-6\" x=\"40.093589\" y=\"94.239283\"/>\n",
       "</g>\n",
       "<g style=\"fill:rgb(0%,0%,0%);fill-opacity:1;\">\n",
       "  <use xlink:href=\"#glyph-1600136556647675-1-5\" x=\"57.894412\" y=\"66.225153\"/>\n",
       "  <use xlink:href=\"#glyph-1600136556647675-1-3\" x=\"61.185786\" y=\"66.225153\"/>\n",
       "</g>\n",
       "<g style=\"fill:rgb(0%,0%,0%);fill-opacity:1;\">\n",
       "  <use xlink:href=\"#glyph-1600136556647675-1-1\" x=\"86.288519\" y=\"65.405673\"/>\n",
       "</g>\n",
       "<g style=\"fill:rgb(0%,0%,0%);fill-opacity:1;\">\n",
       "  <use xlink:href=\"#glyph-1600136556647675-1-5\" x=\"71.955547\" y=\"94.348414\"/>\n",
       "  <use xlink:href=\"#glyph-1600136556647675-1-4\" x=\"75.246921\" y=\"94.348414\"/>\n",
       "</g>\n",
       "<g style=\"fill:rgb(0%,0%,0%);fill-opacity:1;\">\n",
       "  <use xlink:href=\"#glyph-1600136556647675-1-6\" x=\"101.723722\" y=\"94.239283\"/>\n",
       "</g>\n",
       "</g>\n",
       "</svg>\n",
       "\n"
      ],
      "text/plain": [
       "TikzPictures.TikzPicture(\"\\\\graph [layered layout, ] {\\n1/\\\"+\\\" [],\\n2/\\\"*\\\" [],\\n3/\\\"*\\\" [],\\n4/\\\"1\\\" [],\\n5/\\\"+\\\" [],\\n6/\\\"2\\\" [],\\n7/\\\"-3\\\" [],\\n8/\\\"-1\\\" [],\\n9/\\\"+\\\" [],\\n10/\\\"-2\\\" [],\\n11/\\\"3\\\" [],\\n;\\n1 -> [font=\\\\tiny,edge label={0.3},] 2;\\n1 -> [font=\\\\tiny,edge label={0.7},] 3;\\n2 -> [font=\\\\tiny,] 4;\\n2 -> [font=\\\\tiny,] 5;\\n3 -> [font=\\\\tiny,] 8;\\n3 -> [font=\\\\tiny,] 9;\\n5 -> [font=\\\\tiny,edge label={0.2},] 6;\\n5 -> [font=\\\\tiny,edge label={0.8},] 7;\\n9 -> [font=\\\\tiny,edge label={0.4},] 10;\\n9 -> [font=\\\\tiny,edge label={0.6},] 11;\\n};\\n\", \"\", \"\\\\usepackage{fontspec}\\n\\\\setmainfont{Latin Modern Math}\\n\\\\usetikzlibrary{arrows}\\n\\\\usetikzlibrary{graphs}\\n\\\\usetikzlibrary{graphdrawing}\\n\\n% from: https://tex.stackexchange.com/questions/453132/fresh-install-of-tl2018-no-tikz-graph-drawing-libraries-found\\n\\\\usepackage{luacode}\\n\\\\begin{luacode*}\\n\\tfunction pgf_lookup_and_require(name)\\n\\tlocal sep = package.config:sub(1,1)\\n\\tlocal function lookup(name)\\n\\tlocal sub = name:gsub('%.',sep)  \\n\\tif kpse.find_file(sub, 'lua') then\\n\\trequire(name)\\n\\telseif kpse.find_file(sub, 'clua') then\\n\\tcollectgarbage('stop') \\n\\trequire(name)\\n\\tcollectgarbage('restart')\\n\\telse\\n\\treturn false\\n\\tend\\n\\treturn true\\n\\tend\\n\\treturn\\n\\tlookup('pgf.gd.' .. name .. '.library') or\\n\\tlookup('pgf.gd.' .. name) or\\n\\tlookup(name .. '.library') or\\n\\tlookup(name) \\n\\tend\\n\\\\end{luacode*}\\n\\n\\\\usegdlibrary{layered}\", \"tikzpicture\", true)"
      ]
     },
     "execution_count": 11,
     "metadata": {},
     "output_type": "execute_result"
    }
   ],
   "source": [
    "X1, X2, X3 = vars(1:3, ProbCircuit)\n",
    "pc = 0.3 * (X1[1] * \n",
    "             (0.2X2[1] + 0.8X3[2])) + \n",
    "     0.7 * (v1[2] *\n",
    "             (0.4X2[2] + 0.6X3[1]))\n",
    "plot(pc)"
   ]
  },
  {
   "cell_type": "markdown",
   "metadata": {},
   "source": [
    "2. Some circuit statistics"
   ]
  },
  {
   "cell_type": "code",
   "execution_count": 12,
   "metadata": {},
   "outputs": [
    {
     "name": "stdout",
     "output_type": "stream",
     "text": [
      "Logical formula of this circuit: ((1 ⋀ (2 ⋁ -3)) ⋁ (-1 ⋀ (-2 ⋁ 3)))\n",
      "Some circuit statistics: \n",
      "# variables : 3\n",
      "# nodes : 11\n",
      "# edges : 10\n",
      "# parameters : 6\n"
     ]
    }
   ],
   "source": [
    "println(\"Logical formula of this circuit: \", tree_formula_string(pc))\n",
    "println(\"Some circuit statistics: \")\n",
    "println(\"# variables : \", num_variables(pc))\n",
    "println(\"# nodes : \", num_nodes(pc))\n",
    "println(\"# edges : \", num_edges(pc))\n",
    "println(\"# parameters : \", num_parameters(pc))"
   ]
  },
  {
   "cell_type": "markdown",
   "metadata": {},
   "source": [
    "## Structure properties\n",
    "1. Is the circuit **smooth**?\n",
    "- A sum node is smooth if its children depend of the same variable sets"
   ]
  },
  {
   "cell_type": "code",
   "execution_count": 15,
   "metadata": {},
   "outputs": [
    {
     "name": "stdout",
     "output_type": "stream",
     "text": [
      "Is (1 ⋁ -1) smooth : true\n",
      "Is (1 ⋁ -2) smooth : false\n"
     ]
    }
   ],
   "source": [
    "c1 = 0.4 * X1[1] + 0.6 * X1[2]\n",
    "c2 = 0.4 * X1[1] + 0.6 * X2[2]\n",
    "println(\"Is \", tree_formula_string(c1), \" smooth : \", issmooth(c1))\n",
    "println(\"Is \", tree_formula_string(c2), \" smooth : \", issmooth(c2))"
   ]
  },
  {
   "cell_type": "code",
   "execution_count": 16,
   "metadata": {},
   "outputs": [
    {
     "data": {
      "text/plain": [
       "false"
      ]
     },
     "execution_count": 16,
     "metadata": {},
     "output_type": "execute_result"
    }
   ],
   "source": [
    "issmooth(pc)"
   ]
  },
  {
   "cell_type": "markdown",
   "metadata": {},
   "source": [
    "2. Is the circuit **deterministic**?\n",
    "- A sum node is deterministic if the output of only one children is non zero for any input"
   ]
  },
  {
   "cell_type": "code",
   "execution_count": 17,
   "metadata": {},
   "outputs": [
    {
     "name": "stdout",
     "output_type": "stream",
     "text": [
      "Is ((1 ⋀ 2) ⋁ (1 ⋀ -2)) deterministic : true\n",
      "Is ((1 ⋀ 2) ⋁ (1 ⋀ 2)) deterministic : false\n"
     ]
    }
   ],
   "source": [
    "c1 = X1[1] * X2[1] + X1[1] * X2[2]\n",
    "c2 = X1[1] * X2[1] + X1[1] * X2[1]\n",
    "println(\"Is \", tree_formula_string(c1), \" deterministic : \", isdeterministic(c1))\n",
    "println(\"Is \", tree_formula_string(c2), \" deterministic : \", isdeterministic(c2))"
   ]
  },
  {
   "cell_type": "markdown",
   "metadata": {},
   "source": [
    "3. Is the circuit **decomposable**?\n",
    "- A product node is decomposable if its children depend on disjoint sets of variables"
   ]
  },
  {
   "cell_type": "code",
   "execution_count": 223,
   "metadata": {},
   "outputs": [
    {
     "data": {
      "text/plain": [
       "true"
      ]
     },
     "execution_count": 223,
     "metadata": {},
     "output_type": "execute_result"
    }
   ],
   "source": [
    "isdecomposable(pc)"
   ]
  },
  {
   "cell_type": "code",
   "execution_count": 18,
   "metadata": {},
   "outputs": [
    {
     "name": "stdout",
     "output_type": "stream",
     "text": [
      "Is (1 ⋀ 2 ⋀ 3) decomposable : true\n",
      "Is (1 ⋀ 1 ⋀ 3) decomposable : false\n"
     ]
    }
   ],
   "source": [
    "c1 = X1[1] * X2[1] * X3[1]\n",
    "c2 = X1[1] * X1[1] * X3[1]\n",
    "println(\"Is \", tree_formula_string(c1), \" decomposable : \", isdecomposable(c1))\n",
    "println(\"Is \", tree_formula_string(c2), \" decomposable : \", isdecomposable(c2))"
   ]
  },
  {
   "cell_type": "markdown",
   "metadata": {},
   "source": [
    "4. Is the circuit **structured-decomposable**?\n",
    "- A product node is structured decomposable if decomposes according to a node in a vtree"
   ]
  },
  {
   "cell_type": "code",
   "execution_count": 19,
   "metadata": {},
   "outputs": [
    {
     "name": "stdout",
     "output_type": "stream",
     "text": [
      "Is ((1 ⋀ 2) ⋁ (-1 ⋀ -3)) decomposable : true\n",
      "Is ((1 ⋀ 2) ⋁ (-1 ⋀ -3)) structured decomposable : false\n",
      "Is ((1 ⋀ 2) ⋁ (-1 ⋀ -2)) structured decomposable : true\n"
     ]
    },
    {
     "data": {
      "image/svg+xml": [
       "<?xml version=\"1.0\" encoding=\"UTF-8\"?>\n",
       "<svg xmlns=\"http://www.w3.org/2000/svg\" xmlns:xlink=\"http://www.w3.org/1999/xlink\" width=\"39.969pt\" height=\"38.833pt\" viewBox=\"0 0 39.969 38.833\" version=\"1.2\">\n",
       "<defs>\n",
       "<g>\n",
       "<symbol overflow=\"visible\" id=\"glyph-1600136556647676-0-0\">\n",
       "<path style=\"stroke:none;\" d=\"\"/>\n",
       "</symbol>\n",
       "<symbol overflow=\"visible\" id=\"glyph-1600136556647676-0-1\">\n",
       "<path style=\"stroke:none;\" d=\"M 4.15625 0 L 4.15625 -0.3125 L 3.84375 -0.3125 C 2.953125 -0.3125 2.921875 -0.421875 2.921875 -0.78125 L 2.921875 -6.34375 C 2.921875 -6.59375 2.921875 -6.609375 2.6875 -6.609375 C 2.078125 -5.96875 1.203125 -5.96875 0.890625 -5.96875 L 0.890625 -5.671875 C 1.078125 -5.671875 1.671875 -5.671875 2.1875 -5.921875 L 2.1875 -0.78125 C 2.1875 -0.421875 2.15625 -0.3125 1.265625 -0.3125 L 0.9375 -0.3125 L 0.9375 0 C 1.296875 -0.03125 2.15625 -0.03125 2.546875 -0.03125 C 2.953125 -0.03125 3.8125 -0.03125 4.15625 0 Z M 4.15625 0 \"/>\n",
       "</symbol>\n",
       "<symbol overflow=\"visible\" id=\"glyph-1600136556647676-0-2\">\n",
       "<path style=\"stroke:none;\" d=\"M 4.453125 -1.71875 L 4.203125 -1.71875 C 4.15625 -1.421875 4.09375 -0.984375 3.984375 -0.84375 C 3.921875 -0.765625 3.265625 -0.765625 3.046875 -0.765625 L 1.265625 -0.765625 L 2.3125 -1.78125 C 3.859375 -3.15625 4.453125 -3.6875 4.453125 -4.6875 C 4.453125 -5.8125 3.5625 -6.609375 2.34375 -6.609375 C 1.234375 -6.609375 0.5 -5.6875 0.5 -4.8125 C 0.5 -4.25 0.984375 -4.25 1.015625 -4.25 C 1.1875 -4.25 1.53125 -4.375 1.53125 -4.78125 C 1.53125 -5.046875 1.359375 -5.296875 1.015625 -5.296875 C 0.9375 -5.296875 0.90625 -5.296875 0.890625 -5.28125 C 1.109375 -5.9375 1.640625 -6.296875 2.21875 -6.296875 C 3.125 -6.296875 3.546875 -5.5 3.546875 -4.6875 C 3.546875 -3.890625 3.0625 -3.109375 2.515625 -2.484375 L 0.609375 -0.359375 C 0.5 -0.265625 0.5 -0.234375 0.5 0 L 4.171875 0 Z M 4.453125 -1.71875 \"/>\n",
       "</symbol>\n",
       "<symbol overflow=\"visible\" id=\"glyph-1600136556647676-0-3\">\n",
       "<path style=\"stroke:none;\" d=\"M 1.90625 -0.53125 C 1.90625 -0.8125 1.671875 -1.046875 1.375 -1.046875 C 1.09375 -1.046875 0.859375 -0.8125 0.859375 -0.53125 C 0.859375 -0.234375 1.09375 0 1.375 0 C 1.671875 0 1.90625 -0.234375 1.90625 -0.53125 Z M 1.90625 -0.53125 \"/>\n",
       "</symbol>\n",
       "</g>\n",
       "</defs>\n",
       "<g id=\"surface1\">\n",
       "<path style=\"fill:none;stroke-width:0.3985;stroke-linecap:butt;stroke-linejoin:miter;stroke:rgb(0%,0%,0%);stroke-opacity:1;stroke-miterlimit:10;\" d=\"M 12.148889 24.297903 L 3.624104 7.248333 \" transform=\"matrix(0.995718,0,0,-0.995718,5.856258,32.057139)\"/>\n",
       "<path style=\"fill:none;stroke-width:0.31879;stroke-linecap:round;stroke-linejoin:round;stroke:rgb(0%,0%,0%);stroke-opacity:1;stroke-miterlimit:10;\" d=\"M -1.197742 1.594877 C -1.095981 0.996565 0.000623497 0.101719 0.297147 -0.0000494824 C 0.000621692 -0.100058 -1.095999 -0.994884 -1.196015 -1.593195 \" transform=\"matrix(-0.445255,0.89053,0.89053,0.445255,9.464381,24.840873)\"/>\n",
       "<path style=\"fill:none;stroke-width:0.3985;stroke-linecap:butt;stroke-linejoin:miter;stroke:rgb(0%,0%,0%);stroke-opacity:1;stroke-miterlimit:10;\" d=\"M 16.197475 24.297903 L 24.72226 7.248333 \" transform=\"matrix(0.995718,0,0,-0.995718,5.856258,32.057139)\"/>\n",
       "<path style=\"fill:none;stroke-width:0.31879;stroke-linecap:round;stroke-linejoin:round;stroke:rgb(0%,0%,0%);stroke-opacity:1;stroke-miterlimit:10;\" d=\"M -1.19621 1.592806 C -1.096194 0.994495 0.000426934 0.0996684 0.296952 -0.000340042 C 0.00218329 -0.0985992 -1.096176 -0.996954 -1.196182 -1.591758 \" transform=\"matrix(0.445255,0.89053,0.89053,-0.445255,30.473552,24.840873)\"/>\n",
       "<g style=\"fill:rgb(0%,0%,0%);fill-opacity:1;\">\n",
       "  <use xlink:href=\"#glyph-1600136556647676-0-1\" x=\"3.37692\" y=\"35.359936\"/>\n",
       "</g>\n",
       "<g style=\"fill:rgb(0%,0%,0%);fill-opacity:1;\">\n",
       "  <use xlink:href=\"#glyph-1600136556647676-0-2\" x=\"31.601541\" y=\"35.359936\"/>\n",
       "</g>\n",
       "<g style=\"fill:rgb(0%,0%,0%);fill-opacity:1;\">\n",
       "  <use xlink:href=\"#glyph-1600136556647676-0-3\" x=\"18.590495\" y=\"4.357262\"/>\n",
       "</g>\n",
       "</g>\n",
       "</svg>\n",
       "\n"
      ],
      "text/plain": [
       "TikzPictures.TikzPicture(\"\\\\graph [layered layout, ] {\\n1/\\\"1\\\" [],\\n2/\\\"2\\\" [],\\n3/\\\".\\\" [],\\n;\\n3 -> [,] 1;\\n3 -> [,] 2;\\n};\\n\", \"\", \"\\\\usepackage{fontspec}\\n\\\\setmainfont{Latin Modern Math}\\n\\\\usetikzlibrary{arrows}\\n\\\\usetikzlibrary{graphs}\\n\\\\usetikzlibrary{graphdrawing}\\n\\n% from: https://tex.stackexchange.com/questions/453132/fresh-install-of-tl2018-no-tikz-graph-drawing-libraries-found\\n\\\\usepackage{luacode}\\n\\\\begin{luacode*}\\n\\tfunction pgf_lookup_and_require(name)\\n\\tlocal sep = package.config:sub(1,1)\\n\\tlocal function lookup(name)\\n\\tlocal sub = name:gsub('%.',sep)  \\n\\tif kpse.find_file(sub, 'lua') then\\n\\trequire(name)\\n\\telseif kpse.find_file(sub, 'clua') then\\n\\tcollectgarbage('stop') \\n\\trequire(name)\\n\\tcollectgarbage('restart')\\n\\telse\\n\\treturn false\\n\\tend\\n\\treturn true\\n\\tend\\n\\treturn\\n\\tlookup('pgf.gd.' .. name .. '.library') or\\n\\tlookup('pgf.gd.' .. name) or\\n\\tlookup(name .. '.library') or\\n\\tlookup(name) \\n\\tend\\n\\\\end{luacode*}\\n\\n\\\\usegdlibrary{layered}\", \"tikzpicture\", true)"
      ]
     },
     "execution_count": 19,
     "metadata": {},
     "output_type": "execute_result"
    }
   ],
   "source": [
    "c1 = 0.3 * (X1[1] * X2[1]) + \n",
    "     0.7 * (X1[2] * X3[2])\n",
    "c2 = 0.3 * (X1[1] * X2[1]) + \n",
    "     0.7 * (X1[2] * X2[2])\n",
    "println(\"Is \", tree_formula_string(c1), \" decomposable : \", isdecomposable(c1))\n",
    "println(\"Is \", tree_formula_string(c1), \" structured decomposable : \", isstruct_decomposable(c1))\n",
    "println(\"Is \", tree_formula_string(c2), \" structured decomposable : \", isstruct_decomposable(c2))\n",
    "plot(Vtree(2, :balanced))"
   ]
  },
  {
   "cell_type": "markdown",
   "metadata": {},
   "source": [
    "## Circuit Transformations"
   ]
  },
  {
   "cell_type": "markdown",
   "metadata": {},
   "source": [
    "1. **Smooth** a circuit"
   ]
  },
  {
   "cell_type": "code",
   "execution_count": 20,
   "metadata": {},
   "outputs": [
    {
     "name": "stdout",
     "output_type": "stream",
     "text": [
      "(1 ⋁ -2) is smooth? false\n",
      "((1 ⋀ (2 ⋁ -2)) ⋁ (-2 ⋀ (1 ⋁ -1))) is smooth? true\n"
     ]
    }
   ],
   "source": [
    "c1 = 0.4 * X1[1] + 0.6 * X2[2]\n",
    "c2 = smooth(c1)\n",
    "println(tree_formula_string(c1), \" is smooth? \", issmooth(c1))\n",
    "println(tree_formula_string(c2), \" is smooth? \", issmooth(c2))"
   ]
  },
  {
   "cell_type": "markdown",
   "metadata": {},
   "source": [
    "2. **Forget**\n",
    "\n",
    "- Given a logical formula $\\Delta$ and a variable $X$, forgetting the variable is equivalent to: $ \\exists X \\Delta $\n",
    "- PS. it only applies to the Logical Circuits"
   ]
  },
  {
   "cell_type": "code",
   "execution_count": 22,
   "metadata": {
    "tags": []
   },
   "outputs": [
    {
     "name": "stdout",
     "output_type": "stream",
     "text": [
      "(1 ⋀ -2)\n",
      "(true ⋀ -2)\n"
     ]
    }
   ],
   "source": [
    "lv1, lv2 = vars(1:2, LogicCircuit)\n",
    "c1 = lv1[1] & lv2[2]\n",
    "c2 = forget(c1, x -> x == 1)\n",
    "println(tree_formula_string(c1))\n",
    "println(tree_formula_string(c2))"
   ]
  },
  {
   "cell_type": "markdown",
   "metadata": {},
   "source": [
    "3. **Propagate constants nodes**"
   ]
  },
  {
   "cell_type": "code",
   "execution_count": 228,
   "metadata": {
    "tags": []
   },
   "outputs": [
    {
     "name": "stdout",
     "output_type": "stream",
     "text": [
      "(true ⋀ -2)\n",
      "(-2)\n"
     ]
    }
   ],
   "source": [
    "c3 = propagate_constants(c2)\n",
    "println(tree_formula_string(c2))\n",
    "println(tree_formula_string(c3))"
   ]
  },
  {
   "cell_type": "markdown",
   "metadata": {},
   "source": [
    "4. **Condition**\n",
    "- Given a logical formula $\\Delta$ and a variable and its assignment $x$, conditioning on the literal is equivalent to: $ \\Delta \\cap x$"
   ]
  },
  {
   "cell_type": "code",
   "execution_count": 23,
   "metadata": {
    "tags": []
   },
   "outputs": [
    {
     "name": "stdout",
     "output_type": "stream",
     "text": [
      "((1 ⋁ -1) ⋀ (2 ⋁ -2))\n",
      "(1 ⋀ (2 ⋁ -2))\n"
     ]
    }
   ],
   "source": [
    "c1 = (X1[1] + X1[2]) * (X2[1] + X2[2])\n",
    "println(tree_formula_string(c1))\n",
    "c2 = condition(c1, Lit(1))\n",
    "println(tree_formula_string(c2))"
   ]
  },
  {
   "cell_type": "markdown",
   "metadata": {},
   "source": [
    "5. **Split**\n",
    "- Given a logical formula $\\Delta$ and a variable and a variable $X$, split on the variable is equivalent to: $ (\\Delta \\cap X=1) \\cup (\\Delta \\cap X=0)$"
   ]
  },
  {
   "cell_type": "code",
   "execution_count": 28,
   "metadata": {
    "tags": []
   },
   "outputs": [
    {
     "data": {
      "image/svg+xml": [
       "<?xml version=\"1.0\" encoding=\"UTF-8\"?>\n",
       "<svg xmlns=\"http://www.w3.org/2000/svg\" xmlns:xlink=\"http://www.w3.org/1999/xlink\" width=\"98.32pt\" height=\"98.315pt\" viewBox=\"0 0 98.32 98.315\" version=\"1.2\">\n",
       "<defs>\n",
       "<g>\n",
       "<symbol overflow=\"visible\" id=\"glyph-1600136556647679-0-0\">\n",
       "<path style=\"stroke:none;\" d=\"\"/>\n",
       "</symbol>\n",
       "<symbol overflow=\"visible\" id=\"glyph-1600136556647679-0-1\">\n",
       "<path style=\"stroke:none;\" d=\"M 2.078125 0 L 2.078125 -0.15625 L 1.921875 -0.15625 C 1.46875 -0.15625 1.453125 -0.203125 1.453125 -0.390625 L 1.453125 -3.171875 C 1.453125 -3.28125 1.453125 -3.296875 1.34375 -3.296875 C 1.03125 -2.984375 0.59375 -2.984375 0.4375 -2.984375 L 0.4375 -2.828125 C 0.546875 -2.828125 0.828125 -2.828125 1.09375 -2.953125 L 1.09375 -0.390625 C 1.09375 -0.21875 1.078125 -0.15625 0.625 -0.15625 L 0.46875 -0.15625 L 0.46875 0 C 0.640625 -0.015625 1.078125 -0.015625 1.265625 -0.015625 C 1.46875 -0.015625 1.90625 -0.015625 2.078125 0 Z M 2.078125 0 \"/>\n",
       "</symbol>\n",
       "<symbol overflow=\"visible\" id=\"glyph-1600136556647679-0-2\">\n",
       "<path style=\"stroke:none;\" d=\"M 0.953125 -0.265625 C 0.953125 -0.40625 0.828125 -0.53125 0.6875 -0.53125 C 0.546875 -0.53125 0.421875 -0.40625 0.421875 -0.265625 C 0.421875 -0.125 0.546875 0 0.6875 0 C 0.828125 0 0.953125 -0.125 0.953125 -0.265625 Z M 0.953125 -0.265625 \"/>\n",
       "</symbol>\n",
       "<symbol overflow=\"visible\" id=\"glyph-1600136556647679-0-3\">\n",
       "<path style=\"stroke:none;\" d=\"M 2.28125 -1.578125 C 2.28125 -1.984375 2.25 -2.375 2.078125 -2.75 C 1.859375 -3.21875 1.453125 -3.296875 1.234375 -3.296875 C 0.9375 -3.296875 0.578125 -3.171875 0.375 -2.703125 C 0.21875 -2.375 0.1875 -1.984375 0.1875 -1.578125 C 0.1875 -1.21875 0.21875 -0.765625 0.421875 -0.390625 C 0.625 0.015625 0.984375 0.109375 1.234375 0.109375 C 1.5 0.109375 1.875 0 2.09375 -0.46875 C 2.25 -0.8125 2.28125 -1.1875 2.28125 -1.578125 Z M 1.875 -1.640625 C 1.875 -1.265625 1.875 -0.9375 1.8125 -0.625 C 1.734375 -0.15625 1.453125 0 1.234375 0 C 1.046875 0 0.75 -0.125 0.65625 -0.59375 C 0.609375 -0.890625 0.609375 -1.359375 0.609375 -1.640625 C 0.609375 -1.96875 0.609375 -2.28125 0.640625 -2.5625 C 0.734375 -3.140625 1.109375 -3.1875 1.234375 -3.1875 C 1.390625 -3.1875 1.71875 -3.09375 1.8125 -2.609375 C 1.875 -2.328125 1.875 -1.953125 1.875 -1.640625 Z M 1.875 -1.640625 \"/>\n",
       "</symbol>\n",
       "<symbol overflow=\"visible\" id=\"glyph-1600136556647679-0-4\">\n",
       "<path style=\"stroke:none;\" d=\"M 2.265625 -0.84375 C 2.265625 -1.25 1.953125 -1.640625 1.4375 -1.75 C 1.84375 -1.875 2.125 -2.21875 2.125 -2.609375 C 2.125 -3.015625 1.6875 -3.296875 1.21875 -3.296875 C 0.71875 -3.296875 0.34375 -3 0.34375 -2.625 C 0.34375 -2.46875 0.453125 -2.375 0.59375 -2.375 C 0.75 -2.375 0.84375 -2.484375 0.84375 -2.625 C 0.84375 -2.875 0.609375 -2.875 0.546875 -2.875 C 0.6875 -3.109375 1.015625 -3.171875 1.203125 -3.171875 C 1.40625 -3.171875 1.671875 -3.0625 1.671875 -2.625 C 1.671875 -2.5625 1.671875 -2.28125 1.53125 -2.0625 C 1.390625 -1.8125 1.21875 -1.796875 1.09375 -1.796875 C 1.0625 -1.796875 0.9375 -1.78125 0.90625 -1.78125 C 0.859375 -1.78125 0.828125 -1.765625 0.828125 -1.71875 C 0.828125 -1.671875 0.859375 -1.671875 0.953125 -1.671875 L 1.15625 -1.671875 C 1.5625 -1.671875 1.75 -1.328125 1.75 -0.84375 C 1.75 -0.171875 1.40625 -0.03125 1.1875 -0.03125 C 0.984375 -0.03125 0.609375 -0.109375 0.4375 -0.40625 C 0.609375 -0.375 0.765625 -0.484375 0.765625 -0.671875 C 0.765625 -0.859375 0.625 -0.953125 0.484375 -0.953125 C 0.359375 -0.953125 0.203125 -0.890625 0.203125 -0.671875 C 0.203125 -0.21875 0.671875 0.109375 1.203125 0.109375 C 1.8125 0.109375 2.265625 -0.34375 2.265625 -0.84375 Z M 2.265625 -0.84375 \"/>\n",
       "</symbol>\n",
       "<symbol overflow=\"visible\" id=\"glyph-1600136556647679-0-5\">\n",
       "<path style=\"stroke:none;\" d=\"M 2.40625 -3.1875 L 1.203125 -3.1875 C 0.59375 -3.1875 0.578125 -3.25 0.5625 -3.34375 L 0.4375 -3.34375 L 0.28125 -2.328125 L 0.40625 -2.328125 C 0.421875 -2.40625 0.453125 -2.71875 0.53125 -2.78125 C 0.5625 -2.8125 0.953125 -2.8125 1.015625 -2.8125 L 2.03125 -2.8125 L 1.484375 -2.03125 C 1.03125 -1.359375 0.875 -0.671875 0.875 -0.15625 C 0.875 -0.109375 0.875 0.109375 1.09375 0.109375 C 1.328125 0.109375 1.328125 -0.109375 1.328125 -0.15625 L 1.328125 -0.421875 C 1.328125 -0.6875 1.34375 -0.953125 1.375 -1.234375 C 1.40625 -1.34375 1.46875 -1.765625 1.6875 -2.078125 L 2.359375 -3.015625 C 2.40625 -3.078125 2.40625 -3.078125 2.40625 -3.1875 Z M 2.40625 -3.1875 \"/>\n",
       "</symbol>\n",
       "<symbol overflow=\"visible\" id=\"glyph-1600136556647679-0-6\">\n",
       "<path style=\"stroke:none;\" d=\"M 2.328125 -0.8125 L 2.328125 -0.96875 L 1.84375 -0.96875 L 1.84375 -3.21875 C 1.84375 -3.328125 1.84375 -3.359375 1.765625 -3.359375 C 1.71875 -3.359375 1.703125 -3.359375 1.65625 -3.296875 L 0.140625 -0.96875 L 0.140625 -0.8125 L 1.453125 -0.8125 L 1.453125 -0.390625 C 1.453125 -0.203125 1.453125 -0.15625 1.078125 -0.15625 L 0.96875 -0.15625 L 0.96875 0 C 1.171875 -0.015625 1.4375 -0.015625 1.640625 -0.015625 C 1.859375 -0.015625 2.109375 -0.015625 2.3125 0 L 2.3125 -0.15625 L 2.21875 -0.15625 C 1.84375 -0.15625 1.84375 -0.203125 1.84375 -0.390625 L 1.84375 -0.8125 Z M 1.484375 -0.96875 L 0.28125 -0.96875 L 1.484375 -2.8125 Z M 1.484375 -0.96875 \"/>\n",
       "</symbol>\n",
       "<symbol overflow=\"visible\" id=\"glyph-1600136556647679-0-7\">\n",
       "<path style=\"stroke:none;\" d=\"M 2.265625 -1.015625 C 2.265625 -1.640625 1.828125 -2.109375 1.265625 -2.109375 C 0.9375 -2.109375 0.75 -1.859375 0.65625 -1.625 L 0.65625 -1.75 C 0.65625 -3 1.265625 -3.171875 1.515625 -3.171875 C 1.640625 -3.171875 1.84375 -3.140625 1.953125 -2.984375 C 1.875 -2.984375 1.6875 -2.984375 1.6875 -2.75 C 1.6875 -2.59375 1.796875 -2.53125 1.90625 -2.53125 C 1.984375 -2.53125 2.140625 -2.578125 2.140625 -2.765625 C 2.140625 -3.0625 1.921875 -3.296875 1.515625 -3.296875 C 0.875 -3.296875 0.203125 -2.65625 0.203125 -1.5625 C 0.203125 -0.25 0.78125 0.109375 1.25 0.109375 C 1.796875 0.109375 2.265625 -0.359375 2.265625 -1.015625 Z M 1.8125 -1.015625 C 1.8125 -0.78125 1.8125 -0.53125 1.734375 -0.359375 C 1.578125 -0.046875 1.359375 -0.03125 1.25 -0.03125 C 0.9375 -0.03125 0.78125 -0.328125 0.75 -0.40625 C 0.65625 -0.640625 0.65625 -1.03125 0.65625 -1.125 C 0.65625 -1.5 0.828125 -2 1.265625 -2 C 1.34375 -2 1.578125 -2 1.734375 -1.6875 C 1.8125 -1.515625 1.8125 -1.265625 1.8125 -1.015625 Z M 1.8125 -1.015625 \"/>\n",
       "</symbol>\n",
       "<symbol overflow=\"visible\" id=\"glyph-1600136556647679-1-0\">\n",
       "<path style=\"stroke:none;\" d=\"\"/>\n",
       "</symbol>\n",
       "<symbol overflow=\"visible\" id=\"glyph-1600136556647679-1-1\">\n",
       "<path style=\"stroke:none;\" d=\"M 7.140625 -2.46875 C 7.140625 -2.578125 7.046875 -2.671875 6.9375 -2.671875 L 4.046875 -2.671875 L 4.046875 -5.5625 C 4.046875 -5.671875 3.953125 -5.765625 3.84375 -5.765625 C 3.734375 -5.765625 3.65625 -5.671875 3.65625 -5.5625 L 3.65625 -2.671875 L 0.75 -2.671875 C 0.640625 -2.671875 0.546875 -2.578125 0.546875 -2.46875 C 0.546875 -2.359375 0.640625 -2.28125 0.75 -2.28125 L 3.65625 -2.28125 L 3.65625 0.625 C 3.65625 0.734375 3.734375 0.828125 3.84375 0.828125 C 3.953125 0.828125 4.046875 0.734375 4.046875 0.625 L 4.046875 -2.28125 L 6.9375 -2.28125 C 7.046875 -2.28125 7.140625 -2.359375 7.140625 -2.46875 Z M 7.140625 -2.46875 \"/>\n",
       "</symbol>\n",
       "<symbol overflow=\"visible\" id=\"glyph-1600136556647679-1-2\">\n",
       "<path style=\"stroke:none;\" d=\"M 4.3125 -4.234375 C 4.40625 -4.375 4.34375 -4.5625 4.1875 -4.640625 L 2.703125 -5.296875 L 4.1875 -5.9375 C 4.34375 -6.015625 4.40625 -6.203125 4.3125 -6.359375 C 4.21875 -6.515625 4.03125 -6.546875 3.890625 -6.453125 L 2.59375 -5.5 L 2.765625 -7.09375 C 2.78125 -7.265625 2.65625 -7.421875 2.46875 -7.421875 C 2.296875 -7.421875 2.171875 -7.265625 2.1875 -7.09375 L 2.359375 -5.5 L 1.0625 -6.453125 C 0.921875 -6.546875 0.71875 -6.515625 0.640625 -6.359375 C 0.546875 -6.203125 0.609375 -6.015625 0.765625 -5.9375 L 2.234375 -5.296875 L 0.765625 -4.640625 C 0.609375 -4.5625 0.546875 -4.375 0.640625 -4.234375 C 0.71875 -4.078125 0.921875 -4.03125 1.0625 -4.140625 L 2.359375 -5.078125 L 2.1875 -3.484375 C 2.171875 -3.3125 2.296875 -3.171875 2.46875 -3.171875 C 2.65625 -3.171875 2.78125 -3.3125 2.765625 -3.484375 L 2.59375 -5.078125 L 3.890625 -4.140625 C 4.03125 -4.03125 4.21875 -4.078125 4.3125 -4.234375 Z M 4.3125 -4.234375 \"/>\n",
       "</symbol>\n",
       "<symbol overflow=\"visible\" id=\"glyph-1600136556647679-1-3\">\n",
       "<path style=\"stroke:none;\" d=\"M 4.140625 0 L 4.140625 -0.3125 L 3.828125 -0.3125 C 2.9375 -0.3125 2.90625 -0.421875 2.90625 -0.78125 L 2.90625 -6.328125 C 2.90625 -6.5625 2.90625 -6.59375 2.6875 -6.59375 C 2.0625 -5.953125 1.203125 -5.953125 0.875 -5.953125 L 0.875 -5.640625 C 1.078125 -5.640625 1.65625 -5.640625 2.171875 -5.90625 L 2.171875 -0.78125 C 2.171875 -0.421875 2.140625 -0.3125 1.25 -0.3125 L 0.9375 -0.3125 L 0.9375 0 C 1.28125 -0.03125 2.140625 -0.03125 2.546875 -0.03125 C 2.9375 -0.03125 3.796875 -0.03125 4.140625 0 Z M 4.140625 0 \"/>\n",
       "</symbol>\n",
       "<symbol overflow=\"visible\" id=\"glyph-1600136556647679-1-4\">\n",
       "<path style=\"stroke:none;\" d=\"M 2.734375 -1.84375 L 2.734375 -2.421875 L 0.109375 -2.421875 L 0.109375 -1.84375 Z M 2.734375 -1.84375 \"/>\n",
       "</symbol>\n",
       "<symbol overflow=\"visible\" id=\"glyph-1600136556647679-1-5\">\n",
       "<path style=\"stroke:none;\" d=\"M 4.4375 -1.71875 L 4.1875 -1.71875 C 4.140625 -1.421875 4.078125 -0.984375 3.96875 -0.84375 C 3.90625 -0.765625 3.25 -0.765625 3.03125 -0.765625 L 1.25 -0.765625 L 2.296875 -1.78125 C 3.84375 -3.140625 4.4375 -3.671875 4.4375 -4.671875 C 4.4375 -5.796875 3.546875 -6.59375 2.34375 -6.59375 C 1.21875 -6.59375 0.5 -5.671875 0.5 -4.796875 C 0.5 -4.25 0.984375 -4.25 1.015625 -4.25 C 1.1875 -4.25 1.53125 -4.359375 1.53125 -4.765625 C 1.53125 -5.03125 1.359375 -5.28125 1.015625 -5.28125 C 0.9375 -5.28125 0.90625 -5.28125 0.875 -5.265625 C 1.109375 -5.921875 1.640625 -6.28125 2.21875 -6.28125 C 3.109375 -6.28125 3.546875 -5.484375 3.546875 -4.671875 C 3.546875 -3.875 3.046875 -3.09375 2.5 -2.484375 L 0.609375 -0.359375 C 0.5 -0.25 0.5 -0.234375 0.5 0 L 4.15625 0 Z M 4.4375 -1.71875 \"/>\n",
       "</symbol>\n",
       "</g>\n",
       "</defs>\n",
       "<g id=\"surface1\">\n",
       "<path style=\"fill:none;stroke-width:0.3985;stroke-linecap:butt;stroke-linejoin:miter;stroke:rgb(0%,0%,0%);stroke-opacity:1;stroke-miterlimit:10;\" d=\"M 0.000917815 -6.838056 L 0.000917815 -20.632723 \" transform=\"matrix(0.993081,0,0,-0.993081,47.999089,6.59207)\"/>\n",
       "<path style=\"fill:none;stroke-width:0.31879;stroke-linecap:round;stroke-linejoin:round;stroke:rgb(0%,0%,0%);stroke-opacity:1;stroke-miterlimit:10;\" d=\"M -1.195711 1.593972 C -1.097375 0.996085 0.0000626135 0.0992545 0.299006 0.000917815 C 0.0000626135 -0.101352 -1.097375 -0.998183 -1.195711 -1.592136 \" transform=\"matrix(0,0.993081,0.993081,0,47.999089,27.081969)\"/>\n",
       "<g style=\"fill:rgb(0%,0%,0%);fill-opacity:1;\">\n",
       "  <use xlink:href=\"#glyph-1600136556647679-0-1\" x=\"51.494733\" y=\"22.052352\"/>\n",
       "  <use xlink:href=\"#glyph-1600136556647679-0-2\" x=\"53.96816\" y=\"22.052352\"/>\n",
       "  <use xlink:href=\"#glyph-1600136556647679-0-3\" x=\"55.343385\" y=\"22.052352\"/>\n",
       "</g>\n",
       "<path style=\"fill:none;stroke-width:0.3985;stroke-linecap:butt;stroke-linejoin:miter;stroke:rgb(0%,0%,0%);stroke-opacity:1;stroke-miterlimit:10;\" d=\"M -3.629672 -35.603496 L -10.548639 -49.445364 \" transform=\"matrix(0.993081,0,0,-0.993081,47.999089,6.59207)\"/>\n",
       "<path style=\"fill:none;stroke-width:0.31879;stroke-linecap:round;stroke-linejoin:round;stroke:rgb(0%,0%,0%);stroke-opacity:1;stroke-miterlimit:10;\" d=\"M -1.19408 1.594448 C -1.097327 0.996306 0.00218979 0.0990836 0.297741 0.000563497 C 0.000428771 -0.0997105 -1.095586 -0.995154 -1.195868 -1.595054 \" transform=\"matrix(-0.444076,0.888172,0.888172,0.444076,37.522344,55.696242)\"/>\n",
       "<path style=\"fill:none;stroke-width:0.3985;stroke-linecap:butt;stroke-linejoin:miter;stroke:rgb(0%,0%,0%);stroke-opacity:1;stroke-miterlimit:10;\" d=\"M 3.627574 -35.603496 L 10.550475 -49.445364 \" transform=\"matrix(0.993081,0,0,-0.993081,47.999089,6.59207)\"/>\n",
       "<path style=\"fill:none;stroke-width:0.31879;stroke-linecap:round;stroke-linejoin:round;stroke:rgb(0%,0%,0%);stroke-opacity:1;stroke-miterlimit:10;\" d=\"M -1.196806 1.593177 C -1.094765 0.996796 -0.000509468 0.097834 0.298562 0.00107848 C 0.00125155 -0.10096 -1.096506 -0.994664 -1.195018 -1.596325 \" transform=\"matrix(0.444076,0.888172,0.888172,-0.444076,58.475833,55.696242)\"/>\n",
       "<path style=\"fill:none;stroke-width:0.3985;stroke-linecap:butt;stroke-linejoin:miter;stroke:rgb(0%,0%,0%);stroke-opacity:1;stroke-miterlimit:10;\" d=\"M -21.01166 -63.531107 L -36.186973 -78.706421 \" transform=\"matrix(0.993081,0,0,-0.993081,47.999089,6.59207)\"/>\n",
       "<path style=\"fill:none;stroke-width:0.31879;stroke-linecap:round;stroke-linejoin:round;stroke:rgb(0%,0%,0%);stroke-opacity:1;stroke-miterlimit:10;\" d=\"M -1.197455 1.593193 C -1.094542 0.995191 0.00133208 0.0995774 0.298943 0.00222811 C 0.00133208 -0.100684 -1.094542 -0.996297 -1.197455 -1.5943 \" transform=\"matrix(-0.702207,0.702207,0.702207,0.702207,12.063824,84.753359)\"/>\n",
       "<g style=\"fill:rgb(0%,0%,0%);fill-opacity:1;\">\n",
       "  <use xlink:href=\"#glyph-1600136556647679-0-3\" x=\"22.933729\" y=\"84.167571\"/>\n",
       "  <use xlink:href=\"#glyph-1600136556647679-0-2\" x=\"25.407156\" y=\"84.167571\"/>\n",
       "  <use xlink:href=\"#glyph-1600136556647679-0-4\" x=\"26.782381\" y=\"84.167571\"/>\n",
       "</g>\n",
       "<path style=\"fill:none;stroke-width:0.3985;stroke-linecap:butt;stroke-linejoin:miter;stroke:rgb(0%,0%,0%);stroke-opacity:1;stroke-miterlimit:10;\" d=\"M -14.175295 -63.531107 L -14.175295 -77.746655 \" transform=\"matrix(0.993081,0,0,-0.993081,47.999089,6.59207)\"/>\n",
       "<path style=\"fill:none;stroke-width:0.31879;stroke-linecap:round;stroke-linejoin:round;stroke:rgb(0%,0%,0%);stroke-opacity:1;stroke-miterlimit:10;\" d=\"M -1.193819 1.595082 C -1.095482 0.997195 0.00195487 0.100365 0.296965 -0.00190512 C 0.00195487 -0.100242 -1.095482 -0.997072 -1.193819 -1.594959 \" transform=\"matrix(0,0.993081,0.993081,0,33.923767,83.79884)\"/>\n",
       "<g style=\"fill:rgb(0%,0%,0%);fill-opacity:1;\">\n",
       "  <use xlink:href=\"#glyph-1600136556647679-0-3\" x=\"37.418806\" y=\"78.585464\"/>\n",
       "  <use xlink:href=\"#glyph-1600136556647679-0-2\" x=\"39.892232\" y=\"78.585464\"/>\n",
       "  <use xlink:href=\"#glyph-1600136556647679-0-5\" x=\"41.267457\" y=\"78.585464\"/>\n",
       "</g>\n",
       "<path style=\"fill:none;stroke-width:0.3985;stroke-linecap:butt;stroke-linejoin:miter;stroke:rgb(0%,0%,0%);stroke-opacity:1;stroke-miterlimit:10;\" d=\"M 14.173197 -63.531107 L 14.173197 -77.746655 \" transform=\"matrix(0.993081,0,0,-0.993081,47.999089,6.59207)\"/>\n",
       "<path style=\"fill:none;stroke-width:0.31879;stroke-linecap:round;stroke-linejoin:round;stroke:rgb(0%,0%,0%);stroke-opacity:1;stroke-miterlimit:10;\" d=\"M -1.193819 1.592861 C -1.095482 0.994974 0.00195487 0.0981439 0.296965 -0.000192713 C 0.00195487 -0.0985294 -1.095482 -0.99536 -1.193819 -1.593247 \" transform=\"matrix(0,0.993081,0.993081,0,62.07441,83.79884)\"/>\n",
       "<g style=\"fill:rgb(0%,0%,0%);fill-opacity:1;\">\n",
       "  <use xlink:href=\"#glyph-1600136556647679-0-3\" x=\"65.569667\" y=\"78.58745\"/>\n",
       "  <use xlink:href=\"#glyph-1600136556647679-0-2\" x=\"68.043094\" y=\"78.58745\"/>\n",
       "  <use xlink:href=\"#glyph-1600136556647679-0-6\" x=\"69.418319\" y=\"78.58745\"/>\n",
       "</g>\n",
       "<path style=\"fill:none;stroke-width:0.3985;stroke-linecap:butt;stroke-linejoin:miter;stroke:rgb(0%,0%,0%);stroke-opacity:1;stroke-miterlimit:10;\" d=\"M 21.009562 -63.531107 L 35.358847 -77.880393 \" transform=\"matrix(0.993081,0,0,-0.993081,47.999089,6.59207)\"/>\n",
       "<path style=\"fill:none;stroke-width:0.31879;stroke-linecap:round;stroke-linejoin:round;stroke:rgb(0%,0%,0%);stroke-opacity:1;stroke-miterlimit:10;\" d=\"M -1.194895 1.595584 C -1.094764 0.9948 0.00111024 0.0991864 0.298721 0.00183715 C 0.00111024 -0.101075 -1.094764 -0.996688 -1.194895 -1.591909 \" transform=\"matrix(0.702207,0.702207,0.702207,-0.702207,83.113165,83.932151)\"/>\n",
       "<g style=\"fill:rgb(0%,0%,0%);fill-opacity:1;\">\n",
       "  <use xlink:href=\"#glyph-1600136556647679-0-3\" x=\"79.644602\" y=\"73.362852\"/>\n",
       "  <use xlink:href=\"#glyph-1600136556647679-0-2\" x=\"82.118028\" y=\"73.362852\"/>\n",
       "  <use xlink:href=\"#glyph-1600136556647679-0-7\" x=\"83.493253\" y=\"73.362852\"/>\n",
       "</g>\n",
       "<g style=\"fill:rgb(0%,0%,0%);fill-opacity:1;\">\n",
       "  <use xlink:href=\"#glyph-1600136556647679-1-1\" x=\"44.149907\" y=\"9.064842\"/>\n",
       "</g>\n",
       "<g style=\"fill:rgb(0%,0%,0%);fill-opacity:1;\">\n",
       "  <use xlink:href=\"#glyph-1600136556647679-1-2\" x=\"45.525324\" y=\"38.452089\"/>\n",
       "</g>\n",
       "<g style=\"fill:rgb(0%,0%,0%);fill-opacity:1;\">\n",
       "  <use xlink:href=\"#glyph-1600136556647679-1-1\" x=\"30.074973\" y=\"65.365572\"/>\n",
       "</g>\n",
       "<g style=\"fill:rgb(0%,0%,0%);fill-opacity:1;\">\n",
       "  <use xlink:href=\"#glyph-1600136556647679-1-1\" x=\"58.225835\" y=\"65.365572\"/>\n",
       "</g>\n",
       "<g style=\"fill:rgb(0%,0%,0%);fill-opacity:1;\">\n",
       "  <use xlink:href=\"#glyph-1600136556647679-1-3\" x=\"3.300521\" y=\"94.336718\"/>\n",
       "</g>\n",
       "<g style=\"fill:rgb(0%,0%,0%);fill-opacity:1;\">\n",
       "  <use xlink:href=\"#glyph-1600136556647679-1-4\" x=\"29.802869\" y=\"94.336718\"/>\n",
       "  <use xlink:href=\"#glyph-1600136556647679-1-3\" x=\"33.097473\" y=\"94.336718\"/>\n",
       "</g>\n",
       "<g style=\"fill:rgb(0%,0%,0%);fill-opacity:1;\">\n",
       "  <use xlink:href=\"#glyph-1600136556647679-1-5\" x=\"59.600259\" y=\"94.336718\"/>\n",
       "</g>\n",
       "<g style=\"fill:rgb(0%,0%,0%);fill-opacity:1;\">\n",
       "  <use xlink:href=\"#glyph-1600136556647679-1-4\" x=\"86.103599\" y=\"94.336718\"/>\n",
       "  <use xlink:href=\"#glyph-1600136556647679-1-5\" x=\"89.398203\" y=\"94.336718\"/>\n",
       "</g>\n",
       "</g>\n",
       "</svg>\n",
       "\n"
      ],
      "text/plain": [
       "TikzPictures.TikzPicture(\"\\\\graph [layered layout, ] {\\n1/\\\"+\\\" [],\\n2/\\\"*\\\" [],\\n3/\\\"+\\\" [],\\n4/\\\"+\\\" [],\\n5/\\\"1\\\" [],\\n6/\\\"-1\\\" [],\\n7/\\\"2\\\" [],\\n8/\\\"-2\\\" [],\\n;\\n1 -> [font=\\\\tiny,edge label={1.0},] 2;\\n2 -> [font=\\\\tiny,] 3;\\n2 -> [font=\\\\tiny,] 4;\\n3 -> [font=\\\\tiny,edge label={0.3},] 5;\\n3 -> [font=\\\\tiny,edge label={0.7},] 6;\\n4 -> [font=\\\\tiny,edge label={0.4},] 7;\\n4 -> [font=\\\\tiny,edge label={0.6},] 8;\\n};\\n\", \"\", \"\\\\usepackage{fontspec}\\n\\\\setmainfont{Latin Modern Math}\\n\\\\usetikzlibrary{arrows}\\n\\\\usetikzlibrary{graphs}\\n\\\\usetikzlibrary{graphdrawing}\\n\\n% from: https://tex.stackexchange.com/questions/453132/fresh-install-of-tl2018-no-tikz-graph-drawing-libraries-found\\n\\\\usepackage{luacode}\\n\\\\begin{luacode*}\\n\\tfunction pgf_lookup_and_require(name)\\n\\tlocal sep = package.config:sub(1,1)\\n\\tlocal function lookup(name)\\n\\tlocal sub = name:gsub('%.',sep)  \\n\\tif kpse.find_file(sub, 'lua') then\\n\\trequire(name)\\n\\telseif kpse.find_file(sub, 'clua') then\\n\\tcollectgarbage('stop') \\n\\trequire(name)\\n\\tcollectgarbage('restart')\\n\\telse\\n\\treturn false\\n\\tend\\n\\treturn true\\n\\tend\\n\\treturn\\n\\tlookup('pgf.gd.' .. name .. '.library') or\\n\\tlookup('pgf.gd.' .. name) or\\n\\tlookup(name .. '.library') or\\n\\tlookup(name) \\n\\tend\\n\\\\end{luacode*}\\n\\n\\\\usegdlibrary{layered}\", \"tikzpicture\", true)"
      ]
     },
     "execution_count": 28,
     "metadata": {},
     "output_type": "execute_result"
    }
   ],
   "source": [
    "c1 = (+)((.3X1[1] + .7X1[2]) * (.4X2[1] + .6X2[2]))\n",
    "plot(c1)"
   ]
  },
  {
   "cell_type": "code",
   "execution_count": 31,
   "metadata": {},
   "outputs": [
    {
     "data": {
      "image/svg+xml": [
       "<?xml version=\"1.0\" encoding=\"UTF-8\"?>\n",
       "<svg xmlns=\"http://www.w3.org/2000/svg\" xmlns:xlink=\"http://www.w3.org/1999/xlink\" width=\"98.32pt\" height=\"98.315pt\" viewBox=\"0 0 98.32 98.315\" version=\"1.2\">\n",
       "<defs>\n",
       "<g>\n",
       "<symbol overflow=\"visible\" id=\"glyph-1600136556647682-0-0\">\n",
       "<path style=\"stroke:none;\" d=\"\"/>\n",
       "</symbol>\n",
       "<symbol overflow=\"visible\" id=\"glyph-1600136556647682-0-1\">\n",
       "<path style=\"stroke:none;\" d=\"M 2.078125 0 L 2.078125 -0.15625 L 1.921875 -0.15625 C 1.46875 -0.15625 1.453125 -0.203125 1.453125 -0.390625 L 1.453125 -3.171875 C 1.453125 -3.28125 1.453125 -3.296875 1.34375 -3.296875 C 1.03125 -2.984375 0.59375 -2.984375 0.4375 -2.984375 L 0.4375 -2.828125 C 0.546875 -2.828125 0.828125 -2.828125 1.09375 -2.953125 L 1.09375 -0.390625 C 1.09375 -0.21875 1.078125 -0.15625 0.625 -0.15625 L 0.46875 -0.15625 L 0.46875 0 C 0.640625 -0.015625 1.078125 -0.015625 1.265625 -0.015625 C 1.46875 -0.015625 1.90625 -0.015625 2.078125 0 Z M 2.078125 0 \"/>\n",
       "</symbol>\n",
       "<symbol overflow=\"visible\" id=\"glyph-1600136556647682-0-2\">\n",
       "<path style=\"stroke:none;\" d=\"M 0.953125 -0.265625 C 0.953125 -0.40625 0.828125 -0.53125 0.6875 -0.53125 C 0.546875 -0.53125 0.421875 -0.40625 0.421875 -0.265625 C 0.421875 -0.125 0.546875 0 0.6875 0 C 0.828125 0 0.953125 -0.125 0.953125 -0.265625 Z M 0.953125 -0.265625 \"/>\n",
       "</symbol>\n",
       "<symbol overflow=\"visible\" id=\"glyph-1600136556647682-0-3\">\n",
       "<path style=\"stroke:none;\" d=\"M 2.28125 -1.578125 C 2.28125 -1.984375 2.25 -2.375 2.078125 -2.75 C 1.859375 -3.21875 1.453125 -3.296875 1.234375 -3.296875 C 0.9375 -3.296875 0.578125 -3.171875 0.375 -2.703125 C 0.21875 -2.375 0.1875 -1.984375 0.1875 -1.578125 C 0.1875 -1.21875 0.21875 -0.765625 0.421875 -0.390625 C 0.625 0.015625 0.984375 0.109375 1.234375 0.109375 C 1.5 0.109375 1.875 0 2.09375 -0.46875 C 2.25 -0.8125 2.28125 -1.1875 2.28125 -1.578125 Z M 1.875 -1.640625 C 1.875 -1.265625 1.875 -0.9375 1.8125 -0.625 C 1.734375 -0.15625 1.453125 0 1.234375 0 C 1.046875 0 0.75 -0.125 0.65625 -0.59375 C 0.609375 -0.890625 0.609375 -1.359375 0.609375 -1.640625 C 0.609375 -1.96875 0.609375 -2.28125 0.640625 -2.5625 C 0.734375 -3.140625 1.109375 -3.1875 1.234375 -3.1875 C 1.390625 -3.1875 1.71875 -3.09375 1.8125 -2.609375 C 1.875 -2.328125 1.875 -1.953125 1.875 -1.640625 Z M 1.875 -1.640625 \"/>\n",
       "</symbol>\n",
       "<symbol overflow=\"visible\" id=\"glyph-1600136556647682-1-0\">\n",
       "<path style=\"stroke:none;\" d=\"\"/>\n",
       "</symbol>\n",
       "<symbol overflow=\"visible\" id=\"glyph-1600136556647682-1-1\">\n",
       "<path style=\"stroke:none;\" d=\"M 7.140625 -2.46875 C 7.140625 -2.578125 7.046875 -2.671875 6.9375 -2.671875 L 4.046875 -2.671875 L 4.046875 -5.5625 C 4.046875 -5.671875 3.953125 -5.765625 3.84375 -5.765625 C 3.734375 -5.765625 3.65625 -5.671875 3.65625 -5.5625 L 3.65625 -2.671875 L 0.75 -2.671875 C 0.640625 -2.671875 0.546875 -2.578125 0.546875 -2.46875 C 0.546875 -2.359375 0.640625 -2.28125 0.75 -2.28125 L 3.65625 -2.28125 L 3.65625 0.625 C 3.65625 0.734375 3.734375 0.828125 3.84375 0.828125 C 3.953125 0.828125 4.046875 0.734375 4.046875 0.625 L 4.046875 -2.28125 L 6.9375 -2.28125 C 7.046875 -2.28125 7.140625 -2.359375 7.140625 -2.46875 Z M 7.140625 -2.46875 \"/>\n",
       "</symbol>\n",
       "<symbol overflow=\"visible\" id=\"glyph-1600136556647682-1-2\">\n",
       "<path style=\"stroke:none;\" d=\"M 4.3125 -4.234375 C 4.40625 -4.375 4.34375 -4.5625 4.1875 -4.640625 L 2.703125 -5.296875 L 4.1875 -5.9375 C 4.34375 -6.015625 4.40625 -6.203125 4.3125 -6.359375 C 4.21875 -6.515625 4.03125 -6.546875 3.890625 -6.453125 L 2.59375 -5.5 L 2.765625 -7.09375 C 2.78125 -7.265625 2.65625 -7.421875 2.46875 -7.421875 C 2.296875 -7.421875 2.171875 -7.265625 2.1875 -7.09375 L 2.359375 -5.5 L 1.0625 -6.453125 C 0.921875 -6.546875 0.71875 -6.515625 0.640625 -6.359375 C 0.546875 -6.203125 0.609375 -6.015625 0.765625 -5.9375 L 2.234375 -5.296875 L 0.765625 -4.640625 C 0.609375 -4.5625 0.546875 -4.375 0.640625 -4.234375 C 0.71875 -4.078125 0.921875 -4.03125 1.0625 -4.140625 L 2.359375 -5.078125 L 2.1875 -3.484375 C 2.171875 -3.3125 2.296875 -3.171875 2.46875 -3.171875 C 2.65625 -3.171875 2.78125 -3.3125 2.765625 -3.484375 L 2.59375 -5.078125 L 3.890625 -4.140625 C 4.03125 -4.03125 4.21875 -4.078125 4.3125 -4.234375 Z M 4.3125 -4.234375 \"/>\n",
       "</symbol>\n",
       "<symbol overflow=\"visible\" id=\"glyph-1600136556647682-1-3\">\n",
       "<path style=\"stroke:none;\" d=\"M 4.4375 -1.71875 L 4.1875 -1.71875 C 4.140625 -1.421875 4.078125 -0.984375 3.96875 -0.84375 C 3.90625 -0.765625 3.25 -0.765625 3.03125 -0.765625 L 1.25 -0.765625 L 2.296875 -1.78125 C 3.84375 -3.140625 4.4375 -3.671875 4.4375 -4.671875 C 4.4375 -5.796875 3.546875 -6.59375 2.34375 -6.59375 C 1.21875 -6.59375 0.5 -5.671875 0.5 -4.796875 C 0.5 -4.25 0.984375 -4.25 1.015625 -4.25 C 1.1875 -4.25 1.53125 -4.359375 1.53125 -4.765625 C 1.53125 -5.03125 1.359375 -5.28125 1.015625 -5.28125 C 0.9375 -5.28125 0.90625 -5.28125 0.875 -5.265625 C 1.109375 -5.921875 1.640625 -6.28125 2.21875 -6.28125 C 3.109375 -6.28125 3.546875 -5.484375 3.546875 -4.671875 C 3.546875 -3.875 3.046875 -3.09375 2.5 -2.484375 L 0.609375 -0.359375 C 0.5 -0.25 0.5 -0.234375 0.5 0 L 4.15625 0 Z M 4.4375 -1.71875 \"/>\n",
       "</symbol>\n",
       "<symbol overflow=\"visible\" id=\"glyph-1600136556647682-1-4\">\n",
       "<path style=\"stroke:none;\" d=\"M 4.140625 0 L 4.140625 -0.3125 L 3.828125 -0.3125 C 2.9375 -0.3125 2.90625 -0.421875 2.90625 -0.78125 L 2.90625 -6.328125 C 2.90625 -6.5625 2.90625 -6.59375 2.6875 -6.59375 C 2.0625 -5.953125 1.203125 -5.953125 0.875 -5.953125 L 0.875 -5.640625 C 1.078125 -5.640625 1.65625 -5.640625 2.171875 -5.90625 L 2.171875 -0.78125 C 2.171875 -0.421875 2.140625 -0.3125 1.25 -0.3125 L 0.9375 -0.3125 L 0.9375 0 C 1.28125 -0.03125 2.140625 -0.03125 2.546875 -0.03125 C 2.9375 -0.03125 3.796875 -0.03125 4.140625 0 Z M 4.140625 0 \"/>\n",
       "</symbol>\n",
       "<symbol overflow=\"visible\" id=\"glyph-1600136556647682-1-5\">\n",
       "<path style=\"stroke:none;\" d=\"M 2.734375 -1.84375 L 2.734375 -2.421875 L 0.109375 -2.421875 L 0.109375 -1.84375 Z M 2.734375 -1.84375 \"/>\n",
       "</symbol>\n",
       "</g>\n",
       "</defs>\n",
       "<g id=\"surface1\">\n",
       "<path style=\"fill:none;stroke-width:0.3985;stroke-linecap:butt;stroke-linejoin:miter;stroke:rgb(0%,0%,0%);stroke-opacity:1;stroke-miterlimit:10;\" d=\"M -3.417264 -6.838056 L -10.340165 -20.679924 \" transform=\"matrix(0.993081,0,0,-0.993081,47.999089,6.59207)\"/>\n",
       "<path style=\"fill:none;stroke-width:0.31879;stroke-linecap:round;stroke-linejoin:round;stroke:rgb(0%,0%,0%);stroke-opacity:1;stroke-miterlimit:10;\" d=\"M -1.193929 1.5937 C -1.097176 0.995558 0.00058111 0.101854 0.297892 -0.000184488 C 0.0005793 -0.100458 -1.095435 -0.995902 -1.195717 -1.595802 \" transform=\"matrix(-0.444076,0.888172,0.888172,0.444076,37.730107,27.130034)\"/>\n",
       "<g style=\"fill:rgb(0%,0%,0%);fill-opacity:1;\">\n",
       "  <use xlink:href=\"#glyph-1600136556647682-0-1\" x=\"44.561043\" y=\"27.249144\"/>\n",
       "  <use xlink:href=\"#glyph-1600136556647682-0-2\" x=\"47.034469\" y=\"27.249144\"/>\n",
       "  <use xlink:href=\"#glyph-1600136556647682-0-3\" x=\"48.409695\" y=\"27.249144\"/>\n",
       "</g>\n",
       "<path style=\"fill:none;stroke-width:0.3985;stroke-linecap:butt;stroke-linejoin:miter;stroke:rgb(0%,0%,0%);stroke-opacity:1;stroke-miterlimit:10;\" d=\"M 3.4191 -6.838056 L 10.342001 -20.679924 \" transform=\"matrix(0.993081,0,0,-0.993081,47.999089,6.59207)\"/>\n",
       "<path style=\"fill:none;stroke-width:0.31879;stroke-linecap:round;stroke-linejoin:round;stroke:rgb(0%,0%,0%);stroke-opacity:1;stroke-miterlimit:10;\" d=\"M -1.196655 1.593925 C -1.094614 0.997544 -0.000358938 0.098582 0.298713 0.00182646 C 0.00140208 -0.100212 -1.096355 -0.993916 -1.194868 -1.595577 \" transform=\"matrix(0.444076,0.888172,0.888172,-0.444076,58.26807,27.130034)\"/>\n",
       "<g style=\"fill:rgb(0%,0%,0%);fill-opacity:1;\">\n",
       "  <use xlink:href=\"#glyph-1600136556647682-0-1\" x=\"58.428423\" y=\"16.854567\"/>\n",
       "  <use xlink:href=\"#glyph-1600136556647682-0-2\" x=\"60.90185\" y=\"16.854567\"/>\n",
       "  <use xlink:href=\"#glyph-1600136556647682-0-3\" x=\"62.277075\" y=\"16.854567\"/>\n",
       "</g>\n",
       "<path style=\"fill:none;stroke-width:0.3985;stroke-linecap:butt;stroke-linejoin:miter;stroke:rgb(0%,0%,0%);stroke-opacity:1;stroke-miterlimit:10;\" d=\"M -14.175295 -35.603496 L -14.175295 -49.398162 \" transform=\"matrix(0.993081,0,0,-0.993081,47.999089,6.59207)\"/>\n",
       "<path style=\"fill:none;stroke-width:0.31879;stroke-linecap:round;stroke-linejoin:round;stroke:rgb(0%,0%,0%);stroke-opacity:1;stroke-miterlimit:10;\" d=\"M -1.195501 1.595082 C -1.097165 0.997195 0.000272462 0.100365 0.299216 -0.00190512 C 0.000272462 -0.100242 -1.097165 -0.997072 -1.195501 -1.594959 \" transform=\"matrix(0,0.993081,0.993081,0,33.923767,55.648167)\"/>\n",
       "<path style=\"fill:none;stroke-width:0.3985;stroke-linecap:butt;stroke-linejoin:miter;stroke:rgb(0%,0%,0%);stroke-opacity:1;stroke-miterlimit:10;\" d=\"M -20.185632 -34.356587 L -36.186973 -50.357928 \" transform=\"matrix(0.993081,0,0,-0.993081,47.999089,6.59207)\"/>\n",
       "<path style=\"fill:none;stroke-width:0.31879;stroke-linecap:round;stroke-linejoin:round;stroke:rgb(0%,0%,0%);stroke-opacity:1;stroke-miterlimit:10;\" d=\"M -1.195856 1.594792 C -1.095725 0.994008 0.000149494 0.0983948 0.29776 0.00104553 C 0.000149494 -0.101867 -1.095725 -0.99748 -1.195856 -1.592701 \" transform=\"matrix(-0.702207,0.702207,0.702207,0.702207,12.063824,56.602676)\"/>\n",
       "<path style=\"fill:none;stroke-width:0.3985;stroke-linecap:butt;stroke-linejoin:miter;stroke:rgb(0%,0%,0%);stroke-opacity:1;stroke-miterlimit:10;\" d=\"M 14.173197 -35.603496 L 14.173197 -49.398162 \" transform=\"matrix(0.993081,0,0,-0.993081,47.999089,6.59207)\"/>\n",
       "<path style=\"fill:none;stroke-width:0.31879;stroke-linecap:round;stroke-linejoin:round;stroke:rgb(0%,0%,0%);stroke-opacity:1;stroke-miterlimit:10;\" d=\"M -1.195501 1.592861 C -1.097165 0.994974 0.000272462 0.0981439 0.299216 -0.000192713 C 0.000272462 -0.0985294 -1.097165 -0.99536 -1.195501 -1.593247 \" transform=\"matrix(0,0.993081,0.993081,0,62.07441,55.648167)\"/>\n",
       "<path style=\"fill:none;stroke-width:0.3985;stroke-linecap:butt;stroke-linejoin:miter;stroke:rgb(0%,0%,0%);stroke-opacity:1;stroke-miterlimit:10;\" d=\"M 20.183534 -34.356587 L 35.358847 -49.5319 \" transform=\"matrix(0.993081,0,0,-0.993081,47.999089,6.59207)\"/>\n",
       "<path style=\"fill:none;stroke-width:0.31879;stroke-linecap:round;stroke-linejoin:round;stroke:rgb(0%,0%,0%);stroke-opacity:1;stroke-miterlimit:10;\" d=\"M -1.193296 1.593985 C -1.095947 0.995982 -0.0000723476 0.100369 0.30032 0.000238329 C -0.0000723476 -0.0998923 -1.095947 -0.995506 -1.193296 -1.593508 \" transform=\"matrix(0.702207,0.702207,0.702207,-0.702207,83.113165,55.781468)\"/>\n",
       "<path style=\"fill:none;stroke-width:0.3985;stroke-linecap:butt;stroke-linejoin:miter;stroke:rgb(0%,0%,0%);stroke-opacity:1;stroke-miterlimit:10;\" d=\"M -14.175295 -63.531107 L -14.175295 -77.746655 \" transform=\"matrix(0.993081,0,0,-0.993081,47.999089,6.59207)\"/>\n",
       "<path style=\"fill:none;stroke-width:0.31879;stroke-linecap:round;stroke-linejoin:round;stroke:rgb(0%,0%,0%);stroke-opacity:1;stroke-miterlimit:10;\" d=\"M -1.193819 1.595082 C -1.095482 0.997195 0.00195487 0.100365 0.296965 -0.00190512 C 0.00195487 -0.100242 -1.095482 -0.997072 -1.193819 -1.594959 \" transform=\"matrix(0,0.993081,0.993081,0,33.923767,83.79884)\"/>\n",
       "<g style=\"fill:rgb(0%,0%,0%);fill-opacity:1;\">\n",
       "  <use xlink:href=\"#glyph-1600136556647682-0-1\" x=\"37.418806\" y=\"78.560637\"/>\n",
       "  <use xlink:href=\"#glyph-1600136556647682-0-2\" x=\"39.892232\" y=\"78.560637\"/>\n",
       "  <use xlink:href=\"#glyph-1600136556647682-0-3\" x=\"41.267457\" y=\"78.560637\"/>\n",
       "</g>\n",
       "<path style=\"fill:none;stroke-width:0.3985;stroke-linecap:butt;stroke-linejoin:miter;stroke:rgb(0%,0%,0%);stroke-opacity:1;stroke-miterlimit:10;\" d=\"M -7.334997 -63.531107 L 7.010355 -77.880393 \" transform=\"matrix(0.993081,0,0,-0.993081,47.999089,6.59207)\"/>\n",
       "<path style=\"fill:none;stroke-width:0.31879;stroke-linecap:round;stroke-linejoin:round;stroke:rgb(0%,0%,0%);stroke-opacity:1;stroke-miterlimit:10;\" d=\"M -1.196085 1.594394 C -1.095954 0.99361 -0.0000794187 0.0979968 0.297531 0.000647499 C -0.0000794187 -0.102265 -1.095954 -0.997878 -1.196085 -1.593099 \" transform=\"matrix(0.702207,0.702207,0.702207,-0.702207,54.962492,83.932151)\"/>\n",
       "<g style=\"fill:rgb(0%,0%,0%);fill-opacity:1;\">\n",
       "  <use xlink:href=\"#glyph-1600136556647682-0-1\" x=\"51.494733\" y=\"73.362852\"/>\n",
       "  <use xlink:href=\"#glyph-1600136556647682-0-2\" x=\"53.96816\" y=\"73.362852\"/>\n",
       "  <use xlink:href=\"#glyph-1600136556647682-0-3\" x=\"55.343385\" y=\"73.362852\"/>\n",
       "</g>\n",
       "<path style=\"fill:none;stroke-width:0.3985;stroke-linecap:butt;stroke-linejoin:miter;stroke:rgb(0%,0%,0%);stroke-opacity:1;stroke-miterlimit:10;\" d=\"M 7.336833 -63.531107 L -7.838481 -78.706421 \" transform=\"matrix(0.993081,0,0,-0.993081,47.999089,6.59207)\"/>\n",
       "<path style=\"fill:none;stroke-width:0.31879;stroke-linecap:round;stroke-linejoin:round;stroke:rgb(0%,0%,0%);stroke-opacity:1;stroke-miterlimit:10;\" d=\"M -1.195877 1.591616 C -1.095746 0.996394 0.00012828 0.100781 0.30052 0.000650501 C 0.00012828 -0.0994802 -1.095746 -0.995093 -1.195877 -1.595877 \" transform=\"matrix(-0.702207,0.702207,0.702207,0.702207,40.214477,84.753359)\"/>\n",
       "<g style=\"fill:rgb(0%,0%,0%);fill-opacity:1;\">\n",
       "  <use xlink:href=\"#glyph-1600136556647682-0-1\" x=\"51.083598\" y=\"84.167571\"/>\n",
       "  <use xlink:href=\"#glyph-1600136556647682-0-2\" x=\"53.557024\" y=\"84.167571\"/>\n",
       "  <use xlink:href=\"#glyph-1600136556647682-0-3\" x=\"54.932249\" y=\"84.167571\"/>\n",
       "</g>\n",
       "<path style=\"fill:none;stroke-width:0.3985;stroke-linecap:butt;stroke-linejoin:miter;stroke:rgb(0%,0%,0%);stroke-opacity:1;stroke-miterlimit:10;\" d=\"M 14.173197 -63.531107 L 14.173197 -77.746655 \" transform=\"matrix(0.993081,0,0,-0.993081,47.999089,6.59207)\"/>\n",
       "<path style=\"fill:none;stroke-width:0.31879;stroke-linecap:round;stroke-linejoin:round;stroke:rgb(0%,0%,0%);stroke-opacity:1;stroke-miterlimit:10;\" d=\"M -1.193819 1.592861 C -1.095482 0.994974 0.00195487 0.0981439 0.296965 -0.000192713 C 0.00195487 -0.0985294 -1.095482 -0.99536 -1.193819 -1.593247 \" transform=\"matrix(0,0.993081,0.993081,0,62.07441,83.79884)\"/>\n",
       "<g style=\"fill:rgb(0%,0%,0%);fill-opacity:1;\">\n",
       "  <use xlink:href=\"#glyph-1600136556647682-0-1\" x=\"65.569667\" y=\"78.560637\"/>\n",
       "  <use xlink:href=\"#glyph-1600136556647682-0-2\" x=\"68.043094\" y=\"78.560637\"/>\n",
       "  <use xlink:href=\"#glyph-1600136556647682-0-3\" x=\"69.418319\" y=\"78.560637\"/>\n",
       "</g>\n",
       "<g style=\"fill:rgb(0%,0%,0%);fill-opacity:1;\">\n",
       "  <use xlink:href=\"#glyph-1600136556647682-1-1\" x=\"44.149907\" y=\"9.064842\"/>\n",
       "</g>\n",
       "<g style=\"fill:rgb(0%,0%,0%);fill-opacity:1;\">\n",
       "  <use xlink:href=\"#glyph-1600136556647682-1-2\" x=\"31.45039\" y=\"38.452089\"/>\n",
       "</g>\n",
       "<g style=\"fill:rgb(0%,0%,0%);fill-opacity:1;\">\n",
       "  <use xlink:href=\"#glyph-1600136556647682-1-2\" x=\"59.600259\" y=\"38.452089\"/>\n",
       "</g>\n",
       "<g style=\"fill:rgb(0%,0%,0%);fill-opacity:1;\">\n",
       "  <use xlink:href=\"#glyph-1600136556647682-1-1\" x=\"30.074973\" y=\"65.365572\"/>\n",
       "</g>\n",
       "<g style=\"fill:rgb(0%,0%,0%);fill-opacity:1;\">\n",
       "  <use xlink:href=\"#glyph-1600136556647682-1-3\" x=\"3.300521\" y=\"66.18685\"/>\n",
       "</g>\n",
       "<g style=\"fill:rgb(0%,0%,0%);fill-opacity:1;\">\n",
       "  <use xlink:href=\"#glyph-1600136556647682-1-4\" x=\"31.45039\" y=\"94.336718\"/>\n",
       "</g>\n",
       "<g style=\"fill:rgb(0%,0%,0%);fill-opacity:1;\">\n",
       "  <use xlink:href=\"#glyph-1600136556647682-1-5\" x=\"57.953731\" y=\"94.336718\"/>\n",
       "  <use xlink:href=\"#glyph-1600136556647682-1-4\" x=\"61.248335\" y=\"94.336718\"/>\n",
       "</g>\n",
       "<g style=\"fill:rgb(0%,0%,0%);fill-opacity:1;\">\n",
       "  <use xlink:href=\"#glyph-1600136556647682-1-1\" x=\"58.225835\" y=\"65.365572\"/>\n",
       "</g>\n",
       "<g style=\"fill:rgb(0%,0%,0%);fill-opacity:1;\">\n",
       "  <use xlink:href=\"#glyph-1600136556647682-1-5\" x=\"86.103599\" y=\"66.18685\"/>\n",
       "  <use xlink:href=\"#glyph-1600136556647682-1-3\" x=\"89.398203\" y=\"66.18685\"/>\n",
       "</g>\n",
       "</g>\n",
       "</svg>\n",
       "\n"
      ],
      "text/plain": [
       "TikzPictures.TikzPicture(\"\\\\graph [layered layout, ] {\\n1/\\\"+\\\" [],\\n2/\\\"*\\\" [],\\n3/\\\"*\\\" [],\\n4/\\\"+\\\" [],\\n5/\\\"2\\\" [],\\n6/\\\"1\\\" [],\\n7/\\\"-1\\\" [],\\n8/\\\"+\\\" [],\\n9/\\\"-2\\\" [],\\n;\\n1 -> [font=\\\\tiny,edge label={1.0},] 2;\\n1 -> [font=\\\\tiny,edge label={1.0},] 3;\\n2 -> [font=\\\\tiny,] 4;\\n2 -> [font=\\\\tiny,] 5;\\n3 -> [font=\\\\tiny,] 8;\\n3 -> [font=\\\\tiny,] 9;\\n4 -> [font=\\\\tiny,edge label={1.0},] 6;\\n4 -> [font=\\\\tiny,edge label={1.0},] 7;\\n8 -> [font=\\\\tiny,edge label={1.0},] 6;\\n8 -> [font=\\\\tiny,edge label={1.0},] 7;\\n};\\n\", \"\", \"\\\\usepackage{fontspec}\\n\\\\setmainfont{Latin Modern Math}\\n\\\\usetikzlibrary{arrows}\\n\\\\usetikzlibrary{graphs}\\n\\\\usetikzlibrary{graphdrawing}\\n\\n% from: https://tex.stackexchange.com/questions/453132/fresh-install-of-tl2018-no-tikz-graph-drawing-libraries-found\\n\\\\usepackage{luacode}\\n\\\\begin{luacode*}\\n\\tfunction pgf_lookup_and_require(name)\\n\\tlocal sep = package.config:sub(1,1)\\n\\tlocal function lookup(name)\\n\\tlocal sub = name:gsub('%.',sep)  \\n\\tif kpse.find_file(sub, 'lua') then\\n\\trequire(name)\\n\\telseif kpse.find_file(sub, 'clua') then\\n\\tcollectgarbage('stop') \\n\\trequire(name)\\n\\tcollectgarbage('restart')\\n\\telse\\n\\treturn false\\n\\tend\\n\\treturn true\\n\\tend\\n\\treturn\\n\\tlookup('pgf.gd.' .. name .. '.library') or\\n\\tlookup('pgf.gd.' .. name) or\\n\\tlookup(name .. '.library') or\\n\\tlookup(name) \\n\\tend\\n\\\\end{luacode*}\\n\\n\\\\usegdlibrary{layered}\", \"tikzpicture\", true)"
      ]
     },
     "execution_count": 31,
     "metadata": {},
     "output_type": "execute_result"
    }
   ],
   "source": [
    "c2, _ = split(c1, (c1, c1.children[1]), Var(2);depth=2)\n",
    "plot(c2)"
   ]
  },
  {
   "cell_type": "markdown",
   "metadata": {},
   "source": [
    "6. **Clone**"
   ]
  },
  {
   "cell_type": "code",
   "execution_count": 32,
   "metadata": {
    "tags": []
   },
   "outputs": [
    {
     "data": {
      "image/svg+xml": [
       "<?xml version=\"1.0\" encoding=\"UTF-8\"?>\n",
       "<svg xmlns=\"http://www.w3.org/2000/svg\" xmlns:xlink=\"http://www.w3.org/1999/xlink\" width=\"41.628pt\" height=\"98.315pt\" viewBox=\"0 0 41.628 98.315\" version=\"1.2\">\n",
       "<defs>\n",
       "<g>\n",
       "<symbol overflow=\"visible\" id=\"glyph-1600136556647683-0-0\">\n",
       "<path style=\"stroke:none;\" d=\"\"/>\n",
       "</symbol>\n",
       "<symbol overflow=\"visible\" id=\"glyph-1600136556647683-0-1\">\n",
       "<path style=\"stroke:none;\" d=\"M 2.0625 0 L 2.0625 -0.15625 L 1.90625 -0.15625 C 1.46875 -0.15625 1.453125 -0.203125 1.453125 -0.390625 L 1.453125 -3.15625 C 1.453125 -3.28125 1.453125 -3.28125 1.34375 -3.28125 C 1.03125 -2.96875 0.59375 -2.96875 0.4375 -2.96875 L 0.4375 -2.8125 C 0.53125 -2.8125 0.828125 -2.8125 1.09375 -2.953125 L 1.09375 -0.390625 C 1.09375 -0.21875 1.078125 -0.15625 0.625 -0.15625 L 0.46875 -0.15625 L 0.46875 0 C 0.640625 -0.015625 1.078125 -0.015625 1.265625 -0.015625 C 1.46875 -0.015625 1.890625 -0.015625 2.0625 0 Z M 2.0625 0 \"/>\n",
       "</symbol>\n",
       "<symbol overflow=\"visible\" id=\"glyph-1600136556647683-0-2\">\n",
       "<path style=\"stroke:none;\" d=\"M 0.953125 -0.265625 C 0.953125 -0.40625 0.828125 -0.515625 0.6875 -0.515625 C 0.546875 -0.515625 0.421875 -0.40625 0.421875 -0.265625 C 0.421875 -0.125 0.546875 0 0.6875 0 C 0.828125 0 0.953125 -0.125 0.953125 -0.265625 Z M 0.953125 -0.265625 \"/>\n",
       "</symbol>\n",
       "<symbol overflow=\"visible\" id=\"glyph-1600136556647683-0-3\">\n",
       "<path style=\"stroke:none;\" d=\"M 2.265625 -1.578125 C 2.265625 -1.96875 2.25 -2.375 2.078125 -2.734375 C 1.84375 -3.203125 1.4375 -3.28125 1.234375 -3.28125 C 0.9375 -3.28125 0.578125 -3.15625 0.375 -2.703125 C 0.21875 -2.359375 0.1875 -1.96875 0.1875 -1.578125 C 0.1875 -1.203125 0.21875 -0.765625 0.421875 -0.390625 C 0.625 0.015625 0.984375 0.109375 1.234375 0.109375 C 1.5 0.109375 1.875 0 2.09375 -0.46875 C 2.25 -0.8125 2.265625 -1.1875 2.265625 -1.578125 Z M 1.859375 -1.640625 C 1.859375 -1.265625 1.859375 -0.9375 1.8125 -0.609375 C 1.734375 -0.140625 1.453125 0 1.234375 0 C 1.03125 0 0.75 -0.125 0.65625 -0.59375 C 0.609375 -0.890625 0.609375 -1.34375 0.609375 -1.640625 C 0.609375 -1.953125 0.609375 -2.28125 0.640625 -2.546875 C 0.734375 -3.140625 1.109375 -3.1875 1.234375 -3.1875 C 1.390625 -3.1875 1.71875 -3.09375 1.8125 -2.609375 C 1.859375 -2.328125 1.859375 -1.953125 1.859375 -1.640625 Z M 1.859375 -1.640625 \"/>\n",
       "</symbol>\n",
       "<symbol overflow=\"visible\" id=\"glyph-1600136556647683-1-0\">\n",
       "<path style=\"stroke:none;\" d=\"\"/>\n",
       "</symbol>\n",
       "<symbol overflow=\"visible\" id=\"glyph-1600136556647683-1-1\">\n",
       "<path style=\"stroke:none;\" d=\"M 7.125 -2.46875 C 7.125 -2.578125 7.046875 -2.671875 6.9375 -2.671875 L 4.03125 -2.671875 L 4.03125 -5.5625 C 4.03125 -5.671875 3.953125 -5.75 3.84375 -5.75 C 3.734375 -5.75 3.640625 -5.671875 3.640625 -5.5625 L 3.640625 -2.671875 L 0.75 -2.671875 C 0.640625 -2.671875 0.546875 -2.578125 0.546875 -2.46875 C 0.546875 -2.359375 0.640625 -2.265625 0.75 -2.265625 L 3.640625 -2.265625 L 3.640625 0.625 C 3.640625 0.734375 3.734375 0.8125 3.84375 0.8125 C 3.953125 0.8125 4.03125 0.734375 4.03125 0.625 L 4.03125 -2.265625 L 6.9375 -2.265625 C 7.046875 -2.265625 7.125 -2.359375 7.125 -2.46875 Z M 7.125 -2.46875 \"/>\n",
       "</symbol>\n",
       "<symbol overflow=\"visible\" id=\"glyph-1600136556647683-1-2\">\n",
       "<path style=\"stroke:none;\" d=\"M 4.3125 -4.21875 C 4.390625 -4.375 4.328125 -4.5625 4.171875 -4.625 L 2.703125 -5.28125 L 4.171875 -5.9375 C 4.328125 -6 4.390625 -6.1875 4.3125 -6.34375 C 4.21875 -6.5 4.015625 -6.53125 3.875 -6.4375 L 2.59375 -5.484375 L 2.75 -7.078125 C 2.78125 -7.265625 2.640625 -7.40625 2.46875 -7.40625 C 2.296875 -7.40625 2.15625 -7.265625 2.1875 -7.078125 L 2.34375 -5.484375 L 1.0625 -6.4375 C 0.921875 -6.53125 0.71875 -6.5 0.625 -6.34375 C 0.546875 -6.1875 0.609375 -6 0.765625 -5.9375 L 2.234375 -5.28125 L 0.765625 -4.625 C 0.609375 -4.5625 0.546875 -4.375 0.625 -4.21875 C 0.71875 -4.0625 0.921875 -4.03125 1.0625 -4.125 L 2.34375 -5.078125 L 2.1875 -3.484375 C 2.15625 -3.3125 2.296875 -3.15625 2.46875 -3.15625 C 2.640625 -3.15625 2.78125 -3.3125 2.75 -3.484375 L 2.59375 -5.078125 L 3.875 -4.125 C 4.015625 -4.03125 4.21875 -4.0625 4.3125 -4.21875 Z M 4.3125 -4.21875 \"/>\n",
       "</symbol>\n",
       "<symbol overflow=\"visible\" id=\"glyph-1600136556647683-1-3\">\n",
       "<path style=\"stroke:none;\" d=\"M 4.140625 0 L 4.140625 -0.3125 L 3.828125 -0.3125 C 2.9375 -0.3125 2.90625 -0.421875 2.90625 -0.78125 L 2.90625 -6.3125 C 2.90625 -6.5625 2.90625 -6.578125 2.671875 -6.578125 C 2.0625 -5.9375 1.1875 -5.9375 0.875 -5.9375 L 0.875 -5.640625 C 1.078125 -5.640625 1.65625 -5.640625 2.171875 -5.890625 L 2.171875 -0.78125 C 2.171875 -0.421875 2.140625 -0.3125 1.25 -0.3125 L 0.9375 -0.3125 L 0.9375 0 C 1.28125 -0.03125 2.140625 -0.03125 2.53125 -0.03125 C 2.9375 -0.03125 3.796875 -0.03125 4.140625 0 Z M 4.140625 0 \"/>\n",
       "</symbol>\n",
       "<symbol overflow=\"visible\" id=\"glyph-1600136556647683-1-4\">\n",
       "<path style=\"stroke:none;\" d=\"M 2.71875 -1.84375 L 2.71875 -2.421875 L 0.109375 -2.421875 L 0.109375 -1.84375 Z M 2.71875 -1.84375 \"/>\n",
       "</symbol>\n",
       "</g>\n",
       "</defs>\n",
       "<g id=\"surface1\">\n",
       "<path style=\"fill:none;stroke-width:0.3985;stroke-linecap:butt;stroke-linejoin:miter;stroke:rgb(0%,0%,0%);stroke-opacity:1;stroke-miterlimit:10;\" d=\"M -3.419315 -6.83856 L -10.339988 -20.679905 \" transform=\"matrix(0.991143,0,0,-0.991143,19.806999,6.675135)\"/>\n",
       "<path style=\"fill:none;stroke-width:0.31879;stroke-linecap:round;stroke-linejoin:round;stroke:rgb(0%,0%,0%);stroke-opacity:1;stroke-miterlimit:10;\" d=\"M -1.194595 1.593441 C -1.094128 0.995892 0.00225064 0.0986784 0.29838 -0.0000342885 C 0.000486176 -0.100504 -1.094146 -0.995936 -1.196387 -1.593483 \" transform=\"matrix(-0.443209,0.886439,0.886439,0.443209,9.558056,27.17302)\"/>\n",
       "<g style=\"fill:rgb(0%,0%,0%);fill-opacity:1;\">\n",
       "  <use xlink:href=\"#glyph-1600136556647683-0-1\" x=\"16.375662\" y=\"27.291897\"/>\n",
       "  <use xlink:href=\"#glyph-1600136556647683-0-2\" x=\"18.844262\" y=\"27.291897\"/>\n",
       "  <use xlink:href=\"#glyph-1600136556647683-0-3\" x=\"20.216804\" y=\"27.291897\"/>\n",
       "</g>\n",
       "<path style=\"fill:none;stroke-width:0.3985;stroke-linecap:butt;stroke-linejoin:miter;stroke:rgb(0%,0%,0%);stroke-opacity:1;stroke-miterlimit:10;\" d=\"M 3.418593 -6.83856 L 10.339265 -20.679905 \" transform=\"matrix(0.991143,0,0,-0.991143,19.806999,6.675135)\"/>\n",
       "<path style=\"fill:none;stroke-width:0.31879;stroke-linecap:round;stroke-linejoin:round;stroke:rgb(0%,0%,0%);stroke-opacity:1;stroke-miterlimit:10;\" d=\"M -1.19671 1.592837 C -1.094469 0.995289 0.00016288 0.0998577 0.298057 -0.000612318 C 0.00192734 -0.099325 -1.094451 -0.996539 -1.194919 -1.594088 \" transform=\"matrix(0.443209,0.886439,0.886439,-0.443209,30.055941,27.17302)\"/>\n",
       "<g style=\"fill:rgb(0%,0%,0%);fill-opacity:1;\">\n",
       "  <use xlink:href=\"#glyph-1600136556647683-0-1\" x=\"30.215981\" y=\"16.917605\"/>\n",
       "  <use xlink:href=\"#glyph-1600136556647683-0-2\" x=\"32.684581\" y=\"16.917605\"/>\n",
       "  <use xlink:href=\"#glyph-1600136556647683-0-3\" x=\"34.057123\" y=\"16.917605\"/>\n",
       "</g>\n",
       "<path style=\"fill:none;stroke-width:0.3985;stroke-linecap:butt;stroke-linejoin:miter;stroke:rgb(0%,0%,0%);stroke-opacity:1;stroke-miterlimit:10;\" d=\"M -10.544928 -35.601127 L -3.624256 -49.446413 \" transform=\"matrix(0.991143,0,0,-0.991143,19.806999,6.675135)\"/>\n",
       "<path style=\"fill:none;stroke-width:0.31879;stroke-linecap:round;stroke-linejoin:round;stroke:rgb(0%,0%,0%);stroke-opacity:1;stroke-miterlimit:10;\" d=\"M -1.195285 1.59285 C -1.09657 0.997066 0.00158736 0.0998716 0.299481 -0.000598491 C -0.000173549 -0.0975485 -1.096552 -0.994762 -1.193494 -1.594074 \" transform=\"matrix(0.443209,0.886439,0.886439,-0.443209,16.215454,55.683482)\"/>\n",
       "<path style=\"fill:none;stroke-width:0.3985;stroke-linecap:butt;stroke-linejoin:miter;stroke:rgb(0%,0%,0%);stroke-opacity:1;stroke-miterlimit:10;\" d=\"M 10.544205 -35.601127 L 3.623533 -49.446413 \" transform=\"matrix(0.991143,0,0,-0.991143,19.806999,6.675135)\"/>\n",
       "<path style=\"fill:none;stroke-width:0.31879;stroke-linecap:round;stroke-linejoin:round;stroke:rgb(0%,0%,0%);stroke-opacity:1;stroke-miterlimit:10;\" d=\"M -1.193171 1.593427 C -1.096229 0.994116 -0.0016129 0.100427 0.299804 -0.0000481151 C 0.00191066 -0.100518 -1.096247 -0.997712 -1.194962 -1.593497 \" transform=\"matrix(-0.443209,0.886439,0.886439,0.443209,23.398544,55.683482)\"/>\n",
       "<path style=\"fill:none;stroke-width:0.3985;stroke-linecap:butt;stroke-linejoin:miter;stroke:rgb(0%,0%,0%);stroke-opacity:1;stroke-miterlimit:10;\" d=\"M -3.419315 -63.532109 L -10.548869 -77.791217 \" transform=\"matrix(0.991143,0,0,-0.991143,19.806999,6.675135)\"/>\n",
       "<path style=\"fill:none;stroke-width:0.31879;stroke-linecap:round;stroke-linejoin:round;stroke:rgb(0%,0%,0%);stroke-opacity:1;stroke-miterlimit:10;\" d=\"M -1.195394 1.59341 C -1.094926 0.99586 0.00145227 0.0986467 0.297582 -0.0000659852 C -0.000312193 -0.100536 -1.094944 -0.995967 -1.197185 -1.593515 \" transform=\"matrix(-0.443209,0.886439,0.886439,0.443209,9.350699,83.77921)\"/>\n",
       "<g style=\"fill:rgb(0%,0%,0%);fill-opacity:1;\">\n",
       "  <use xlink:href=\"#glyph-1600136556647683-0-1\" x=\"16.272583\" y=\"83.689908\"/>\n",
       "  <use xlink:href=\"#glyph-1600136556647683-0-2\" x=\"18.741183\" y=\"83.689908\"/>\n",
       "  <use xlink:href=\"#glyph-1600136556647683-0-3\" x=\"20.113725\" y=\"83.689908\"/>\n",
       "</g>\n",
       "<path style=\"fill:none;stroke-width:0.3985;stroke-linecap:butt;stroke-linejoin:miter;stroke:rgb(0%,0%,0%);stroke-opacity:1;stroke-miterlimit:10;\" d=\"M 3.418593 -63.532109 L 10.548146 -77.791217 \" transform=\"matrix(0.991143,0,0,-0.991143,19.806999,6.675135)\"/>\n",
       "<path style=\"fill:none;stroke-width:0.31879;stroke-linecap:round;stroke-linejoin:round;stroke:rgb(0%,0%,0%);stroke-opacity:1;stroke-miterlimit:10;\" d=\"M -1.197508 1.592868 C -1.095267 0.995321 -0.000635488 0.0998894 0.297258 -0.000580621 C 0.00112897 -0.0992933 -1.09525 -0.996507 -1.195717 -1.594056 \" transform=\"matrix(0.443209,0.886439,0.886439,-0.443209,30.263298,83.77921)\"/>\n",
       "<g style=\"fill:rgb(0%,0%,0%);fill-opacity:1;\">\n",
       "  <use xlink:href=\"#glyph-1600136556647683-0-1\" x=\"30.320051\" y=\"73.315616\"/>\n",
       "  <use xlink:href=\"#glyph-1600136556647683-0-2\" x=\"32.788651\" y=\"73.315616\"/>\n",
       "  <use xlink:href=\"#glyph-1600136556647683-0-3\" x=\"34.161193\" y=\"73.315616\"/>\n",
       "</g>\n",
       "<g style=\"fill:rgb(0%,0%,0%);fill-opacity:1;\">\n",
       "  <use xlink:href=\"#glyph-1600136556647683-1-1\" x=\"15.96632\" y=\"9.143081\"/>\n",
       "</g>\n",
       "<g style=\"fill:rgb(0%,0%,0%);fill-opacity:1;\">\n",
       "  <use xlink:href=\"#glyph-1600136556647683-1-2\" x=\"3.291585\" y=\"38.47298\"/>\n",
       "</g>\n",
       "<g style=\"fill:rgb(0%,0%,0%);fill-opacity:1;\">\n",
       "  <use xlink:href=\"#glyph-1600136556647683-1-2\" x=\"31.386521\" y=\"38.47298\"/>\n",
       "</g>\n",
       "<g style=\"fill:rgb(0%,0%,0%);fill-opacity:1;\">\n",
       "  <use xlink:href=\"#glyph-1600136556647683-1-1\" x=\"15.96632\" y=\"65.333943\"/>\n",
       "</g>\n",
       "<g style=\"fill:rgb(0%,0%,0%);fill-opacity:1;\">\n",
       "  <use xlink:href=\"#glyph-1600136556647683-1-3\" x=\"3.291585\" y=\"94.248553\"/>\n",
       "</g>\n",
       "<g style=\"fill:rgb(0%,0%,0%);fill-opacity:1;\">\n",
       "  <use xlink:href=\"#glyph-1600136556647683-1-4\" x=\"29.742215\" y=\"94.248553\"/>\n",
       "  <use xlink:href=\"#glyph-1600136556647683-1-3\" x=\"33.03039\" y=\"94.248553\"/>\n",
       "</g>\n",
       "</g>\n",
       "</svg>\n",
       "\n"
      ],
      "text/plain": [
       "TikzPictures.TikzPicture(\"\\\\graph [layered layout, ] {\\n1/\\\"+\\\" [],\\n2/\\\"*\\\" [],\\n3/\\\"*\\\" [],\\n4/\\\"+\\\" [],\\n5/\\\"1\\\" [],\\n6/\\\"-1\\\" [],\\n;\\n1 -> [font=\\\\tiny,edge label={1.0},] 2;\\n1 -> [font=\\\\tiny,edge label={1.0},] 3;\\n2 -> [font=\\\\tiny,] 4;\\n3 -> [font=\\\\tiny,] 4;\\n4 -> [font=\\\\tiny,edge label={1.0},] 5;\\n4 -> [font=\\\\tiny,edge label={1.0},] 6;\\n};\\n\", \"\", \"\\\\usepackage{fontspec}\\n\\\\setmainfont{Latin Modern Math}\\n\\\\usetikzlibrary{arrows}\\n\\\\usetikzlibrary{graphs}\\n\\\\usetikzlibrary{graphdrawing}\\n\\n% from: https://tex.stackexchange.com/questions/453132/fresh-install-of-tl2018-no-tikz-graph-drawing-libraries-found\\n\\\\usepackage{luacode}\\n\\\\begin{luacode*}\\n\\tfunction pgf_lookup_and_require(name)\\n\\tlocal sep = package.config:sub(1,1)\\n\\tlocal function lookup(name)\\n\\tlocal sub = name:gsub('%.',sep)  \\n\\tif kpse.find_file(sub, 'lua') then\\n\\trequire(name)\\n\\telseif kpse.find_file(sub, 'clua') then\\n\\tcollectgarbage('stop') \\n\\trequire(name)\\n\\tcollectgarbage('restart')\\n\\telse\\n\\treturn false\\n\\tend\\n\\treturn true\\n\\tend\\n\\treturn\\n\\tlookup('pgf.gd.' .. name .. '.library') or\\n\\tlookup('pgf.gd.' .. name) or\\n\\tlookup(name .. '.library') or\\n\\tlookup(name) \\n\\tend\\n\\\\end{luacode*}\\n\\n\\\\usegdlibrary{layered}\", \"tikzpicture\", true)"
      ]
     },
     "execution_count": 32,
     "metadata": {},
     "output_type": "execute_result"
    }
   ],
   "source": [
    "or = X1[1] + X1[2]\n",
    "and1, and2 = (*)(or), (*)(or)\n",
    "c1 = and1 + and2\n",
    "c2 = clone(c1, and1, and2, or)\n",
    "plot(c1)"
   ]
  },
  {
   "cell_type": "code",
   "execution_count": 232,
   "metadata": {},
   "outputs": [
    {
     "data": {
      "image/svg+xml": [
       "<?xml version=\"1.0\" encoding=\"UTF-8\"?>\n",
       "<svg xmlns=\"http://www.w3.org/2000/svg\" xmlns:xlink=\"http://www.w3.org/1999/xlink\" width=\"48.749pt\" height=\"98.315pt\" viewBox=\"0 0 48.749 98.315\" version=\"1.2\">\n",
       "<defs>\n",
       "<g>\n",
       "<symbol overflow=\"visible\" id=\"glyph-1600136556647700-0-0\">\n",
       "<path style=\"stroke:none;\" d=\"\"/>\n",
       "</symbol>\n",
       "<symbol overflow=\"visible\" id=\"glyph-1600136556647700-0-1\">\n",
       "<path style=\"stroke:none;\" d=\"M 2.078125 0 L 2.078125 -0.15625 L 1.921875 -0.15625 C 1.46875 -0.15625 1.453125 -0.203125 1.453125 -0.390625 L 1.453125 -3.171875 C 1.453125 -3.28125 1.453125 -3.296875 1.34375 -3.296875 C 1.03125 -2.984375 0.59375 -2.984375 0.4375 -2.984375 L 0.4375 -2.828125 C 0.546875 -2.828125 0.828125 -2.828125 1.09375 -2.953125 L 1.09375 -0.390625 C 1.09375 -0.21875 1.078125 -0.15625 0.625 -0.15625 L 0.46875 -0.15625 L 0.46875 0 C 0.640625 -0.015625 1.078125 -0.015625 1.265625 -0.015625 C 1.46875 -0.015625 1.90625 -0.015625 2.078125 0 Z M 2.078125 0 \"/>\n",
       "</symbol>\n",
       "<symbol overflow=\"visible\" id=\"glyph-1600136556647700-0-2\">\n",
       "<path style=\"stroke:none;\" d=\"M 0.953125 -0.265625 C 0.953125 -0.40625 0.828125 -0.53125 0.6875 -0.53125 C 0.546875 -0.53125 0.421875 -0.40625 0.421875 -0.265625 C 0.421875 -0.125 0.546875 0 0.6875 0 C 0.828125 0 0.953125 -0.125 0.953125 -0.265625 Z M 0.953125 -0.265625 \"/>\n",
       "</symbol>\n",
       "<symbol overflow=\"visible\" id=\"glyph-1600136556647700-0-3\">\n",
       "<path style=\"stroke:none;\" d=\"M 2.28125 -1.578125 C 2.28125 -1.984375 2.25 -2.375 2.078125 -2.75 C 1.859375 -3.21875 1.453125 -3.296875 1.234375 -3.296875 C 0.9375 -3.296875 0.578125 -3.171875 0.375 -2.703125 C 0.21875 -2.375 0.1875 -1.984375 0.1875 -1.578125 C 0.1875 -1.21875 0.21875 -0.765625 0.421875 -0.390625 C 0.625 0.015625 0.984375 0.109375 1.234375 0.109375 C 1.5 0.109375 1.875 0 2.09375 -0.46875 C 2.25 -0.8125 2.28125 -1.1875 2.28125 -1.578125 Z M 1.875 -1.640625 C 1.875 -1.265625 1.875 -0.9375 1.8125 -0.625 C 1.734375 -0.15625 1.453125 0 1.234375 0 C 1.046875 0 0.75 -0.125 0.65625 -0.59375 C 0.609375 -0.890625 0.609375 -1.359375 0.609375 -1.640625 C 0.609375 -1.96875 0.609375 -2.28125 0.640625 -2.5625 C 0.734375 -3.140625 1.109375 -3.1875 1.234375 -3.1875 C 1.390625 -3.1875 1.71875 -3.09375 1.8125 -2.609375 C 1.875 -2.328125 1.875 -1.953125 1.875 -1.640625 Z M 1.875 -1.640625 \"/>\n",
       "</symbol>\n",
       "<symbol overflow=\"visible\" id=\"glyph-1600136556647700-0-4\">\n",
       "<path style=\"stroke:none;\" d=\"M 3.546875 -3.234375 L 3.546875 -3.390625 L 2.96875 -3.375 L 2.390625 -3.390625 L 2.390625 -3.234375 C 2.890625 -3.234375 2.890625 -3 2.890625 -2.859375 L 2.890625 -0.75 L 1.15625 -3.3125 C 1.109375 -3.375 1.09375 -3.390625 1 -3.390625 L 0.15625 -3.390625 L 0.15625 -3.234375 L 0.3125 -3.234375 C 0.375 -3.234375 0.484375 -3.21875 0.5625 -3.21875 C 0.671875 -3.203125 0.671875 -3.203125 0.671875 -3.109375 L 0.671875 -0.515625 C 0.671875 -0.390625 0.671875 -0.15625 0.15625 -0.15625 L 0.15625 0 L 0.75 -0.015625 L 1.328125 0 L 1.328125 -0.15625 C 0.8125 -0.15625 0.8125 -0.390625 0.8125 -0.515625 L 0.8125 -3.09375 C 0.84375 -3.078125 0.84375 -3.0625 0.859375 -3.03125 L 2.875 -0.0625 C 2.921875 0 2.9375 0 2.96875 0 C 3.03125 0 3.03125 -0.03125 3.03125 -0.125 L 3.03125 -2.859375 C 3.03125 -3 3.03125 -3.234375 3.546875 -3.234375 Z M 3.546875 -3.234375 \"/>\n",
       "</symbol>\n",
       "<symbol overflow=\"visible\" id=\"glyph-1600136556647700-0-5\">\n",
       "<path style=\"stroke:none;\" d=\"M 2.390625 -0.4375 L 2.390625 -0.71875 L 2.265625 -0.71875 L 2.265625 -0.4375 C 2.265625 -0.15625 2.140625 -0.125 2.09375 -0.125 C 1.921875 -0.125 1.90625 -0.34375 1.90625 -0.375 L 1.90625 -1.359375 C 1.90625 -1.5625 1.90625 -1.765625 1.734375 -1.953125 C 1.53125 -2.140625 1.28125 -2.21875 1.046875 -2.21875 C 0.640625 -2.21875 0.296875 -1.984375 0.296875 -1.65625 C 0.296875 -1.515625 0.40625 -1.421875 0.53125 -1.421875 C 0.671875 -1.421875 0.765625 -1.53125 0.765625 -1.65625 C 0.765625 -1.71875 0.734375 -1.875 0.5 -1.875 C 0.640625 -2.0625 0.875 -2.109375 1.046875 -2.109375 C 1.28125 -2.109375 1.5625 -1.921875 1.5625 -1.46875 L 1.5625 -1.296875 C 1.3125 -1.28125 0.96875 -1.265625 0.65625 -1.109375 C 0.28125 -0.953125 0.15625 -0.6875 0.15625 -0.46875 C 0.15625 -0.0625 0.640625 0.046875 0.953125 0.046875 C 1.28125 0.046875 1.5 -0.140625 1.59375 -0.375 C 1.625 -0.171875 1.75 0.03125 1.984375 0.03125 C 2.09375 0.03125 2.390625 -0.046875 2.390625 -0.4375 Z M 1.5625 -0.6875 C 1.5625 -0.21875 1.203125 -0.046875 0.984375 -0.046875 C 0.75 -0.046875 0.546875 -0.234375 0.546875 -0.46875 C 0.546875 -0.75 0.75 -1.15625 1.5625 -1.1875 Z M 1.5625 -0.6875 \"/>\n",
       "</symbol>\n",
       "<symbol overflow=\"visible\" id=\"glyph-1600136556647700-1-0\">\n",
       "<path style=\"stroke:none;\" d=\"\"/>\n",
       "</symbol>\n",
       "<symbol overflow=\"visible\" id=\"glyph-1600136556647700-1-1\">\n",
       "<path style=\"stroke:none;\" d=\"M 7.140625 -2.46875 C 7.140625 -2.578125 7.046875 -2.671875 6.9375 -2.671875 L 4.046875 -2.671875 L 4.046875 -5.5625 C 4.046875 -5.671875 3.953125 -5.765625 3.84375 -5.765625 C 3.734375 -5.765625 3.65625 -5.671875 3.65625 -5.5625 L 3.65625 -2.671875 L 0.75 -2.671875 C 0.640625 -2.671875 0.546875 -2.578125 0.546875 -2.46875 C 0.546875 -2.359375 0.640625 -2.28125 0.75 -2.28125 L 3.65625 -2.28125 L 3.65625 0.625 C 3.65625 0.734375 3.734375 0.828125 3.84375 0.828125 C 3.953125 0.828125 4.046875 0.734375 4.046875 0.625 L 4.046875 -2.28125 L 6.9375 -2.28125 C 7.046875 -2.28125 7.140625 -2.359375 7.140625 -2.46875 Z M 7.140625 -2.46875 \"/>\n",
       "</symbol>\n",
       "<symbol overflow=\"visible\" id=\"glyph-1600136556647700-1-2\">\n",
       "<path style=\"stroke:none;\" d=\"M 4.3125 -4.234375 C 4.40625 -4.375 4.34375 -4.5625 4.1875 -4.640625 L 2.703125 -5.296875 L 4.1875 -5.9375 C 4.34375 -6.015625 4.40625 -6.203125 4.3125 -6.359375 C 4.21875 -6.515625 4.03125 -6.546875 3.890625 -6.453125 L 2.59375 -5.5 L 2.765625 -7.09375 C 2.78125 -7.265625 2.65625 -7.421875 2.46875 -7.421875 C 2.296875 -7.421875 2.171875 -7.265625 2.1875 -7.09375 L 2.359375 -5.5 L 1.0625 -6.453125 C 0.921875 -6.546875 0.71875 -6.515625 0.640625 -6.359375 C 0.546875 -6.203125 0.609375 -6.015625 0.765625 -5.9375 L 2.234375 -5.296875 L 0.765625 -4.640625 C 0.609375 -4.5625 0.546875 -4.375 0.640625 -4.234375 C 0.71875 -4.078125 0.921875 -4.03125 1.0625 -4.140625 L 2.359375 -5.078125 L 2.1875 -3.484375 C 2.171875 -3.3125 2.296875 -3.171875 2.46875 -3.171875 C 2.65625 -3.171875 2.78125 -3.3125 2.765625 -3.484375 L 2.59375 -5.078125 L 3.890625 -4.140625 C 4.03125 -4.03125 4.21875 -4.078125 4.3125 -4.234375 Z M 4.3125 -4.234375 \"/>\n",
       "</symbol>\n",
       "<symbol overflow=\"visible\" id=\"glyph-1600136556647700-1-3\">\n",
       "<path style=\"stroke:none;\" d=\"M 4.140625 0 L 4.140625 -0.3125 L 3.828125 -0.3125 C 2.9375 -0.3125 2.90625 -0.421875 2.90625 -0.78125 L 2.90625 -6.328125 C 2.90625 -6.5625 2.90625 -6.59375 2.6875 -6.59375 C 2.0625 -5.953125 1.203125 -5.953125 0.875 -5.953125 L 0.875 -5.640625 C 1.078125 -5.640625 1.65625 -5.640625 2.171875 -5.90625 L 2.171875 -0.78125 C 2.171875 -0.421875 2.140625 -0.3125 1.25 -0.3125 L 0.9375 -0.3125 L 0.9375 0 C 1.28125 -0.03125 2.140625 -0.03125 2.546875 -0.03125 C 2.9375 -0.03125 3.796875 -0.03125 4.140625 0 Z M 4.140625 0 \"/>\n",
       "</symbol>\n",
       "<symbol overflow=\"visible\" id=\"glyph-1600136556647700-1-4\">\n",
       "<path style=\"stroke:none;\" d=\"M 2.734375 -1.84375 L 2.734375 -2.421875 L 0.109375 -2.421875 L 0.109375 -1.84375 Z M 2.734375 -1.84375 \"/>\n",
       "</symbol>\n",
       "</g>\n",
       "</defs>\n",
       "<g id=\"surface1\">\n",
       "<path style=\"fill:none;stroke-width:0.3985;stroke-linecap:butt;stroke-linejoin:miter;stroke:rgb(0%,0%,0%);stroke-opacity:1;stroke-miterlimit:10;\" d=\"M -3.417718 -6.838056 L -10.340619 -20.679924 \" transform=\"matrix(0.993081,0,0,-0.993081,21.265164,6.59207)\"/>\n",
       "<path style=\"fill:none;stroke-width:0.31879;stroke-linecap:round;stroke-linejoin:round;stroke:rgb(0%,0%,0%);stroke-opacity:1;stroke-miterlimit:10;\" d=\"M -1.193726 1.593294 C -1.096974 0.995152 0.000783976 0.101448 0.298095 -0.000590228 C 0.000782166 -0.100864 -1.095232 -0.996307 -1.195514 -1.596207 \" transform=\"matrix(-0.444076,0.888172,0.888172,0.444076,10.996182,27.130034)\"/>\n",
       "<g style=\"fill:rgb(0%,0%,0%);fill-opacity:1;\">\n",
       "  <use xlink:href=\"#glyph-1600136556647700-0-1\" x=\"17.827118\" y=\"27.249144\"/>\n",
       "  <use xlink:href=\"#glyph-1600136556647700-0-2\" x=\"20.300545\" y=\"27.249144\"/>\n",
       "  <use xlink:href=\"#glyph-1600136556647700-0-3\" x=\"21.67577\" y=\"27.249144\"/>\n",
       "</g>\n",
       "<path style=\"fill:none;stroke-width:0.3985;stroke-linecap:butt;stroke-linejoin:miter;stroke:rgb(0%,0%,0%);stroke-opacity:1;stroke-miterlimit:10;\" d=\"M 3.418647 -6.838056 L 10.341547 -20.679924 \" transform=\"matrix(0.993081,0,0,-0.993081,21.265164,6.59207)\"/>\n",
       "<path style=\"fill:none;stroke-width:0.31879;stroke-linecap:round;stroke-linejoin:round;stroke:rgb(0%,0%,0%);stroke-opacity:1;stroke-miterlimit:10;\" d=\"M -1.196858 1.593519 C -1.094817 0.997138 -0.000561804 0.0981762 0.29851 0.00142072 C 0.00119921 -0.100618 -1.096558 -0.994321 -1.19507 -1.595982 \" transform=\"matrix(0.444076,0.888172,0.888172,-0.444076,31.534146,27.130034)\"/>\n",
       "<g style=\"fill:rgb(0%,0%,0%);fill-opacity:1;\">\n",
       "  <use xlink:href=\"#glyph-1600136556647700-0-1\" x=\"31.694499\" y=\"16.854567\"/>\n",
       "  <use xlink:href=\"#glyph-1600136556647700-0-2\" x=\"34.167925\" y=\"16.854567\"/>\n",
       "  <use xlink:href=\"#glyph-1600136556647700-0-3\" x=\"35.54315\" y=\"16.854567\"/>\n",
       "</g>\n",
       "<path style=\"fill:none;stroke-width:0.3985;stroke-linecap:butt;stroke-linejoin:miter;stroke:rgb(0%,0%,0%);stroke-opacity:1;stroke-miterlimit:10;\" d=\"M -14.171815 -35.603496 L -14.171815 -49.398162 \" transform=\"matrix(0.993081,0,0,-0.993081,21.265164,6.59207)\"/>\n",
       "<path style=\"fill:none;stroke-width:0.31879;stroke-linecap:round;stroke-linejoin:round;stroke:rgb(0%,0%,0%);stroke-opacity:1;stroke-miterlimit:10;\" d=\"M -1.195501 1.594629 C -1.097165 0.996742 0.000272462 0.0999114 0.299216 0.00157475 C 0.000272462 -0.100695 -1.097165 -0.997526 -1.195501 -1.595413 \" transform=\"matrix(0,0.993081,0.993081,0,7.189842,55.648167)\"/>\n",
       "<path style=\"fill:none;stroke-width:0.3985;stroke-linecap:butt;stroke-linejoin:miter;stroke:rgb(0%,0%,0%);stroke-opacity:1;stroke-miterlimit:10;\" d=\"M 14.172744 -35.603496 L 14.172744 -49.398162 \" transform=\"matrix(0.993081,0,0,-0.993081,21.265164,6.59207)\"/>\n",
       "<path style=\"fill:none;stroke-width:0.31879;stroke-linecap:round;stroke-linejoin:round;stroke:rgb(0%,0%,0%);stroke-opacity:1;stroke-miterlimit:10;\" d=\"M -1.195501 1.592408 C -1.097165 0.994521 0.000272462 0.0976904 0.299216 -0.000646306 C 0.000272462 -0.098983 -1.097165 -0.995813 -1.195501 -1.5937 \" transform=\"matrix(0,0.993081,0.993081,0,35.340486,55.648167)\"/>\n",
       "<path style=\"fill:none;stroke-width:0.3985;stroke-linecap:butt;stroke-linejoin:miter;stroke:rgb(0%,0%,0%);stroke-opacity:1;stroke-miterlimit:10;\" d=\"M -14.171815 -63.531107 L -14.171815 -77.746655 \" transform=\"matrix(0.993081,0,0,-0.993081,21.265164,6.59207)\"/>\n",
       "<path style=\"fill:none;stroke-width:0.31879;stroke-linecap:round;stroke-linejoin:round;stroke:rgb(0%,0%,0%);stroke-opacity:1;stroke-miterlimit:10;\" d=\"M -1.193819 1.594629 C -1.095482 0.996742 0.00195487 0.0999114 0.296965 0.00157475 C 0.00195487 -0.100695 -1.095482 -0.997526 -1.193819 -1.595413 \" transform=\"matrix(0,0.993081,0.993081,0,7.189842,83.79884)\"/>\n",
       "<g style=\"fill:rgb(0%,0%,0%);fill-opacity:1;\">\n",
       "  <use xlink:href=\"#glyph-1600136556647700-0-4\" x=\"10.685874\" y=\"78.629159\"/>\n",
       "  <use xlink:href=\"#glyph-1600136556647700-0-5\" x=\"14.396014\" y=\"78.629159\"/>\n",
       "  <use xlink:href=\"#glyph-1600136556647700-0-4\" x=\"16.869441\" y=\"78.629159\"/>\n",
       "</g>\n",
       "<path style=\"fill:none;stroke-width:0.3985;stroke-linecap:butt;stroke-linejoin:miter;stroke:rgb(0%,0%,0%);stroke-opacity:1;stroke-miterlimit:10;\" d=\"M -7.335451 -63.531107 L 7.013835 -77.880393 \" transform=\"matrix(0.993081,0,0,-0.993081,21.265164,6.59207)\"/>\n",
       "<path style=\"fill:none;stroke-width:0.31879;stroke-linecap:round;stroke-linejoin:round;stroke:rgb(0%,0%,0%);stroke-opacity:1;stroke-miterlimit:10;\" d=\"M -1.196405 1.594073 C -1.093493 0.996071 -0.000400161 0.097676 0.29721 0.000326757 C 0.00238125 -0.0998039 -1.096275 -0.998199 -1.196405 -1.59342 \" transform=\"matrix(0.702207,0.702207,0.702207,-0.702207,28.228567,83.932151)\"/>\n",
       "<g style=\"fill:rgb(0%,0%,0%);fill-opacity:1;\">\n",
       "  <use xlink:href=\"#glyph-1600136556647700-0-1\" x=\"24.760808\" y=\"73.362852\"/>\n",
       "  <use xlink:href=\"#glyph-1600136556647700-0-2\" x=\"27.234235\" y=\"73.362852\"/>\n",
       "  <use xlink:href=\"#glyph-1600136556647700-0-3\" x=\"28.60946\" y=\"73.362852\"/>\n",
       "</g>\n",
       "<path style=\"fill:none;stroke-width:0.3985;stroke-linecap:butt;stroke-linejoin:miter;stroke:rgb(0%,0%,0%);stroke-opacity:1;stroke-miterlimit:10;\" d=\"M 7.336379 -63.531107 L -7.838934 -78.706421 \" transform=\"matrix(0.993081,0,0,-0.993081,21.265164,6.59207)\"/>\n",
       "<path style=\"fill:none;stroke-width:0.31879;stroke-linecap:round;stroke-linejoin:round;stroke:rgb(0%,0%,0%);stroke-opacity:1;stroke-miterlimit:10;\" d=\"M -1.195556 1.591295 C -1.095426 0.996074 0.000449022 0.10046 0.300841 0.000329759 C 0.000449022 -0.0998009 -1.095426 -0.995414 -1.195556 -1.596198 \" transform=\"matrix(-0.702207,0.702207,0.702207,0.702207,13.480552,84.753359)\"/>\n",
       "<g style=\"fill:rgb(0%,0%,0%);fill-opacity:1;\">\n",
       "  <use xlink:href=\"#glyph-1600136556647700-0-1\" x=\"24.350666\" y=\"84.167571\"/>\n",
       "  <use xlink:href=\"#glyph-1600136556647700-0-2\" x=\"26.824093\" y=\"84.167571\"/>\n",
       "  <use xlink:href=\"#glyph-1600136556647700-0-3\" x=\"28.199318\" y=\"84.167571\"/>\n",
       "</g>\n",
       "<path style=\"fill:none;stroke-width:0.3985;stroke-linecap:butt;stroke-linejoin:miter;stroke:rgb(0%,0%,0%);stroke-opacity:1;stroke-miterlimit:10;\" d=\"M 14.172744 -63.531107 L 14.172744 -77.746655 \" transform=\"matrix(0.993081,0,0,-0.993081,21.265164,6.59207)\"/>\n",
       "<path style=\"fill:none;stroke-width:0.31879;stroke-linecap:round;stroke-linejoin:round;stroke:rgb(0%,0%,0%);stroke-opacity:1;stroke-miterlimit:10;\" d=\"M -1.193819 1.592408 C -1.095482 0.994521 0.00195487 0.0976904 0.296965 -0.000646306 C 0.00195487 -0.098983 -1.095482 -0.995813 -1.193819 -1.5937 \" transform=\"matrix(0,0.993081,0.993081,0,35.340486,83.79884)\"/>\n",
       "<g style=\"fill:rgb(0%,0%,0%);fill-opacity:1;\">\n",
       "  <use xlink:href=\"#glyph-1600136556647700-0-1\" x=\"38.835743\" y=\"78.560637\"/>\n",
       "  <use xlink:href=\"#glyph-1600136556647700-0-2\" x=\"41.309169\" y=\"78.560637\"/>\n",
       "  <use xlink:href=\"#glyph-1600136556647700-0-3\" x=\"42.684395\" y=\"78.560637\"/>\n",
       "</g>\n",
       "<g style=\"fill:rgb(0%,0%,0%);fill-opacity:1;\">\n",
       "  <use xlink:href=\"#glyph-1600136556647700-1-1\" x=\"17.416976\" y=\"9.064842\"/>\n",
       "</g>\n",
       "<g style=\"fill:rgb(0%,0%,0%);fill-opacity:1;\">\n",
       "  <use xlink:href=\"#glyph-1600136556647700-1-2\" x=\"4.716465\" y=\"38.452089\"/>\n",
       "</g>\n",
       "<g style=\"fill:rgb(0%,0%,0%);fill-opacity:1;\">\n",
       "  <use xlink:href=\"#glyph-1600136556647700-1-2\" x=\"32.867327\" y=\"38.452089\"/>\n",
       "</g>\n",
       "<g style=\"fill:rgb(0%,0%,0%);fill-opacity:1;\">\n",
       "  <use xlink:href=\"#glyph-1600136556647700-1-1\" x=\"3.342042\" y=\"65.365572\"/>\n",
       "</g>\n",
       "<g style=\"fill:rgb(0%,0%,0%);fill-opacity:1;\">\n",
       "  <use xlink:href=\"#glyph-1600136556647700-1-3\" x=\"4.716465\" y=\"94.336718\"/>\n",
       "</g>\n",
       "<g style=\"fill:rgb(0%,0%,0%);fill-opacity:1;\">\n",
       "  <use xlink:href=\"#glyph-1600136556647700-1-4\" x=\"31.219806\" y=\"94.336718\"/>\n",
       "  <use xlink:href=\"#glyph-1600136556647700-1-3\" x=\"34.51441\" y=\"94.336718\"/>\n",
       "</g>\n",
       "<g style=\"fill:rgb(0%,0%,0%);fill-opacity:1;\">\n",
       "  <use xlink:href=\"#glyph-1600136556647700-1-1\" x=\"31.49191\" y=\"65.365572\"/>\n",
       "</g>\n",
       "</g>\n",
       "</svg>\n",
       "\n"
      ],
      "text/plain": [
       "TikzPictures.TikzPicture(\"\\\\graph [layered layout, ] {\\n1/\\\"+\\\" [],\\n2/\\\"*\\\" [],\\n3/\\\"*\\\" [],\\n4/\\\"+\\\" [],\\n5/\\\"1\\\" [],\\n6/\\\"-1\\\" [],\\n7/\\\"+\\\" [],\\n;\\n1 -> [font=\\\\tiny,edge label={1.0},] 2;\\n1 -> [font=\\\\tiny,edge label={1.0},] 3;\\n2 -> [font=\\\\tiny,] 4;\\n3 -> [font=\\\\tiny,] 7;\\n4 -> [font=\\\\tiny,edge label={NaN},] 5;\\n4 -> [font=\\\\tiny,edge label={1.0},] 6;\\n7 -> [font=\\\\tiny,edge label={1.0},] 5;\\n7 -> [font=\\\\tiny,edge label={1.0},] 6;\\n};\\n\", \"\", \"\\\\usepackage{fontspec}\\n\\\\setmainfont{Latin Modern Math}\\n\\\\usetikzlibrary{arrows}\\n\\\\usetikzlibrary{graphs}\\n\\\\usetikzlibrary{graphdrawing}\\n\\n% from: https://tex.stackexchange.com/questions/453132/fresh-install-of-tl2018-no-tikz-graph-drawing-libraries-found\\n\\\\usepackage{luacode}\\n\\\\begin{luacode*}\\n\\tfunction pgf_lookup_and_require(name)\\n\\tlocal sep = package.config:sub(1,1)\\n\\tlocal function lookup(name)\\n\\tlocal sub = name:gsub('%.',sep)  \\n\\tif kpse.find_file(sub, 'lua') then\\n\\trequire(name)\\n\\telseif kpse.find_file(sub, 'clua') then\\n\\tcollectgarbage('stop') \\n\\trequire(name)\\n\\tcollectgarbage('restart')\\n\\telse\\n\\treturn false\\n\\tend\\n\\treturn true\\n\\tend\\n\\treturn\\n\\tlookup('pgf.gd.' .. name .. '.library') or\\n\\tlookup('pgf.gd.' .. name) or\\n\\tlookup(name .. '.library') or\\n\\tlookup(name) \\n\\tend\\n\\\\end{luacode*}\\n\\n\\\\usegdlibrary{layered}\", \"tikzpicture\", true)"
      ]
     },
     "execution_count": 232,
     "metadata": {},
     "output_type": "execute_result"
    }
   ],
   "source": [
    "plot(c2)"
   ]
  },
  {
   "cell_type": "markdown",
   "metadata": {},
   "source": [
    "7. **Merge**"
   ]
  },
  {
   "cell_type": "code",
   "execution_count": 34,
   "metadata": {
    "tags": []
   },
   "outputs": [
    {
     "data": {
      "image/svg+xml": [
       "<?xml version=\"1.0\" encoding=\"UTF-8\"?>\n",
       "<svg xmlns=\"http://www.w3.org/2000/svg\" xmlns:xlink=\"http://www.w3.org/1999/xlink\" width=\"69.7pt\" height=\"126.662pt\" viewBox=\"0 0 69.7 126.662\" version=\"1.2\">\n",
       "<defs>\n",
       "<g>\n",
       "<symbol overflow=\"visible\" id=\"glyph-1600136556647685-0-0\">\n",
       "<path style=\"stroke:none;\" d=\"\"/>\n",
       "</symbol>\n",
       "<symbol overflow=\"visible\" id=\"glyph-1600136556647685-0-1\">\n",
       "<path style=\"stroke:none;\" d=\"M 2.078125 0 L 2.078125 -0.15625 L 1.921875 -0.15625 C 1.46875 -0.15625 1.453125 -0.203125 1.453125 -0.390625 L 1.453125 -3.171875 C 1.453125 -3.28125 1.453125 -3.296875 1.34375 -3.296875 C 1.03125 -2.984375 0.59375 -2.984375 0.4375 -2.984375 L 0.4375 -2.828125 C 0.546875 -2.828125 0.828125 -2.828125 1.09375 -2.953125 L 1.09375 -0.390625 C 1.09375 -0.21875 1.078125 -0.15625 0.625 -0.15625 L 0.46875 -0.15625 L 0.46875 0 C 0.640625 -0.015625 1.078125 -0.015625 1.265625 -0.015625 C 1.46875 -0.015625 1.90625 -0.015625 2.078125 0 Z M 2.078125 0 \"/>\n",
       "</symbol>\n",
       "<symbol overflow=\"visible\" id=\"glyph-1600136556647685-0-2\">\n",
       "<path style=\"stroke:none;\" d=\"M 0.953125 -0.265625 C 0.953125 -0.40625 0.828125 -0.53125 0.6875 -0.53125 C 0.546875 -0.53125 0.421875 -0.40625 0.421875 -0.265625 C 0.421875 -0.125 0.546875 0 0.6875 0 C 0.828125 0 0.953125 -0.125 0.953125 -0.265625 Z M 0.953125 -0.265625 \"/>\n",
       "</symbol>\n",
       "<symbol overflow=\"visible\" id=\"glyph-1600136556647685-0-3\">\n",
       "<path style=\"stroke:none;\" d=\"M 2.28125 -1.578125 C 2.28125 -1.984375 2.25 -2.375 2.078125 -2.75 C 1.859375 -3.21875 1.453125 -3.296875 1.234375 -3.296875 C 0.9375 -3.296875 0.578125 -3.171875 0.375 -2.703125 C 0.21875 -2.375 0.1875 -1.984375 0.1875 -1.578125 C 0.1875 -1.21875 0.21875 -0.765625 0.421875 -0.390625 C 0.625 0.015625 0.984375 0.109375 1.234375 0.109375 C 1.5 0.109375 1.875 0 2.09375 -0.46875 C 2.25 -0.8125 2.28125 -1.1875 2.28125 -1.578125 Z M 1.875 -1.640625 C 1.875 -1.265625 1.875 -0.9375 1.8125 -0.625 C 1.734375 -0.15625 1.453125 0 1.234375 0 C 1.046875 0 0.75 -0.125 0.65625 -0.59375 C 0.609375 -0.890625 0.609375 -1.359375 0.609375 -1.640625 C 0.609375 -1.96875 0.609375 -2.28125 0.640625 -2.5625 C 0.734375 -3.140625 1.109375 -3.1875 1.234375 -3.1875 C 1.390625 -3.1875 1.71875 -3.09375 1.8125 -2.609375 C 1.875 -2.328125 1.875 -1.953125 1.875 -1.640625 Z M 1.875 -1.640625 \"/>\n",
       "</symbol>\n",
       "<symbol overflow=\"visible\" id=\"glyph-1600136556647685-1-0\">\n",
       "<path style=\"stroke:none;\" d=\"\"/>\n",
       "</symbol>\n",
       "<symbol overflow=\"visible\" id=\"glyph-1600136556647685-1-1\">\n",
       "<path style=\"stroke:none;\" d=\"M 7.15625 -2.484375 C 7.15625 -2.59375 7.078125 -2.671875 6.96875 -2.671875 L 4.0625 -2.671875 L 4.0625 -5.59375 C 4.0625 -5.6875 3.96875 -5.78125 3.859375 -5.78125 C 3.75 -5.78125 3.65625 -5.6875 3.65625 -5.59375 L 3.65625 -2.671875 L 0.75 -2.671875 C 0.640625 -2.671875 0.5625 -2.59375 0.5625 -2.484375 C 0.5625 -2.375 0.640625 -2.28125 0.75 -2.28125 L 3.65625 -2.28125 L 3.65625 0.625 C 3.65625 0.734375 3.75 0.828125 3.859375 0.828125 C 3.96875 0.828125 4.0625 0.734375 4.0625 0.625 L 4.0625 -2.28125 L 6.96875 -2.28125 C 7.078125 -2.28125 7.15625 -2.375 7.15625 -2.484375 Z M 7.15625 -2.484375 \"/>\n",
       "</symbol>\n",
       "<symbol overflow=\"visible\" id=\"glyph-1600136556647685-1-2\">\n",
       "<path style=\"stroke:none;\" d=\"M 4.328125 -4.25 C 4.421875 -4.390625 4.359375 -4.578125 4.203125 -4.65625 L 2.71875 -5.3125 L 4.203125 -5.96875 C 4.359375 -6.03125 4.421875 -6.21875 4.328125 -6.375 C 4.234375 -6.53125 4.03125 -6.5625 3.90625 -6.46875 L 2.59375 -5.515625 L 2.765625 -7.109375 C 2.78125 -7.296875 2.65625 -7.4375 2.484375 -7.4375 C 2.296875 -7.4375 2.171875 -7.296875 2.1875 -7.109375 L 2.359375 -5.515625 L 1.0625 -6.46875 C 0.921875 -6.5625 0.71875 -6.53125 0.640625 -6.375 C 0.546875 -6.21875 0.609375 -6.03125 0.765625 -5.96875 L 2.25 -5.3125 L 0.765625 -4.65625 C 0.609375 -4.578125 0.546875 -4.390625 0.640625 -4.25 C 0.71875 -4.09375 0.921875 -4.046875 1.0625 -4.140625 L 2.359375 -5.09375 L 2.1875 -3.5 C 2.171875 -3.328125 2.296875 -3.171875 2.484375 -3.171875 C 2.65625 -3.171875 2.78125 -3.328125 2.765625 -3.5 L 2.59375 -5.09375 L 3.90625 -4.140625 C 4.03125 -4.046875 4.234375 -4.09375 4.328125 -4.25 Z M 4.328125 -4.25 \"/>\n",
       "</symbol>\n",
       "<symbol overflow=\"visible\" id=\"glyph-1600136556647685-1-3\">\n",
       "<path style=\"stroke:none;\" d=\"M 4.15625 0 L 4.15625 -0.3125 L 3.84375 -0.3125 C 2.953125 -0.3125 2.921875 -0.421875 2.921875 -0.78125 L 2.921875 -6.34375 C 2.921875 -6.59375 2.921875 -6.609375 2.6875 -6.609375 C 2.078125 -5.96875 1.203125 -5.96875 0.890625 -5.96875 L 0.890625 -5.671875 C 1.078125 -5.671875 1.671875 -5.671875 2.1875 -5.921875 L 2.1875 -0.78125 C 2.1875 -0.421875 2.15625 -0.3125 1.265625 -0.3125 L 0.9375 -0.3125 L 0.9375 0 C 1.296875 -0.03125 2.15625 -0.03125 2.546875 -0.03125 C 2.953125 -0.03125 3.8125 -0.03125 4.15625 0 Z M 4.15625 0 \"/>\n",
       "</symbol>\n",
       "<symbol overflow=\"visible\" id=\"glyph-1600136556647685-1-4\">\n",
       "<path style=\"stroke:none;\" d=\"M 2.734375 -1.859375 L 2.734375 -2.4375 L 0.109375 -2.4375 L 0.109375 -1.859375 Z M 2.734375 -1.859375 \"/>\n",
       "</symbol>\n",
       "<symbol overflow=\"visible\" id=\"glyph-1600136556647685-1-5\">\n",
       "<path style=\"stroke:none;\" d=\"M 4.453125 -1.71875 L 4.203125 -1.71875 C 4.15625 -1.421875 4.09375 -0.984375 3.984375 -0.84375 C 3.921875 -0.765625 3.265625 -0.765625 3.046875 -0.765625 L 1.265625 -0.765625 L 2.3125 -1.78125 C 3.859375 -3.15625 4.453125 -3.6875 4.453125 -4.6875 C 4.453125 -5.8125 3.5625 -6.609375 2.34375 -6.609375 C 1.234375 -6.609375 0.5 -5.6875 0.5 -4.8125 C 0.5 -4.25 0.984375 -4.25 1.015625 -4.25 C 1.1875 -4.25 1.53125 -4.375 1.53125 -4.78125 C 1.53125 -5.046875 1.359375 -5.296875 1.015625 -5.296875 C 0.9375 -5.296875 0.90625 -5.296875 0.890625 -5.28125 C 1.109375 -5.9375 1.640625 -6.296875 2.21875 -6.296875 C 3.125 -6.296875 3.546875 -5.5 3.546875 -4.6875 C 3.546875 -3.890625 3.0625 -3.109375 2.515625 -2.484375 L 0.609375 -0.359375 C 0.5 -0.265625 0.5 -0.234375 0.5 0 L 4.171875 0 Z M 4.453125 -1.71875 \"/>\n",
       "</symbol>\n",
       "</g>\n",
       "</defs>\n",
       "<g id=\"surface1\">\n",
       "<path style=\"fill:none;stroke-width:0.3985;stroke-linecap:butt;stroke-linejoin:miter;stroke:rgb(0%,0%,0%);stroke-opacity:1;stroke-miterlimit:10;\" d=\"M 0.000951937 -6.836135 L 0.000951937 -20.633548 \" transform=\"matrix(0.995714,0,0,-0.995714,35.389677,6.712694)\"/>\n",
       "<path style=\"fill:none;stroke-width:0.31879;stroke-linecap:round;stroke-linejoin:round;stroke:rgb(0%,0%,0%);stroke-opacity:1;stroke-miterlimit:10;\" d=\"M -1.195647 1.593716 C -1.09757 0.99741 0.000887704 0.0990285 0.299041 0.000951937 C 0.000887704 -0.101048 -1.09757 -0.995506 -1.195647 -1.595735 \" transform=\"matrix(0,0.995714,0.995714,0,35.389677,27.256929)\"/>\n",
       "<g style=\"fill:rgb(0%,0%,0%);fill-opacity:1;\">\n",
       "  <use xlink:href=\"#glyph-1600136556647685-0-1\" x=\"38.894591\" y=\"22.213974\"/>\n",
       "  <use xlink:href=\"#glyph-1600136556647685-0-2\" x=\"41.374577\" y=\"22.213974\"/>\n",
       "  <use xlink:href=\"#glyph-1600136556647685-0-3\" x=\"42.753449\" y=\"22.213974\"/>\n",
       "</g>\n",
       "<path style=\"fill:none;stroke-width:0.3985;stroke-linecap:butt;stroke-linejoin:miter;stroke:rgb(0%,0%,0%);stroke-opacity:1;stroke-miterlimit:10;\" d=\"M -6.009181 -34.356423 L -21.183589 -49.530831 \" transform=\"matrix(0.995714,0,0,-0.995714,35.389677,6.712694)\"/>\n",
       "<path style=\"fill:none;stroke-width:0.31879;stroke-linecap:round;stroke-linejoin:round;stroke:rgb(0%,0%,0%);stroke-opacity:1;stroke-miterlimit:10;\" d=\"M -1.194985 1.592625 C -1.097893 0.996204 -0.0021428 0.100185 0.297455 0.000319439 C -0.0021428 -0.0995464 -1.097893 -0.995565 -1.194985 -1.591986 \" transform=\"matrix(-0.70407,0.70407,0.70407,0.70407,14.295141,56.032534)\"/>\n",
       "<path style=\"fill:none;stroke-width:0.3985;stroke-linecap:butt;stroke-linejoin:miter;stroke:rgb(0%,0%,0%);stroke-opacity:1;stroke-miterlimit:10;\" d=\"M 0.000951937 -35.603957 L 0.000951937 -77.745501 \" transform=\"matrix(0.995714,0,0,-0.995714,35.389677,6.712694)\"/>\n",
       "<path style=\"fill:none;stroke-width:0.31879;stroke-linecap:round;stroke-linejoin:round;stroke:rgb(0%,0%,0%);stroke-opacity:1;stroke-miterlimit:10;\" d=\"M -1.195734 1.593716 C -1.097657 0.99741 0.000800717 0.0990285 0.298954 0.000951937 C 0.000800717 -0.101048 -1.097657 -0.995506 -1.195734 -1.595735 \" transform=\"matrix(0,0.995714,0.995714,0,35.389677,84.124203)\"/>\n",
       "<path style=\"fill:none;stroke-width:0.3985;stroke-linecap:butt;stroke-linejoin:miter;stroke:rgb(0%,0%,0%);stroke-opacity:1;stroke-miterlimit:10;\" d=\"M -28.347102 -63.532243 L -28.347102 -77.745501 \" transform=\"matrix(0.995714,0,0,-0.995714,35.389677,6.712694)\"/>\n",
       "<path style=\"fill:none;stroke-width:0.31879;stroke-linecap:round;stroke-linejoin:round;stroke:rgb(0%,0%,0%);stroke-opacity:1;stroke-miterlimit:10;\" d=\"M -1.195734 1.592461 C -1.097657 0.996156 0.000800717 0.0977744 0.298954 -0.000302224 C 0.000800717 -0.0983788 -1.097657 -0.99676 -1.195734 -1.593066 \" transform=\"matrix(0,0.995714,0.995714,0,7.164363,84.124203)\"/>\n",
       "<g style=\"fill:rgb(0%,0%,0%);fill-opacity:1;\">\n",
       "  <use xlink:href=\"#glyph-1600136556647685-0-1\" x=\"10.670074\" y=\"78.872109\"/>\n",
       "  <use xlink:href=\"#glyph-1600136556647685-0-2\" x=\"13.15006\" y=\"78.872109\"/>\n",
       "  <use xlink:href=\"#glyph-1600136556647685-0-3\" x=\"14.528932\" y=\"78.872109\"/>\n",
       "</g>\n",
       "<path style=\"fill:none;stroke-width:0.3985;stroke-linecap:butt;stroke-linejoin:miter;stroke:rgb(0%,0%,0%);stroke-opacity:1;stroke-miterlimit:10;\" d=\"M -20.952128 -60.389869 L 21.926952 -81.829409 \" transform=\"matrix(0.995714,0,0,-0.995714,35.389677,6.712694)\"/>\n",
       "<path style=\"fill:none;stroke-width:0.31879;stroke-linecap:round;stroke-linejoin:round;stroke:rgb(0%,0%,0%);stroke-opacity:1;stroke-miterlimit:10;\" d=\"M -1.194719 1.592397 C -1.094713 0.997591 -0.00161372 0.100988 0.29842 0.000973627 C 0.00189367 -0.0990352 -1.09824 -0.995619 -1.194748 -1.592178 \" transform=\"matrix(0.890527,0.445254,0.445254,-0.890527,57.222097,88.192213)\"/>\n",
       "<g style=\"fill:rgb(0%,0%,0%);fill-opacity:1;\">\n",
       "  <use xlink:href=\"#glyph-1600136556647685-0-1\" x=\"39.584621\" y=\"74.006053\"/>\n",
       "  <use xlink:href=\"#glyph-1600136556647685-0-2\" x=\"42.064607\" y=\"74.006053\"/>\n",
       "  <use xlink:href=\"#glyph-1600136556647685-0-3\" x=\"43.443479\" y=\"74.006053\"/>\n",
       "</g>\n",
       "<path style=\"fill:none;stroke-width:0.3985;stroke-linecap:butt;stroke-linejoin:miter;stroke:rgb(0%,0%,0%);stroke-opacity:1;stroke-miterlimit:10;\" d=\"M 0.000951937 -91.876374 L 0.000951937 -106.089632 \" transform=\"matrix(0.995714,0,0,-0.995714,35.389677,6.712694)\"/>\n",
       "<path style=\"fill:none;stroke-width:0.31879;stroke-linecap:round;stroke-linejoin:round;stroke:rgb(0%,0%,0%);stroke-opacity:1;stroke-miterlimit:10;\" d=\"M -1.194479 1.593716 C -1.096403 0.99741 -0.00186819 0.0990285 0.300208 0.000951937 C -0.00186819 -0.101048 -1.096403 -0.995506 -1.194479 -1.595735 \" transform=\"matrix(0,0.995714,0.995714,0,35.389677,112.349516)\"/>\n",
       "<g style=\"fill:rgb(0%,0%,0%);fill-opacity:1;\">\n",
       "  <use xlink:href=\"#glyph-1600136556647685-0-1\" x=\"38.894591\" y=\"107.097621\"/>\n",
       "  <use xlink:href=\"#glyph-1600136556647685-0-2\" x=\"41.374577\" y=\"107.097621\"/>\n",
       "  <use xlink:href=\"#glyph-1600136556647685-0-3\" x=\"42.753449\" y=\"107.097621\"/>\n",
       "</g>\n",
       "<path style=\"fill:none;stroke-width:0.3985;stroke-linecap:butt;stroke-linejoin:miter;stroke:rgb(0%,0%,0%);stroke-opacity:1;stroke-miterlimit:10;\" d=\"M 6.838851 -91.876374 L 22.013259 -107.050782 \" transform=\"matrix(0.995714,0,0,-0.995714,35.389677,6.712694)\"/>\n",
       "<path style=\"fill:none;stroke-width:0.31879;stroke-linecap:round;stroke-linejoin:round;stroke:rgb(0%,0%,0%);stroke-opacity:1;stroke-miterlimit:10;\" d=\"M -1.193435 1.594368 C -1.096343 0.997947 0.00218109 0.0991543 0.299005 0.00206255 C -0.000592966 -0.0978033 -1.093569 -0.996596 -1.196209 -1.593017 \" transform=\"matrix(0.70407,0.70407,0.70407,-0.70407,57.307559,113.306557)\"/>\n",
       "<g style=\"fill:rgb(0%,0%,0%);fill-opacity:1;\">\n",
       "  <use xlink:href=\"#glyph-1600136556647685-0-1\" x=\"53.419076\" y=\"102.298279\"/>\n",
       "  <use xlink:href=\"#glyph-1600136556647685-0-2\" x=\"55.899061\" y=\"102.298279\"/>\n",
       "  <use xlink:href=\"#glyph-1600136556647685-0-3\" x=\"57.277934\" y=\"102.298279\"/>\n",
       "</g>\n",
       "<path style=\"fill:none;stroke-width:0.3985;stroke-linecap:butt;stroke-linejoin:miter;stroke:rgb(0%,0%,0%);stroke-opacity:1;stroke-miterlimit:10;\" d=\"M 22.33495 -91.052531 L 7.160542 -106.226939 \" transform=\"matrix(0.995714,0,0,-0.995714,35.389677,6.712694)\"/>\n",
       "<path style=\"fill:none;stroke-width:0.31879;stroke-linecap:round;stroke-linejoin:round;stroke:rgb(0%,0%,0%);stroke-opacity:1;stroke-miterlimit:10;\" d=\"M -1.194119 1.595264 C -1.094253 0.996069 0.00149687 0.100051 0.301094 0.000184676 C 0.00149687 -0.0996812 -1.094253 -0.9957 -1.194119 -1.594895 \" transform=\"matrix(-0.70407,0.70407,0.70407,0.70407,42.520455,112.483191)\"/>\n",
       "<path style=\"fill:none;stroke-width:0.3985;stroke-linecap:butt;stroke-linejoin:miter;stroke:rgb(0%,0%,0%);stroke-opacity:1;stroke-miterlimit:10;\" d=\"M 28.345083 -92.296142 L 28.345083 -106.089632 \" transform=\"matrix(0.995714,0,0,-0.995714,35.389677,6.712694)\"/>\n",
       "<path style=\"fill:none;stroke-width:0.31879;stroke-linecap:round;stroke-linejoin:round;stroke:rgb(0%,0%,0%);stroke-opacity:1;stroke-miterlimit:10;\" d=\"M -1.194479 1.59497 C -1.096403 0.994741 -0.00186819 0.100283 0.300208 -0.00171697 C -0.00186819 -0.0997935 -1.096403 -0.998175 -1.194479 -1.594481 \" transform=\"matrix(0,0.995714,0.995714,0,63.614991,112.349516)\"/>\n",
       "<g style=\"fill:rgb(0%,0%,0%);fill-opacity:1;\">\n",
       "  <use xlink:href=\"#glyph-1600136556647685-1-1\" x=\"31.531284\" y=\"9.193019\"/>\n",
       "</g>\n",
       "<g style=\"fill:rgb(0%,0%,0%);fill-opacity:1;\">\n",
       "  <use xlink:href=\"#glyph-1600136556647685-1-2\" x=\"32.910349\" y=\"38.658196\"/>\n",
       "</g>\n",
       "<g style=\"fill:rgb(0%,0%,0%);fill-opacity:1;\">\n",
       "  <use xlink:href=\"#glyph-1600136556647685-1-1\" x=\"3.306767\" y=\"65.643049\"/>\n",
       "</g>\n",
       "<g style=\"fill:rgb(0%,0%,0%);fill-opacity:1;\">\n",
       "  <use xlink:href=\"#glyph-1600136556647685-1-1\" x=\"31.531284\" y=\"93.867566\"/>\n",
       "</g>\n",
       "<g style=\"fill:rgb(0%,0%,0%);fill-opacity:1;\">\n",
       "  <use xlink:href=\"#glyph-1600136556647685-1-3\" x=\"4.684836\" y=\"94.691021\"/>\n",
       "</g>\n",
       "<g style=\"fill:rgb(0%,0%,0%);fill-opacity:1;\">\n",
       "  <use xlink:href=\"#glyph-1600136556647685-1-2\" x=\"61.134866\" y=\"95.10723\"/>\n",
       "</g>\n",
       "<g style=\"fill:rgb(0%,0%,0%);fill-opacity:1;\">\n",
       "  <use xlink:href=\"#glyph-1600136556647685-1-4\" x=\"31.258459\" y=\"122.915539\"/>\n",
       "  <use xlink:href=\"#glyph-1600136556647685-1-3\" x=\"34.5618\" y=\"122.915539\"/>\n",
       "</g>\n",
       "<g style=\"fill:rgb(0%,0%,0%);fill-opacity:1;\">\n",
       "  <use xlink:href=\"#glyph-1600136556647685-1-5\" x=\"61.134866\" y=\"122.915539\"/>\n",
       "</g>\n",
       "</g>\n",
       "</svg>\n",
       "\n"
      ],
      "text/plain": [
       "TikzPictures.TikzPicture(\"\\\\graph [layered layout, ] {\\n1/\\\"+\\\" [],\\n2/\\\"*\\\" [],\\n3/\\\"+\\\" [],\\n4/\\\"+\\\" [],\\n5/\\\"1\\\" [],\\n6/\\\"*\\\" [],\\n7/\\\"-1\\\" [],\\n8/\\\"2\\\" [],\\n;\\n1 -> [font=\\\\tiny,edge label={1.0},] 2;\\n2 -> [font=\\\\tiny,] 3;\\n2 -> [font=\\\\tiny,] 4;\\n3 -> [font=\\\\tiny,edge label={1.0},] 5;\\n3 -> [font=\\\\tiny,edge label={1.0},] 6;\\n4 -> [font=\\\\tiny,edge label={1.0},] 7;\\n4 -> [font=\\\\tiny,edge label={1.0},] 8;\\n6 -> [font=\\\\tiny,] 7;\\n6 -> [font=\\\\tiny,] 8;\\n};\\n\", \"\", \"\\\\usepackage{fontspec}\\n\\\\setmainfont{Latin Modern Math}\\n\\\\usetikzlibrary{arrows}\\n\\\\usetikzlibrary{graphs}\\n\\\\usetikzlibrary{graphdrawing}\\n\\n% from: https://tex.stackexchange.com/questions/453132/fresh-install-of-tl2018-no-tikz-graph-drawing-libraries-found\\n\\\\usepackage{luacode}\\n\\\\begin{luacode*}\\n\\tfunction pgf_lookup_and_require(name)\\n\\tlocal sep = package.config:sub(1,1)\\n\\tlocal function lookup(name)\\n\\tlocal sub = name:gsub('%.',sep)  \\n\\tif kpse.find_file(sub, 'lua') then\\n\\trequire(name)\\n\\telseif kpse.find_file(sub, 'clua') then\\n\\tcollectgarbage('stop') \\n\\trequire(name)\\n\\tcollectgarbage('restart')\\n\\telse\\n\\treturn false\\n\\tend\\n\\treturn true\\n\\tend\\n\\treturn\\n\\tlookup('pgf.gd.' .. name .. '.library') or\\n\\tlookup('pgf.gd.' .. name) or\\n\\tlookup(name .. '.library') or\\n\\tlookup(name) \\n\\tend\\n\\\\end{luacode*}\\n\\n\\\\usegdlibrary{layered}\", \"tikzpicture\", true)"
      ]
     },
     "execution_count": 34,
     "metadata": {},
     "output_type": "execute_result"
    }
   ],
   "source": [
    "or1 = X1[1] + (X1[2] & X2[1])\n",
    "or2 = X1[2] + X2[1]\n",
    "c1 = (+)(or1 * or2)\n",
    "c2 = merge(c1, or1, or2)\n",
    "plot(c1)"
   ]
  },
  {
   "cell_type": "code",
   "execution_count": 35,
   "metadata": {},
   "outputs": [
    {
     "data": {
      "image/svg+xml": [
       "<?xml version=\"1.0\" encoding=\"UTF-8\"?>\n",
       "<svg xmlns=\"http://www.w3.org/2000/svg\" xmlns:xlink=\"http://www.w3.org/1999/xlink\" width=\"41.936pt\" height=\"98.315pt\" viewBox=\"0 0 41.936 98.315\" version=\"1.2\">\n",
       "<defs>\n",
       "<g>\n",
       "<symbol overflow=\"visible\" id=\"glyph-1600136556647686-0-0\">\n",
       "<path style=\"stroke:none;\" d=\"\"/>\n",
       "</symbol>\n",
       "<symbol overflow=\"visible\" id=\"glyph-1600136556647686-0-1\">\n",
       "<path style=\"stroke:none;\" d=\"M 2.078125 0 L 2.078125 -0.15625 L 1.921875 -0.15625 C 1.46875 -0.15625 1.453125 -0.203125 1.453125 -0.390625 L 1.453125 -3.171875 C 1.453125 -3.28125 1.453125 -3.296875 1.34375 -3.296875 C 1.03125 -2.984375 0.59375 -2.984375 0.4375 -2.984375 L 0.4375 -2.828125 C 0.546875 -2.828125 0.828125 -2.828125 1.09375 -2.953125 L 1.09375 -0.390625 C 1.09375 -0.21875 1.078125 -0.15625 0.625 -0.15625 L 0.46875 -0.15625 L 0.46875 0 C 0.640625 -0.015625 1.078125 -0.015625 1.265625 -0.015625 C 1.46875 -0.015625 1.90625 -0.015625 2.078125 0 Z M 2.078125 0 \"/>\n",
       "</symbol>\n",
       "<symbol overflow=\"visible\" id=\"glyph-1600136556647686-0-2\">\n",
       "<path style=\"stroke:none;\" d=\"M 0.953125 -0.265625 C 0.953125 -0.40625 0.828125 -0.53125 0.6875 -0.53125 C 0.546875 -0.53125 0.421875 -0.40625 0.421875 -0.265625 C 0.421875 -0.125 0.546875 0 0.6875 0 C 0.828125 0 0.953125 -0.125 0.953125 -0.265625 Z M 0.953125 -0.265625 \"/>\n",
       "</symbol>\n",
       "<symbol overflow=\"visible\" id=\"glyph-1600136556647686-0-3\">\n",
       "<path style=\"stroke:none;\" d=\"M 2.28125 -1.578125 C 2.28125 -1.984375 2.25 -2.375 2.078125 -2.75 C 1.859375 -3.21875 1.453125 -3.296875 1.234375 -3.296875 C 0.9375 -3.296875 0.578125 -3.171875 0.375 -2.703125 C 0.21875 -2.375 0.1875 -1.984375 0.1875 -1.578125 C 0.1875 -1.21875 0.21875 -0.765625 0.421875 -0.390625 C 0.625 0.015625 0.984375 0.109375 1.234375 0.109375 C 1.5 0.109375 1.875 0 2.09375 -0.46875 C 2.25 -0.8125 2.28125 -1.1875 2.28125 -1.578125 Z M 1.875 -1.640625 C 1.875 -1.265625 1.875 -0.9375 1.8125 -0.625 C 1.734375 -0.15625 1.453125 0 1.234375 0 C 1.046875 0 0.75 -0.125 0.65625 -0.59375 C 0.609375 -0.890625 0.609375 -1.359375 0.609375 -1.640625 C 0.609375 -1.96875 0.609375 -2.28125 0.640625 -2.5625 C 0.734375 -3.140625 1.109375 -3.1875 1.234375 -3.1875 C 1.390625 -3.1875 1.71875 -3.09375 1.8125 -2.609375 C 1.875 -2.328125 1.875 -1.953125 1.875 -1.640625 Z M 1.875 -1.640625 \"/>\n",
       "</symbol>\n",
       "<symbol overflow=\"visible\" id=\"glyph-1600136556647686-1-0\">\n",
       "<path style=\"stroke:none;\" d=\"\"/>\n",
       "</symbol>\n",
       "<symbol overflow=\"visible\" id=\"glyph-1600136556647686-1-1\">\n",
       "<path style=\"stroke:none;\" d=\"M 7.140625 -2.46875 C 7.140625 -2.578125 7.046875 -2.671875 6.9375 -2.671875 L 4.046875 -2.671875 L 4.046875 -5.5625 C 4.046875 -5.671875 3.953125 -5.765625 3.84375 -5.765625 C 3.734375 -5.765625 3.65625 -5.671875 3.65625 -5.5625 L 3.65625 -2.671875 L 0.75 -2.671875 C 0.640625 -2.671875 0.546875 -2.578125 0.546875 -2.46875 C 0.546875 -2.359375 0.640625 -2.28125 0.75 -2.28125 L 3.65625 -2.28125 L 3.65625 0.625 C 3.65625 0.734375 3.734375 0.828125 3.84375 0.828125 C 3.953125 0.828125 4.046875 0.734375 4.046875 0.625 L 4.046875 -2.28125 L 6.9375 -2.28125 C 7.046875 -2.28125 7.140625 -2.359375 7.140625 -2.46875 Z M 7.140625 -2.46875 \"/>\n",
       "</symbol>\n",
       "<symbol overflow=\"visible\" id=\"glyph-1600136556647686-1-2\">\n",
       "<path style=\"stroke:none;\" d=\"M 4.3125 -4.234375 C 4.40625 -4.375 4.34375 -4.5625 4.1875 -4.640625 L 2.703125 -5.296875 L 4.1875 -5.9375 C 4.34375 -6.015625 4.40625 -6.203125 4.3125 -6.359375 C 4.21875 -6.515625 4.03125 -6.546875 3.890625 -6.453125 L 2.59375 -5.5 L 2.765625 -7.09375 C 2.78125 -7.265625 2.65625 -7.421875 2.46875 -7.421875 C 2.296875 -7.421875 2.171875 -7.265625 2.1875 -7.09375 L 2.359375 -5.5 L 1.0625 -6.453125 C 0.921875 -6.546875 0.71875 -6.515625 0.640625 -6.359375 C 0.546875 -6.203125 0.609375 -6.015625 0.765625 -5.9375 L 2.234375 -5.296875 L 0.765625 -4.640625 C 0.609375 -4.5625 0.546875 -4.375 0.640625 -4.234375 C 0.71875 -4.078125 0.921875 -4.03125 1.0625 -4.140625 L 2.359375 -5.078125 L 2.1875 -3.484375 C 2.171875 -3.3125 2.296875 -3.171875 2.46875 -3.171875 C 2.65625 -3.171875 2.78125 -3.3125 2.765625 -3.484375 L 2.59375 -5.078125 L 3.890625 -4.140625 C 4.03125 -4.03125 4.21875 -4.078125 4.3125 -4.234375 Z M 4.3125 -4.234375 \"/>\n",
       "</symbol>\n",
       "<symbol overflow=\"visible\" id=\"glyph-1600136556647686-1-3\">\n",
       "<path style=\"stroke:none;\" d=\"M 2.734375 -1.84375 L 2.734375 -2.421875 L 0.109375 -2.421875 L 0.109375 -1.84375 Z M 2.734375 -1.84375 \"/>\n",
       "</symbol>\n",
       "<symbol overflow=\"visible\" id=\"glyph-1600136556647686-1-4\">\n",
       "<path style=\"stroke:none;\" d=\"M 4.140625 0 L 4.140625 -0.3125 L 3.828125 -0.3125 C 2.9375 -0.3125 2.90625 -0.421875 2.90625 -0.78125 L 2.90625 -6.328125 C 2.90625 -6.5625 2.90625 -6.59375 2.6875 -6.59375 C 2.0625 -5.953125 1.203125 -5.953125 0.875 -5.953125 L 0.875 -5.640625 C 1.078125 -5.640625 1.65625 -5.640625 2.171875 -5.90625 L 2.171875 -0.78125 C 2.171875 -0.421875 2.140625 -0.3125 1.25 -0.3125 L 0.9375 -0.3125 L 0.9375 0 C 1.28125 -0.03125 2.140625 -0.03125 2.546875 -0.03125 C 2.9375 -0.03125 3.796875 -0.03125 4.140625 0 Z M 4.140625 0 \"/>\n",
       "</symbol>\n",
       "<symbol overflow=\"visible\" id=\"glyph-1600136556647686-1-5\">\n",
       "<path style=\"stroke:none;\" d=\"M 4.4375 -1.71875 L 4.1875 -1.71875 C 4.140625 -1.421875 4.078125 -0.984375 3.96875 -0.84375 C 3.90625 -0.765625 3.25 -0.765625 3.03125 -0.765625 L 1.25 -0.765625 L 2.296875 -1.78125 C 3.84375 -3.140625 4.4375 -3.671875 4.4375 -4.671875 C 4.4375 -5.796875 3.546875 -6.59375 2.34375 -6.59375 C 1.21875 -6.59375 0.5 -5.671875 0.5 -4.796875 C 0.5 -4.25 0.984375 -4.25 1.015625 -4.25 C 1.1875 -4.25 1.53125 -4.359375 1.53125 -4.765625 C 1.53125 -5.03125 1.359375 -5.28125 1.015625 -5.28125 C 0.9375 -5.28125 0.90625 -5.28125 0.875 -5.265625 C 1.109375 -5.921875 1.640625 -6.28125 2.21875 -6.28125 C 3.109375 -6.28125 3.546875 -5.484375 3.546875 -4.671875 C 3.546875 -3.875 3.046875 -3.09375 2.5 -2.484375 L 0.609375 -0.359375 C 0.5 -0.25 0.5 -0.234375 0.5 0 L 4.15625 0 Z M 4.4375 -1.71875 \"/>\n",
       "</symbol>\n",
       "</g>\n",
       "</defs>\n",
       "<g id=\"surface1\">\n",
       "<path style=\"fill:none;stroke-width:0.3985;stroke-linecap:butt;stroke-linejoin:miter;stroke:rgb(0%,0%,0%);stroke-opacity:1;stroke-miterlimit:10;\" d=\"M -0.00108975 -6.838056 L -0.00108975 -20.632723 \" transform=\"matrix(0.993081,0,0,-0.993081,21.606551,6.59207)\"/>\n",
       "<path style=\"fill:none;stroke-width:0.31879;stroke-linecap:round;stroke-linejoin:round;stroke:rgb(0%,0%,0%);stroke-opacity:1;stroke-miterlimit:10;\" d=\"M -1.195711 1.595898 C -1.097375 0.998011 0.0000626135 0.10118 0.299006 -0.00108975 C 0.0000626135 -0.0994264 -1.097375 -0.996257 -1.195711 -1.594144 \" transform=\"matrix(0,0.993081,0.993081,0,21.606551,27.081969)\"/>\n",
       "<g style=\"fill:rgb(0%,0%,0%);fill-opacity:1;\">\n",
       "  <use xlink:href=\"#glyph-1600136556647686-0-1\" x=\"25.102195\" y=\"22.052352\"/>\n",
       "  <use xlink:href=\"#glyph-1600136556647686-0-2\" x=\"27.575622\" y=\"22.052352\"/>\n",
       "  <use xlink:href=\"#glyph-1600136556647686-0-3\" x=\"28.950847\" y=\"22.052352\"/>\n",
       "</g>\n",
       "<path style=\"fill:none;stroke-width:0.3985;stroke-linecap:butt;stroke-linejoin:miter;stroke:rgb(0%,0%,0%);stroke-opacity:1;stroke-miterlimit:10;\" d=\"M -0.00108975 -35.603496 L -0.00108975 -49.398162 \" transform=\"matrix(0.993081,0,0,-0.993081,21.606551,6.59207)\"/>\n",
       "<path style=\"fill:none;stroke-width:0.31879;stroke-linecap:round;stroke-linejoin:round;stroke:rgb(0%,0%,0%);stroke-opacity:1;stroke-miterlimit:10;\" d=\"M -1.195501 1.595898 C -1.097165 0.998011 0.000272462 0.10118 0.299216 -0.00108975 C 0.000272462 -0.0994264 -1.097165 -0.996257 -1.195501 -1.594144 \" transform=\"matrix(0,0.993081,0.993081,0,21.606551,55.648167)\"/>\n",
       "<path style=\"fill:none;stroke-width:0.3985;stroke-linecap:butt;stroke-linejoin:miter;stroke:rgb(0%,0%,0%);stroke-opacity:1;stroke-miterlimit:10;\" d=\"M -3.419272 -63.531107 L -10.550647 -77.793856 \" transform=\"matrix(0.993081,0,0,-0.993081,21.606551,6.59207)\"/>\n",
       "<path style=\"fill:none;stroke-width:0.31879;stroke-linecap:round;stroke-linejoin:round;stroke:rgb(0%,0%,0%);stroke-opacity:1;stroke-miterlimit:10;\" d=\"M -1.196946 1.595168 C -1.094915 0.995267 -0.000676184 0.099804 0.300153 -0.000475359 C -0.0024372 -0.0989901 -1.096692 -0.997952 -1.195215 -1.592574 \" transform=\"matrix(-0.444076,0.888172,0.888172,0.444076,11.129807,83.846905)\"/>\n",
       "<g style=\"fill:rgb(0%,0%,0%);fill-opacity:1;\">\n",
       "  <use xlink:href=\"#glyph-1600136556647686-0-1\" x=\"18.064232\" y=\"83.757428\"/>\n",
       "  <use xlink:href=\"#glyph-1600136556647686-0-2\" x=\"20.537658\" y=\"83.757428\"/>\n",
       "  <use xlink:href=\"#glyph-1600136556647686-0-3\" x=\"21.912884\" y=\"83.757428\"/>\n",
       "</g>\n",
       "<path style=\"fill:none;stroke-width:0.3985;stroke-linecap:butt;stroke-linejoin:miter;stroke:rgb(0%,0%,0%);stroke-opacity:1;stroke-miterlimit:10;\" d=\"M 3.417093 -63.531107 L 10.548467 -77.793856 \" transform=\"matrix(0.993081,0,0,-0.993081,21.606551,6.59207)\"/>\n",
       "<path style=\"fill:none;stroke-width:0.31879;stroke-linecap:round;stroke-linejoin:round;stroke:rgb(0%,0%,0%);stroke-opacity:1;stroke-miterlimit:10;\" d=\"M -1.194431 1.594143 C -1.097667 0.996002 -0.00165276 0.100559 0.299178 -0.00147421 C 0.000108262 -0.0982351 -1.09589 -0.997216 -1.196161 -1.593599 \" transform=\"matrix(0.444076,0.888172,0.888172,-0.444076,32.083295,83.846905)\"/>\n",
       "<g style=\"fill:rgb(0%,0%,0%);fill-opacity:1;\">\n",
       "  <use xlink:href=\"#glyph-1600136556647686-0-1\" x=\"32.140159\" y=\"73.362852\"/>\n",
       "  <use xlink:href=\"#glyph-1600136556647686-0-2\" x=\"34.613586\" y=\"73.362852\"/>\n",
       "  <use xlink:href=\"#glyph-1600136556647686-0-3\" x=\"35.988811\" y=\"73.362852\"/>\n",
       "</g>\n",
       "<g style=\"fill:rgb(0%,0%,0%);fill-opacity:1;\">\n",
       "  <use xlink:href=\"#glyph-1600136556647686-1-1\" x=\"17.758363\" y=\"9.064842\"/>\n",
       "</g>\n",
       "<g style=\"fill:rgb(0%,0%,0%);fill-opacity:1;\">\n",
       "  <use xlink:href=\"#glyph-1600136556647686-1-2\" x=\"19.132787\" y=\"38.452089\"/>\n",
       "</g>\n",
       "<g style=\"fill:rgb(0%,0%,0%);fill-opacity:1;\">\n",
       "  <use xlink:href=\"#glyph-1600136556647686-1-1\" x=\"17.758363\" y=\"65.365572\"/>\n",
       "</g>\n",
       "<g style=\"fill:rgb(0%,0%,0%);fill-opacity:1;\">\n",
       "  <use xlink:href=\"#glyph-1600136556647686-1-3\" x=\"3.411324\" y=\"94.336718\"/>\n",
       "  <use xlink:href=\"#glyph-1600136556647686-1-4\" x=\"6.705929\" y=\"94.336718\"/>\n",
       "</g>\n",
       "<g style=\"fill:rgb(0%,0%,0%);fill-opacity:1;\">\n",
       "  <use xlink:href=\"#glyph-1600136556647686-1-5\" x=\"33.208714\" y=\"94.336718\"/>\n",
       "</g>\n",
       "</g>\n",
       "</svg>\n",
       "\n"
      ],
      "text/plain": [
       "TikzPictures.TikzPicture(\"\\\\graph [layered layout, ] {\\n1/\\\"+\\\" [],\\n2/\\\"*\\\" [],\\n3/\\\"+\\\" [],\\n4/\\\"-1\\\" [],\\n5/\\\"2\\\" [],\\n;\\n1 -> [font=\\\\tiny,edge label={1.0},] 2;\\n2 -> [font=\\\\tiny,] 3;\\n3 -> [font=\\\\tiny,edge label={1.0},] 4;\\n3 -> [font=\\\\tiny,edge label={1.0},] 5;\\n};\\n\", \"\", \"\\\\usepackage{fontspec}\\n\\\\setmainfont{Latin Modern Math}\\n\\\\usetikzlibrary{arrows}\\n\\\\usetikzlibrary{graphs}\\n\\\\usetikzlibrary{graphdrawing}\\n\\n% from: https://tex.stackexchange.com/questions/453132/fresh-install-of-tl2018-no-tikz-graph-drawing-libraries-found\\n\\\\usepackage{luacode}\\n\\\\begin{luacode*}\\n\\tfunction pgf_lookup_and_require(name)\\n\\tlocal sep = package.config:sub(1,1)\\n\\tlocal function lookup(name)\\n\\tlocal sub = name:gsub('%.',sep)  \\n\\tif kpse.find_file(sub, 'lua') then\\n\\trequire(name)\\n\\telseif kpse.find_file(sub, 'clua') then\\n\\tcollectgarbage('stop') \\n\\trequire(name)\\n\\tcollectgarbage('restart')\\n\\telse\\n\\treturn false\\n\\tend\\n\\treturn true\\n\\tend\\n\\treturn\\n\\tlookup('pgf.gd.' .. name .. '.library') or\\n\\tlookup('pgf.gd.' .. name) or\\n\\tlookup(name .. '.library') or\\n\\tlookup(name) \\n\\tend\\n\\\\end{luacode*}\\n\\n\\\\usegdlibrary{layered}\", \"tikzpicture\", true)"
      ]
     },
     "execution_count": 35,
     "metadata": {},
     "output_type": "execute_result"
    }
   ],
   "source": [
    "plot(c2)"
   ]
  },
  {
   "cell_type": "markdown",
   "metadata": {},
   "source": [
    "## Circuit Queries\n",
    "### Logical queries\n",
    "1. If the data satisfies circuit logical formula? "
   ]
  },
  {
   "cell_type": "code",
   "execution_count": 36,
   "metadata": {
    "tags": []
   },
   "outputs": [
    {
     "name": "stdout",
     "output_type": "stream",
     "text": [
      "((1 ⋀ (2 ⋁ -3)) ⋁ (-1 ⋀ (-2 ⋁ 3)))\n"
     ]
    },
    {
     "data": {
      "text/plain": [
       "2-element BitArray{1}:\n",
       " 1\n",
       " 0"
      ]
     },
     "execution_count": 36,
     "metadata": {},
     "output_type": "execute_result"
    }
   ],
   "source": [
    "using DataFrames\n",
    "input = DataFrame(BitArray([1 1 0; 1 0 1]))\n",
    "println(tree_formula_string(pc))\n",
    "satisfies(pc, input)"
   ]
  },
  {
   "cell_type": "markdown",
   "metadata": {},
   "source": [
    "2. Model counting of circuit logical formula"
   ]
  },
  {
   "cell_type": "code",
   "execution_count": 37,
   "metadata": {},
   "outputs": [
    {
     "data": {
      "text/plain": [
       "8"
      ]
     },
     "execution_count": 37,
     "metadata": {},
     "output_type": "execute_result"
    }
   ],
   "source": [
    "model_count(pc)"
   ]
  },
  {
   "cell_type": "markdown",
   "metadata": {},
   "source": [
    "### Probabilistic queries"
   ]
  },
  {
   "cell_type": "markdown",
   "metadata": {},
   "source": [
    "- Some helper function:"
   ]
  },
  {
   "cell_type": "code",
   "execution_count": 43,
   "metadata": {},
   "outputs": [],
   "source": [
    "# You can skip this part. Includes helper functions to make partial observations from arrays of strings\n",
    "# so its easier to present.\n",
    "\n",
    "# Make one observation from list of string describing the observation\n",
    "#\n",
    "# For example, [\"smoker\", \"male\"] sets \n",
    "#   1) The mentioned features to the correct values.\n",
    "#   2) Every feature not mentioned to missing values. \n",
    "FEATURES = 36;\n",
    "function make_one_observation(obs)\n",
    "    result = missings(Bool, FEATURES)\n",
    "    for k in obs\n",
    "        # Smoking\n",
    "        if lowercase(k) == \"smoker\"\n",
    "            result[7:8] .= [0, 1]\n",
    "        elseif lowercase(k) == \"!smoker\"\n",
    "            result[7:8] .= [1, 0]\n",
    "        # Gender\n",
    "        elseif lowercase(k) == \"male\"\n",
    "            result[13:14] .= [1, 0]\n",
    "        elseif lowercase(k) == \"female\"\n",
    "            result[13:14] .= [0, 1]\n",
    "        # Region\n",
    "        elseif lowercase(k) == \"southeast\"\n",
    "            result[9:12] .= [0, 0, 1, 0]\n",
    "        elseif lowercase(k) == \"southwest\"\n",
    "            result[9:12] .= [0, 1, 0, 0]\n",
    "        # Child\n",
    "        elseif lowercase(k) == \"1-child\"\n",
    "            result[1:6] .= [0,1,0,0,0,0]\n",
    "        end\n",
    "    end\n",
    "    result\n",
    "end;\n",
    "\n",
    "function make_observations(obs)\n",
    "    count = size(obs)[1]\n",
    "    result = missings(Bool, count, FEATURES)\n",
    "    for i=1:count\n",
    "        result[i, :] .= make_one_observation(obs[i])\n",
    "    end\n",
    "    DataFrame(result)\n",
    "end;\n",
    "\n",
    "function flip_coin(d::DataFrame;keep_prob=0.8)\n",
    "    m = missings(Bool, num_examples(data), num_features(data))\n",
    "    flag = rand(num_examples(data), num_features(data)) .<= keep_prob\n",
    "    m[flag] .= Matrix(d)[flag]\n",
    "    DataFrame(m)\n",
    "end;"
   ]
  },
  {
   "cell_type": "markdown",
   "metadata": {},
   "source": [
    "- load data"
   ]
  },
  {
   "cell_type": "code",
   "execution_count": 38,
   "metadata": {},
   "outputs": [
    {
     "name": "stdout",
     "output_type": "stream",
     "text": [
      "\"Insurance\" training set has 36 variables and 935 samples.\n"
     ]
    }
   ],
   "source": [
    "using CSV\n",
    "train_x = DataFrame(BitArray(Matrix(CSV.read(\"insurance/insurance_train_x.csv\"))))\n",
    "println(\"\\\"Insurance\\\" training set has $(num_features(train_x)) variables and $(num_examples(train_x)) samples.\")\n",
    "train_y = CSV.read(\"insurance/insurance_train_y.csv\");"
   ]
  },
  {
   "cell_type": "markdown",
   "metadata": {},
   "source": [
    "- load a pretrained probabilistic circuit:"
   ]
  },
  {
   "cell_type": "code",
   "execution_count": 39,
   "metadata": {},
   "outputs": [
    {
     "name": "stdout",
     "output_type": "stream",
     "text": [
      "Probablistic Circuit with 27493 nodes and 16272 parameters.\n"
     ]
    }
   ],
   "source": [
    "pc = load_prob_circuit(zoo_psdd_file(\"insurance.psdd\"))\n",
    "println(\"Probablistic Circuit with $(num_nodes(pc)) nodes and $(num_parameters(pc)) parameters.\")"
   ]
  },
  {
   "cell_type": "markdown",
   "metadata": {},
   "source": [
    "#### EVI: Complete Evidence Query\n",
    "\n",
    "All features are observed, we want to compute the probability: $P(x)$"
   ]
  },
  {
   "cell_type": "code",
   "execution_count": 40,
   "metadata": {
    "tags": []
   },
   "outputs": [
    {
     "data": {
      "text/plain": [
       "-9.711713749299689"
      ]
     },
     "execution_count": 40,
     "metadata": {},
     "output_type": "execute_result"
    }
   ],
   "source": [
    "log_likelihood_avg(pc, train_x)"
   ]
  },
  {
   "cell_type": "markdown",
   "metadata": {},
   "source": [
    "#### MAR: Marginal Query (partial evidence)\n",
    "\n",
    "Now, what happens if we only observe a subset of the features $X^o$? We want to compute: $ P(X^o) = \\sum_{x^m} P(X^o X^m) $\n",
    "\n",
    "**Problem:** Computing above query is usually not tractable as it involves summing over exponential (infinite) possible worlds.\n",
    "\n",
    "**Good News:** In probabilistic circuits, if the circuit is **smooth** and **decomposable**, we can do this tractably. No need to enumerate all possible worlds."
   ]
  },
  {
   "cell_type": "code",
   "execution_count": 44,
   "metadata": {
    "scrolled": true,
    "tags": []
   },
   "outputs": [
    {
     "name": "stdout",
     "output_type": "stream",
     "text": [
      "Probability of being smoker? 0.18403563\n",
      "Probability of being female smoker? 0.096237846\n",
      "Probability of being male smoker with one child living in the southeast? 0.0009639263\n"
     ]
    }
   ],
   "source": [
    "marg_data = make_observations([[\"smoker\"], \n",
    "                       [\"female\"], \n",
    "                       [\"female\", \"smoker\"], \n",
    "                       [\"southeast\", \"male\", \"1-child\", \"smoker\"]],\n",
    "                    )\n",
    "prob = exp.(marginal(pc, marg_data))\n",
    "println(\"Probability of being smoker? \", prob[1])\n",
    "println(\"Probability of being female smoker? \", prob[3])\n",
    "println(\"Probability of being male smoker with one child living in the southeast? \", prob[4])"
   ]
  },
  {
   "cell_type": "markdown",
   "metadata": {},
   "source": [
    "#### CON: Conditional Queries\n",
    "\n",
    "Given some observations $X^o$, we want to compute probabilities conditioned on the observations: $ P(Q \\mid X^o) $\n",
    "if we can do marginals tractably, we can also do conditionals tractably: $ P(Q \\mid X^o) = \\cfrac{P(Q, X^o)}{P(X^o)} $"
   ]
  },
  {
   "cell_type": "code",
   "execution_count": 45,
   "metadata": {},
   "outputs": [
    {
     "name": "stdout",
     "output_type": "stream",
     "text": [
      " P('smoker' | 'female') = 0.20398751\n"
     ]
    }
   ],
   "source": [
    "println(\" P('smoker' | 'female') = $(prob[3]/prob[2])\")"
   ]
  },
  {
   "cell_type": "markdown",
   "metadata": {},
   "source": [
    "#### Advanced queries: expected predictions\n",
    "\n",
    "We have two separate models $p$ and $f$. $p$ is a generative model representing some distributions, and $f$ is a predictive model. We are interested in computing **expected predictions** of $f$ according to the distribution encoded by $g$.\n",
    "\n",
    "- Appears all the time in machine learning, such as handling missing data\n",
    "- We can do this tractably!\n",
    "\n",
    "\n",
    "$ \\Large \\mathbb{E}_{\\mathbf{x}^m\\ \\sim\\ p(\\mathbf{x}^m\\ \\mid\\ \\mathbf{x}^o )}\\left[\\ f( \\mathbf{x}^o \\mathbf{x}^m) \\ \\right] $\n",
    "\n",
    "- In above equation $ \\mathbf{x}^m $ = missing features, and $ \\mathbf{x}^o $ = observed features.\n",
    "\n",
    "- Expected Prediction useful for:\n",
    "  - Handling missing values at test time\n",
    "  - Reasoning about behaviour of predictive models"
   ]
  },
  {
   "cell_type": "markdown",
   "metadata": {},
   "source": [
    "- load a regression circuit"
   ]
  },
  {
   "cell_type": "code",
   "execution_count": 47,
   "metadata": {},
   "outputs": [
    {
     "name": "stdout",
     "output_type": "stream",
     "text": [
      "Regression Circuit with 1076 nodes.\n"
     ]
    }
   ],
   "source": [
    "rc = load_logistic_circuit(zoo_lc_file(\"insurance.circuit\"), 1)\n",
    "println(\"Regression Circuit with $(num_nodes(rc)) nodes.\")"
   ]
  },
  {
   "cell_type": "markdown",
   "metadata": {},
   "source": [
    "##### Sample Queries\n",
    "1. How different are the insurance costs between smokers and non smokers?"
   ]
  },
  {
   "cell_type": "code",
   "execution_count": 49,
   "metadata": {},
   "outputs": [
    {
     "name": "stdout",
     "output_type": "stream",
     "text": [
      "Non-Smoker: $ 8741.747866693713\n",
      "Smoker    : $ 31355.332794478192\n",
      "Difference: $ 22613.58492778448\n"
     ]
    }
   ],
   "source": [
    "data = make_observations([[\"!smoker\"], \n",
    "                 [\"smoker\"]])\n",
    "exps, exp_cache = Expectation(pc, rc, data)\n",
    "println(\"Non-Smoker: \\$ $(exps[1])\");\n",
    "println(\"Smoker    : \\$ $(exps[2])\");\n",
    "println(\"Difference: \\$ $(exps[2] - exps[1])\");"
   ]
  },
  {
   "cell_type": "markdown",
   "metadata": {},
   "source": [
    "2. Is the predictive model biased by gender?"
   ]
  },
  {
   "cell_type": "code",
   "execution_count": 50,
   "metadata": {},
   "outputs": [
    {
     "name": "stdout",
     "output_type": "stream",
     "text": [
      "Female  : $ 14170.126411446157\n",
      "Male    : $ 13196.551192376319\n",
      "Diff    : $ 973.5752190698386\n"
     ]
    }
   ],
   "source": [
    "data = make_observations([[\"male\"],\n",
    "                 [\"female\"]])\n",
    "exps, exp_cache = Expectation(pc, rc, data);\n",
    "println(\"Female  : \\$ $(exps[2])\");\n",
    "println(\"Male    : \\$ $(exps[1])\");\n",
    "println(\"Diff    : \\$ $(exps[2] - exps[1])\");"
   ]
  },
  {
   "cell_type": "markdown",
   "metadata": {},
   "source": [
    "3. Expecation and standard devation of few subpopulations"
   ]
  },
  {
   "cell_type": "code",
   "execution_count": 51,
   "metadata": {},
   "outputs": [
    {
     "name": "stdout",
     "output_type": "stream",
     "text": [
      "mu: 30975.0, std = 11229.0\n"
     ]
    }
   ],
   "source": [
    "data = make_observations( [[\"southeast\", \"male\", \"1-child\", \"smoker\"], \n",
    "                 [\"southwest\", \"male\", \"1-child\", \"smoker\"]])\n",
    "exps, exp_cache = Expectation(pc, rc, data);\n",
    "# Computes the second moment\n",
    "mom2, mom_cache = Moment(pc, rc, data, 2);\n",
    "# Computing Standard Deviation\n",
    "stds = sqrt.( mom2 - exps.^2 );\n",
    "# Living in South East, Smoker, Male, One child\n",
    "println(\"mu: $(round(exps[1])), std = $(round(stds[1]))\")"
   ]
  },
  {
   "cell_type": "markdown",
   "metadata": {},
   "source": [
    "## Parameter Learning and Structure learning\n",
    "### Parameter Learning\n",
    "1. load data and create a fully factorized circuit"
   ]
  },
  {
   "cell_type": "code",
   "execution_count": 53,
   "metadata": {},
   "outputs": [],
   "source": [
    "train_x, valid_x, test_x = twenty_datasets(\"nltcs\")\n",
    "v = Vtree(num_features(train_x), :balanced)\n",
    "pc = fully_factorized_circuit(StructProbCircuit, v);"
   ]
  },
  {
   "cell_type": "markdown",
   "metadata": {},
   "source": [
    "2. Maximum likelihood estimate parameters (MLE) given complete data"
   ]
  },
  {
   "cell_type": "code",
   "execution_count": 55,
   "metadata": {},
   "outputs": [
    {
     "name": "stdout",
     "output_type": "stream",
     "text": [
      "Traing set log-likelihood is -9.27033051835188\n"
     ]
    }
   ],
   "source": [
    "estimate_parameters(pc, train_x; pseudocount=1.0);\n",
    "println(\"Traing set log-likelihood is \", log_likelihood_avg(pc, train_x))"
   ]
  },
  {
   "cell_type": "markdown",
   "metadata": {},
   "source": [
    "### Structure learn\n",
    "#### Initializations\n",
    "- Initialized from a Chow-Liu Tree"
   ]
  },
  {
   "cell_type": "code",
   "execution_count": 56,
   "metadata": {},
   "outputs": [
    {
     "name": "stdout",
     "output_type": "stream",
     "text": [
      "Initial circuits has 121 nodes, 74 parameters.\n",
      "Traing set log-likelihood is -6.7600561877106955\n"
     ]
    }
   ],
   "source": [
    "pc, vtree = learn_chow_liu_tree_circuit(train_x)\n",
    "println(\"Initial circuits has $(num_nodes(pc)) nodes, $(num_parameters(pc)) parameters.\")\n",
    "println(\"Traing set log-likelihood is \", log_likelihood_avg(pc, train_x))"
   ]
  },
  {
   "cell_type": "markdown",
   "metadata": {},
   "source": [
    "#### Strcuture update\n",
    "- Perform greedy search based on some buid-in heuristics, you can also use customized strategies by writing the callback function"
   ]
  },
  {
   "cell_type": "code",
   "execution_count": 58,
   "metadata": {},
   "outputs": [
    {
     "name": "stdout",
     "output_type": "stream",
     "text": [
      "Circuits has 305 nodes, 196 parameters.\n",
      "Traing set log-likelihood is -6.383045029183077\n"
     ]
    }
   ],
   "source": [
    "loss(circuit) = ProbabilisticCircuits.heuristic_loss(circuit, train_x)\n",
    "pc = struct_learn(pc; \n",
    "    primitives=[split_step], \n",
    "    kwargs=Dict(split_step=>(loss=loss,)),\n",
    "    maxiter=10)\n",
    "estimate_parameters(pc, train_x; pseudocount=1.0)\n",
    "println(\"Circuits has $(num_nodes(pc)) nodes, $(num_parameters(pc)) parameters.\")\n",
    "println(\"Traing set log-likelihood is \", log_likelihood_avg(pc, train_x))"
   ]
  },
  {
   "cell_type": "markdown",
   "metadata": {},
   "source": [
    "## Benchmarks and GPU accelerated computing \n",
    "#### Load circuit and data"
   ]
  },
  {
   "cell_type": "code",
   "execution_count": 113,
   "metadata": {},
   "outputs": [
    {
     "name": "stdout",
     "output_type": "stream",
     "text": [
      "Load a circuit with 153021 nodes and 91380 parameters.\n",
      "Load a data with 69 features and 17412 examples.\n"
     ]
    }
   ],
   "source": [
    "using BenchmarkTools\n",
    "pc = zoo_psdd(\"plants.psdd\")\n",
    "println(\"Load a circuit with $(num_nodes(pc)) nodes and $(num_parameters(pc)) parameters.\")\n",
    "data, _, _ = twenty_datasets(\"plants\")\n",
    "println(\"Load a data with $(num_features(data)) features and $(num_examples(data)) examples.\")"
   ]
  },
  {
   "cell_type": "markdown",
   "metadata": {},
   "source": [
    "#### Move data to GPU"
   ]
  },
  {
   "cell_type": "code",
   "execution_count": 134,
   "metadata": {},
   "outputs": [
    {
     "name": "stdout",
     "output_type": "stream",
     "text": [
      "  534.548 μs (928 allocations: 36.72 KiB)\n"
     ]
    }
   ],
   "source": [
    "@btime gpu_data = to_gpu(data);"
   ]
  },
  {
   "cell_type": "markdown",
   "metadata": {},
   "source": [
    "#### If the data satisty logical constrains ?\n",
    "- CPU computation"
   ]
  },
  {
   "cell_type": "code",
   "execution_count": 109,
   "metadata": {},
   "outputs": [
    {
     "name": "stdout",
     "output_type": "stream",
     "text": [
      "  242.001 ms (926339 allocations: 189.61 MiB)\n"
     ]
    }
   ],
   "source": [
    "@btime satisfies(pc, data);"
   ]
  },
  {
   "cell_type": "markdown",
   "metadata": {},
   "source": [
    "- GPU computation"
   ]
  },
  {
   "cell_type": "code",
   "execution_count": 115,
   "metadata": {},
   "outputs": [
    {
     "name": "stdout",
     "output_type": "stream",
     "text": [
      "  102.614 ms (930755 allocations: 57.47 MiB)\n"
     ]
    }
   ],
   "source": [
    "@btime satisfies(pc, gpu_data);"
   ]
  },
  {
   "cell_type": "markdown",
   "metadata": {},
   "source": [
    "#### EVI queries\n",
    "- CPU computation"
   ]
  },
  {
   "cell_type": "code",
   "execution_count": 116,
   "metadata": {},
   "outputs": [
    {
     "name": "stdout",
     "output_type": "stream",
     "text": [
      "  529.217 ms (926493 allocations: 328.13 MiB)\n"
     ]
    }
   ],
   "source": [
    "@btime EVI(pc, data);"
   ]
  },
  {
   "cell_type": "markdown",
   "metadata": {},
   "source": [
    "- GPU computation"
   ]
  },
  {
   "cell_type": "code",
   "execution_count": 117,
   "metadata": {},
   "outputs": [
    {
     "name": "stdout",
     "output_type": "stream",
     "text": [
      "  95.877 ms (933369 allocations: 63.70 MiB)\n"
     ]
    }
   ],
   "source": [
    "@btime EVI(pc, gpu_data);"
   ]
  },
  {
   "cell_type": "markdown",
   "metadata": {},
   "source": [
    "#### MAR queries\n",
    "- CPU computation"
   ]
  },
  {
   "cell_type": "code",
   "execution_count": 126,
   "metadata": {},
   "outputs": [
    {
     "name": "stdout",
     "output_type": "stream",
     "text": [
      "  10.357 s (5664922 allocations: 4.30 GiB)\n"
     ]
    }
   ],
   "source": [
    "data_miss = flip_coin(data)\n",
    "@btime MAR(pc, data_miss);"
   ]
  },
  {
   "cell_type": "markdown",
   "metadata": {},
   "source": [
    "- GPU computation"
   ]
  },
  {
   "cell_type": "code",
   "execution_count": 125,
   "metadata": {},
   "outputs": [
    {
     "name": "stdout",
     "output_type": "stream",
     "text": [
      "  661.239 ms (5670545 allocations: 190.59 MiB)\n"
     ]
    }
   ],
   "source": [
    "gpu_data_miss = to_gpu(data_miss)\n",
    "@btime MAR(pc, gpu_data_miss);"
   ]
  },
  {
   "cell_type": "markdown",
   "metadata": {},
   "source": [
    "#### Maximum likelihood estimate parameters (MLE) given complete data\n",
    "- CPU computation"
   ]
  },
  {
   "cell_type": "code",
   "execution_count": 131,
   "metadata": {},
   "outputs": [
    {
     "name": "stdout",
     "output_type": "stream",
     "text": [
      "  575.903 ms (1215948 allocations: 337.26 MiB)\n"
     ]
    }
   ],
   "source": [
    "@btime estimate_parameters(pc, data;pseudocount=1.0);"
   ]
  },
  {
   "cell_type": "markdown",
   "metadata": {},
   "source": [
    "- GPU computation"
   ]
  },
  {
   "cell_type": "code",
   "execution_count": 132,
   "metadata": {},
   "outputs": [
    {
     "name": "stdout",
     "output_type": "stream",
     "text": [
      "  152.761 ms (1222243 allocations: 73.24 MiB)\n"
     ]
    }
   ],
   "source": [
    "@btime estimate_parameters(pc, gpu_data;pseudocount=1.0);"
   ]
  },
  {
   "cell_type": "markdown",
   "metadata": {},
   "source": [
    "#### Expectation maximization estimate parameters (EM) given data with missing values\n",
    "- CPU computation "
   ]
  },
  {
   "cell_type": "code",
   "execution_count": 136,
   "metadata": {},
   "outputs": [],
   "source": [
    "# @time estimate_parameters_em(pc, data_miss;pseudocount=1.0)"
   ]
  },
  {
   "cell_type": "markdown",
   "metadata": {},
   "source": [
    "- GPU computation"
   ]
  },
  {
   "cell_type": "code",
   "execution_count": 137,
   "metadata": {},
   "outputs": [],
   "source": [
    "# TODO @btime estimate_parameters_em(pc, gpu_data_miss;pseudocount=1.0)"
   ]
  },
  {
   "cell_type": "code",
   "execution_count": null,
   "metadata": {},
   "outputs": [],
   "source": []
  }
 ],
 "metadata": {
  "@webio": {
   "lastCommId": null,
   "lastKernelId": null
  },
  "kernelspec": {
   "display_name": "Julia 1.5.0-rc1",
   "language": "julia",
   "name": "julia-1.5"
  },
  "language_info": {
   "file_extension": ".jl",
   "mimetype": "application/julia",
   "name": "julia",
   "version": "1.5.0"
  }
 },
 "nbformat": 4,
 "nbformat_minor": 2
}
