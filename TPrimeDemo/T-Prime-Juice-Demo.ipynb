{
 "cells": [
  {
   "cell_type": "markdown",
   "metadata": {},
   "source": [
    "# Juice.jl: a library for advanced probabilistic inference\n",
    "\n",
    "What is Juice.jl: a Julia library enabling tractable advanced probabilistic inference by leveraging logical and probabilistic circuits!\n",
    "\n",
    "What I am going to talk about:\n",
    "    - Probabilistic circuits\n",
    "       - Loading an already learned circuit\n",
    "    - \"Usual\" tractable probabilistic inference routines\n",
    "       - Complete Evidence (EVI)\n",
    "       - Marginals (MAR)\n",
    "       - Conditionals (CON)\n",
    "    - Some advanced probabilistic reasoning: \n",
    "       - Expected Prediction"
   ]
  },
  {
   "cell_type": "code",
   "execution_count": 1,
   "metadata": {},
   "outputs": [],
   "source": [
    "using CSV\n",
    "using Statistics"
   ]
  },
  {
   "cell_type": "code",
   "execution_count": 2,
   "metadata": {},
   "outputs": [],
   "source": [
    "# Loading Juice Libraries, in this demo we mainly use ProbabilisticCircuits\n",
    "using LogicCircuits\n",
    "using ProbabilisticCircuits"
   ]
  },
  {
   "cell_type": "code",
   "execution_count": 3,
   "metadata": {},
   "outputs": [],
   "source": [
    "# You can skip this part. Includes helper functions to make partial observations from arrays of strings\n",
    "# so its easier to present.\n",
    "\n",
    "# Make one ovservation from list of string describing the observation\n",
    "#\n",
    "# For example, [\"smoker\", \"male\"] sets \n",
    "#   1) The mentioned features to the correct values.\n",
    "#   2) Every feature not mentioned to missing values. \n",
    "FEATURES = 36;\n",
    "function make_one_observation(obs)\n",
    "    result = Int8.(ones(FEATURES) * -1)\n",
    "    for k in obs\n",
    "        # Smoking\n",
    "        if lowercase(k) == \"smoker\"\n",
    "            result[7:8] .= [0, 1]\n",
    "        elseif lowercase(k) == \"!smoker\"\n",
    "            result[7:8] .= [1, 0]\n",
    "        # Gender\n",
    "        elseif lowercase(k) == \"male\"\n",
    "            result[13:14] .= [1, 0]\n",
    "        elseif lowercase(k) == \"female\"\n",
    "            result[13:14] .= [0, 1]\n",
    "        # Region\n",
    "        elseif lowercase(k) == \"southeast\"\n",
    "            result[9:12] .= [0, 0, 1, 0]\n",
    "        elseif lowercase(k) == \"southwest\"\n",
    "            result[9:12] .= [0, 1, 0, 0]\n",
    "        # Child\n",
    "        elseif lowercase(k) == \"1-child\"\n",
    "            result[1:6] .= [0,1,0,0,0,0]\n",
    "        end\n",
    "    end\n",
    "    result\n",
    "end;\n",
    "\n",
    "function make_obs(obs)\n",
    "    count = size(obs)[1]\n",
    "    result = Int8.(ones(count, 36) * -1)\n",
    "    for i=1:count\n",
    "        result[i, :] .= make_one_observation(obs[i])\n",
    "    end\n",
    "    XData(result)\n",
    "end;"
   ]
  },
  {
   "cell_type": "markdown",
   "metadata": {},
   "source": [
    "# Exploratory probabilistic analysis "
   ]
  },
  {
   "cell_type": "markdown",
   "metadata": {},
   "source": [
    "### Insurance dataset\n",
    "yearly health insurance costs of individuals living in the USA"
   ]
  },
  {
   "cell_type": "code",
   "execution_count": 4,
   "metadata": {},
   "outputs": [],
   "source": [
    "## load Insurance Dataset\n",
    "train_x = Bool.(Matrix(CSV.read(\"insurance/insurance_train_x.csv\")));\n",
    "train_y = Matrix(CSV.read(\"insurance/insurance_train_y.csv\"));\n",
    "\n",
    "test_x = Bool.(Matrix(CSV.read(\"insurance/insurance_test_x.csv\")));\n",
    "test_y = Matrix(CSV.read(\"insurance/insurance_test_y.csv\"));\n",
    "\n",
    "valid_x = Bool.(Matrix(CSV.read(\"insurance/insurance_valid_x.csv\")));\n",
    "valid_y = Matrix(CSV.read(\"insurance/insurance_valid_y.csv\"));"
   ]
  },
  {
   "cell_type": "markdown",
   "metadata": {},
   "source": [
    "Here for the purpose of this demo, we load a pretrained probabilistic circuit:"
   ]
  },
  {
   "cell_type": "code",
   "execution_count": 5,
   "metadata": {},
   "outputs": [
    {
     "name": "stdout",
     "output_type": "stream",
     "text": [
      "Probablistic Circuit with 27493 nodes\n"
     ]
    }
   ],
   "source": [
    "pc = load_prob_circuit(zoo_psdd_file(\"insurance.psdd\"));\n",
    "println(\"Probablistic Circuit with $(size(pc)[1]) nodes\")"
   ]
  },
  {
   "cell_type": "markdown",
   "metadata": {},
   "source": [
    "### Structural Properties\n",
    "\n",
    "By enforcing some properties on the structure of the circuits we can enable tractable operations.\n",
    "\n",
    "\n",
    "Properties:\n",
    "- Structured decomposable\n",
    "- Smooth\n",
    "- Deterministic\n",
    "\n",
    "Check this tutorial on Probabilistic Circuits: http://starai.cs.ucla.edu/slides/Stanford19.pdf"
   ]
  },
  {
   "cell_type": "markdown",
   "metadata": {},
   "source": [
    "### EVI: Complete Evidence Query\n",
    "\n",
    "$ P(x) $"
   ]
  },
  {
   "cell_type": "code",
   "execution_count": 6,
   "metadata": {},
   "outputs": [],
   "source": [
    "lls_train = log_proba(pc, XData(train_x));"
   ]
  },
  {
   "cell_type": "code",
   "execution_count": 7,
   "metadata": {},
   "outputs": [
    {
     "name": "stdout",
     "output_type": "stream",
     "text": [
      "size: 935\n",
      "mean: -9.711713749299689 \n",
      " min: -14.475790561571328 \n",
      " max: -6.676430127955419\n"
     ]
    }
   ],
   "source": [
    "println(\"size: $(length(lls_train))\\nmean: $(mean(lls_train)) \\n min: $(minimum(lls_train)) \\n max: $(maximum(lls_train))\")"
   ]
  },
  {
   "cell_type": "markdown",
   "metadata": {},
   "source": [
    "### MAR: Marginal Query (partial evidence)\n",
    "\n",
    "$ P(X^o) $\n",
    "\n",
    "$$ P(X^o) = \\sum_{x^m} P(X^o X^m) $$\n",
    "\n",
    "In probabilistic circuits, given some properties, we can do marginal queries with any subset of variables in time linear to size of the circuit instead of enumerating all possible worlds."
   ]
  },
  {
   "cell_type": "code",
   "execution_count": 8,
   "metadata": {},
   "outputs": [],
   "source": [
    "marg_data = make_obs( [[\"smoker\"], \n",
    "                       [\"female\"], \n",
    "                       [\"female\", \"smoker\"], \n",
    "                       [\"southeast\", \"male\", \"1-child\", \"smoker\"]],\n",
    "                    )\n",
    "lls = log_proba(pc, marg_data);"
   ]
  },
  {
   "cell_type": "markdown",
   "metadata": {},
   "source": [
    "#### Q: Probablity of being smoker?"
   ]
  },
  {
   "cell_type": "code",
   "execution_count": 9,
   "metadata": {},
   "outputs": [
    {
     "data": {
      "text/plain": [
       "0.18403566812744454"
      ]
     },
     "execution_count": 9,
     "metadata": {},
     "output_type": "execute_result"
    }
   ],
   "source": [
    "marg_data = make_obs([[\"smoker\"]])\n",
    "lls = log_proba(pc, marg_data);\n",
    "exp.(lls[1])"
   ]
  },
  {
   "cell_type": "markdown",
   "metadata": {},
   "source": [
    "#### Q: Probability of being female smoker?"
   ]
  },
  {
   "cell_type": "code",
   "execution_count": 10,
   "metadata": {},
   "outputs": [
    {
     "data": {
      "text/plain": [
       "0.09623782748058206"
      ]
     },
     "execution_count": 10,
     "metadata": {},
     "output_type": "execute_result"
    }
   ],
   "source": [
    "marg_data = make_obs([[\"female\", \"smoker\"]])\n",
    "lls = log_proba(pc, marg_data);\n",
    "exp.(lls[1])"
   ]
  },
  {
   "cell_type": "markdown",
   "metadata": {},
   "source": [
    "####  Q: Probability of being male smoker with one child living in the southeast?"
   ]
  },
  {
   "cell_type": "code",
   "execution_count": 11,
   "metadata": {},
   "outputs": [
    {
     "data": {
      "text/plain": [
       "0.00096392685052339"
      ]
     },
     "execution_count": 11,
     "metadata": {},
     "output_type": "execute_result"
    }
   ],
   "source": [
    "marg_data = make_obs([[\"southeast\", \"male\", \"1-child\", \"smoker\"]])\n",
    "lls = log_proba(pc, marg_data);\n",
    "exp.(lls[1])"
   ]
  },
  {
   "cell_type": "markdown",
   "metadata": {},
   "source": [
    "# Exploratory predictive analysis"
   ]
  },
  {
   "cell_type": "markdown",
   "metadata": {},
   "source": [
    "What about reasoning about predictive models such as regression models:\n",
    "\n",
    "\n",
    "We are interested in computing **expected predictions**\n",
    "\n",
    "- Appears all the time in machine learning, such as handling missing data\n",
    "- We can do this tractably!\n",
    "\n",
    "\n",
    "$$ \\Large \\mathbb{E}_{\\mathbf{x}^m \\sim p(\\mathbf{x}^m\\ \\mid\\ \\mathbf{x}^o )}\\left[f( \\mathbf{x}^o \\mathbf{x}^m)\\right] $$\n",
    "\n",
    "- In above equation $ \\mathbf{x}^m $ = missing features, and $ \\mathbf{x}^o $ = observed features.\n",
    "\n",
    "\n",
    "- Expected Prediction useful for:\n",
    "  - Handling missing values at test time\n",
    "  - Reasoning aobut behaviour of predictive models\n",
    "\n",
    "Check out our paper: On Tractable Computation of Expected Predictions (NeurIPS 2019, https://arxiv.org/abs/1910.02182)"
   ]
  },
  {
   "cell_type": "code",
   "execution_count": 12,
   "metadata": {},
   "outputs": [],
   "source": [
    "# Load Regression Circuit\n",
    "rc = load_logistic_circuit(zoo_lc_file(\"insurance.circuit\"), 1);"
   ]
  },
  {
   "cell_type": "code",
   "execution_count": 13,
   "metadata": {},
   "outputs": [
    {
     "name": "stdout",
     "output_type": "stream",
     "text": [
      "Regression Circuit with 1148 nodes\n"
     ]
    }
   ],
   "source": [
    "println(\"Regression Circuit with $(size(rc)[1]) nodes\")"
   ]
  },
  {
   "cell_type": "markdown",
   "metadata": {},
   "source": [
    "## Sample Queries\n",
    "\n",
    "### Q1: How different are the insurance costs between smokers and non smokers?"
   ]
  },
  {
   "cell_type": "code",
   "execution_count": 14,
   "metadata": {},
   "outputs": [],
   "source": [
    "data = make_obs([[\"!smoker\"], \n",
    "                 [\"smoker\"]])\n",
    "exps, exp_cache = Expectation(pc, rc, data);"
   ]
  },
  {
   "cell_type": "code",
   "execution_count": 15,
   "metadata": {},
   "outputs": [
    {
     "name": "stdout",
     "output_type": "stream",
     "text": [
      "Smoker    : $ 31355.32630488977\n",
      "Non-Smoker: $ 8741.74725831065\n",
      "Difference: $ 22613.57904657912\n"
     ]
    }
   ],
   "source": [
    "println(\"Smoker    : \\$ $(exps[2])\");\n",
    "println(\"Non-Smoker: \\$ $(exps[1])\");\n",
    "println(\"Difference: \\$ $(exps[2] - exps[1])\");"
   ]
  },
  {
   "cell_type": "markdown",
   "metadata": {},
   "source": [
    "### Q2: Is the predictive model biased by gender?"
   ]
  },
  {
   "cell_type": "code",
   "execution_count": 16,
   "metadata": {},
   "outputs": [],
   "source": [
    "data = make_obs([[\"male\"],\n",
    "                 [\"female\"]])\n",
    "exps, exp_cache = Expectation(pc, rc, data);"
   ]
  },
  {
   "cell_type": "code",
   "execution_count": 17,
   "metadata": {},
   "outputs": [
    {
     "name": "stdout",
     "output_type": "stream",
     "text": [
      "Female  : $ 14170.12546933539\n",
      "Male    : $ 13196.548926381856\n",
      "Diff    : $ 973.5765429535331\n"
     ]
    }
   ],
   "source": [
    "println(\"Female  : \\$ $(exps[2])\");\n",
    "println(\"Male    : \\$ $(exps[1])\");\n",
    "println(\"Diff    : \\$ $(exps[2] - exps[1])\");"
   ]
  },
  {
   "cell_type": "markdown",
   "metadata": {},
   "source": [
    "### Q3:  Expecation and standard devation of few subpopulations"
   ]
  },
  {
   "cell_type": "code",
   "execution_count": 18,
   "metadata": {},
   "outputs": [],
   "source": [
    "data = make_obs( [[\"southeast\", \"male\", \"1-child\", \"smoker\"], \n",
    "                 [\"southwest\", \"male\", \"1-child\", \"smoker\"]])\n",
    "exps, exp_cache = Expectation(pc, rc, data);"
   ]
  },
  {
   "cell_type": "code",
   "execution_count": 19,
   "metadata": {},
   "outputs": [],
   "source": [
    "# Computes the second moment\n",
    "mom2, mom_cache = Moment(pc, rc, data, 2);"
   ]
  },
  {
   "cell_type": "markdown",
   "metadata": {},
   "source": [
    "### Computing Standard Deviation"
   ]
  },
  {
   "cell_type": "code",
   "execution_count": 20,
   "metadata": {},
   "outputs": [],
   "source": [
    "stds = sqrt.( mom2 - exps.^2 );"
   ]
  },
  {
   "cell_type": "markdown",
   "metadata": {},
   "source": [
    "#### Living in South East, Smoker, Male, One child"
   ]
  },
  {
   "cell_type": "code",
   "execution_count": 21,
   "metadata": {},
   "outputs": [
    {
     "name": "stdout",
     "output_type": "stream",
     "text": [
      "mu: 30975.0, std = 11229.0\n"
     ]
    }
   ],
   "source": [
    "println(\"mu: $(round(exps[1])), std = $(round(stds[1]))\")"
   ]
  },
  {
   "cell_type": "markdown",
   "metadata": {},
   "source": [
    "#### Living in South West, Smoker, Male, One child"
   ]
  },
  {
   "cell_type": "code",
   "execution_count": 22,
   "metadata": {},
   "outputs": [
    {
     "name": "stdout",
     "output_type": "stream",
     "text": [
      "mu: 27251.0, std = 7717.0\n"
     ]
    }
   ],
   "source": [
    "println(\"mu: $(round(exps[2])), std = $(round(stds[2]))\")"
   ]
  }
 ],
 "metadata": {
  "kernelspec": {
   "display_name": "Julia 1.3.0",
   "language": "julia",
   "name": "julia-1.3"
  },
  "language_info": {
   "file_extension": ".jl",
   "mimetype": "application/julia",
   "name": "julia",
   "version": "1.3.0"
  }
 },
 "nbformat": 4,
 "nbformat_minor": 2
}
